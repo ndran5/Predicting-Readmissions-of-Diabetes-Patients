{
 "cells": [
  {
   "cell_type": "code",
   "execution_count": 1,
   "id": "d31ef235",
   "metadata": {},
   "outputs": [],
   "source": [
    "import pandas as pd\n",
    "import numpy as np\n",
    "import matplotlib.pyplot as plt\n",
    "import seaborn as sns\n",
    "from warnings import filterwarnings\n",
    "filterwarnings('ignore')"
   ]
  },
  {
   "cell_type": "code",
   "execution_count": 2,
   "id": "261003da",
   "metadata": {},
   "outputs": [
    {
     "data": {
      "text/html": [
       "<div>\n",
       "<style scoped>\n",
       "    .dataframe tbody tr th:only-of-type {\n",
       "        vertical-align: middle;\n",
       "    }\n",
       "\n",
       "    .dataframe tbody tr th {\n",
       "        vertical-align: top;\n",
       "    }\n",
       "\n",
       "    .dataframe thead th {\n",
       "        text-align: right;\n",
       "    }\n",
       "</style>\n",
       "<table border=\"1\" class=\"dataframe\">\n",
       "  <thead>\n",
       "    <tr style=\"text-align: right;\">\n",
       "      <th></th>\n",
       "      <th>encounter_id</th>\n",
       "      <th>patient_nbr</th>\n",
       "      <th>race</th>\n",
       "      <th>gender</th>\n",
       "      <th>age</th>\n",
       "      <th>weight</th>\n",
       "      <th>admission_type_id</th>\n",
       "      <th>discharge_disposition_id</th>\n",
       "      <th>admission_source_id</th>\n",
       "      <th>time_in_hospital</th>\n",
       "      <th>...</th>\n",
       "      <th>citoglipton</th>\n",
       "      <th>insulin</th>\n",
       "      <th>glyburide-metformin</th>\n",
       "      <th>glipizide-metformin</th>\n",
       "      <th>glimepiride-pioglitazone</th>\n",
       "      <th>metformin-rosiglitazone</th>\n",
       "      <th>metformin-pioglitazone</th>\n",
       "      <th>change</th>\n",
       "      <th>diabetesMed</th>\n",
       "      <th>readmitted</th>\n",
       "    </tr>\n",
       "  </thead>\n",
       "  <tbody>\n",
       "    <tr>\n",
       "      <th>0</th>\n",
       "      <td>245224068</td>\n",
       "      <td>106074990</td>\n",
       "      <td>Caucasian</td>\n",
       "      <td>Female</td>\n",
       "      <td>[80-90)</td>\n",
       "      <td>?</td>\n",
       "      <td>1</td>\n",
       "      <td>3</td>\n",
       "      <td>7</td>\n",
       "      <td>3</td>\n",
       "      <td>...</td>\n",
       "      <td>No</td>\n",
       "      <td>No</td>\n",
       "      <td>No</td>\n",
       "      <td>No</td>\n",
       "      <td>No</td>\n",
       "      <td>No</td>\n",
       "      <td>No</td>\n",
       "      <td>No</td>\n",
       "      <td>Yes</td>\n",
       "      <td>&gt;30</td>\n",
       "    </tr>\n",
       "    <tr>\n",
       "      <th>1</th>\n",
       "      <td>280344456</td>\n",
       "      <td>40608414</td>\n",
       "      <td>Caucasian</td>\n",
       "      <td>Female</td>\n",
       "      <td>[80-90)</td>\n",
       "      <td>?</td>\n",
       "      <td>1</td>\n",
       "      <td>1</td>\n",
       "      <td>7</td>\n",
       "      <td>3</td>\n",
       "      <td>...</td>\n",
       "      <td>No</td>\n",
       "      <td>No</td>\n",
       "      <td>No</td>\n",
       "      <td>No</td>\n",
       "      <td>No</td>\n",
       "      <td>No</td>\n",
       "      <td>No</td>\n",
       "      <td>Ch</td>\n",
       "      <td>Yes</td>\n",
       "      <td>NO</td>\n",
       "    </tr>\n",
       "    <tr>\n",
       "      <th>2</th>\n",
       "      <td>353135096</td>\n",
       "      <td>108230283</td>\n",
       "      <td>Caucasian</td>\n",
       "      <td>Female</td>\n",
       "      <td>[90-100)</td>\n",
       "      <td>?</td>\n",
       "      <td>2</td>\n",
       "      <td>3</td>\n",
       "      <td>6</td>\n",
       "      <td>3</td>\n",
       "      <td>...</td>\n",
       "      <td>No</td>\n",
       "      <td>No</td>\n",
       "      <td>No</td>\n",
       "      <td>No</td>\n",
       "      <td>No</td>\n",
       "      <td>No</td>\n",
       "      <td>No</td>\n",
       "      <td>No</td>\n",
       "      <td>No</td>\n",
       "      <td>NO</td>\n",
       "    </tr>\n",
       "    <tr>\n",
       "      <th>3</th>\n",
       "      <td>127615968</td>\n",
       "      <td>94194585</td>\n",
       "      <td>Caucasian</td>\n",
       "      <td>Female</td>\n",
       "      <td>[70-80)</td>\n",
       "      <td>?</td>\n",
       "      <td>3</td>\n",
       "      <td>1</td>\n",
       "      <td>1</td>\n",
       "      <td>10</td>\n",
       "      <td>...</td>\n",
       "      <td>No</td>\n",
       "      <td>Down</td>\n",
       "      <td>No</td>\n",
       "      <td>No</td>\n",
       "      <td>No</td>\n",
       "      <td>No</td>\n",
       "      <td>No</td>\n",
       "      <td>Ch</td>\n",
       "      <td>Yes</td>\n",
       "      <td>&gt;30</td>\n",
       "    </tr>\n",
       "    <tr>\n",
       "      <th>4</th>\n",
       "      <td>74057760</td>\n",
       "      <td>195372</td>\n",
       "      <td>AfricanAmerican</td>\n",
       "      <td>Male</td>\n",
       "      <td>[70-80)</td>\n",
       "      <td>?</td>\n",
       "      <td>1</td>\n",
       "      <td>6</td>\n",
       "      <td>7</td>\n",
       "      <td>2</td>\n",
       "      <td>...</td>\n",
       "      <td>No</td>\n",
       "      <td>No</td>\n",
       "      <td>No</td>\n",
       "      <td>No</td>\n",
       "      <td>No</td>\n",
       "      <td>No</td>\n",
       "      <td>No</td>\n",
       "      <td>No</td>\n",
       "      <td>No</td>\n",
       "      <td>NO</td>\n",
       "    </tr>\n",
       "  </tbody>\n",
       "</table>\n",
       "<p>5 rows × 50 columns</p>\n",
       "</div>"
      ],
      "text/plain": [
       "   encounter_id  patient_nbr             race  gender       age weight  \\\n",
       "0     245224068    106074990        Caucasian  Female   [80-90)      ?   \n",
       "1     280344456     40608414        Caucasian  Female   [80-90)      ?   \n",
       "2     353135096    108230283        Caucasian  Female  [90-100)      ?   \n",
       "3     127615968     94194585        Caucasian  Female   [70-80)      ?   \n",
       "4      74057760       195372  AfricanAmerican    Male   [70-80)      ?   \n",
       "\n",
       "   admission_type_id  discharge_disposition_id  admission_source_id  \\\n",
       "0                  1                         3                    7   \n",
       "1                  1                         1                    7   \n",
       "2                  2                         3                    6   \n",
       "3                  3                         1                    1   \n",
       "4                  1                         6                    7   \n",
       "\n",
       "   time_in_hospital  ... citoglipton insulin  glyburide-metformin  \\\n",
       "0                 3  ...          No      No                   No   \n",
       "1                 3  ...          No      No                   No   \n",
       "2                 3  ...          No      No                   No   \n",
       "3                10  ...          No    Down                   No   \n",
       "4                 2  ...          No      No                   No   \n",
       "\n",
       "   glipizide-metformin  glimepiride-pioglitazone  metformin-rosiglitazone  \\\n",
       "0                   No                        No                       No   \n",
       "1                   No                        No                       No   \n",
       "2                   No                        No                       No   \n",
       "3                   No                        No                       No   \n",
       "4                   No                        No                       No   \n",
       "\n",
       "   metformin-pioglitazone  change diabetesMed readmitted  \n",
       "0                      No      No         Yes        >30  \n",
       "1                      No      Ch         Yes         NO  \n",
       "2                      No      No          No         NO  \n",
       "3                      No      Ch         Yes        >30  \n",
       "4                      No      No          No         NO  \n",
       "\n",
       "[5 rows x 50 columns]"
      ]
     },
     "execution_count": 2,
     "metadata": {},
     "output_type": "execute_result"
    }
   ],
   "source": [
    "df=pd.read_excel(r'C:\\Users\\dh1181tu\\OneDrive\\Desktop\\Capstone project\\new_testing_data.xlsx')\n",
    "df.head()"
   ]
  },
  {
   "cell_type": "code",
   "execution_count": 3,
   "id": "e9e1f8c0",
   "metadata": {},
   "outputs": [
    {
     "data": {
      "text/plain": [
       "(20354, 50)"
      ]
     },
     "execution_count": 3,
     "metadata": {},
     "output_type": "execute_result"
    }
   ],
   "source": [
    "#checking shape of the dataset\n",
    "df.shape"
   ]
  },
  {
   "cell_type": "code",
   "execution_count": null,
   "id": "73a03642",
   "metadata": {},
   "outputs": [],
   "source": []
  },
  {
   "cell_type": "code",
   "execution_count": 4,
   "id": "ad710b42",
   "metadata": {},
   "outputs": [
    {
     "data": {
      "text/plain": [
       "encounter_id                 int64\n",
       "patient_nbr                  int64\n",
       "race                        object\n",
       "gender                      object\n",
       "age                         object\n",
       "weight                      object\n",
       "admission_type_id            int64\n",
       "discharge_disposition_id     int64\n",
       "admission_source_id          int64\n",
       "time_in_hospital             int64\n",
       "payer_code                  object\n",
       "medical_specialty           object\n",
       "num_lab_procedures           int64\n",
       "num_procedures               int64\n",
       "num_medications              int64\n",
       "number_outpatient            int64\n",
       "number_emergency             int64\n",
       "number_inpatient             int64\n",
       "diag_1                      object\n",
       "diag_2                      object\n",
       "diag_3                      object\n",
       "number_diagnoses             int64\n",
       "max_glu_serum               object\n",
       "A1Cresult                   object\n",
       "metformin                   object\n",
       "repaglinide                 object\n",
       "nateglinide                 object\n",
       "chlorpropamide              object\n",
       "glimepiride                 object\n",
       "acetohexamide               object\n",
       "glipizide                   object\n",
       "glyburide                   object\n",
       "tolbutamide                 object\n",
       "pioglitazone                object\n",
       "rosiglitazone               object\n",
       "acarbose                    object\n",
       "miglitol                    object\n",
       "troglitazone                object\n",
       "tolazamide                  object\n",
       "examide                     object\n",
       "citoglipton                 object\n",
       "insulin                     object\n",
       "glyburide-metformin         object\n",
       "glipizide-metformin         object\n",
       "glimepiride-pioglitazone    object\n",
       "metformin-rosiglitazone     object\n",
       "metformin-pioglitazone      object\n",
       "change                      object\n",
       "diabetesMed                 object\n",
       "readmitted                  object\n",
       "dtype: object"
      ]
     },
     "execution_count": 4,
     "metadata": {},
     "output_type": "execute_result"
    }
   ],
   "source": [
    "#Checking data types of each variable\n",
    "df.dtypes"
   ]
  },
  {
   "cell_type": "code",
   "execution_count": null,
   "id": "6cceb3f0",
   "metadata": {},
   "outputs": [],
   "source": []
  },
  {
   "cell_type": "code",
   "execution_count": 5,
   "id": "8f52dbb4",
   "metadata": {},
   "outputs": [
    {
     "name": "stdout",
     "output_type": "stream",
     "text": [
      "race 471\n",
      "gender 0\n",
      "age 0\n",
      "weight 19725\n",
      "payer_code 8086\n",
      "medical_specialty 10061\n",
      "diag_1 1\n",
      "diag_2 59\n",
      "diag_3 284\n",
      "max_glu_serum 0\n",
      "A1Cresult 0\n",
      "metformin 0\n",
      "repaglinide 0\n",
      "nateglinide 0\n",
      "chlorpropamide 0\n",
      "glimepiride 0\n",
      "acetohexamide 0\n",
      "glipizide 0\n",
      "glyburide 0\n",
      "tolbutamide 0\n",
      "pioglitazone 0\n",
      "rosiglitazone 0\n",
      "acarbose 0\n",
      "miglitol 0\n",
      "troglitazone 0\n",
      "tolazamide 0\n",
      "examide 0\n",
      "citoglipton 0\n",
      "insulin 0\n",
      "glyburide-metformin 0\n",
      "glipizide-metformin 0\n",
      "glimepiride-pioglitazone 0\n",
      "metformin-rosiglitazone 0\n",
      "metformin-pioglitazone 0\n",
      "change 0\n",
      "diabetesMed 0\n",
      "readmitted 0\n"
     ]
    }
   ],
   "source": [
    "#Checking for missing values in dataset\n",
    "#In the dataset missing values are represented as '?' sign\n",
    "for col in df.columns:\n",
    "    if df[col].dtype == object:\n",
    "         print(col,df[col][df[col] == '?'].count())"
   ]
  },
  {
   "cell_type": "code",
   "execution_count": 6,
   "id": "58e1d713",
   "metadata": {},
   "outputs": [
    {
     "name": "stdout",
     "output_type": "stream",
     "text": [
      "gender 1\n"
     ]
    }
   ],
   "source": [
    "print('gender', df['gender'][df['gender'] == 'Unknown/Invalid'].count()) "
   ]
  },
  {
   "cell_type": "code",
   "execution_count": 7,
   "id": "c054110b",
   "metadata": {},
   "outputs": [],
   "source": [
    "#Dealing with Missing Values\n",
    "#Variable weight contains approximate 98% of the missing values so there is no significance in filling those missing values\n",
    "#so we decided to drop these variables. \n",
    "#Variable Payer code and medical specialty contains approximate 40% missing values\n",
    "#so we also dropped these variables. Variables race, diag_1, diag_2, diag_3 and gender \n",
    "#contains very less missing values as compared to other attributes which we dropped\n",
    "#so for these attributes we also decided to drop those where missing values contains."
   ]
  },
  {
   "cell_type": "code",
   "execution_count": 8,
   "id": "41f885ad",
   "metadata": {},
   "outputs": [],
   "source": [
    "#dropping columns with large number of missing values\n",
    "df = df.drop(['weight','payer_code','medical_specialty'], axis = 1)"
   ]
  },
  {
   "cell_type": "code",
   "execution_count": 9,
   "id": "3a77fa84",
   "metadata": {},
   "outputs": [],
   "source": [
    "drop_Idx = set(df[(df['diag_1'] == '?') & (df['diag_2'] == '?') & (df['diag_3'] == '?')].index)\n",
    "\n",
    "drop_Idx = drop_Idx.union(set(df['diag_1'][df['diag_1'] == '?'].index))\n",
    "drop_Idx = drop_Idx.union(set(df['diag_2'][df['diag_2'] == '?'].index))\n",
    "drop_Idx = drop_Idx.union(set(df['diag_3'][df['diag_3'] == '?'].index))\n",
    "drop_Idx = drop_Idx.union(set(df['race'][df['race'] == '?'].index))\n",
    "drop_Idx = drop_Idx.union(set(df[df['discharge_disposition_id'] == 11].index))\n",
    "drop_Idx = drop_Idx.union(set(df['gender'][df['gender'] == 'Unknown/Invalid'].index))\n",
    "new_Idx = list(set(df.index) - set(drop_Idx))\n",
    "df = df.iloc[new_Idx]\n"
   ]
  },
  {
   "cell_type": "code",
   "execution_count": 10,
   "id": "fa868e6a",
   "metadata": {},
   "outputs": [],
   "source": [
    "#variables (drugs named citoglipton and examide), all records have the same value. \n",
    "#So essentially these cannot provide any interpretive or discriminatory information \n",
    "#for predicting readmission so we decided to drop these two variables"
   ]
  },
  {
   "cell_type": "code",
   "execution_count": 11,
   "id": "ba5c6a37",
   "metadata": {},
   "outputs": [],
   "source": [
    "df = df.drop(['citoglipton', 'examide'], axis = 1)"
   ]
  },
  {
   "cell_type": "code",
   "execution_count": 12,
   "id": "ec9bb68e",
   "metadata": {},
   "outputs": [
    {
     "name": "stdout",
     "output_type": "stream",
     "text": [
      "race 0\n",
      "gender 0\n",
      "age 0\n",
      "diag_1 0\n",
      "diag_2 0\n",
      "diag_3 0\n",
      "max_glu_serum 0\n",
      "A1Cresult 0\n",
      "metformin 0\n",
      "repaglinide 0\n",
      "nateglinide 0\n",
      "chlorpropamide 0\n",
      "glimepiride 0\n",
      "acetohexamide 0\n",
      "glipizide 0\n",
      "glyburide 0\n",
      "tolbutamide 0\n",
      "pioglitazone 0\n",
      "rosiglitazone 0\n",
      "acarbose 0\n",
      "miglitol 0\n",
      "troglitazone 0\n",
      "tolazamide 0\n",
      "insulin 0\n",
      "glyburide-metformin 0\n",
      "glipizide-metformin 0\n",
      "glimepiride-pioglitazone 0\n",
      "metformin-rosiglitazone 0\n",
      "metformin-pioglitazone 0\n",
      "change 0\n",
      "diabetesMed 0\n",
      "readmitted 0\n",
      "gender 0\n"
     ]
    }
   ],
   "source": [
    "#Checking for missing values in the data\n",
    "for col in df.columns:\n",
    "    if df[col].dtype == object:\n",
    "         print(col,df[col][df[col] == '?'].count())\n",
    "            \n",
    "print('gender', df['gender'][df['gender'] == 'Unknown/Invalid'].count())  "
   ]
  },
  {
   "cell_type": "code",
   "execution_count": 13,
   "id": "b381092e",
   "metadata": {},
   "outputs": [],
   "source": [
    "###Feature engineering"
   ]
  },
  {
   "cell_type": "code",
   "execution_count": 14,
   "id": "d1052b51",
   "metadata": {},
   "outputs": [],
   "source": [
    "#This is highly subjective, and partly depends on a knowledge of health care services, and making sense of the potential relationships between features.\n",
    "#There are perhaps thousands of ways to try here. We tried some.."
   ]
  },
  {
   "cell_type": "code",
   "execution_count": 15,
   "id": "857510c2",
   "metadata": {},
   "outputs": [],
   "source": [
    "#Service utilization: The data contains variables for number of inpatient (admissions), emergency room visits and outpatient visits for a given patient in the previous one year. \n",
    "#These are (crude) measures of how much hospital/clinic services a person has used in the past year. We added these three to create a new variable called service utilization (see figure below).\n",
    "#The idea was to see which version gives us better results.\n",
    "#Granted, we did not apply any special weighting to the three ingredients of service utilization but we wanted to try something simple at this stage."
   ]
  },
  {
   "cell_type": "code",
   "execution_count": 16,
   "id": "019a526a",
   "metadata": {},
   "outputs": [],
   "source": [
    "df['service_utilization'] = df['number_outpatient'] + df['number_emergency'] + df['number_inpatient']"
   ]
  },
  {
   "cell_type": "code",
   "execution_count": 17,
   "id": "3a920d18",
   "metadata": {},
   "outputs": [],
   "source": [
    "#Number of medication changes: \n",
    "#The dataset contains 23 features for 23 drugs (or combos) which indicate for each of these, whether a change in that medication was made or not during the current hospital stay of patient. \n",
    "#Medication change for diabetics upon admission has been shown by previous research to be associated with lower readmission rates. \n",
    "#We decided to count how many changes were made in total for each patient, and declared that a new feature. \n",
    "#The reasoning here was to both simplify the model and possibly discover a relationship with number of changes regardless of which drug was changed."
   ]
  },
  {
   "cell_type": "code",
   "execution_count": 18,
   "id": "e0b91e9d",
   "metadata": {},
   "outputs": [
    {
     "data": {
      "text/plain": [
       "0    14058\n",
       "1     4973\n",
       "2      238\n",
       "3       15\n",
       "4        1\n",
       "Name: numchange, dtype: int64"
      ]
     },
     "execution_count": 18,
     "metadata": {},
     "output_type": "execute_result"
    }
   ],
   "source": [
    "keys = ['metformin', 'repaglinide', 'nateglinide', 'chlorpropamide', 'glimepiride', 'glipizide', 'glyburide', 'pioglitazone', 'rosiglitazone', 'acarbose', 'miglitol', 'insulin', 'glyburide-metformin', 'tolazamide', 'metformin-pioglitazone','metformin-rosiglitazone', 'glimepiride-pioglitazone', 'glipizide-metformin', 'troglitazone', 'tolbutamide', 'acetohexamide']\n",
    "for col in keys:\n",
    "    colname = str(col) + 'temp'\n",
    "    df[colname] = df[col].apply(lambda x: 0 if (x == 'No' or x == 'Steady') else 1)\n",
    "df['numchange'] = 0\n",
    "for col in keys:\n",
    "    colname = str(col) + 'temp'\n",
    "    df['numchange'] = df['numchange'] + df[colname]\n",
    "    del df[colname]\n",
    "    \n",
    "df['numchange'].value_counts()  "
   ]
  },
  {
   "cell_type": "code",
   "execution_count": 19,
   "id": "40c3603f",
   "metadata": {},
   "outputs": [],
   "source": [
    "# re-encoding admission type, discharge type and admission source into fewer categories\n",
    "\n",
    "df['admission_type_id'] = df['admission_type_id'].replace(2,1)\n",
    "df['admission_type_id'] = df['admission_type_id'].replace(7,1)\n",
    "df['admission_type_id'] = df['admission_type_id'].replace(6,5)\n",
    "df['admission_type_id'] = df['admission_type_id'].replace(8,5)\n",
    "\n",
    "df['discharge_disposition_id'] = df['discharge_disposition_id'].replace(6,1)\n",
    "df['discharge_disposition_id'] = df['discharge_disposition_id'].replace(8,1)\n",
    "df['discharge_disposition_id'] = df['discharge_disposition_id'].replace(9,1)\n",
    "df['discharge_disposition_id'] = df['discharge_disposition_id'].replace(13,1)\n",
    "df['discharge_disposition_id'] = df['discharge_disposition_id'].replace(3,2)\n",
    "df['discharge_disposition_id'] = df['discharge_disposition_id'].replace(4,2)\n",
    "df['discharge_disposition_id'] = df['discharge_disposition_id'].replace(5,2)\n",
    "df['discharge_disposition_id'] = df['discharge_disposition_id'].replace(14,2)\n",
    "df['discharge_disposition_id'] = df['discharge_disposition_id'].replace(22,2)\n",
    "df['discharge_disposition_id'] = df['discharge_disposition_id'].replace(23,2)\n",
    "df['discharge_disposition_id'] = df['discharge_disposition_id'].replace(24,2)\n",
    "df['discharge_disposition_id'] = df['discharge_disposition_id'].replace(12,10)\n",
    "df['discharge_disposition_id'] = df['discharge_disposition_id'].replace(15,10)\n",
    "df['discharge_disposition_id'] = df['discharge_disposition_id'].replace(16,10)\n",
    "df['discharge_disposition_id'] = df['discharge_disposition_id'].replace(17,10)\n",
    "df['discharge_disposition_id'] = df['discharge_disposition_id'].replace(25,18)\n",
    "df['discharge_disposition_id'] = df['discharge_disposition_id'].replace(26,18)\n",
    "\n",
    "df['admission_source_id'] = df['admission_source_id'].replace(2,1)\n",
    "df['admission_source_id'] = df['admission_source_id'].replace(3,1)\n",
    "df['admission_source_id'] = df['admission_source_id'].replace(5,4)\n",
    "df['admission_source_id'] = df['admission_source_id'].replace(6,4)\n",
    "df['admission_source_id'] = df['admission_source_id'].replace(10,4)\n",
    "df['admission_source_id'] = df['admission_source_id'].replace(22,4)\n",
    "df['admission_source_id'] = df['admission_source_id'].replace(25,4)\n",
    "df['admission_source_id'] = df['admission_source_id'].replace(15,9)\n",
    "df['admission_source_id'] = df['admission_source_id'].replace(17,9)\n",
    "df['admission_source_id'] = df['admission_source_id'].replace(20,9)\n",
    "df['admission_source_id'] = df['admission_source_id'].replace(21,9)\n",
    "df['admission_source_id'] = df['admission_source_id'].replace(13,11)\n",
    "df['admission_source_id'] = df['admission_source_id'].replace(14,11)"
   ]
  },
  {
   "cell_type": "code",
   "execution_count": 20,
   "id": "016b1d41",
   "metadata": {},
   "outputs": [],
   "source": [
    "###Encoding some variables: \n",
    "#The original dataset used string values for gender, race, medication change, and each of the 23 drugs used.\n",
    "#To better fit those variables into our model, we interpret the variables to numeric binary variables to reflect their nature. \n",
    "#For example, we encoded the “ medication change ” feature from “No” (no change) and “Ch” (changed) into 0 and 1."
   ]
  },
  {
   "cell_type": "code",
   "execution_count": 21,
   "id": "832a8df1",
   "metadata": {},
   "outputs": [],
   "source": [
    "df['change'] = df['change'].replace('Ch', 1)\n",
    "df['change'] = df['change'].replace('No', 0)\n",
    "df['gender'] = df['gender'].replace('Male', 1)\n",
    "df['gender'] = df['gender'].replace('Female', 0)\n",
    "df['diabetesMed'] = df['diabetesMed'].replace('Yes', 1)\n",
    "df['diabetesMed'] = df['diabetesMed'].replace('No', 0)\n",
    "# keys is the same as before\n",
    "for col in keys:\n",
    "    df[col] = df[col].replace('No', 0)\n",
    "    df[col] = df[col].replace('Steady', 1)\n",
    "    df[col] = df[col].replace('Up', 1)\n",
    "    df[col] = df[col].replace('Down', 1)"
   ]
  },
  {
   "cell_type": "code",
   "execution_count": 22,
   "id": "77350afb",
   "metadata": {},
   "outputs": [],
   "source": [
    "##We also reduced both A1C test result and Glucose serum test result into categories of Normal, Abnormal and Not tested."
   ]
  },
  {
   "cell_type": "code",
   "execution_count": 23,
   "id": "eb3913c0",
   "metadata": {},
   "outputs": [],
   "source": [
    "df['A1Cresult'] = df['A1Cresult'].replace('>7', 1)\n",
    "df['A1Cresult'] = df['A1Cresult'].replace('>8', 1)\n",
    "df['A1Cresult'] = df['A1Cresult'].replace('Norm', 0)\n",
    "df['A1Cresult'] = df['A1Cresult'].replace('None', -99)\n",
    "df['max_glu_serum'] = df['max_glu_serum'].replace('>200', 1)\n",
    "df['max_glu_serum'] = df['max_glu_serum'].replace('>300', 1)\n",
    "df['max_glu_serum'] = df['max_glu_serum'].replace('Norm', 0)\n",
    "df['max_glu_serum'] = df['max_glu_serum'].replace('None', -99)"
   ]
  },
  {
   "cell_type": "code",
   "execution_count": 24,
   "id": "a102440a",
   "metadata": {},
   "outputs": [],
   "source": [
    "#Dealing with age: There are different ways to deal with this.\n",
    "#The dataset only gives us age as 10 year categories,\n",
    "#so we don’t know the exact age of each patient. \n",
    "#The previous study on this dataset used age categories as nominal variables,\n",
    "#but we wanted to be able to see the effect of increasing age on readmission, \n",
    "#even if in a crude way. To do that, we assume that age of the patient on average lies\n",
    "#at the midpoint of the age category. For example, if the patient’s age category is 20–30 years, \n",
    "#then we assume the age = 25 years. So we converted age categories to midpoints, \n",
    "#resulting in a numeric variable:"
   ]
  },
  {
   "cell_type": "code",
   "execution_count": 25,
   "id": "d0f42db6",
   "metadata": {},
   "outputs": [
    {
     "data": {
      "text/plain": [
       "8     4987\n",
       "7     4365\n",
       "6     3244\n",
       "9     3192\n",
       "5     1854\n",
       "4      718\n",
       "10     521\n",
       "3      296\n",
       "2       95\n",
       "1       13\n",
       "Name: age, dtype: int64"
      ]
     },
     "execution_count": 25,
     "metadata": {},
     "output_type": "execute_result"
    }
   ],
   "source": [
    "# code age intervals [0-10) - [90-100) from 1-10\n",
    "for i in range(0,10):\n",
    "    df['age'] = df['age'].replace('['+str(10*i)+'-'+str(10*(i+1))+')', i+1)\n",
    "df['age'].value_counts()"
   ]
  },
  {
   "cell_type": "code",
   "execution_count": 26,
   "id": "d00f6216",
   "metadata": {},
   "outputs": [],
   "source": [
    "#Collapsing of Multiple Encounters for same patient Some patients in the dataset had more\n",
    "#than one encounter.We could not count them as independent encounters because\n",
    "#that bias the results towards those patients who had multiple encounters. \n",
    "#Thus we tried multiple techniques to collapse and consolidate multiple encounters for same patient such as:"
   ]
  },
  {
   "cell_type": "code",
   "execution_count": 27,
   "id": "43b4ee13",
   "metadata": {},
   "outputs": [],
   "source": [
    "#Considering more than 2 readmissions across multiple encounters as readmission for collapsed record.\n",
    "#Considering average stay at hospital across multiple encounters.\n",
    "#Considering the percentage of the medication changes across multiple encounters\n",
    "#Considering the total number of the encounters to replace the encounter unique ID\n",
    "#Considering the combination of diagnoses across multiple encounters as a list However, taking the features such as “diagnosis”, \n",
    "#for instance, we did not find it not meaningful to combine multiple categorical values into\n",
    "#an array for building data model.\n",
    "#We then considered first encounter and last encounter separately as possible representations \n",
    "#of multiple encounters. However, last encounters gave extremely imbalanced data for readmissions\n",
    "#(96/4 Readmissions vs No Readmissions) and thus, we decided to use first encounters of patients with multiple encounters. "
   ]
  },
  {
   "cell_type": "code",
   "execution_count": 28,
   "id": "5ae49756",
   "metadata": {},
   "outputs": [
    {
     "data": {
      "text/plain": [
       "(70442, 55)"
      ]
     },
     "execution_count": 28,
     "metadata": {},
     "output_type": "execute_result"
    }
   ],
   "source": [
    "df2 = df.drop_duplicates(subset= ['patient_nbr'], keep = 'first')\n",
    "df2.shape\n",
    "(70442, 55)"
   ]
  },
  {
   "cell_type": "code",
   "execution_count": 29,
   "id": "68245ac6",
   "metadata": {},
   "outputs": [
    {
     "data": {
      "text/html": [
       "<div>\n",
       "<style scoped>\n",
       "    .dataframe tbody tr th:only-of-type {\n",
       "        vertical-align: middle;\n",
       "    }\n",
       "\n",
       "    .dataframe tbody tr th {\n",
       "        vertical-align: top;\n",
       "    }\n",
       "\n",
       "    .dataframe thead th {\n",
       "        text-align: right;\n",
       "    }\n",
       "</style>\n",
       "<table border=\"1\" class=\"dataframe\">\n",
       "  <thead>\n",
       "    <tr style=\"text-align: right;\">\n",
       "      <th></th>\n",
       "      <th>0</th>\n",
       "      <th>1</th>\n",
       "      <th>2</th>\n",
       "      <th>3</th>\n",
       "      <th>4</th>\n",
       "    </tr>\n",
       "  </thead>\n",
       "  <tbody>\n",
       "    <tr>\n",
       "      <th>encounter_id</th>\n",
       "      <td>245224068</td>\n",
       "      <td>280344456</td>\n",
       "      <td>353135096</td>\n",
       "      <td>127615968</td>\n",
       "      <td>74057760</td>\n",
       "    </tr>\n",
       "    <tr>\n",
       "      <th>patient_nbr</th>\n",
       "      <td>106074990</td>\n",
       "      <td>40608414</td>\n",
       "      <td>108230283</td>\n",
       "      <td>94194585</td>\n",
       "      <td>195372</td>\n",
       "    </tr>\n",
       "    <tr>\n",
       "      <th>race</th>\n",
       "      <td>Caucasian</td>\n",
       "      <td>Caucasian</td>\n",
       "      <td>Caucasian</td>\n",
       "      <td>Caucasian</td>\n",
       "      <td>AfricanAmerican</td>\n",
       "    </tr>\n",
       "    <tr>\n",
       "      <th>gender</th>\n",
       "      <td>0</td>\n",
       "      <td>0</td>\n",
       "      <td>0</td>\n",
       "      <td>0</td>\n",
       "      <td>1</td>\n",
       "    </tr>\n",
       "    <tr>\n",
       "      <th>age</th>\n",
       "      <td>9</td>\n",
       "      <td>9</td>\n",
       "      <td>10</td>\n",
       "      <td>8</td>\n",
       "      <td>8</td>\n",
       "    </tr>\n",
       "    <tr>\n",
       "      <th>admission_type_id</th>\n",
       "      <td>1</td>\n",
       "      <td>1</td>\n",
       "      <td>1</td>\n",
       "      <td>3</td>\n",
       "      <td>1</td>\n",
       "    </tr>\n",
       "    <tr>\n",
       "      <th>discharge_disposition_id</th>\n",
       "      <td>2</td>\n",
       "      <td>1</td>\n",
       "      <td>2</td>\n",
       "      <td>1</td>\n",
       "      <td>1</td>\n",
       "    </tr>\n",
       "    <tr>\n",
       "      <th>admission_source_id</th>\n",
       "      <td>7</td>\n",
       "      <td>7</td>\n",
       "      <td>4</td>\n",
       "      <td>1</td>\n",
       "      <td>7</td>\n",
       "    </tr>\n",
       "    <tr>\n",
       "      <th>time_in_hospital</th>\n",
       "      <td>3</td>\n",
       "      <td>3</td>\n",
       "      <td>3</td>\n",
       "      <td>10</td>\n",
       "      <td>2</td>\n",
       "    </tr>\n",
       "    <tr>\n",
       "      <th>num_lab_procedures</th>\n",
       "      <td>42</td>\n",
       "      <td>22</td>\n",
       "      <td>10</td>\n",
       "      <td>2</td>\n",
       "      <td>40</td>\n",
       "    </tr>\n",
       "    <tr>\n",
       "      <th>num_procedures</th>\n",
       "      <td>1</td>\n",
       "      <td>0</td>\n",
       "      <td>0</td>\n",
       "      <td>2</td>\n",
       "      <td>0</td>\n",
       "    </tr>\n",
       "    <tr>\n",
       "      <th>num_medications</th>\n",
       "      <td>12</td>\n",
       "      <td>21</td>\n",
       "      <td>15</td>\n",
       "      <td>11</td>\n",
       "      <td>10</td>\n",
       "    </tr>\n",
       "    <tr>\n",
       "      <th>number_outpatient</th>\n",
       "      <td>0</td>\n",
       "      <td>0</td>\n",
       "      <td>0</td>\n",
       "      <td>0</td>\n",
       "      <td>0</td>\n",
       "    </tr>\n",
       "    <tr>\n",
       "      <th>number_emergency</th>\n",
       "      <td>0</td>\n",
       "      <td>0</td>\n",
       "      <td>2</td>\n",
       "      <td>0</td>\n",
       "      <td>0</td>\n",
       "    </tr>\n",
       "    <tr>\n",
       "      <th>number_inpatient</th>\n",
       "      <td>0</td>\n",
       "      <td>0</td>\n",
       "      <td>0</td>\n",
       "      <td>2</td>\n",
       "      <td>0</td>\n",
       "    </tr>\n",
       "    <tr>\n",
       "      <th>diag_1</th>\n",
       "      <td>805</td>\n",
       "      <td>428</td>\n",
       "      <td>428</td>\n",
       "      <td>440</td>\n",
       "      <td>786</td>\n",
       "    </tr>\n",
       "    <tr>\n",
       "      <th>diag_2</th>\n",
       "      <td>276</td>\n",
       "      <td>428</td>\n",
       "      <td>414</td>\n",
       "      <td>682</td>\n",
       "      <td>295</td>\n",
       "    </tr>\n",
       "    <tr>\n",
       "      <th>diag_3</th>\n",
       "      <td>424</td>\n",
       "      <td>401</td>\n",
       "      <td>401</td>\n",
       "      <td>413</td>\n",
       "      <td>401</td>\n",
       "    </tr>\n",
       "    <tr>\n",
       "      <th>number_diagnoses</th>\n",
       "      <td>9</td>\n",
       "      <td>9</td>\n",
       "      <td>7</td>\n",
       "      <td>8</td>\n",
       "      <td>6</td>\n",
       "    </tr>\n",
       "    <tr>\n",
       "      <th>max_glu_serum</th>\n",
       "      <td>-99</td>\n",
       "      <td>-99</td>\n",
       "      <td>-99</td>\n",
       "      <td>-99</td>\n",
       "      <td>-99</td>\n",
       "    </tr>\n",
       "    <tr>\n",
       "      <th>A1Cresult</th>\n",
       "      <td>-99</td>\n",
       "      <td>1</td>\n",
       "      <td>-99</td>\n",
       "      <td>-99</td>\n",
       "      <td>-99</td>\n",
       "    </tr>\n",
       "    <tr>\n",
       "      <th>metformin</th>\n",
       "      <td>0</td>\n",
       "      <td>1</td>\n",
       "      <td>0</td>\n",
       "      <td>0</td>\n",
       "      <td>0</td>\n",
       "    </tr>\n",
       "    <tr>\n",
       "      <th>repaglinide</th>\n",
       "      <td>0</td>\n",
       "      <td>0</td>\n",
       "      <td>0</td>\n",
       "      <td>0</td>\n",
       "      <td>0</td>\n",
       "    </tr>\n",
       "    <tr>\n",
       "      <th>nateglinide</th>\n",
       "      <td>0</td>\n",
       "      <td>0</td>\n",
       "      <td>0</td>\n",
       "      <td>0</td>\n",
       "      <td>0</td>\n",
       "    </tr>\n",
       "    <tr>\n",
       "      <th>chlorpropamide</th>\n",
       "      <td>0</td>\n",
       "      <td>0</td>\n",
       "      <td>0</td>\n",
       "      <td>0</td>\n",
       "      <td>0</td>\n",
       "    </tr>\n",
       "    <tr>\n",
       "      <th>glimepiride</th>\n",
       "      <td>0</td>\n",
       "      <td>1</td>\n",
       "      <td>0</td>\n",
       "      <td>0</td>\n",
       "      <td>0</td>\n",
       "    </tr>\n",
       "    <tr>\n",
       "      <th>acetohexamide</th>\n",
       "      <td>0</td>\n",
       "      <td>0</td>\n",
       "      <td>0</td>\n",
       "      <td>0</td>\n",
       "      <td>0</td>\n",
       "    </tr>\n",
       "    <tr>\n",
       "      <th>glipizide</th>\n",
       "      <td>1</td>\n",
       "      <td>0</td>\n",
       "      <td>0</td>\n",
       "      <td>0</td>\n",
       "      <td>0</td>\n",
       "    </tr>\n",
       "    <tr>\n",
       "      <th>glyburide</th>\n",
       "      <td>0</td>\n",
       "      <td>0</td>\n",
       "      <td>0</td>\n",
       "      <td>0</td>\n",
       "      <td>0</td>\n",
       "    </tr>\n",
       "    <tr>\n",
       "      <th>tolbutamide</th>\n",
       "      <td>0</td>\n",
       "      <td>0</td>\n",
       "      <td>0</td>\n",
       "      <td>0</td>\n",
       "      <td>0</td>\n",
       "    </tr>\n",
       "    <tr>\n",
       "      <th>pioglitazone</th>\n",
       "      <td>0</td>\n",
       "      <td>0</td>\n",
       "      <td>0</td>\n",
       "      <td>1</td>\n",
       "      <td>0</td>\n",
       "    </tr>\n",
       "    <tr>\n",
       "      <th>rosiglitazone</th>\n",
       "      <td>0</td>\n",
       "      <td>0</td>\n",
       "      <td>0</td>\n",
       "      <td>0</td>\n",
       "      <td>0</td>\n",
       "    </tr>\n",
       "    <tr>\n",
       "      <th>acarbose</th>\n",
       "      <td>0</td>\n",
       "      <td>0</td>\n",
       "      <td>0</td>\n",
       "      <td>0</td>\n",
       "      <td>0</td>\n",
       "    </tr>\n",
       "    <tr>\n",
       "      <th>miglitol</th>\n",
       "      <td>0</td>\n",
       "      <td>0</td>\n",
       "      <td>0</td>\n",
       "      <td>0</td>\n",
       "      <td>0</td>\n",
       "    </tr>\n",
       "    <tr>\n",
       "      <th>troglitazone</th>\n",
       "      <td>0</td>\n",
       "      <td>0</td>\n",
       "      <td>0</td>\n",
       "      <td>0</td>\n",
       "      <td>0</td>\n",
       "    </tr>\n",
       "    <tr>\n",
       "      <th>tolazamide</th>\n",
       "      <td>0</td>\n",
       "      <td>0</td>\n",
       "      <td>0</td>\n",
       "      <td>0</td>\n",
       "      <td>0</td>\n",
       "    </tr>\n",
       "    <tr>\n",
       "      <th>insulin</th>\n",
       "      <td>0</td>\n",
       "      <td>0</td>\n",
       "      <td>0</td>\n",
       "      <td>1</td>\n",
       "      <td>0</td>\n",
       "    </tr>\n",
       "    <tr>\n",
       "      <th>glyburide-metformin</th>\n",
       "      <td>0</td>\n",
       "      <td>0</td>\n",
       "      <td>0</td>\n",
       "      <td>0</td>\n",
       "      <td>0</td>\n",
       "    </tr>\n",
       "    <tr>\n",
       "      <th>glipizide-metformin</th>\n",
       "      <td>0</td>\n",
       "      <td>0</td>\n",
       "      <td>0</td>\n",
       "      <td>0</td>\n",
       "      <td>0</td>\n",
       "    </tr>\n",
       "    <tr>\n",
       "      <th>glimepiride-pioglitazone</th>\n",
       "      <td>0</td>\n",
       "      <td>0</td>\n",
       "      <td>0</td>\n",
       "      <td>0</td>\n",
       "      <td>0</td>\n",
       "    </tr>\n",
       "    <tr>\n",
       "      <th>metformin-rosiglitazone</th>\n",
       "      <td>0</td>\n",
       "      <td>0</td>\n",
       "      <td>0</td>\n",
       "      <td>0</td>\n",
       "      <td>0</td>\n",
       "    </tr>\n",
       "    <tr>\n",
       "      <th>metformin-pioglitazone</th>\n",
       "      <td>0</td>\n",
       "      <td>0</td>\n",
       "      <td>0</td>\n",
       "      <td>0</td>\n",
       "      <td>0</td>\n",
       "    </tr>\n",
       "    <tr>\n",
       "      <th>change</th>\n",
       "      <td>0</td>\n",
       "      <td>1</td>\n",
       "      <td>0</td>\n",
       "      <td>1</td>\n",
       "      <td>0</td>\n",
       "    </tr>\n",
       "    <tr>\n",
       "      <th>diabetesMed</th>\n",
       "      <td>1</td>\n",
       "      <td>1</td>\n",
       "      <td>0</td>\n",
       "      <td>1</td>\n",
       "      <td>0</td>\n",
       "    </tr>\n",
       "    <tr>\n",
       "      <th>readmitted</th>\n",
       "      <td>&gt;30</td>\n",
       "      <td>NO</td>\n",
       "      <td>NO</td>\n",
       "      <td>&gt;30</td>\n",
       "      <td>NO</td>\n",
       "    </tr>\n",
       "    <tr>\n",
       "      <th>service_utilization</th>\n",
       "      <td>0</td>\n",
       "      <td>0</td>\n",
       "      <td>2</td>\n",
       "      <td>2</td>\n",
       "      <td>0</td>\n",
       "    </tr>\n",
       "    <tr>\n",
       "      <th>numchange</th>\n",
       "      <td>0</td>\n",
       "      <td>0</td>\n",
       "      <td>0</td>\n",
       "      <td>1</td>\n",
       "      <td>0</td>\n",
       "    </tr>\n",
       "  </tbody>\n",
       "</table>\n",
       "</div>"
      ],
      "text/plain": [
       "                                  0          1          2          3  \\\n",
       "encounter_id              245224068  280344456  353135096  127615968   \n",
       "patient_nbr               106074990   40608414  108230283   94194585   \n",
       "race                      Caucasian  Caucasian  Caucasian  Caucasian   \n",
       "gender                            0          0          0          0   \n",
       "age                               9          9         10          8   \n",
       "admission_type_id                 1          1          1          3   \n",
       "discharge_disposition_id          2          1          2          1   \n",
       "admission_source_id               7          7          4          1   \n",
       "time_in_hospital                  3          3          3         10   \n",
       "num_lab_procedures               42         22         10          2   \n",
       "num_procedures                    1          0          0          2   \n",
       "num_medications                  12         21         15         11   \n",
       "number_outpatient                 0          0          0          0   \n",
       "number_emergency                  0          0          2          0   \n",
       "number_inpatient                  0          0          0          2   \n",
       "diag_1                          805        428        428        440   \n",
       "diag_2                          276        428        414        682   \n",
       "diag_3                          424        401        401        413   \n",
       "number_diagnoses                  9          9          7          8   \n",
       "max_glu_serum                   -99        -99        -99        -99   \n",
       "A1Cresult                       -99          1        -99        -99   \n",
       "metformin                         0          1          0          0   \n",
       "repaglinide                       0          0          0          0   \n",
       "nateglinide                       0          0          0          0   \n",
       "chlorpropamide                    0          0          0          0   \n",
       "glimepiride                       0          1          0          0   \n",
       "acetohexamide                     0          0          0          0   \n",
       "glipizide                         1          0          0          0   \n",
       "glyburide                         0          0          0          0   \n",
       "tolbutamide                       0          0          0          0   \n",
       "pioglitazone                      0          0          0          1   \n",
       "rosiglitazone                     0          0          0          0   \n",
       "acarbose                          0          0          0          0   \n",
       "miglitol                          0          0          0          0   \n",
       "troglitazone                      0          0          0          0   \n",
       "tolazamide                        0          0          0          0   \n",
       "insulin                           0          0          0          1   \n",
       "glyburide-metformin               0          0          0          0   \n",
       "glipizide-metformin               0          0          0          0   \n",
       "glimepiride-pioglitazone          0          0          0          0   \n",
       "metformin-rosiglitazone           0          0          0          0   \n",
       "metformin-pioglitazone            0          0          0          0   \n",
       "change                            0          1          0          1   \n",
       "diabetesMed                       1          1          0          1   \n",
       "readmitted                      >30         NO         NO        >30   \n",
       "service_utilization               0          0          2          2   \n",
       "numchange                         0          0          0          1   \n",
       "\n",
       "                                        4  \n",
       "encounter_id                     74057760  \n",
       "patient_nbr                        195372  \n",
       "race                      AfricanAmerican  \n",
       "gender                                  1  \n",
       "age                                     8  \n",
       "admission_type_id                       1  \n",
       "discharge_disposition_id                1  \n",
       "admission_source_id                     7  \n",
       "time_in_hospital                        2  \n",
       "num_lab_procedures                     40  \n",
       "num_procedures                          0  \n",
       "num_medications                        10  \n",
       "number_outpatient                       0  \n",
       "number_emergency                        0  \n",
       "number_inpatient                        0  \n",
       "diag_1                                786  \n",
       "diag_2                                295  \n",
       "diag_3                                401  \n",
       "number_diagnoses                        6  \n",
       "max_glu_serum                         -99  \n",
       "A1Cresult                             -99  \n",
       "metformin                               0  \n",
       "repaglinide                             0  \n",
       "nateglinide                             0  \n",
       "chlorpropamide                          0  \n",
       "glimepiride                             0  \n",
       "acetohexamide                           0  \n",
       "glipizide                               0  \n",
       "glyburide                               0  \n",
       "tolbutamide                             0  \n",
       "pioglitazone                            0  \n",
       "rosiglitazone                           0  \n",
       "acarbose                                0  \n",
       "miglitol                                0  \n",
       "troglitazone                            0  \n",
       "tolazamide                              0  \n",
       "insulin                                 0  \n",
       "glyburide-metformin                     0  \n",
       "glipizide-metformin                     0  \n",
       "glimepiride-pioglitazone                0  \n",
       "metformin-rosiglitazone                 0  \n",
       "metformin-pioglitazone                  0  \n",
       "change                                  0  \n",
       "diabetesMed                             0  \n",
       "readmitted                             NO  \n",
       "service_utilization                     0  \n",
       "numchange                               0  "
      ]
     },
     "execution_count": 29,
     "metadata": {},
     "output_type": "execute_result"
    }
   ],
   "source": [
    "df.head().T"
   ]
  },
  {
   "cell_type": "code",
   "execution_count": 30,
   "id": "13288612",
   "metadata": {},
   "outputs": [],
   "source": [
    "#Encoding the outcome variable: \n",
    "#The outcome we are looking at is whether the patient gets \n",
    "#readmitted to the hospital within 30 days or not.\n",
    "#The variable actually has < 30, > 30 and No Readmission categories. \n",
    "#To reduce our problem to a binary classification, \n",
    "#we combined the readmission after 30 days and no readmission into a single category:"
   ]
  },
  {
   "cell_type": "code",
   "execution_count": 31,
   "id": "70e7d38d",
   "metadata": {},
   "outputs": [
    {
     "data": {
      "text/plain": [
       "NO     10183\n",
       ">30     6922\n",
       "<30     2180\n",
       "Name: readmitted, dtype: int64"
      ]
     },
     "execution_count": 31,
     "metadata": {},
     "output_type": "execute_result"
    }
   ],
   "source": [
    "df['readmitted'].value_counts()"
   ]
  },
  {
   "cell_type": "code",
   "execution_count": 32,
   "id": "73fb97f6",
   "metadata": {},
   "outputs": [],
   "source": [
    "df['readmitted'] = df['readmitted'].replace('>30', 0)\n",
    "df['readmitted'] = df['readmitted'].replace('<30', 1)\n",
    "df['readmitted'] = df['readmitted'].replace('NO', 0)"
   ]
  },
  {
   "cell_type": "code",
   "execution_count": 33,
   "id": "2c1ecef4",
   "metadata": {},
   "outputs": [],
   "source": [
    "# Categorization of diagnoses:\n",
    "# The dataset contained up to three diagnoses for a given patient (primary, secondary and additional). However, each of \n",
    "# these had 700–900 unique ICD codes and it is extremely difficult to include them in the model and interpret meaningfully.\n",
    "# Therefore, we collapsed these diagnosis codes into 9 disease categories in an almost similar fashion to that done in the \n",
    "# original publication using this dataset. These 9 categories include Circulatory, Respiratory, Digestive, Diabetes, \n",
    "# Injury, Musculoskeletal, Genitourinary, Neoplasms, and Others. Although we did this for primary, secondary and additional\n",
    "# diagnoses, we eventually decided to use only the primary diagnosis in our model. Doing this in python was slightly \n",
    "# cumbersome because, well, we are mapping the disease codes to certain category names. Below code should demonstrate this \n",
    "# easily."
   ]
  },
  {
   "cell_type": "code",
   "execution_count": 34,
   "id": "0b779354",
   "metadata": {},
   "outputs": [],
   "source": [
    "# Creating additional columns for diagnosis# Creati \n",
    "df['level1_diag1'] = df['diag_1']\n",
    "df['level2_diag1'] = df['diag_1']\n",
    "df['level1_diag2'] = df['diag_2']\n",
    "df['level2_diag2'] = df['diag_2']\n",
    "df['level1_diag3'] = df['diag_3']\n",
    "df['level2_diag3'] = df['diag_3']"
   ]
  },
  {
   "cell_type": "code",
   "execution_count": 35,
   "id": "24377015",
   "metadata": {},
   "outputs": [],
   "source": [
    "df.loc[df['diag_1'].str.contains('V',na=False), ['level1_diag1', 'level2_diag1']] = 0\n",
    "df.loc[df['diag_1'].str.contains('E',na=False), ['level1_diag1', 'level2_diag1']] = 0\n",
    "df.loc[df['diag_2'].str.contains('V',na=False), ['level1_diag2', 'level2_diag2']] = 0\n",
    "df.loc[df['diag_2'].str.contains('E',na=False), ['level1_diag2', 'level2_diag2']] = 0\n",
    "df.loc[df['diag_3'].str.contains('V',na=False), ['level1_diag3', 'level2_diag3']] = 0\n",
    "df.loc[df['diag_3'].str.contains('E',na=False), ['level1_diag3', 'level2_diag3']] = 0\n",
    "df['level1_diag1'] = df['level1_diag1'].replace('?', -1)\n",
    "df['level2_diag1'] = df['level2_diag1'].replace('?', -1)\n",
    "df['level1_diag2'] = df['level1_diag2'].replace('?', -1)\n",
    "df['level2_diag2'] = df['level2_diag2'].replace('?', -1)\n",
    "df['level1_diag3'] = df['level1_diag3'].replace('?', -1)\n",
    "df['level2_diag3'] = df['level2_diag3'].replace('?', -1)"
   ]
  },
  {
   "cell_type": "code",
   "execution_count": 36,
   "id": "38ddd92a",
   "metadata": {},
   "outputs": [],
   "source": [
    "df['level1_diag1'] = df['level1_diag1'].astype(float)\n",
    "df['level2_diag1'] = df['level2_diag1'].astype(float)\n",
    "df['level1_diag2'] = df['level1_diag2'].astype(float)\n",
    "df['level2_diag2'] = df['level2_diag2'].astype(float)\n",
    "df['level1_diag3'] = df['level1_diag3'].astype(float)\n",
    "df['level2_diag3'] = df['level2_diag3'].astype(float)"
   ]
  },
  {
   "cell_type": "code",
   "execution_count": 37,
   "id": "61befb77",
   "metadata": {},
   "outputs": [],
   "source": [
    "for index, row in df.iterrows():\n",
    "    if (row['level1_diag1'] >= 390 and row['level1_diag1'] < 460) or (np.floor(row['level1_diag1']) == 785):\n",
    "        df.loc[index, 'level1_diag1'] = 1\n",
    "    elif (row['level1_diag1'] >= 460 and row['level1_diag1'] < 520) or (np.floor(row['level1_diag1']) == 786):\n",
    "        df.loc[index, 'level1_diag1'] = 2\n",
    "    elif (row['level1_diag1'] >= 520 and row['level1_diag1'] < 580) or (np.floor(row['level1_diag1']) == 787):\n",
    "        df.loc[index, 'level1_diag1'] = 3\n",
    "    elif (np.floor(row['level1_diag1']) == 250):\n",
    "        df.loc[index, 'level1_diag1'] = 4\n",
    "    elif (row['level1_diag1'] >= 800 and row['level1_diag1'] < 1000):\n",
    "        df.loc[index, 'level1_diag1'] = 5\n",
    "    elif (row['level1_diag1'] >= 710 and row['level1_diag1'] < 740):\n",
    "        df.loc[index, 'level1_diag1'] = 6\n",
    "    elif (row['level1_diag1'] >= 580 and row['level1_diag1'] < 630) or (np.floor(row['level1_diag1']) == 788):\n",
    "        df.loc[index, 'level1_diag1'] = 7\n",
    "    elif (row['level1_diag1'] >= 140 and row['level1_diag1'] < 240):\n",
    "        df.loc[index, 'level1_diag1'] = 8\n",
    "    else:\n",
    "        df.loc[index, 'level1_diag1'] = 0\n",
    "        \n",
    "    if (row['level1_diag2'] >= 390 and row['level1_diag2'] < 460) or (np.floor(row['level1_diag2']) == 785):\n",
    "        df.loc[index, 'level1_diag2'] = 1\n",
    "    elif (row['level1_diag2'] >= 460 and row['level1_diag2'] < 520) or (np.floor(row['level1_diag2']) == 786):\n",
    "        df.loc[index, 'level1_diag2'] = 2\n",
    "    elif (row['level1_diag2'] >= 520 and row['level1_diag2'] < 580) or (np.floor(row['level1_diag2']) == 787):\n",
    "        df.loc[index, 'level1_diag2'] = 3\n",
    "    elif (np.floor(row['level1_diag2']) == 250):\n",
    "        df.loc[index, 'level1_diag2'] = 4\n",
    "    elif (row['level1_diag2'] >= 800 and row['level1_diag2'] < 1000):\n",
    "        df.loc[index, 'level1_diag2'] = 5\n",
    "    elif (row['level1_diag2'] >= 710 and row['level1_diag2'] < 740):\n",
    "        df.loc[index, 'level1_diag2'] = 6\n",
    "    elif (row['level1_diag2'] >= 580 and row['level1_diag2'] < 630) or (np.floor(row['level1_diag2']) == 788):\n",
    "        df.loc[index, 'level1_diag2'] = 7\n",
    "    elif (row['level1_diag2'] >= 140 and row['level1_diag2'] < 240):\n",
    "        df.loc[index, 'level1_diag2'] = 8\n",
    "    else:\n",
    "        df.loc[index, 'level1_diag2'] = 0\n",
    "    \n",
    "    if (row['level1_diag3'] >= 390 and row['level1_diag3'] < 460) or (np.floor(row['level1_diag3']) == 785):\n",
    "        df.loc[index, 'level1_diag3'] = 1\n",
    "    elif (row['level1_diag3'] >= 460 and row['level1_diag3'] < 520) or (np.floor(row['level1_diag3']) == 786):\n",
    "        df.loc[index, 'level1_diag3'] = 2\n",
    "    elif (row['level1_diag3'] >= 520 and row['level1_diag3'] < 580) or (np.floor(row['level1_diag3']) == 787):\n",
    "        df.loc[index, 'level1_diag3'] = 3\n",
    "    elif (np.floor(row['level1_diag3']) == 250):\n",
    "        df.loc[index, 'level1_diag3'] = 4\n",
    "    elif (row['level1_diag3'] >= 800 and row['level1_diag3'] < 1000):\n",
    "        df.loc[index, 'level1_diag3'] = 5\n",
    "    elif (row['level1_diag3'] >= 710 and row['level1_diag3'] < 740):\n",
    "        df.loc[index, 'level1_diag3'] = 6\n",
    "    elif (row['level1_diag3'] >= 580 and row['level1_diag3'] < 630) or (np.floor(row['level1_diag3']) == 788):\n",
    "        df.loc[index, 'level1_diag3'] = 7\n",
    "    elif (row['level1_diag3'] >= 140 and row['level1_diag3'] < 240):\n",
    "        df.loc[index, 'level1_diag3'] = 8\n",
    "    else:\n",
    "        df.loc[index, 'level1_diag3'] = 0"
   ]
  },
  {
   "cell_type": "code",
   "execution_count": 38,
   "id": "e142a198",
   "metadata": {},
   "outputs": [],
   "source": [
    "for index, row in df.iterrows():\n",
    "    if (row['level2_diag1'] >= 390 and row['level2_diag1'] < 399):\n",
    "        df.loc[index, 'level2_diag1'] = 1\n",
    "    elif (row['level2_diag1'] >= 401 and row['level2_diag1'] < 415):\n",
    "        df.loc[index, 'level2_diag1'] = 2\n",
    "    elif (row['level2_diag1'] >= 415 and row['level2_diag1'] < 460):\n",
    "        df.loc[index, 'level2_diag1'] = 3\n",
    "    elif (np.floor(row['level2_diag1']) == 785):\n",
    "        df.loc[index, 'level2_diag1'] = 4\n",
    "    elif (row['level2_diag1'] >= 460 and row['level2_diag1'] < 489):\n",
    "        df.loc[index, 'level2_diag1'] = 5\n",
    "    elif (row['level2_diag1'] >= 490 and row['level2_diag1'] < 497):\n",
    "        df.loc[index, 'level2_diag1'] = 6\n",
    "    elif (row['level2_diag1'] >= 500 and row['level2_diag1'] < 520):\n",
    "        df.loc[index, 'level2_diag1'] = 7\n",
    "    elif (np.floor(row['level2_diag1']) == 786):\n",
    "        df.loc[index, 'level2_diag1'] = 8\n",
    "    elif (row['level2_diag1'] >= 520 and row['level2_diag1'] < 530):\n",
    "        df.loc[index, 'level2_diag1'] = 9\n",
    "    elif (row['level2_diag1'] >= 530 and row['level2_diag1'] < 544):\n",
    "        df.loc[index, 'level2_diag1'] = 10\n",
    "    elif (row['level2_diag1'] >= 550 and row['level2_diag1'] < 554):\n",
    "        df.loc[index, 'level2_diag1'] = 11\n",
    "    elif (row['level2_diag1'] >= 555 and row['level2_diag1'] < 580):\n",
    "        df.loc[index, 'level2_diag1'] = 12\n",
    "    elif (np.floor(row['level2_diag1']) == 787):\n",
    "        df.loc[index, 'level2_diag1'] = 13\n",
    "    elif (np.floor(row['level2_diag1']) == 250):\n",
    "        df.loc[index, 'level2_diag1'] = 14\n",
    "    elif (row['level2_diag1'] >= 800 and row['level2_diag1'] < 1000):\n",
    "        df.loc[index, 'level2_diag1'] = 15\n",
    "    elif (row['level2_diag1'] >= 710 and row['level2_diag1'] < 740):\n",
    "        df.loc[index, 'level2_diag1'] = 16\n",
    "    elif (row['level2_diag1'] >= 580 and row['level2_diag1'] < 630):\n",
    "        df.loc[index, 'level2_diag1'] = 17\n",
    "    elif (np.floor(row['level2_diag1']) == 788):\n",
    "        df.loc[index, 'level2_diag1'] = 18\n",
    "    elif (row['level2_diag1'] >= 140 and row['level2_diag1'] < 240):\n",
    "        df.loc[index, 'level2_diag1'] = 19\n",
    "    elif row['level2_diag1'] >= 240 and row['level2_diag1'] < 280 and (np.floor(row['level2_diag1']) != 250):\n",
    "        df.loc[index, 'level2_diag1'] = 20\n",
    "    elif (row['level2_diag1'] >= 680 and row['level2_diag1'] < 710) or (np.floor(row['level2_diag1']) == 782):\n",
    "        df.loc[index, 'level2_diag1'] = 21\n",
    "    elif (row['level2_diag1'] >= 290 and row['level2_diag1'] < 320):\n",
    "        df.loc[index, 'level2_diag1'] = 22\n",
    "    else:\n",
    "        df.loc[index, 'level2_diag1'] = 0\n",
    "        \n",
    "    if (row['level2_diag2'] >= 390 and row['level2_diag2'] < 399):\n",
    "        df.loc[index, 'level2_diag2'] = 1\n",
    "    elif (row['level2_diag2'] >= 401 and row['level2_diag2'] < 415):\n",
    "        df.loc[index, 'level2_diag2'] = 2\n",
    "    elif (row['level2_diag2'] >= 415 and row['level2_diag2'] < 460):\n",
    "        df.loc[index, 'level2_diag2'] = 3\n",
    "    elif (np.floor(row['level2_diag2']) == 785):\n",
    "        df.loc[index, 'level2_diag2'] = 4\n",
    "    elif (row['level2_diag2'] >= 460 and row['level2_diag2'] < 489):\n",
    "        df.loc[index, 'level2_diag2'] = 5\n",
    "    elif (row['level2_diag2'] >= 490 and row['level2_diag2'] < 497):\n",
    "        df.loc[index, 'level2_diag2'] = 6\n",
    "    elif (row['level2_diag2'] >= 500 and row['level2_diag2'] < 520):\n",
    "        df.loc[index, 'level2_diag2'] = 7\n",
    "    elif (np.floor(row['level2_diag2']) == 786):\n",
    "        df.loc[index, 'level2_diag2'] = 8\n",
    "    elif (row['level2_diag2'] >= 520 and row['level2_diag2'] < 530):\n",
    "        df.loc[index, 'level2_diag2'] = 9\n",
    "    elif (row['level2_diag2'] >= 530 and row['level2_diag2'] < 544):\n",
    "        df.loc[index, 'level2_diag2'] = 10\n",
    "    elif (row['level2_diag2'] >= 550 and row['level2_diag2'] < 554):\n",
    "        df.loc[index, 'level2_diag2'] = 11\n",
    "    elif (row['level2_diag2'] >= 555 and row['level2_diag2'] < 580):\n",
    "        df.loc[index, 'level2_diag2'] = 12\n",
    "    elif (np.floor(row['level2_diag2']) == 787):\n",
    "        df.loc[index, 'level2_diag2'] = 13\n",
    "    elif (np.floor(row['level2_diag2']) == 250):\n",
    "        df.loc[index, 'level2_diag2'] = 14\n",
    "    elif (row['level2_diag2'] >= 800 and row['level2_diag2'] < 1000):\n",
    "        df.loc[index, 'level2_diag2'] = 15\n",
    "    elif (row['level2_diag2'] >= 710 and row['level2_diag2'] < 740):\n",
    "        df.loc[index, 'level2_diag2'] = 16\n",
    "    elif (row['level2_diag2'] >= 580 and row['level2_diag2'] < 630):\n",
    "        df.loc[index, 'level2_diag2'] = 17\n",
    "    elif (np.floor(row['level2_diag2']) == 788):\n",
    "        df.loc[index, 'level2_diag2'] = 18\n",
    "    elif (row['level2_diag2'] >= 140 and row['level2_diag2'] < 240):\n",
    "        df.loc[index, 'level2_diag2'] = 19\n",
    "    elif row['level2_diag2'] >= 240 and row['level2_diag2'] < 280 and (np.floor(row['level2_diag2']) != 250):\n",
    "        df.loc[index, 'level2_diag2'] = 20\n",
    "    elif (row['level2_diag2'] >= 680 and row['level2_diag2'] < 710) or (np.floor(row['level2_diag2']) == 782):\n",
    "        df.loc[index, 'level2_diag2'] = 21\n",
    "    elif (row['level2_diag2'] >= 290 and row['level2_diag2'] < 320):\n",
    "        df.loc[index, 'level2_diag2'] = 22\n",
    "    else:\n",
    "        df.loc[index, 'level2_diag2'] = 0\n",
    "        \n",
    "        \n",
    "    if (row['level2_diag3'] >= 390 and row['level2_diag3'] < 399):\n",
    "        df.loc[index, 'level2_diag3'] = 1\n",
    "    elif (row['level2_diag3'] >= 401 and row['level2_diag3'] < 415):\n",
    "        df.loc[index, 'level2_diag3'] = 2\n",
    "    elif (row['level2_diag3'] >= 415 and row['level2_diag3'] < 460):\n",
    "        df.loc[index, 'level2_diag3'] = 3\n",
    "    elif (np.floor(row['level2_diag3']) == 785):\n",
    "        df.loc[index, 'level2_diag3'] = 4\n",
    "    elif (row['level2_diag3'] >= 460 and row['level2_diag3'] < 489):\n",
    "        df.loc[index, 'level2_diag3'] = 5\n",
    "    elif (row['level2_diag3'] >= 490 and row['level2_diag3'] < 497):\n",
    "        df.loc[index, 'level2_diag3'] = 6\n",
    "    elif (row['level2_diag3'] >= 500 and row['level2_diag3'] < 520):\n",
    "        df.loc[index, 'level2_diag3'] = 7\n",
    "    elif (np.floor(row['level2_diag3']) == 786):\n",
    "        df.loc[index, 'level2_diag3'] = 8\n",
    "    elif (row['level2_diag3'] >= 520 and row['level2_diag3'] < 530):\n",
    "        df.loc[index, 'level2_diag3'] = 9\n",
    "    elif (row['level2_diag3'] >= 530 and row['level2_diag3'] < 544):\n",
    "        df.loc[index, 'level2_diag3'] = 10\n",
    "    elif (row['level2_diag3'] >= 550 and row['level2_diag3'] < 554):\n",
    "        df.loc[index, 'level2_diag3'] = 11\n",
    "    elif (row['level2_diag3'] >= 555 and row['level2_diag3'] < 580):\n",
    "        df.loc[index, 'level2_diag3'] = 12\n",
    "    elif (np.floor(row['level2_diag3']) == 787):\n",
    "        df.loc[index, 'level2_diag3'] = 13\n",
    "    elif (np.floor(row['level2_diag3']) == 250):\n",
    "        df.loc[index, 'level2_diag3'] = 14\n",
    "    elif (row['level2_diag3'] >= 800 and row['level2_diag3'] < 1000):\n",
    "        df.loc[index, 'level2_diag3'] = 15\n",
    "    elif (row['level2_diag3'] >= 710 and row['level2_diag3'] < 740):\n",
    "        df.loc[index, 'level2_diag3'] = 16\n",
    "    elif (row['level2_diag3'] >= 580 and row['level2_diag3'] < 630):\n",
    "        df.loc[index, 'level2_diag3'] = 17\n",
    "    elif (np.floor(row['level2_diag3']) == 788):\n",
    "        df.loc[index, 'level2_diag3'] = 18\n",
    "    elif (row['level2_diag3'] >= 140 and row['level2_diag3'] < 240):\n",
    "        df.loc[index, 'level2_diag3'] = 19\n",
    "    elif row['level2_diag3'] >= 240 and row['level2_diag3'] < 280 and (np.floor(row['level2_diag3']) != 250):\n",
    "        df.loc[index, 'level2_diag3'] = 20\n",
    "    elif (row['level2_diag3'] >= 680 and row['level2_diag3'] < 710) or (np.floor(row['level2_diag3']) == 782):\n",
    "        df.loc[index, 'level2_diag3'] = 21\n",
    "    elif (row['level2_diag3'] >= 290 and row['level2_diag3'] < 320):\n",
    "        df.loc[index, 'level2_diag3'] = 22\n",
    "    else:\n",
    "        df.loc[index, 'level2_diag3'] = 0"
   ]
  },
  {
   "cell_type": "markdown",
   "id": "572c6e2a",
   "metadata": {},
   "source": [
    "# Data Visualization"
   ]
  },
  {
   "cell_type": "code",
   "execution_count": 39,
   "id": "65665d0c",
   "metadata": {},
   "outputs": [],
   "source": [
    "#Our target variable is imbalance. \n",
    "#Number of readmitted patient are quite less as compared to Not readmitted"
   ]
  },
  {
   "cell_type": "code",
   "execution_count": 40,
   "id": "9369f3b3",
   "metadata": {},
   "outputs": [
    {
     "data": {
      "text/plain": [
       "Text(0.5, 1.0, 'Distrinution of Readmission')"
      ]
     },
     "execution_count": 40,
     "metadata": {},
     "output_type": "execute_result"
    },
    {
     "data": {
      "image/png": "[encoded data removed]",
      "text/plain": [
       "<Figure size 432x288 with 1 Axes>"
      ]
     },
     "metadata": {
      "needs_background": "light"
     },
     "output_type": "display_data"
    }
   ],
   "source": [
    "import seaborn as sns\n",
    "# Distribution of Readmission \n",
    "sns.countplot(df['readmitted']).set_title('Distrinution of Readmission')"
   ]
  },
  {
   "cell_type": "code",
   "execution_count": 41,
   "id": "ce8a9bde",
   "metadata": {},
   "outputs": [],
   "source": [
    "###Time in Hospital and Readmission"
   ]
  },
  {
   "cell_type": "code",
   "execution_count": 42,
   "id": "902b230b",
   "metadata": {},
   "outputs": [
    {
     "data": {
      "text/plain": [
       "Text(0.5, 1.0, 'Time in Hospital VS. Readmission')"
      ]
     },
     "execution_count": 42,
     "metadata": {},
     "output_type": "execute_result"
    },
    {
     "data": {
      "image/png": "[encoded data removed]",
      "text/plain": [
       "<Figure size 936x504 with 1 Axes>"
      ]
     },
     "metadata": {
      "needs_background": "light"
     },
     "output_type": "display_data"
    }
   ],
   "source": [
    "fig = plt.figure(figsize=(13,7),)\n",
    "ax=sns.kdeplot(df.loc[(df['readmitted'] == 0),'time_in_hospital'] , color='b',shade=True,label='Not Readmitted')\n",
    "ax=sns.kdeplot(df.loc[(df['readmitted'] == 1),'time_in_hospital'] , color='r',shade=True, label='Readmitted')\n",
    "ax.set(xlabel='Time in Hospital', ylabel='Frequency')\n",
    "plt.title('Time in Hospital VS. Readmission')"
   ]
  },
  {
   "cell_type": "code",
   "execution_count": 43,
   "id": "6d4c08c0",
   "metadata": {},
   "outputs": [],
   "source": [
    "###Age and Readmission"
   ]
  },
  {
   "cell_type": "code",
   "execution_count": 44,
   "id": "ebeb0f9c",
   "metadata": {},
   "outputs": [
    {
     "data": {
      "text/plain": [
       "Text(0.5, 1.0, 'Age of Patient VS. Readmission')"
      ]
     },
     "execution_count": 44,
     "metadata": {},
     "output_type": "execute_result"
    },
    {
     "data": {
      "image/png": "[encoded data removed]",
      "text/plain": [
       "<Figure size 1080x720 with 1 Axes>"
      ]
     },
     "metadata": {
      "needs_background": "light"
     },
     "output_type": "display_data"
    }
   ],
   "source": [
    "fig = plt.figure(figsize=(15,10))\n",
    "sns.countplot(y= df['age'], hue = df['readmitted']).set_title('Age of Patient VS. Readmission')"
   ]
  },
  {
   "cell_type": "code",
   "execution_count": 45,
   "id": "26444f8e",
   "metadata": {},
   "outputs": [],
   "source": [
    "#Ethnicity of patient and Readmission"
   ]
  },
  {
   "cell_type": "code",
   "execution_count": 46,
   "id": "cbe38a5a",
   "metadata": {},
   "outputs": [
    {
     "data": {
      "text/plain": [
       "<AxesSubplot:xlabel='count', ylabel='race'>"
      ]
     },
     "execution_count": 46,
     "metadata": {},
     "output_type": "execute_result"
    },
    {
     "data": {
      "image/png": "[encoded data removed]",
      "text/plain": [
       "<Figure size 576x576 with 1 Axes>"
      ]
     },
     "metadata": {
      "needs_background": "light"
     },
     "output_type": "display_data"
    }
   ],
   "source": [
    "fig = plt.figure(figsize=(8,8))\n",
    "sns.countplot(y = df['race'], hue = df['readmitted'])"
   ]
  },
  {
   "cell_type": "code",
   "execution_count": 47,
   "id": "5723cc35",
   "metadata": {},
   "outputs": [],
   "source": [
    "##Number of medication used and Readmission"
   ]
  },
  {
   "cell_type": "code",
   "execution_count": 48,
   "id": "664ad8d5",
   "metadata": {},
   "outputs": [
    {
     "data": {
      "text/plain": [
       "Text(0.5, 1.0, 'Number of medication used VS. Readmission')"
      ]
     },
     "execution_count": 48,
     "metadata": {},
     "output_type": "execute_result"
    },
    {
     "data": {
      "image/png": "[encoded data removed]",
      "text/plain": [
       "<Figure size 576x576 with 1 Axes>"
      ]
     },
     "metadata": {
      "needs_background": "light"
     },
     "output_type": "display_data"
    }
   ],
   "source": [
    "fig = plt.figure(figsize=(8,8))\n",
    "sns.barplot(x = df['readmitted'], y = df['num_medications']).set_title(\"Number of medication used VS. Readmission\")"
   ]
  },
  {
   "cell_type": "code",
   "execution_count": 49,
   "id": "d02f8d5e",
   "metadata": {},
   "outputs": [],
   "source": [
    "#Gender and Readmission\n",
    "#Male = 1\n",
    "#Female = 0"
   ]
  },
  {
   "cell_type": "code",
   "execution_count": 50,
   "id": "82f9b3cc",
   "metadata": {},
   "outputs": [
    {
     "data": {
      "text/plain": [
       "Text(0.5, 1.0, 'Gender of Patient VS. Readmission')"
      ]
     },
     "execution_count": 50,
     "metadata": {},
     "output_type": "execute_result"
    },
    {
     "data": {
      "image/png": "[encoded data removed]",
      "text/plain": [
       "<Figure size 576x576 with 1 Axes>"
      ]
     },
     "metadata": {
      "needs_background": "light"
     },
     "output_type": "display_data"
    }
   ],
   "source": [
    "fig = plt.figure(figsize=(8,8))\n",
    "sns.countplot(df['gender'], hue = df['readmitted']).set_title(\"Gender of Patient VS. Readmission\")"
   ]
  },
  {
   "cell_type": "code",
   "execution_count": 51,
   "id": "4a233496",
   "metadata": {},
   "outputs": [],
   "source": [
    "#Change of Medication and Readmission\n",
    "#Change = 1\n",
    "#No Change = 0"
   ]
  },
  {
   "cell_type": "code",
   "execution_count": 52,
   "id": "bdbbfeb4",
   "metadata": {},
   "outputs": [
    {
     "data": {
      "text/plain": [
       "Text(0.5, 1.0, 'Change of Medication VS. Readmission')"
      ]
     },
     "execution_count": 52,
     "metadata": {},
     "output_type": "execute_result"
    },
    {
     "data": {
      "image/png": "[encoded data removed]",
      "text/plain": [
       "<Figure size 576x576 with 1 Axes>"
      ]
     },
     "metadata": {
      "needs_background": "light"
     },
     "output_type": "display_data"
    }
   ],
   "source": [
    "fig = plt.figure(figsize=(8,8))\n",
    "sns.countplot(df['change'], hue = df['readmitted']).set_title('Change of Medication VS. Readmission')"
   ]
  },
  {
   "cell_type": "code",
   "execution_count": 53,
   "id": "35457f8b",
   "metadata": {},
   "outputs": [],
   "source": [
    "#Diabetes Medication prescribed and Readmission\n",
    "#Diabetes Medication - medications Nominal Indicates if there was any diabetic medication prescribed.\n",
    "#Values: “yes” : 1 “no” : 0"
   ]
  },
  {
   "cell_type": "code",
   "execution_count": 54,
   "id": "7419d510",
   "metadata": {},
   "outputs": [
    {
     "data": {
      "text/plain": [
       "Text(0.5, 1.0, 'Diabetes Medication prescribed VS Readmission')"
      ]
     },
     "execution_count": 54,
     "metadata": {},
     "output_type": "execute_result"
    },
    {
     "data": {
      "image/png": "[encoded data removed]",
      "text/plain": [
       "<Figure size 576x576 with 1 Axes>"
      ]
     },
     "metadata": {
      "needs_background": "light"
     },
     "output_type": "display_data"
    }
   ],
   "source": [
    "fig = plt.figure(figsize=(8,8))\n",
    "sns.countplot(df['diabetesMed'], hue = df['readmitted']).set_title('Diabetes Medication prescribed VS Readmission')"
   ]
  },
  {
   "cell_type": "code",
   "execution_count": 55,
   "id": "7dcee6d1",
   "metadata": {},
   "outputs": [],
   "source": [
    "#Service Utilization and Readmission"
   ]
  },
  {
   "cell_type": "code",
   "execution_count": 56,
   "id": "6f2ee988",
   "metadata": {},
   "outputs": [
    {
     "data": {
      "text/plain": [
       "Text(0.5, 1.0, 'Service Utilization VS. Readmission')"
      ]
     },
     "execution_count": 56,
     "metadata": {},
     "output_type": "execute_result"
    },
    {
     "data": {
      "image/png": "[encoded data removed]",
      "text/plain": [
       "<Figure size 576x576 with 1 Axes>"
      ]
     },
     "metadata": {
      "needs_background": "light"
     },
     "output_type": "display_data"
    }
   ],
   "source": [
    "fig = plt.figure(figsize=(8,8))\n",
    "sns.barplot( y = df['service_utilization'], x = df['readmitted']).set_title('Service Utilization VS. Readmission')"
   ]
  },
  {
   "cell_type": "code",
   "execution_count": 57,
   "id": "043ab70b",
   "metadata": {},
   "outputs": [],
   "source": [
    "#Glucose serum test result and Readmission"
   ]
  },
  {
   "cell_type": "code",
   "execution_count": 58,
   "id": "0c1b4119",
   "metadata": {},
   "outputs": [],
   "source": [
    "##Glucose Serum test - A blood glucose test is used to find out if your blood sugar levels are in the healthy range. It is often used to help diagnose and monitor diabetes.\n",
    "\n",
    "#'>200' : 1 = indicates diabetes\n",
    "#'>300' : 1 = Indicates diabetes\n",
    "#'Norm' : 0 = Normal\n",
    "#'None' : -99 = test was not taken"
   ]
  },
  {
   "cell_type": "code",
   "execution_count": 59,
   "id": "d3dfaa7b",
   "metadata": {},
   "outputs": [
    {
     "data": {
      "text/plain": [
       "Text(0.5, 1.0, 'Glucose test serum test result VS. Readmission')"
      ]
     },
     "execution_count": 59,
     "metadata": {},
     "output_type": "execute_result"
    },
    {
     "data": {
      "image/png": "[encoded data removed]",
      "text/plain": [
       "<Figure size 576x576 with 1 Axes>"
      ]
     },
     "metadata": {
      "needs_background": "light"
     },
     "output_type": "display_data"
    }
   ],
   "source": [
    "fig = plt.figure(figsize=(8,8))\n",
    "sns.countplot(y = df['max_glu_serum'], hue = df['readmitted']).set_title('Glucose test serum test result VS. Readmission')"
   ]
  },
  {
   "cell_type": "code",
   "execution_count": 60,
   "id": "775a04a5",
   "metadata": {},
   "outputs": [],
   "source": [
    "##A1C result and Readmission A1C test - The A1C test is a blood test that provides information about your average levels of blood glucose, also called blood sugar, over the past 3 months.\n",
    "\n",
    "#'>7' : 1\n",
    "#'>8' : 1\n",
    "#Norm : 0 = Normal\n",
    "#None : -99 = Test was not taken"
   ]
  },
  {
   "cell_type": "code",
   "execution_count": 61,
   "id": "f2ff28e2",
   "metadata": {},
   "outputs": [
    {
     "data": {
      "text/plain": [
       "Text(0.5, 1.0, 'A1C test result VS. Readmission')"
      ]
     },
     "execution_count": 61,
     "metadata": {},
     "output_type": "execute_result"
    },
    {
     "data": {
      "image/png": "[encoded data removed]",
      "text/plain": [
       "<Figure size 576x576 with 1 Axes>"
      ]
     },
     "metadata": {
      "needs_background": "light"
     },
     "output_type": "display_data"
    }
   ],
   "source": [
    "fig = plt.figure(figsize=(8,8))\n",
    "sns.countplot(y= df['A1Cresult'], hue = df['readmitted']).set_title('A1C test result VS. Readmission')"
   ]
  },
  {
   "cell_type": "code",
   "execution_count": 62,
   "id": "e8ba001d",
   "metadata": {},
   "outputs": [],
   "source": [
    "##Number of lab procedure and Readmission"
   ]
  },
  {
   "cell_type": "code",
   "execution_count": 63,
   "id": "573cdbae",
   "metadata": {},
   "outputs": [
    {
     "data": {
      "text/plain": [
       "Text(0.5, 1.0, 'Number of lab procedure VS. Readmission')"
      ]
     },
     "execution_count": 63,
     "metadata": {},
     "output_type": "execute_result"
    },
    {
     "data": {
      "image/png": "[encoded data removed]",
      "text/plain": [
       "<Figure size 1080x432 with 1 Axes>"
      ]
     },
     "metadata": {
      "needs_background": "light"
     },
     "output_type": "display_data"
    }
   ],
   "source": [
    "fig = plt.figure(figsize=(15,6),)\n",
    "ax=sns.kdeplot(df.loc[(df['readmitted'] == 0),'num_lab_procedures'] , color='b',shade=True,label='Not readmitted')\n",
    "ax=sns.kdeplot(df.loc[(df['readmitted'] == 1),'num_lab_procedures'] , color='r',shade=True, label='readmitted')\n",
    "ax.set(xlabel='Number of lab procedure', ylabel='Frequency')\n",
    "plt.title('Number of lab procedure VS. Readmission')"
   ]
  },
  {
   "cell_type": "markdown",
   "id": "8491823b",
   "metadata": {},
   "source": [
    "# Pre-Modeling Data Preprocessing"
   ]
  },
  {
   "cell_type": "code",
   "execution_count": 64,
   "id": "7a6f2e1c",
   "metadata": {},
   "outputs": [
    {
     "name": "stdout",
     "output_type": "stream",
     "text": [
      "8     4987\n",
      "7     4365\n",
      "6     3244\n",
      "9     3192\n",
      "5     1854\n",
      "4      718\n",
      "10     521\n",
      "3      296\n",
      "2       95\n",
      "1       13\n",
      "Name: age, dtype: int64\n",
      "75    4987\n",
      "65    4365\n",
      "55    3244\n",
      "85    3192\n",
      "45    1854\n",
      "35     718\n",
      "95     521\n",
      "25     296\n",
      "15      95\n",
      "5       13\n",
      "Name: age, dtype: int64\n"
     ]
    }
   ],
   "source": [
    "df['age'] = df['age'].astype('int64')\n",
    "print(df.age.value_counts())\n",
    "# convert age categories to mid-point values\n",
    "age_dict = {1:5, 2:15, 3:25, 4:35, 5:45, 6:55, 7:65, 8:75, 9:85, 10:95}\n",
    "df['age'] = df.age.map(age_dict)\n",
    "print(df.age.value_counts())"
   ]
  },
  {
   "cell_type": "code",
   "execution_count": 65,
   "id": "847c6cdc",
   "metadata": {},
   "outputs": [],
   "source": [
    "# convert data type of nominal features in dataframe to 'object' type\n",
    "\n",
    "i=['admission_source_id','encounter_id','patient_nbr','gender','discharge_disposition_id','admission_type_id','age','A1Cresult','metformin','repaglinide','nateglinide','chlorpropamide','glimepiride','acetohexamide','glipizide','glyburide','tolbutamide','pioglitazone','rosiglitazone','acarbose','miglitol','troglitazone','tolazamide','insulin','glyburide-metformin','glipizide-metformin','glimepiride-pioglitazone','metformin-rosiglitazone','metformin-pioglitazone','change','diabetesMed','max_glu_serum','level1_diag1','level1_diag2','level1_diag3','level2_diag1','level2_diag2','level2_diag3']\n",
    "df[i] = df[i].astype(object)"
   ]
  },
  {
   "cell_type": "code",
   "execution_count": 66,
   "id": "34f765ab",
   "metadata": {},
   "outputs": [],
   "source": [
    "df['encounter_id']=df['encounter_id'].astype(object)"
   ]
  },
  {
   "cell_type": "code",
   "execution_count": 67,
   "id": "06313aa4",
   "metadata": {},
   "outputs": [],
   "source": [
    "df['patient_nbr']=df['patient_nbr'].astype(object)"
   ]
  },
  {
   "cell_type": "code",
   "execution_count": 68,
   "id": "d43877d2",
   "metadata": {},
   "outputs": [],
   "source": [
    "df['gender']=df['gender'].astype(object)"
   ]
  },
  {
   "cell_type": "code",
   "execution_count": 69,
   "id": "7926ccb2",
   "metadata": {},
   "outputs": [],
   "source": [
    "df['admission_type_id']=df['admission_type_id'].astype(object)"
   ]
  },
  {
   "cell_type": "code",
   "execution_count": 70,
   "id": "78e2888f",
   "metadata": {},
   "outputs": [],
   "source": [
    "df['discharge_disposition_id']=df['discharge_disposition_id'].astype(object)"
   ]
  },
  {
   "cell_type": "code",
   "execution_count": 71,
   "id": "071e32db",
   "metadata": {},
   "outputs": [],
   "source": [
    "df['admission_source_id']=df['admission_source_id'].astype(object)"
   ]
  },
  {
   "cell_type": "code",
   "execution_count": 72,
   "id": "d1969368",
   "metadata": {},
   "outputs": [
    {
     "data": {
      "text/plain": [
       "encounter_id                object\n",
       "patient_nbr                 object\n",
       "race                        object\n",
       "gender                      object\n",
       "age                         object\n",
       "admission_type_id           object\n",
       "discharge_disposition_id    object\n",
       "admission_source_id         object\n",
       "time_in_hospital             int64\n",
       "num_lab_procedures           int64\n",
       "num_procedures               int64\n",
       "num_medications              int64\n",
       "number_outpatient            int64\n",
       "number_emergency             int64\n",
       "number_inpatient             int64\n",
       "diag_1                      object\n",
       "diag_2                      object\n",
       "diag_3                      object\n",
       "number_diagnoses             int64\n",
       "max_glu_serum               object\n",
       "A1Cresult                   object\n",
       "metformin                   object\n",
       "repaglinide                 object\n",
       "nateglinide                 object\n",
       "chlorpropamide              object\n",
       "glimepiride                 object\n",
       "acetohexamide               object\n",
       "glipizide                   object\n",
       "glyburide                   object\n",
       "tolbutamide                 object\n",
       "pioglitazone                object\n",
       "rosiglitazone               object\n",
       "acarbose                    object\n",
       "miglitol                    object\n",
       "troglitazone                object\n",
       "tolazamide                  object\n",
       "insulin                     object\n",
       "glyburide-metformin         object\n",
       "glipizide-metformin         object\n",
       "glimepiride-pioglitazone    object\n",
       "metformin-rosiglitazone     object\n",
       "metformin-pioglitazone      object\n",
       "change                      object\n",
       "diabetesMed                 object\n",
       "readmitted                   int64\n",
       "service_utilization          int64\n",
       "numchange                    int64\n",
       "level1_diag1                object\n",
       "level2_diag1                object\n",
       "level1_diag2                object\n",
       "level2_diag2                object\n",
       "level1_diag3                object\n",
       "level2_diag3                object\n",
       "dtype: object"
      ]
     },
     "execution_count": 72,
     "metadata": {},
     "output_type": "execute_result"
    }
   ],
   "source": [
    "df.dtypes"
   ]
  },
  {
   "cell_type": "code",
   "execution_count": 73,
   "id": "5e2ce3ae",
   "metadata": {},
   "outputs": [],
   "source": [
    "#Number of medication used: \n",
    "#Another possibly related factor could be the total number of medications used by the patient\n",
    "#(which may indicate severity of their condition and/or the intensity of care). \n",
    "#So we created another feature by counting the medications used during the encounter\n",
    "#(keys variable in code below is continued from above):"
   ]
  },
  {
   "cell_type": "code",
   "execution_count": 74,
   "id": "ff2ecab5",
   "metadata": {},
   "outputs": [
    {
     "data": {
      "text/plain": [
       "1    8891\n",
       "0    4412\n",
       "2    4248\n",
       "3    1483\n",
       "4     236\n",
       "5      13\n",
       "6       2\n",
       "Name: nummed, dtype: int64"
      ]
     },
     "execution_count": 74,
     "metadata": {},
     "output_type": "execute_result"
    }
   ],
   "source": [
    "df['nummed'] = 0\n",
    "\n",
    "for col in keys:\n",
    "    df['nummed'] = df['nummed'] + df[col]\n",
    "df['nummed'].value_counts()"
   ]
  },
  {
   "cell_type": "code",
   "execution_count": 75,
   "id": "14ff91c9",
   "metadata": {},
   "outputs": [
    {
     "data": {
      "text/plain": [
       "['number_inpatient',\n",
       " 'num_lab_procedures',\n",
       " 'num_medications',\n",
       " 'time_in_hospital',\n",
       " 'num_procedures',\n",
       " 'number_diagnoses',\n",
       " 'service_utilization',\n",
       " 'numchange',\n",
       " 'number_emergency',\n",
       " 'number_outpatient']"
      ]
     },
     "execution_count": 75,
     "metadata": {},
     "output_type": "execute_result"
    }
   ],
   "source": [
    "# get list of only numeric features\n",
    "num_col = list(set(list(df._get_numeric_data().columns))- {'readmitted'})\n",
    "num_col"
   ]
  },
  {
   "cell_type": "code",
   "execution_count": 76,
   "id": "5d586239",
   "metadata": {},
   "outputs": [
    {
     "name": "stdout",
     "output_type": "stream",
     "text": [
      "Requirement already satisfied: imbalanced-learn in c:\\users\\dh1181tu\\anaconda3\\lib\\site-packages (0.9.0)\n",
      "Requirement already satisfied: threadpoolctl>=2.0.0 in c:\\users\\dh1181tu\\anaconda3\\lib\\site-packages (from imbalanced-learn) (2.1.0)\n",
      "Requirement already satisfied: joblib>=0.11 in c:\\users\\dh1181tu\\anaconda3\\lib\\site-packages (from imbalanced-learn) (1.0.1)\n",
      "Requirement already satisfied: numpy>=1.14.6 in c:\\users\\dh1181tu\\anaconda3\\lib\\site-packages (from imbalanced-learn) (1.19.5)\n",
      "Requirement already satisfied: scipy>=1.1.0 in c:\\users\\dh1181tu\\anaconda3\\lib\\site-packages (from imbalanced-learn) (1.6.2)\n",
      "Requirement already satisfied: scikit-learn>=1.0.1 in c:\\users\\dh1181tu\\anaconda3\\lib\\site-packages (from imbalanced-learn) (1.0.2)\n"
     ]
    }
   ],
   "source": [
    "! pip install -U imbalanced-learn"
   ]
  },
  {
   "cell_type": "code",
   "execution_count": 77,
   "id": "24aaef47",
   "metadata": {},
   "outputs": [],
   "source": [
    "# Removing skewnewss and kurtosis using log transformation if it is above a threshold value -  2\n",
    "\n",
    "statdataframe = pd.DataFrame()\n",
    "statdataframe['numeric_column'] = num_col\n",
    "skew_before = []\n",
    "skew_after = []\n",
    "\n",
    "kurt_before = []\n",
    "kurt_after = []\n",
    "\n",
    "standard_deviation_before = []\n",
    "standard_deviation_after = []\n",
    "\n",
    "log_transform_needed = []\n",
    "\n",
    "log_type = []\n",
    "\n",
    "for i in num_col:\n",
    "    skewval = df[i].skew()\n",
    "    skew_before.append(skewval)\n",
    "    \n",
    "    kurtval = df[i].kurtosis()\n",
    "    kurt_before.append(kurtval)\n",
    "    \n",
    "    sdval = df[i].std()\n",
    "    standard_deviation_before.append(sdval)\n",
    "    \n",
    "    if (abs(skewval) >2) & (abs(kurtval) >2):\n",
    "        log_transform_needed.append('Yes')\n",
    "        \n",
    "        if len(df[df[i] == 0])/len(df) <=0.02:\n",
    "            log_type.append('log')\n",
    "            skewvalnew = np.log(pd.DataFrame(df[train_data[i] > 0])[i]).skew()\n",
    "            skew_after.append(skewvalnew)\n",
    "            \n",
    "            kurtvalnew = np.log(pd.DataFrame(df[train_data[i] > 0])[i]).kurtosis()\n",
    "            kurt_after.append(kurtvalnew)\n",
    "            \n",
    "            sdvalnew = np.log(pd.DataFrame(df[train_data[i] > 0])[i]).std()\n",
    "            standard_deviation_after.append(sdvalnew)\n",
    "            \n",
    "        else:\n",
    "            log_type.append('log1p')\n",
    "            skewvalnew = np.log1p(pd.DataFrame(df[df[i] >= 0])[i]).skew()\n",
    "            skew_after.append(skewvalnew)\n",
    "        \n",
    "            kurtvalnew = np.log1p(pd.DataFrame(df[df[i] >= 0])[i]).kurtosis()\n",
    "            kurt_after.append(kurtvalnew)\n",
    "            \n",
    "            sdvalnew = np.log1p(pd.DataFrame(df[df[i] >= 0])[i]).std()\n",
    "            standard_deviation_after.append(sdvalnew)\n",
    "            \n",
    "    else:\n",
    "        log_type.append('NA')\n",
    "        log_transform_needed.append('No')\n",
    "        \n",
    "        skew_after.append(skewval)\n",
    "        kurt_after.append(kurtval)\n",
    "        standard_deviation_after.append(sdval)\n",
    "\n",
    "statdataframe['skew_before'] = skew_before\n",
    "statdataframe['kurtosis_before'] = kurt_before\n",
    "statdataframe['standard_deviation_before'] = standard_deviation_before\n",
    "statdataframe['log_transform_needed'] = log_transform_needed\n",
    "statdataframe['log_type'] = log_type\n",
    "statdataframe['skew_after'] = skew_after\n",
    "statdataframe['kurtosis_after'] = kurt_after\n",
    "statdataframe['standard_deviation_after'] = standard_deviation_after"
   ]
  },
  {
   "cell_type": "code",
   "execution_count": 78,
   "id": "58269ecf",
   "metadata": {},
   "outputs": [
    {
     "data": {
      "text/html": [
       "<div>\n",
       "<style scoped>\n",
       "    .dataframe tbody tr th:only-of-type {\n",
       "        vertical-align: middle;\n",
       "    }\n",
       "\n",
       "    .dataframe tbody tr th {\n",
       "        vertical-align: top;\n",
       "    }\n",
       "\n",
       "    .dataframe thead th {\n",
       "        text-align: right;\n",
       "    }\n",
       "</style>\n",
       "<table border=\"1\" class=\"dataframe\">\n",
       "  <thead>\n",
       "    <tr style=\"text-align: right;\">\n",
       "      <th></th>\n",
       "      <th>numeric_column</th>\n",
       "      <th>skew_before</th>\n",
       "      <th>kurtosis_before</th>\n",
       "      <th>standard_deviation_before</th>\n",
       "      <th>log_transform_needed</th>\n",
       "      <th>log_type</th>\n",
       "      <th>skew_after</th>\n",
       "      <th>kurtosis_after</th>\n",
       "      <th>standard_deviation_after</th>\n",
       "    </tr>\n",
       "  </thead>\n",
       "  <tbody>\n",
       "    <tr>\n",
       "      <th>0</th>\n",
       "      <td>number_inpatient</td>\n",
       "      <td>3.584132</td>\n",
       "      <td>20.789885</td>\n",
       "      <td>1.261403</td>\n",
       "      <td>Yes</td>\n",
       "      <td>log1p</td>\n",
       "      <td>1.409196</td>\n",
       "      <td>1.280265</td>\n",
       "      <td>0.512017</td>\n",
       "    </tr>\n",
       "    <tr>\n",
       "      <th>1</th>\n",
       "      <td>num_lab_procedures</td>\n",
       "      <td>-0.236883</td>\n",
       "      <td>-0.266484</td>\n",
       "      <td>19.787432</td>\n",
       "      <td>No</td>\n",
       "      <td>NA</td>\n",
       "      <td>-0.236883</td>\n",
       "      <td>-0.266484</td>\n",
       "      <td>19.787432</td>\n",
       "    </tr>\n",
       "    <tr>\n",
       "      <th>2</th>\n",
       "      <td>num_medications</td>\n",
       "      <td>1.388447</td>\n",
       "      <td>3.795617</td>\n",
       "      <td>8.195629</td>\n",
       "      <td>No</td>\n",
       "      <td>NA</td>\n",
       "      <td>1.388447</td>\n",
       "      <td>3.795617</td>\n",
       "      <td>8.195629</td>\n",
       "    </tr>\n",
       "    <tr>\n",
       "      <th>3</th>\n",
       "      <td>time_in_hospital</td>\n",
       "      <td>1.135195</td>\n",
       "      <td>0.861420</td>\n",
       "      <td>2.984224</td>\n",
       "      <td>No</td>\n",
       "      <td>NA</td>\n",
       "      <td>1.135195</td>\n",
       "      <td>0.861420</td>\n",
       "      <td>2.984224</td>\n",
       "    </tr>\n",
       "    <tr>\n",
       "      <th>4</th>\n",
       "      <td>num_procedures</td>\n",
       "      <td>1.296773</td>\n",
       "      <td>0.809661</td>\n",
       "      <td>1.705324</td>\n",
       "      <td>No</td>\n",
       "      <td>NA</td>\n",
       "      <td>1.296773</td>\n",
       "      <td>0.809661</td>\n",
       "      <td>1.705324</td>\n",
       "    </tr>\n",
       "    <tr>\n",
       "      <th>5</th>\n",
       "      <td>number_diagnoses</td>\n",
       "      <td>-0.794941</td>\n",
       "      <td>-0.373569</td>\n",
       "      <td>1.831852</td>\n",
       "      <td>No</td>\n",
       "      <td>NA</td>\n",
       "      <td>-0.794941</td>\n",
       "      <td>-0.373569</td>\n",
       "      <td>1.831852</td>\n",
       "    </tr>\n",
       "    <tr>\n",
       "      <th>6</th>\n",
       "      <td>service_utilization</td>\n",
       "      <td>4.887264</td>\n",
       "      <td>54.038144</td>\n",
       "      <td>2.249028</td>\n",
       "      <td>Yes</td>\n",
       "      <td>log1p</td>\n",
       "      <td>1.073526</td>\n",
       "      <td>0.443986</td>\n",
       "      <td>0.660623</td>\n",
       "    </tr>\n",
       "    <tr>\n",
       "      <th>7</th>\n",
       "      <td>numchange</td>\n",
       "      <td>1.396041</td>\n",
       "      <td>1.227905</td>\n",
       "      <td>0.483527</td>\n",
       "      <td>No</td>\n",
       "      <td>NA</td>\n",
       "      <td>1.396041</td>\n",
       "      <td>1.227905</td>\n",
       "      <td>0.483527</td>\n",
       "    </tr>\n",
       "    <tr>\n",
       "      <th>8</th>\n",
       "      <td>number_emergency</td>\n",
       "      <td>18.712247</td>\n",
       "      <td>790.327280</td>\n",
       "      <td>0.898676</td>\n",
       "      <td>Yes</td>\n",
       "      <td>log1p</td>\n",
       "      <td>3.545351</td>\n",
       "      <td>15.185406</td>\n",
       "      <td>0.317518</td>\n",
       "    </tr>\n",
       "    <tr>\n",
       "      <th>9</th>\n",
       "      <td>number_outpatient</td>\n",
       "      <td>8.152296</td>\n",
       "      <td>134.845027</td>\n",
       "      <td>1.214127</td>\n",
       "      <td>Yes</td>\n",
       "      <td>log1p</td>\n",
       "      <td>2.660691</td>\n",
       "      <td>7.176531</td>\n",
       "      <td>0.429967</td>\n",
       "    </tr>\n",
       "  </tbody>\n",
       "</table>\n",
       "</div>"
      ],
      "text/plain": [
       "        numeric_column  skew_before  kurtosis_before  \\\n",
       "0     number_inpatient     3.584132        20.789885   \n",
       "1   num_lab_procedures    -0.236883        -0.266484   \n",
       "2      num_medications     1.388447         3.795617   \n",
       "3     time_in_hospital     1.135195         0.861420   \n",
       "4       num_procedures     1.296773         0.809661   \n",
       "5     number_diagnoses    -0.794941        -0.373569   \n",
       "6  service_utilization     4.887264        54.038144   \n",
       "7            numchange     1.396041         1.227905   \n",
       "8     number_emergency    18.712247       790.327280   \n",
       "9    number_outpatient     8.152296       134.845027   \n",
       "\n",
       "   standard_deviation_before log_transform_needed log_type  skew_after  \\\n",
       "0                   1.261403                  Yes    log1p    1.409196   \n",
       "1                  19.787432                   No       NA   -0.236883   \n",
       "2                   8.195629                   No       NA    1.388447   \n",
       "3                   2.984224                   No       NA    1.135195   \n",
       "4                   1.705324                   No       NA    1.296773   \n",
       "5                   1.831852                   No       NA   -0.794941   \n",
       "6                   2.249028                  Yes    log1p    1.073526   \n",
       "7                   0.483527                   No       NA    1.396041   \n",
       "8                   0.898676                  Yes    log1p    3.545351   \n",
       "9                   1.214127                  Yes    log1p    2.660691   \n",
       "\n",
       "   kurtosis_after  standard_deviation_after  \n",
       "0        1.280265                  0.512017  \n",
       "1       -0.266484                 19.787432  \n",
       "2        3.795617                  8.195629  \n",
       "3        0.861420                  2.984224  \n",
       "4        0.809661                  1.705324  \n",
       "5       -0.373569                  1.831852  \n",
       "6        0.443986                  0.660623  \n",
       "7        1.227905                  0.483527  \n",
       "8       15.185406                  0.317518  \n",
       "9        7.176531                  0.429967  "
      ]
     },
     "execution_count": 78,
     "metadata": {},
     "output_type": "execute_result"
    }
   ],
   "source": [
    "statdataframe"
   ]
  },
  {
   "cell_type": "code",
   "execution_count": 79,
   "id": "352ff4b1",
   "metadata": {},
   "outputs": [],
   "source": [
    "# performing the log transformation for the columns determined to be needing it above.\n",
    "\n",
    "for i in range(len(statdataframe)):\n",
    "    if statdataframe['log_transform_needed'][i] == 'Yes':\n",
    "        colname = str(statdataframe['numeric_column'][i])\n",
    "        \n",
    "        if statdataframe['log_type'][i] == 'log':\n",
    "            df = df[df[colname] > 0]\n",
    "            df[colname + \"_log\"] = np.log(df[colname])\n",
    "            \n",
    "        elif statdataframe['log_type'][i] == 'log1p':\n",
    "            df = df[df[colname] >= 0]\n",
    "            df[colname + \"_log1p\"] = np.log1p(df[colname])"
   ]
  },
  {
   "cell_type": "code",
   "execution_count": 80,
   "id": "03c328ea",
   "metadata": {},
   "outputs": [],
   "source": [
    "df = df.drop(['number_outpatient', 'number_inpatient', 'number_emergency','service_utilization'], axis = 1)"
   ]
  },
  {
   "cell_type": "code",
   "execution_count": 81,
   "id": "144f3600",
   "metadata": {},
   "outputs": [
    {
     "data": {
      "text/plain": [
       "(19285, 54)"
      ]
     },
     "execution_count": 81,
     "metadata": {},
     "output_type": "execute_result"
    }
   ],
   "source": [
    "df.shape"
   ]
  },
  {
   "cell_type": "code",
   "execution_count": 82,
   "id": "a83d5fcd",
   "metadata": {},
   "outputs": [
    {
     "data": {
      "text/plain": [
       "['num_lab_procedures',\n",
       " 'num_medications',\n",
       " 'time_in_hospital',\n",
       " 'number_inpatient_log1p',\n",
       " 'number_emergency_log1p',\n",
       " 'number_outpatient_log1p',\n",
       " 'number_diagnoses',\n",
       " 'num_procedures',\n",
       " 'numchange',\n",
       " 'service_utilization_log1p']"
      ]
     },
     "execution_count": 82,
     "metadata": {},
     "output_type": "execute_result"
    }
   ],
   "source": [
    "# get list of only numeric features\n",
    "numerics = list(set(list(df._get_numeric_data().columns))- {'readmitted'})\n",
    "numerics"
   ]
  },
  {
   "cell_type": "code",
   "execution_count": 83,
   "id": "95fc06fe",
   "metadata": {},
   "outputs": [
    {
     "data": {
      "text/plain": [
       "encounter_id                   int64\n",
       "patient_nbr                    int64\n",
       "race                          object\n",
       "gender                        object\n",
       "age                           object\n",
       "admission_type_id             object\n",
       "discharge_disposition_id      object\n",
       "admission_source_id           object\n",
       "time_in_hospital               int64\n",
       "num_lab_procedures             int64\n",
       "num_procedures                 int64\n",
       "num_medications                int64\n",
       "diag_1                        object\n",
       "diag_2                        object\n",
       "diag_3                        object\n",
       "number_diagnoses               int64\n",
       "max_glu_serum                 object\n",
       "A1Cresult                      int64\n",
       "metformin                      int64\n",
       "repaglinide                    int64\n",
       "nateglinide                    int64\n",
       "chlorpropamide                 int64\n",
       "glimepiride                    int64\n",
       "acetohexamide                  int64\n",
       "glipizide                      int64\n",
       "glyburide                      int64\n",
       "tolbutamide                    int64\n",
       "pioglitazone                   int64\n",
       "rosiglitazone                  int64\n",
       "acarbose                       int64\n",
       "miglitol                       int64\n",
       "troglitazone                   int64\n",
       "tolazamide                     int64\n",
       "insulin                        int64\n",
       "glyburide-metformin            int64\n",
       "glipizide-metformin            int64\n",
       "glimepiride-pioglitazone       int64\n",
       "metformin-rosiglitazone        int64\n",
       "metformin-pioglitazone         int64\n",
       "change                         int64\n",
       "diabetesMed                    int64\n",
       "readmitted                     int64\n",
       "numchange                      int64\n",
       "level1_diag1                  object\n",
       "level2_diag1                  object\n",
       "level1_diag2                  object\n",
       "level2_diag2                  object\n",
       "level1_diag3                  object\n",
       "level2_diag3                  object\n",
       "nummed                        object\n",
       "number_inpatient_log1p       float64\n",
       "service_utilization_log1p    float64\n",
       "number_emergency_log1p       float64\n",
       "number_outpatient_log1p      float64\n",
       "dtype: object"
      ]
     },
     "execution_count": 83,
     "metadata": {},
     "output_type": "execute_result"
    }
   ],
   "source": [
    "# show list of features that are categorical\n",
    "df.encounter_id = df.encounter_id.astype('int64')\n",
    "df.patient_nbr = df.patient_nbr.astype('int64')\n",
    "df.diabetesMed = df.diabetesMed.astype('int64')\n",
    "df.change = df.change.astype('int64')\n",
    "\n",
    "# convert data type of nominal features in dataframe to 'object' type for aggregating\n",
    "i = ['metformin', 'repaglinide', 'nateglinide', 'chlorpropamide', 'glimepiride', 'acetohexamide', \\\n",
    "          'glipizide', 'glyburide', 'tolbutamide', 'pioglitazone', 'rosiglitazone', 'acarbose','miglitol', \\\n",
    "          'troglitazone', 'tolazamide', 'insulin', 'glyburide-metformin', 'glipizide-metformin', \\\n",
    "          'glimepiride-pioglitazone', 'metformin-rosiglitazone', 'metformin-pioglitazone','A1Cresult']\n",
    "df[i] = df[i].astype('int64')\n",
    "\n",
    "df.dtypes"
   ]
  },
  {
   "cell_type": "code",
   "execution_count": 84,
   "id": "71bfbccc",
   "metadata": {},
   "outputs": [],
   "source": [
    "dfcopy = df.copy(deep = True)"
   ]
  },
  {
   "cell_type": "code",
   "execution_count": 85,
   "id": "e2197b88",
   "metadata": {},
   "outputs": [],
   "source": [
    "df['readmitted'] = df['readmitted'].apply(lambda x: 0 if x == 2 else x)"
   ]
  },
  {
   "cell_type": "code",
   "execution_count": 86,
   "id": "5ba211ea",
   "metadata": {},
   "outputs": [],
   "source": [
    "# drop individual diagnosis columns that have too granular disease information\n",
    "# also drop level 2 categorization (which was not comparable with any reference)\n",
    "# also drop level 1 secondary and tertiary diagnoses\n",
    "df.drop(['diag_1', 'diag_2', 'diag_3', 'level2_diag1', 'level1_diag2', 'level2_diag2', 'level1_diag3',\n",
    "         'level2_diag3'], axis=1, inplace=True)"
   ]
  },
  {
   "cell_type": "code",
   "execution_count": 87,
   "id": "436b3fad",
   "metadata": {},
   "outputs": [],
   "source": [
    "interactionterms = [('num_medications','time_in_hospital'),\n",
    "('num_medications','num_procedures'),\n",
    "('time_in_hospital','num_lab_procedures'),\n",
    "('num_medications','num_lab_procedures'),\n",
    "('num_medications','number_diagnoses'),\n",
    "('age','number_diagnoses'),\n",
    "('change','num_medications'),\n",
    "('number_diagnoses','time_in_hospital'),\n",
    "('num_medications','numchange')]"
   ]
  },
  {
   "cell_type": "code",
   "execution_count": 88,
   "id": "8b2c574f",
   "metadata": {},
   "outputs": [],
   "source": [
    "for inter in interactionterms:\n",
    "    name = inter[0] + '|' + inter[1]\n",
    "    df[name] = df[inter[0]] * df[inter[1]]"
   ]
  },
  {
   "cell_type": "code",
   "execution_count": 89,
   "id": "2dd4daba",
   "metadata": {},
   "outputs": [
    {
     "data": {
      "text/html": [
       "<div>\n",
       "<style scoped>\n",
       "    .dataframe tbody tr th:only-of-type {\n",
       "        vertical-align: middle;\n",
       "    }\n",
       "\n",
       "    .dataframe tbody tr th {\n",
       "        vertical-align: top;\n",
       "    }\n",
       "\n",
       "    .dataframe thead th {\n",
       "        text-align: right;\n",
       "    }\n",
       "</style>\n",
       "<table border=\"1\" class=\"dataframe\">\n",
       "  <thead>\n",
       "    <tr style=\"text-align: right;\">\n",
       "      <th></th>\n",
       "      <th>num_medications</th>\n",
       "      <th>time_in_hospital</th>\n",
       "      <th>num_medications|time_in_hospital</th>\n",
       "    </tr>\n",
       "  </thead>\n",
       "  <tbody>\n",
       "    <tr>\n",
       "      <th>0</th>\n",
       "      <td>12</td>\n",
       "      <td>3</td>\n",
       "      <td>36</td>\n",
       "    </tr>\n",
       "    <tr>\n",
       "      <th>1</th>\n",
       "      <td>21</td>\n",
       "      <td>3</td>\n",
       "      <td>63</td>\n",
       "    </tr>\n",
       "    <tr>\n",
       "      <th>2</th>\n",
       "      <td>15</td>\n",
       "      <td>3</td>\n",
       "      <td>45</td>\n",
       "    </tr>\n",
       "    <tr>\n",
       "      <th>3</th>\n",
       "      <td>11</td>\n",
       "      <td>10</td>\n",
       "      <td>110</td>\n",
       "    </tr>\n",
       "    <tr>\n",
       "      <th>4</th>\n",
       "      <td>10</td>\n",
       "      <td>2</td>\n",
       "      <td>20</td>\n",
       "    </tr>\n",
       "  </tbody>\n",
       "</table>\n",
       "</div>"
      ],
      "text/plain": [
       "   num_medications  time_in_hospital  num_medications|time_in_hospital\n",
       "0               12                 3                                36\n",
       "1               21                 3                                63\n",
       "2               15                 3                                45\n",
       "3               11                10                               110\n",
       "4               10                 2                                20"
      ]
     },
     "execution_count": 89,
     "metadata": {},
     "output_type": "execute_result"
    }
   ],
   "source": [
    "df[['num_medications','time_in_hospital', 'num_medications|time_in_hospital']].head()"
   ]
  },
  {
   "cell_type": "code",
   "execution_count": 90,
   "id": "c3db018d",
   "metadata": {},
   "outputs": [],
   "source": [
    "# Feature Scaling\n",
    "datf = pd.DataFrame()\n",
    "datf['features'] = numerics\n",
    "datf['std_dev'] = datf['features'].apply(lambda x: df[x].std())\n",
    "datf['mean'] = datf['features'].apply(lambda x: df[x].mean())"
   ]
  },
  {
   "cell_type": "code",
   "execution_count": 91,
   "id": "ac4f82e5",
   "metadata": {},
   "outputs": [
    {
     "data": {
      "text/plain": [
       "(17324, 55)"
      ]
     },
     "execution_count": 91,
     "metadata": {},
     "output_type": "execute_result"
    }
   ],
   "source": [
    "# dropping multiple encounters while keeping either first or last encounter of these patients\n",
    "df2 = df.drop_duplicates(subset= ['patient_nbr'], keep = 'first')\n",
    "df2.shape"
   ]
  },
  {
   "cell_type": "code",
   "execution_count": 92,
   "id": "c0169e40",
   "metadata": {},
   "outputs": [],
   "source": [
    "# standardize function\n",
    "def standardize(raw_data):\n",
    "    return ((raw_data - np.mean(raw_data, axis = 0)) / np.std(raw_data, axis = 0))"
   ]
  },
  {
   "cell_type": "code",
   "execution_count": 93,
   "id": "0539f218",
   "metadata": {},
   "outputs": [],
   "source": [
    "df2[numerics] = standardize(df2[numerics])\n",
    "import scipy as sp\n",
    "df2 = df2[(np.abs(sp.stats.zscore(df2[numerics])) < 3).all(axis=1)]"
   ]
  },
  {
   "cell_type": "code",
   "execution_count": 94,
   "id": "3c069a97",
   "metadata": {},
   "outputs": [
    {
     "data": {
      "text/html": [
       "<style  type=\"text/css\" >\n",
       "#T_89e5e_row0_col0,#T_89e5e_row1_col1,#T_89e5e_row2_col2,#T_89e5e_row3_col3,#T_89e5e_row4_col4,#T_89e5e_row5_col5,#T_89e5e_row6_col6,#T_89e5e_row7_col7,#T_89e5e_row8_col8,#T_89e5e_row9_col9,#T_89e5e_row10_col10,#T_89e5e_row12_col12,#T_89e5e_row13_col13,#T_89e5e_row14_col14,#T_89e5e_row15_col15,#T_89e5e_row16_col16,#T_89e5e_row17_col17,#T_89e5e_row18_col18,#T_89e5e_row19_col19,#T_89e5e_row20_col20,#T_89e5e_row21_col21,#T_89e5e_row22_col22,#T_89e5e_row23_col23,#T_89e5e_row26_col26,#T_89e5e_row27_col27,#T_89e5e_row28_col28,#T_89e5e_row29_col29,#T_89e5e_row30_col30,#T_89e5e_row31_col31,#T_89e5e_row32_col32,#T_89e5e_row33_col33,#T_89e5e_row34_col34,#T_89e5e_row35_col35,#T_89e5e_row36_col36,#T_89e5e_row37_col37,#T_89e5e_row38_col38,#T_89e5e_row39_col39,#T_89e5e_row40_col40,#T_89e5e_row41_col41,#T_89e5e_row42_col42{\n",
       "            background-color:  #007ad1;\n",
       "            color:  #f1f1f1;\n",
       "        }#T_89e5e_row0_col1,#T_89e5e_row1_col41{\n",
       "            background-color:  #9dc8e7;\n",
       "            color:  #000000;\n",
       "        }#T_89e5e_row0_col2,#T_89e5e_row1_col4,#T_89e5e_row2_col37,#T_89e5e_row2_col41,#T_89e5e_row4_col1,#T_89e5e_row4_col32,#T_89e5e_row5_col38,#T_89e5e_row12_col40,#T_89e5e_row13_col6,#T_89e5e_row13_col27,#T_89e5e_row15_col28,#T_89e5e_row15_col40,#T_89e5e_row27_col38,#T_89e5e_row28_col3,#T_89e5e_row28_col10,#T_89e5e_row28_col16,#T_89e5e_row30_col35,#T_89e5e_row30_col37,#T_89e5e_row30_col41,#T_89e5e_row32_col4,#T_89e5e_row37_col2,#T_89e5e_row37_col21,#T_89e5e_row38_col27,#T_89e5e_row39_col28,#T_89e5e_row39_col32,#T_89e5e_row40_col1,#T_89e5e_row40_col4,#T_89e5e_row40_col10,#T_89e5e_row41_col21,#T_89e5e_row42_col4{\n",
       "            background-color:  #c4dbec;\n",
       "            color:  #000000;\n",
       "        }#T_89e5e_row0_col3,#T_89e5e_row0_col39,#T_89e5e_row3_col0,#T_89e5e_row21_col30,#T_89e5e_row28_col40,#T_89e5e_row37_col3,#T_89e5e_row40_col28,#T_89e5e_row42_col21{\n",
       "            background-color:  #85bbe4;\n",
       "            color:  #000000;\n",
       "        }#T_89e5e_row0_col4,#T_89e5e_row0_col42,#T_89e5e_row1_col3,#T_89e5e_row2_col38,#T_89e5e_row3_col27,#T_89e5e_row4_col3,#T_89e5e_row4_col35,#T_89e5e_row4_col37,#T_89e5e_row4_col38,#T_89e5e_row27_col3,#T_89e5e_row27_col15,#T_89e5e_row27_col16,#T_89e5e_row37_col4,#T_89e5e_row38_col21,#T_89e5e_row40_col0,#T_89e5e_row41_col40,#T_89e5e_row42_col0{\n",
       "            background-color:  #b5d4ea;\n",
       "            color:  #000000;\n",
       "        }#T_89e5e_row0_col5,#T_89e5e_row0_col32,#T_89e5e_row1_col30,#T_89e5e_row1_col40,#T_89e5e_row3_col12,#T_89e5e_row3_col13,#T_89e5e_row3_col15,#T_89e5e_row3_col31,#T_89e5e_row4_col34,#T_89e5e_row4_col36,#T_89e5e_row6_col16,#T_89e5e_row10_col40,#T_89e5e_row15_col13,#T_89e5e_row16_col12,#T_89e5e_row16_col13,#T_89e5e_row17_col12,#T_89e5e_row21_col0,#T_89e5e_row27_col0,#T_89e5e_row27_col37,#T_89e5e_row27_col41,#T_89e5e_row28_col5,#T_89e5e_row30_col4,#T_89e5e_row30_col32,#T_89e5e_row31_col0,#T_89e5e_row31_col21,#T_89e5e_row31_col29,#T_89e5e_row31_col34,#T_89e5e_row31_col37,#T_89e5e_row32_col21,#T_89e5e_row32_col39,#T_89e5e_row32_col41,#T_89e5e_row33_col4,#T_89e5e_row33_col21,#T_89e5e_row34_col4,#T_89e5e_row34_col33,#T_89e5e_row35_col5,#T_89e5e_row35_col28,#T_89e5e_row35_col32,#T_89e5e_row37_col31,#T_89e5e_row38_col12,#T_89e5e_row38_col31,#T_89e5e_row38_col32,#T_89e5e_row39_col12,#T_89e5e_row40_col5,#T_89e5e_row41_col5,#T_89e5e_row42_col2,#T_89e5e_row42_col31,#T_89e5e_row42_col32{\n",
       "            background-color:  #d3e2ef;\n",
       "            color:  #000000;\n",
       "        }#T_89e5e_row0_col6,#T_89e5e_row0_col15,#T_89e5e_row1_col7,#T_89e5e_row1_col15,#T_89e5e_row1_col16,#T_89e5e_row1_col28,#T_89e5e_row1_col29,#T_89e5e_row1_col33,#T_89e5e_row2_col5,#T_89e5e_row3_col7,#T_89e5e_row3_col8,#T_89e5e_row3_col33,#T_89e5e_row4_col16,#T_89e5e_row4_col29,#T_89e5e_row5_col2,#T_89e5e_row5_col7,#T_89e5e_row5_col15,#T_89e5e_row5_col36,#T_89e5e_row5_col39,#T_89e5e_row6_col8,#T_89e5e_row7_col3,#T_89e5e_row7_col6,#T_89e5e_row7_col33,#T_89e5e_row7_col36,#T_89e5e_row7_col38,#T_89e5e_row7_col39,#T_89e5e_row8_col1,#T_89e5e_row8_col2,#T_89e5e_row8_col34,#T_89e5e_row8_col41,#T_89e5e_row9_col4,#T_89e5e_row9_col15,#T_89e5e_row9_col21,#T_89e5e_row9_col28,#T_89e5e_row9_col31,#T_89e5e_row9_col32,#T_89e5e_row9_col34,#T_89e5e_row9_col37,#T_89e5e_row10_col3,#T_89e5e_row10_col18,#T_89e5e_row10_col31,#T_89e5e_row10_col32,#T_89e5e_row10_col34,#T_89e5e_row10_col36,#T_89e5e_row10_col37,#T_89e5e_row10_col38,#T_89e5e_row10_col39,#T_89e5e_row10_col41,#T_89e5e_row10_col42,#T_89e5e_row12_col3,#T_89e5e_row12_col4,#T_89e5e_row12_col17,#T_89e5e_row12_col21,#T_89e5e_row12_col36,#T_89e5e_row12_col37,#T_89e5e_row12_col38,#T_89e5e_row12_col41,#T_89e5e_row13_col0,#T_89e5e_row13_col3,#T_89e5e_row13_col4,#T_89e5e_row13_col31,#T_89e5e_row13_col32,#T_89e5e_row13_col34,#T_89e5e_row13_col36,#T_89e5e_row13_col37,#T_89e5e_row13_col41,#T_89e5e_row14_col6,#T_89e5e_row14_col15,#T_89e5e_row14_col31,#T_89e5e_row14_col34,#T_89e5e_row14_col36,#T_89e5e_row14_col37,#T_89e5e_row14_col41,#T_89e5e_row15_col1,#T_89e5e_row15_col5,#T_89e5e_row15_col26,#T_89e5e_row15_col30,#T_89e5e_row15_col31,#T_89e5e_row15_col33,#T_89e5e_row15_col42,#T_89e5e_row16_col1,#T_89e5e_row16_col8,#T_89e5e_row16_col31,#T_89e5e_row16_col32,#T_89e5e_row16_col34,#T_89e5e_row16_col36,#T_89e5e_row16_col37,#T_89e5e_row16_col38,#T_89e5e_row16_col39,#T_89e5e_row16_col41,#T_89e5e_row17_col4,#T_89e5e_row17_col5,#T_89e5e_row17_col7,#T_89e5e_row17_col28,#T_89e5e_row17_col30,#T_89e5e_row17_col36,#T_89e5e_row17_col37,#T_89e5e_row17_col40,#T_89e5e_row17_col41,#T_89e5e_row17_col42,#T_89e5e_row18_col1,#T_89e5e_row18_col16,#T_89e5e_row18_col34,#T_89e5e_row18_col37,#T_89e5e_row18_col41,#T_89e5e_row19_col2,#T_89e5e_row19_col31,#T_89e5e_row19_col32,#T_89e5e_row19_col34,#T_89e5e_row19_col41,#T_89e5e_row20_col1,#T_89e5e_row20_col5,#T_89e5e_row20_col15,#T_89e5e_row20_col16,#T_89e5e_row20_col34,#T_89e5e_row20_col36,#T_89e5e_row20_col37,#T_89e5e_row20_col41,#T_89e5e_row21_col7,#T_89e5e_row21_col34,#T_89e5e_row22_col1,#T_89e5e_row22_col2,#T_89e5e_row22_col10,#T_89e5e_row22_col27,#T_89e5e_row22_col31,#T_89e5e_row22_col34,#T_89e5e_row23_col1,#T_89e5e_row23_col2,#T_89e5e_row23_col4,#T_89e5e_row23_col31,#T_89e5e_row23_col37,#T_89e5e_row26_col1,#T_89e5e_row26_col4,#T_89e5e_row26_col31,#T_89e5e_row26_col34,#T_89e5e_row26_col37,#T_89e5e_row26_col41,#T_89e5e_row27_col2,#T_89e5e_row28_col9,#T_89e5e_row28_col17,#T_89e5e_row29_col3,#T_89e5e_row29_col5,#T_89e5e_row29_col6,#T_89e5e_row29_col7,#T_89e5e_row29_col16,#T_89e5e_row29_col28,#T_89e5e_row29_col30,#T_89e5e_row29_col33,#T_89e5e_row29_col42,#T_89e5e_row30_col2,#T_89e5e_row31_col7,#T_89e5e_row31_col10,#T_89e5e_row31_col15,#T_89e5e_row31_col16,#T_89e5e_row31_col28,#T_89e5e_row31_col40,#T_89e5e_row32_col7,#T_89e5e_row32_col10,#T_89e5e_row32_col16,#T_89e5e_row32_col27,#T_89e5e_row33_col5,#T_89e5e_row33_col6,#T_89e5e_row33_col7,#T_89e5e_row33_col27,#T_89e5e_row33_col29,#T_89e5e_row33_col37,#T_89e5e_row33_col38,#T_89e5e_row33_col39,#T_89e5e_row34_col3,#T_89e5e_row34_col28,#T_89e5e_row34_col30,#T_89e5e_row34_col41,#T_89e5e_row34_col42,#T_89e5e_row35_col34,#T_89e5e_row36_col6,#T_89e5e_row37_col15,#T_89e5e_row37_col16,#T_89e5e_row38_col6,#T_89e5e_row38_col7,#T_89e5e_row38_col33,#T_89e5e_row38_col34,#T_89e5e_row39_col8,#T_89e5e_row40_col29,#T_89e5e_row41_col15,#T_89e5e_row41_col33,#T_89e5e_row41_col34,#T_89e5e_row42_col29{\n",
       "            background-color:  #e6ecf1;\n",
       "            color:  #000000;\n",
       "        }#T_89e5e_row0_col7,#T_89e5e_row0_col16,#T_89e5e_row0_col28,#T_89e5e_row0_col29,#T_89e5e_row1_col10,#T_89e5e_row1_col27,#T_89e5e_row1_col32,#T_89e5e_row2_col10,#T_89e5e_row2_col16,#T_89e5e_row3_col29,#T_89e5e_row4_col5,#T_89e5e_row4_col7,#T_89e5e_row4_col15,#T_89e5e_row4_col27,#T_89e5e_row4_col28,#T_89e5e_row5_col4,#T_89e5e_row5_col16,#T_89e5e_row5_col35,#T_89e5e_row6_col3,#T_89e5e_row6_col34,#T_89e5e_row7_col2,#T_89e5e_row7_col15,#T_89e5e_row7_col16,#T_89e5e_row7_col30,#T_89e5e_row7_col34,#T_89e5e_row7_col35,#T_89e5e_row7_col42,#T_89e5e_row8_col4,#T_89e5e_row8_col5,#T_89e5e_row8_col21,#T_89e5e_row8_col27,#T_89e5e_row8_col28,#T_89e5e_row8_col31,#T_89e5e_row8_col32,#T_89e5e_row8_col40,#T_89e5e_row9_col1,#T_89e5e_row9_col2,#T_89e5e_row9_col5,#T_89e5e_row9_col6,#T_89e5e_row9_col10,#T_89e5e_row9_col16,#T_89e5e_row10_col1,#T_89e5e_row10_col2,#T_89e5e_row12_col1,#T_89e5e_row12_col2,#T_89e5e_row12_col5,#T_89e5e_row12_col31,#T_89e5e_row12_col34,#T_89e5e_row13_col1,#T_89e5e_row13_col2,#T_89e5e_row13_col5,#T_89e5e_row14_col1,#T_89e5e_row14_col2,#T_89e5e_row14_col4,#T_89e5e_row14_col5,#T_89e5e_row14_col10,#T_89e5e_row14_col16,#T_89e5e_row14_col21,#T_89e5e_row14_col32,#T_89e5e_row15_col3,#T_89e5e_row15_col4,#T_89e5e_row15_col8,#T_89e5e_row15_col21,#T_89e5e_row15_col22,#T_89e5e_row15_col32,#T_89e5e_row15_col34,#T_89e5e_row15_col36,#T_89e5e_row15_col39,#T_89e5e_row16_col2,#T_89e5e_row16_col3,#T_89e5e_row16_col4,#T_89e5e_row16_col5,#T_89e5e_row17_col1,#T_89e5e_row17_col2,#T_89e5e_row17_col15,#T_89e5e_row17_col16,#T_89e5e_row17_col18,#T_89e5e_row17_col21,#T_89e5e_row17_col27,#T_89e5e_row17_col31,#T_89e5e_row17_col32,#T_89e5e_row17_col34,#T_89e5e_row18_col2,#T_89e5e_row18_col4,#T_89e5e_row18_col5,#T_89e5e_row18_col6,#T_89e5e_row18_col15,#T_89e5e_row18_col31,#T_89e5e_row18_col32,#T_89e5e_row19_col1,#T_89e5e_row19_col4,#T_89e5e_row19_col5,#T_89e5e_row19_col6,#T_89e5e_row19_col15,#T_89e5e_row19_col16,#T_89e5e_row19_col37,#T_89e5e_row20_col2,#T_89e5e_row20_col4,#T_89e5e_row20_col6,#T_89e5e_row20_col10,#T_89e5e_row20_col21,#T_89e5e_row20_col31,#T_89e5e_row20_col32,#T_89e5e_row21_col2,#T_89e5e_row21_col10,#T_89e5e_row21_col12,#T_89e5e_row21_col15,#T_89e5e_row21_col16,#T_89e5e_row21_col33,#T_89e5e_row22_col4,#T_89e5e_row22_col5,#T_89e5e_row22_col12,#T_89e5e_row22_col16,#T_89e5e_row22_col21,#T_89e5e_row22_col28,#T_89e5e_row22_col32,#T_89e5e_row23_col5,#T_89e5e_row23_col6,#T_89e5e_row23_col10,#T_89e5e_row23_col16,#T_89e5e_row23_col21,#T_89e5e_row23_col32,#T_89e5e_row23_col34,#T_89e5e_row26_col2,#T_89e5e_row26_col5,#T_89e5e_row26_col10,#T_89e5e_row26_col16,#T_89e5e_row26_col32,#T_89e5e_row27_col8,#T_89e5e_row27_col17,#T_89e5e_row27_col22,#T_89e5e_row27_col31,#T_89e5e_row27_col33,#T_89e5e_row27_col34,#T_89e5e_row28_col8,#T_89e5e_row28_col22,#T_89e5e_row28_col33,#T_89e5e_row28_col34,#T_89e5e_row28_col36,#T_89e5e_row29_col2,#T_89e5e_row29_col10,#T_89e5e_row29_col15,#T_89e5e_row29_col34,#T_89e5e_row29_col35,#T_89e5e_row29_col36,#T_89e5e_row29_col38,#T_89e5e_row29_col39,#T_89e5e_row30_col6,#T_89e5e_row30_col7,#T_89e5e_row30_col13,#T_89e5e_row30_col16,#T_89e5e_row30_col34,#T_89e5e_row32_col1,#T_89e5e_row32_col15,#T_89e5e_row32_col28,#T_89e5e_row32_col35,#T_89e5e_row32_col38,#T_89e5e_row32_col40,#T_89e5e_row33_col10,#T_89e5e_row33_col13,#T_89e5e_row33_col15,#T_89e5e_row33_col16,#T_89e5e_row33_col28,#T_89e5e_row33_col41,#T_89e5e_row33_col42,#T_89e5e_row34_col10,#T_89e5e_row34_col16,#T_89e5e_row34_col21,#T_89e5e_row34_col39,#T_89e5e_row35_col6,#T_89e5e_row35_col7,#T_89e5e_row35_col15,#T_89e5e_row35_col16,#T_89e5e_row35_col29,#T_89e5e_row36_col5,#T_89e5e_row36_col10,#T_89e5e_row36_col27,#T_89e5e_row36_col28,#T_89e5e_row37_col7,#T_89e5e_row37_col10,#T_89e5e_row37_col28,#T_89e5e_row37_col29,#T_89e5e_row38_col29,#T_89e5e_row39_col6,#T_89e5e_row39_col7,#T_89e5e_row39_col29,#T_89e5e_row39_col33,#T_89e5e_row40_col8,#T_89e5e_row40_col17,#T_89e5e_row40_col22,#T_89e5e_row40_col33,#T_89e5e_row41_col16,#T_89e5e_row41_col28,#T_89e5e_row42_col6,#T_89e5e_row42_col7,#T_89e5e_row42_col16,#T_89e5e_row42_col34{\n",
       "            background-color:  #e2eaf1;\n",
       "            color:  #000000;\n",
       "        }#T_89e5e_row0_col8,#T_89e5e_row0_col19,#T_89e5e_row0_col22,#T_89e5e_row0_col33,#T_89e5e_row0_col34,#T_89e5e_row1_col9,#T_89e5e_row1_col19,#T_89e5e_row2_col7,#T_89e5e_row2_col9,#T_89e5e_row2_col22,#T_89e5e_row2_col29,#T_89e5e_row2_col34,#T_89e5e_row3_col9,#T_89e5e_row3_col17,#T_89e5e_row3_col22,#T_89e5e_row4_col8,#T_89e5e_row4_col19,#T_89e5e_row4_col22,#T_89e5e_row5_col3,#T_89e5e_row5_col8,#T_89e5e_row5_col9,#T_89e5e_row5_col22,#T_89e5e_row5_col23,#T_89e5e_row5_col33,#T_89e5e_row6_col17,#T_89e5e_row6_col21,#T_89e5e_row6_col26,#T_89e5e_row6_col32,#T_89e5e_row6_col39,#T_89e5e_row7_col9,#T_89e5e_row7_col17,#T_89e5e_row7_col22,#T_89e5e_row7_col29,#T_89e5e_row8_col0,#T_89e5e_row8_col3,#T_89e5e_row8_col9,#T_89e5e_row8_col17,#T_89e5e_row8_col22,#T_89e5e_row8_col33,#T_89e5e_row8_col36,#T_89e5e_row8_col37,#T_89e5e_row8_col38,#T_89e5e_row8_col39,#T_89e5e_row9_col22,#T_89e5e_row9_col33,#T_89e5e_row9_col36,#T_89e5e_row9_col41,#T_89e5e_row10_col0,#T_89e5e_row10_col7,#T_89e5e_row10_col8,#T_89e5e_row10_col12,#T_89e5e_row10_col13,#T_89e5e_row10_col17,#T_89e5e_row10_col19,#T_89e5e_row10_col30,#T_89e5e_row10_col33,#T_89e5e_row10_col35,#T_89e5e_row12_col0,#T_89e5e_row12_col30,#T_89e5e_row12_col33,#T_89e5e_row12_col35,#T_89e5e_row12_col39,#T_89e5e_row12_col42,#T_89e5e_row13_col9,#T_89e5e_row13_col17,#T_89e5e_row13_col35,#T_89e5e_row13_col38,#T_89e5e_row13_col39,#T_89e5e_row14_col0,#T_89e5e_row14_col9,#T_89e5e_row14_col22,#T_89e5e_row14_col28,#T_89e5e_row14_col29,#T_89e5e_row14_col30,#T_89e5e_row14_col33,#T_89e5e_row14_col35,#T_89e5e_row14_col38,#T_89e5e_row14_col42,#T_89e5e_row15_col7,#T_89e5e_row15_col17,#T_89e5e_row15_col23,#T_89e5e_row15_col35,#T_89e5e_row15_col37,#T_89e5e_row15_col38,#T_89e5e_row15_col41,#T_89e5e_row16_col0,#T_89e5e_row16_col7,#T_89e5e_row16_col9,#T_89e5e_row16_col17,#T_89e5e_row16_col19,#T_89e5e_row16_col22,#T_89e5e_row16_col30,#T_89e5e_row16_col33,#T_89e5e_row16_col35,#T_89e5e_row16_col42,#T_89e5e_row17_col0,#T_89e5e_row17_col3,#T_89e5e_row17_col8,#T_89e5e_row17_col9,#T_89e5e_row17_col22,#T_89e5e_row17_col33,#T_89e5e_row17_col35,#T_89e5e_row17_col38,#T_89e5e_row17_col39,#T_89e5e_row18_col0,#T_89e5e_row18_col9,#T_89e5e_row18_col22,#T_89e5e_row18_col27,#T_89e5e_row18_col28,#T_89e5e_row18_col29,#T_89e5e_row18_col30,#T_89e5e_row18_col33,#T_89e5e_row18_col35,#T_89e5e_row18_col36,#T_89e5e_row18_col40,#T_89e5e_row18_col42,#T_89e5e_row19_col0,#T_89e5e_row19_col9,#T_89e5e_row19_col22,#T_89e5e_row19_col27,#T_89e5e_row19_col28,#T_89e5e_row19_col30,#T_89e5e_row19_col33,#T_89e5e_row19_col35,#T_89e5e_row19_col36,#T_89e5e_row19_col38,#T_89e5e_row19_col39,#T_89e5e_row19_col40,#T_89e5e_row19_col42,#T_89e5e_row20_col0,#T_89e5e_row20_col9,#T_89e5e_row20_col22,#T_89e5e_row20_col28,#T_89e5e_row20_col30,#T_89e5e_row20_col33,#T_89e5e_row20_col42,#T_89e5e_row21_col6,#T_89e5e_row21_col13,#T_89e5e_row21_col22,#T_89e5e_row21_col26,#T_89e5e_row21_col29,#T_89e5e_row22_col0,#T_89e5e_row22_col6,#T_89e5e_row22_col9,#T_89e5e_row22_col30,#T_89e5e_row22_col33,#T_89e5e_row22_col36,#T_89e5e_row22_col37,#T_89e5e_row22_col40,#T_89e5e_row22_col41,#T_89e5e_row23_col8,#T_89e5e_row23_col9,#T_89e5e_row23_col22,#T_89e5e_row23_col28,#T_89e5e_row23_col33,#T_89e5e_row23_col36,#T_89e5e_row23_col41,#T_89e5e_row26_col0,#T_89e5e_row26_col8,#T_89e5e_row26_col9,#T_89e5e_row26_col22,#T_89e5e_row26_col27,#T_89e5e_row26_col28,#T_89e5e_row26_col30,#T_89e5e_row26_col33,#T_89e5e_row26_col36,#T_89e5e_row26_col42,#T_89e5e_row27_col18,#T_89e5e_row27_col19,#T_89e5e_row27_col26,#T_89e5e_row28_col2,#T_89e5e_row28_col20,#T_89e5e_row28_col29,#T_89e5e_row29_col8,#T_89e5e_row29_col9,#T_89e5e_row29_col22,#T_89e5e_row29_col27,#T_89e5e_row29_col40,#T_89e5e_row30_col9,#T_89e5e_row30_col17,#T_89e5e_row30_col22,#T_89e5e_row30_col26,#T_89e5e_row30_col29,#T_89e5e_row31_col8,#T_89e5e_row31_col22,#T_89e5e_row31_col27,#T_89e5e_row32_col6,#T_89e5e_row32_col8,#T_89e5e_row32_col22,#T_89e5e_row33_col0,#T_89e5e_row33_col2,#T_89e5e_row33_col3,#T_89e5e_row33_col8,#T_89e5e_row33_col22,#T_89e5e_row33_col40,#T_89e5e_row34_col2,#T_89e5e_row34_col5,#T_89e5e_row34_col7,#T_89e5e_row34_col8,#T_89e5e_row34_col17,#T_89e5e_row34_col22,#T_89e5e_row34_col23,#T_89e5e_row34_col27,#T_89e5e_row34_col29,#T_89e5e_row34_col40,#T_89e5e_row35_col8,#T_89e5e_row35_col17,#T_89e5e_row35_col19,#T_89e5e_row35_col22,#T_89e5e_row35_col33,#T_89e5e_row36_col7,#T_89e5e_row36_col9,#T_89e5e_row36_col17,#T_89e5e_row36_col22,#T_89e5e_row36_col29,#T_89e5e_row36_col31,#T_89e5e_row36_col32,#T_89e5e_row36_col34,#T_89e5e_row37_col19,#T_89e5e_row37_col33,#T_89e5e_row38_col8,#T_89e5e_row38_col17,#T_89e5e_row38_col19,#T_89e5e_row39_col17,#T_89e5e_row39_col19,#T_89e5e_row39_col22,#T_89e5e_row40_col18,#T_89e5e_row40_col19,#T_89e5e_row40_col26,#T_89e5e_row41_col6,#T_89e5e_row41_col8,#T_89e5e_row41_col19,#T_89e5e_row41_col22,#T_89e5e_row42_col17,#T_89e5e_row42_col18,#T_89e5e_row42_col22,#T_89e5e_row42_col26{\n",
       "            background-color:  #ebeef2;\n",
       "            color:  #000000;\n",
       "        }#T_89e5e_row0_col9,#T_89e5e_row0_col14,#T_89e5e_row0_col17,#T_89e5e_row0_col18,#T_89e5e_row0_col20,#T_89e5e_row0_col23,#T_89e5e_row0_col26,#T_89e5e_row1_col6,#T_89e5e_row1_col8,#T_89e5e_row1_col14,#T_89e5e_row1_col17,#T_89e5e_row1_col18,#T_89e5e_row1_col20,#T_89e5e_row1_col22,#T_89e5e_row1_col23,#T_89e5e_row1_col26,#T_89e5e_row1_col34,#T_89e5e_row2_col6,#T_89e5e_row2_col8,#T_89e5e_row2_col14,#T_89e5e_row2_col17,#T_89e5e_row2_col18,#T_89e5e_row2_col19,#T_89e5e_row2_col20,#T_89e5e_row2_col23,#T_89e5e_row2_col26,#T_89e5e_row2_col27,#T_89e5e_row2_col28,#T_89e5e_row2_col30,#T_89e5e_row2_col31,#T_89e5e_row2_col32,#T_89e5e_row2_col33,#T_89e5e_row3_col14,#T_89e5e_row3_col18,#T_89e5e_row3_col19,#T_89e5e_row3_col20,#T_89e5e_row3_col23,#T_89e5e_row3_col26,#T_89e5e_row4_col6,#T_89e5e_row4_col9,#T_89e5e_row4_col14,#T_89e5e_row4_col17,#T_89e5e_row4_col18,#T_89e5e_row4_col20,#T_89e5e_row4_col23,#T_89e5e_row4_col26,#T_89e5e_row5_col14,#T_89e5e_row5_col17,#T_89e5e_row5_col18,#T_89e5e_row5_col19,#T_89e5e_row5_col20,#T_89e5e_row5_col26,#T_89e5e_row5_col29,#T_89e5e_row5_col31,#T_89e5e_row5_col32,#T_89e5e_row5_col34,#T_89e5e_row6_col0,#T_89e5e_row6_col1,#T_89e5e_row6_col2,#T_89e5e_row6_col4,#T_89e5e_row6_col7,#T_89e5e_row6_col9,#T_89e5e_row6_col14,#T_89e5e_row6_col18,#T_89e5e_row6_col19,#T_89e5e_row6_col20,#T_89e5e_row6_col22,#T_89e5e_row6_col23,#T_89e5e_row6_col29,#T_89e5e_row6_col30,#T_89e5e_row6_col31,#T_89e5e_row6_col33,#T_89e5e_row6_col35,#T_89e5e_row6_col36,#T_89e5e_row6_col37,#T_89e5e_row6_col38,#T_89e5e_row6_col41,#T_89e5e_row6_col42,#T_89e5e_row7_col8,#T_89e5e_row7_col14,#T_89e5e_row7_col18,#T_89e5e_row7_col19,#T_89e5e_row7_col20,#T_89e5e_row7_col23,#T_89e5e_row7_col26,#T_89e5e_row8_col7,#T_89e5e_row8_col14,#T_89e5e_row8_col18,#T_89e5e_row8_col19,#T_89e5e_row8_col20,#T_89e5e_row8_col23,#T_89e5e_row8_col26,#T_89e5e_row8_col29,#T_89e5e_row8_col30,#T_89e5e_row8_col35,#T_89e5e_row8_col42,#T_89e5e_row9_col0,#T_89e5e_row9_col3,#T_89e5e_row9_col7,#T_89e5e_row9_col8,#T_89e5e_row9_col14,#T_89e5e_row9_col17,#T_89e5e_row9_col18,#T_89e5e_row9_col19,#T_89e5e_row9_col20,#T_89e5e_row9_col23,#T_89e5e_row9_col26,#T_89e5e_row9_col27,#T_89e5e_row9_col29,#T_89e5e_row9_col30,#T_89e5e_row9_col35,#T_89e5e_row9_col38,#T_89e5e_row9_col39,#T_89e5e_row9_col40,#T_89e5e_row9_col42,#T_89e5e_row10_col9,#T_89e5e_row10_col14,#T_89e5e_row10_col20,#T_89e5e_row10_col22,#T_89e5e_row10_col23,#T_89e5e_row10_col26,#T_89e5e_row10_col29,#T_89e5e_row12_col7,#T_89e5e_row12_col8,#T_89e5e_row12_col9,#T_89e5e_row12_col10,#T_89e5e_row12_col13,#T_89e5e_row12_col14,#T_89e5e_row12_col18,#T_89e5e_row12_col19,#T_89e5e_row12_col20,#T_89e5e_row12_col22,#T_89e5e_row12_col23,#T_89e5e_row12_col26,#T_89e5e_row12_col29,#T_89e5e_row13_col7,#T_89e5e_row13_col8,#T_89e5e_row13_col10,#T_89e5e_row13_col12,#T_89e5e_row13_col14,#T_89e5e_row13_col18,#T_89e5e_row13_col19,#T_89e5e_row13_col20,#T_89e5e_row13_col21,#T_89e5e_row13_col22,#T_89e5e_row13_col23,#T_89e5e_row13_col26,#T_89e5e_row13_col29,#T_89e5e_row13_col30,#T_89e5e_row13_col33,#T_89e5e_row13_col42,#T_89e5e_row14_col3,#T_89e5e_row14_col7,#T_89e5e_row14_col8,#T_89e5e_row14_col17,#T_89e5e_row14_col18,#T_89e5e_row14_col19,#T_89e5e_row14_col20,#T_89e5e_row14_col23,#T_89e5e_row14_col26,#T_89e5e_row14_col27,#T_89e5e_row14_col39,#T_89e5e_row14_col40,#T_89e5e_row15_col0,#T_89e5e_row15_col9,#T_89e5e_row15_col14,#T_89e5e_row15_col16,#T_89e5e_row15_col18,#T_89e5e_row15_col19,#T_89e5e_row15_col20,#T_89e5e_row15_col29,#T_89e5e_row16_col14,#T_89e5e_row16_col15,#T_89e5e_row16_col18,#T_89e5e_row16_col20,#T_89e5e_row16_col23,#T_89e5e_row16_col26,#T_89e5e_row16_col29,#T_89e5e_row17_col14,#T_89e5e_row17_col19,#T_89e5e_row17_col20,#T_89e5e_row17_col23,#T_89e5e_row17_col26,#T_89e5e_row17_col29,#T_89e5e_row18_col3,#T_89e5e_row18_col7,#T_89e5e_row18_col8,#T_89e5e_row18_col14,#T_89e5e_row18_col19,#T_89e5e_row18_col20,#T_89e5e_row18_col23,#T_89e5e_row18_col26,#T_89e5e_row18_col38,#T_89e5e_row18_col39,#T_89e5e_row19_col3,#T_89e5e_row19_col7,#T_89e5e_row19_col8,#T_89e5e_row19_col14,#T_89e5e_row19_col17,#T_89e5e_row19_col18,#T_89e5e_row19_col20,#T_89e5e_row19_col23,#T_89e5e_row19_col26,#T_89e5e_row19_col29,#T_89e5e_row20_col3,#T_89e5e_row20_col7,#T_89e5e_row20_col8,#T_89e5e_row20_col14,#T_89e5e_row20_col17,#T_89e5e_row20_col18,#T_89e5e_row20_col19,#T_89e5e_row20_col23,#T_89e5e_row20_col26,#T_89e5e_row20_col27,#T_89e5e_row20_col29,#T_89e5e_row20_col35,#T_89e5e_row20_col38,#T_89e5e_row20_col39,#T_89e5e_row20_col40,#T_89e5e_row21_col8,#T_89e5e_row21_col9,#T_89e5e_row21_col14,#T_89e5e_row21_col17,#T_89e5e_row21_col18,#T_89e5e_row21_col19,#T_89e5e_row21_col20,#T_89e5e_row21_col23,#T_89e5e_row22_col3,#T_89e5e_row22_col7,#T_89e5e_row22_col8,#T_89e5e_row22_col14,#T_89e5e_row22_col17,#T_89e5e_row22_col18,#T_89e5e_row22_col19,#T_89e5e_row22_col20,#T_89e5e_row22_col23,#T_89e5e_row22_col26,#T_89e5e_row22_col29,#T_89e5e_row22_col35,#T_89e5e_row22_col38,#T_89e5e_row22_col39,#T_89e5e_row22_col42,#T_89e5e_row23_col0,#T_89e5e_row23_col3,#T_89e5e_row23_col7,#T_89e5e_row23_col14,#T_89e5e_row23_col17,#T_89e5e_row23_col18,#T_89e5e_row23_col19,#T_89e5e_row23_col20,#T_89e5e_row23_col26,#T_89e5e_row23_col27,#T_89e5e_row23_col29,#T_89e5e_row23_col30,#T_89e5e_row23_col35,#T_89e5e_row23_col38,#T_89e5e_row23_col39,#T_89e5e_row23_col40,#T_89e5e_row23_col42,#T_89e5e_row26_col3,#T_89e5e_row26_col7,#T_89e5e_row26_col14,#T_89e5e_row26_col17,#T_89e5e_row26_col18,#T_89e5e_row26_col19,#T_89e5e_row26_col20,#T_89e5e_row26_col23,#T_89e5e_row26_col29,#T_89e5e_row26_col35,#T_89e5e_row26_col38,#T_89e5e_row26_col39,#T_89e5e_row26_col40,#T_89e5e_row27_col9,#T_89e5e_row27_col14,#T_89e5e_row27_col20,#T_89e5e_row27_col23,#T_89e5e_row27_col29,#T_89e5e_row28_col14,#T_89e5e_row28_col18,#T_89e5e_row28_col19,#T_89e5e_row28_col23,#T_89e5e_row28_col26,#T_89e5e_row29_col14,#T_89e5e_row29_col17,#T_89e5e_row29_col18,#T_89e5e_row29_col19,#T_89e5e_row29_col20,#T_89e5e_row29_col23,#T_89e5e_row29_col26,#T_89e5e_row30_col8,#T_89e5e_row30_col14,#T_89e5e_row30_col18,#T_89e5e_row30_col19,#T_89e5e_row30_col20,#T_89e5e_row30_col23,#T_89e5e_row31_col2,#T_89e5e_row31_col5,#T_89e5e_row31_col6,#T_89e5e_row31_col9,#T_89e5e_row31_col14,#T_89e5e_row31_col17,#T_89e5e_row31_col18,#T_89e5e_row31_col19,#T_89e5e_row31_col20,#T_89e5e_row31_col23,#T_89e5e_row31_col26,#T_89e5e_row31_col36,#T_89e5e_row32_col2,#T_89e5e_row32_col5,#T_89e5e_row32_col9,#T_89e5e_row32_col14,#T_89e5e_row32_col17,#T_89e5e_row32_col18,#T_89e5e_row32_col19,#T_89e5e_row32_col20,#T_89e5e_row32_col23,#T_89e5e_row32_col26,#T_89e5e_row32_col36,#T_89e5e_row33_col9,#T_89e5e_row33_col14,#T_89e5e_row33_col17,#T_89e5e_row33_col18,#T_89e5e_row33_col19,#T_89e5e_row33_col20,#T_89e5e_row33_col23,#T_89e5e_row33_col26,#T_89e5e_row33_col35,#T_89e5e_row33_col36,#T_89e5e_row34_col0,#T_89e5e_row34_col1,#T_89e5e_row34_col9,#T_89e5e_row34_col14,#T_89e5e_row34_col18,#T_89e5e_row34_col19,#T_89e5e_row34_col20,#T_89e5e_row34_col26,#T_89e5e_row34_col35,#T_89e5e_row34_col36,#T_89e5e_row34_col37,#T_89e5e_row34_col38,#T_89e5e_row35_col9,#T_89e5e_row35_col14,#T_89e5e_row35_col18,#T_89e5e_row35_col20,#T_89e5e_row35_col23,#T_89e5e_row35_col26,#T_89e5e_row36_col8,#T_89e5e_row36_col14,#T_89e5e_row36_col18,#T_89e5e_row36_col19,#T_89e5e_row36_col20,#T_89e5e_row36_col23,#T_89e5e_row36_col26,#T_89e5e_row36_col33,#T_89e5e_row37_col6,#T_89e5e_row37_col8,#T_89e5e_row37_col9,#T_89e5e_row37_col14,#T_89e5e_row37_col17,#T_89e5e_row37_col18,#T_89e5e_row37_col20,#T_89e5e_row37_col22,#T_89e5e_row37_col23,#T_89e5e_row37_col26,#T_89e5e_row37_col34,#T_89e5e_row38_col9,#T_89e5e_row38_col14,#T_89e5e_row38_col18,#T_89e5e_row38_col20,#T_89e5e_row38_col22,#T_89e5e_row38_col23,#T_89e5e_row38_col26,#T_89e5e_row39_col9,#T_89e5e_row39_col14,#T_89e5e_row39_col18,#T_89e5e_row39_col20,#T_89e5e_row39_col23,#T_89e5e_row39_col26,#T_89e5e_row40_col9,#T_89e5e_row40_col14,#T_89e5e_row40_col20,#T_89e5e_row40_col23,#T_89e5e_row41_col9,#T_89e5e_row41_col14,#T_89e5e_row41_col17,#T_89e5e_row41_col18,#T_89e5e_row41_col20,#T_89e5e_row41_col23,#T_89e5e_row41_col26,#T_89e5e_row42_col8,#T_89e5e_row42_col9,#T_89e5e_row42_col14,#T_89e5e_row42_col19,#T_89e5e_row42_col20,#T_89e5e_row42_col23{\n",
       "            background-color:  #f0f1f3;\n",
       "            color:  #000000;\n",
       "        }#T_89e5e_row0_col10,#T_89e5e_row1_col2,#T_89e5e_row1_col12,#T_89e5e_row1_col13,#T_89e5e_row2_col1,#T_89e5e_row2_col12,#T_89e5e_row2_col15,#T_89e5e_row2_col21,#T_89e5e_row2_col42,#T_89e5e_row3_col5,#T_89e5e_row3_col34,#T_89e5e_row4_col10,#T_89e5e_row4_col12,#T_89e5e_row4_col13,#T_89e5e_row4_col30,#T_89e5e_row4_col33,#T_89e5e_row5_col0,#T_89e5e_row5_col6,#T_89e5e_row5_col10,#T_89e5e_row5_col13,#T_89e5e_row5_col27,#T_89e5e_row5_col28,#T_89e5e_row5_col40,#T_89e5e_row6_col5,#T_89e5e_row6_col10,#T_89e5e_row7_col0,#T_89e5e_row7_col1,#T_89e5e_row7_col5,#T_89e5e_row7_col10,#T_89e5e_row7_col12,#T_89e5e_row7_col13,#T_89e5e_row7_col21,#T_89e5e_row7_col28,#T_89e5e_row7_col31,#T_89e5e_row7_col32,#T_89e5e_row7_col37,#T_89e5e_row7_col40,#T_89e5e_row8_col6,#T_89e5e_row8_col10,#T_89e5e_row8_col12,#T_89e5e_row8_col13,#T_89e5e_row8_col16,#T_89e5e_row9_col12,#T_89e5e_row9_col13,#T_89e5e_row10_col4,#T_89e5e_row10_col5,#T_89e5e_row10_col6,#T_89e5e_row10_col16,#T_89e5e_row10_col21,#T_89e5e_row12_col16,#T_89e5e_row12_col32,#T_89e5e_row13_col15,#T_89e5e_row13_col16,#T_89e5e_row14_col12,#T_89e5e_row15_col2,#T_89e5e_row16_col21,#T_89e5e_row17_col6,#T_89e5e_row17_col10,#T_89e5e_row18_col17,#T_89e5e_row18_col21,#T_89e5e_row19_col10,#T_89e5e_row19_col12,#T_89e5e_row19_col13,#T_89e5e_row19_col21,#T_89e5e_row20_col12,#T_89e5e_row20_col13,#T_89e5e_row22_col13,#T_89e5e_row22_col15,#T_89e5e_row23_col12,#T_89e5e_row23_col13,#T_89e5e_row23_col15,#T_89e5e_row26_col6,#T_89e5e_row26_col12,#T_89e5e_row26_col13,#T_89e5e_row26_col15,#T_89e5e_row26_col21,#T_89e5e_row27_col36,#T_89e5e_row28_col0,#T_89e5e_row28_col1,#T_89e5e_row28_col7,#T_89e5e_row28_col31,#T_89e5e_row28_col41,#T_89e5e_row29_col0,#T_89e5e_row29_col1,#T_89e5e_row29_col21,#T_89e5e_row30_col10,#T_89e5e_row30_col12,#T_89e5e_row30_col15,#T_89e5e_row30_col33,#T_89e5e_row30_col36,#T_89e5e_row31_col3,#T_89e5e_row31_col13,#T_89e5e_row31_col30,#T_89e5e_row31_col35,#T_89e5e_row31_col38,#T_89e5e_row31_col42,#T_89e5e_row32_col0,#T_89e5e_row32_col3,#T_89e5e_row32_col13,#T_89e5e_row32_col30,#T_89e5e_row32_col37,#T_89e5e_row32_col42,#T_89e5e_row33_col1,#T_89e5e_row33_col30,#T_89e5e_row34_col6,#T_89e5e_row34_col15,#T_89e5e_row35_col10,#T_89e5e_row36_col15,#T_89e5e_row36_col16,#T_89e5e_row36_col30,#T_89e5e_row38_col10,#T_89e5e_row38_col15,#T_89e5e_row38_col16,#T_89e5e_row39_col5,#T_89e5e_row40_col31,#T_89e5e_row40_col34,#T_89e5e_row41_col7,#T_89e5e_row41_col10,#T_89e5e_row41_col29,#T_89e5e_row42_col10,#T_89e5e_row42_col13,#T_89e5e_row42_col15,#T_89e5e_row42_col33{\n",
       "            background-color:  #dde7f0;\n",
       "            color:  #000000;\n",
       "        }#T_89e5e_row0_col11,#T_89e5e_row0_col24,#T_89e5e_row0_col25,#T_89e5e_row1_col11,#T_89e5e_row1_col24,#T_89e5e_row1_col25,#T_89e5e_row2_col11,#T_89e5e_row2_col24,#T_89e5e_row2_col25,#T_89e5e_row3_col11,#T_89e5e_row3_col24,#T_89e5e_row3_col25,#T_89e5e_row4_col11,#T_89e5e_row4_col24,#T_89e5e_row4_col25,#T_89e5e_row5_col11,#T_89e5e_row5_col24,#T_89e5e_row5_col25,#T_89e5e_row6_col11,#T_89e5e_row6_col24,#T_89e5e_row6_col25,#T_89e5e_row7_col11,#T_89e5e_row7_col24,#T_89e5e_row7_col25,#T_89e5e_row8_col11,#T_89e5e_row8_col24,#T_89e5e_row8_col25,#T_89e5e_row9_col11,#T_89e5e_row9_col24,#T_89e5e_row9_col25,#T_89e5e_row10_col11,#T_89e5e_row10_col24,#T_89e5e_row10_col25,#T_89e5e_row11_col0,#T_89e5e_row11_col1,#T_89e5e_row11_col2,#T_89e5e_row11_col3,#T_89e5e_row11_col4,#T_89e5e_row11_col5,#T_89e5e_row11_col6,#T_89e5e_row11_col7,#T_89e5e_row11_col8,#T_89e5e_row11_col9,#T_89e5e_row11_col10,#T_89e5e_row11_col11,#T_89e5e_row11_col12,#T_89e5e_row11_col13,#T_89e5e_row11_col14,#T_89e5e_row11_col15,#T_89e5e_row11_col16,#T_89e5e_row11_col17,#T_89e5e_row11_col18,#T_89e5e_row11_col19,#T_89e5e_row11_col20,#T_89e5e_row11_col21,#T_89e5e_row11_col22,#T_89e5e_row11_col23,#T_89e5e_row11_col24,#T_89e5e_row11_col25,#T_89e5e_row11_col26,#T_89e5e_row11_col27,#T_89e5e_row11_col28,#T_89e5e_row11_col29,#T_89e5e_row11_col30,#T_89e5e_row11_col31,#T_89e5e_row11_col32,#T_89e5e_row11_col33,#T_89e5e_row11_col34,#T_89e5e_row11_col35,#T_89e5e_row11_col36,#T_89e5e_row11_col37,#T_89e5e_row11_col38,#T_89e5e_row11_col39,#T_89e5e_row11_col40,#T_89e5e_row11_col41,#T_89e5e_row11_col42,#T_89e5e_row12_col11,#T_89e5e_row12_col24,#T_89e5e_row12_col25,#T_89e5e_row13_col11,#T_89e5e_row13_col24,#T_89e5e_row13_col25,#T_89e5e_row14_col11,#T_89e5e_row14_col24,#T_89e5e_row14_col25,#T_89e5e_row15_col11,#T_89e5e_row15_col24,#T_89e5e_row15_col25,#T_89e5e_row16_col11,#T_89e5e_row16_col24,#T_89e5e_row16_col25,#T_89e5e_row17_col11,#T_89e5e_row17_col24,#T_89e5e_row17_col25,#T_89e5e_row18_col11,#T_89e5e_row18_col24,#T_89e5e_row18_col25,#T_89e5e_row19_col11,#T_89e5e_row19_col24,#T_89e5e_row19_col25,#T_89e5e_row20_col11,#T_89e5e_row20_col24,#T_89e5e_row20_col25,#T_89e5e_row21_col11,#T_89e5e_row21_col24,#T_89e5e_row21_col25,#T_89e5e_row22_col11,#T_89e5e_row22_col24,#T_89e5e_row22_col25,#T_89e5e_row23_col11,#T_89e5e_row23_col24,#T_89e5e_row23_col25,#T_89e5e_row24_col0,#T_89e5e_row24_col1,#T_89e5e_row24_col2,#T_89e5e_row24_col3,#T_89e5e_row24_col4,#T_89e5e_row24_col5,#T_89e5e_row24_col6,#T_89e5e_row24_col7,#T_89e5e_row24_col8,#T_89e5e_row24_col9,#T_89e5e_row24_col10,#T_89e5e_row24_col11,#T_89e5e_row24_col12,#T_89e5e_row24_col13,#T_89e5e_row24_col14,#T_89e5e_row24_col15,#T_89e5e_row24_col16,#T_89e5e_row24_col17,#T_89e5e_row24_col18,#T_89e5e_row24_col19,#T_89e5e_row24_col20,#T_89e5e_row24_col21,#T_89e5e_row24_col22,#T_89e5e_row24_col23,#T_89e5e_row24_col24,#T_89e5e_row24_col25,#T_89e5e_row24_col26,#T_89e5e_row24_col27,#T_89e5e_row24_col28,#T_89e5e_row24_col29,#T_89e5e_row24_col30,#T_89e5e_row24_col31,#T_89e5e_row24_col32,#T_89e5e_row24_col33,#T_89e5e_row24_col34,#T_89e5e_row24_col35,#T_89e5e_row24_col36,#T_89e5e_row24_col37,#T_89e5e_row24_col38,#T_89e5e_row24_col39,#T_89e5e_row24_col40,#T_89e5e_row24_col41,#T_89e5e_row24_col42,#T_89e5e_row25_col0,#T_89e5e_row25_col1,#T_89e5e_row25_col2,#T_89e5e_row25_col3,#T_89e5e_row25_col4,#T_89e5e_row25_col5,#T_89e5e_row25_col6,#T_89e5e_row25_col7,#T_89e5e_row25_col8,#T_89e5e_row25_col9,#T_89e5e_row25_col10,#T_89e5e_row25_col11,#T_89e5e_row25_col12,#T_89e5e_row25_col13,#T_89e5e_row25_col14,#T_89e5e_row25_col15,#T_89e5e_row25_col16,#T_89e5e_row25_col17,#T_89e5e_row25_col18,#T_89e5e_row25_col19,#T_89e5e_row25_col20,#T_89e5e_row25_col21,#T_89e5e_row25_col22,#T_89e5e_row25_col23,#T_89e5e_row25_col24,#T_89e5e_row25_col25,#T_89e5e_row25_col26,#T_89e5e_row25_col27,#T_89e5e_row25_col28,#T_89e5e_row25_col29,#T_89e5e_row25_col30,#T_89e5e_row25_col31,#T_89e5e_row25_col32,#T_89e5e_row25_col33,#T_89e5e_row25_col34,#T_89e5e_row25_col35,#T_89e5e_row25_col36,#T_89e5e_row25_col37,#T_89e5e_row25_col38,#T_89e5e_row25_col39,#T_89e5e_row25_col40,#T_89e5e_row25_col41,#T_89e5e_row25_col42,#T_89e5e_row26_col11,#T_89e5e_row26_col24,#T_89e5e_row26_col25,#T_89e5e_row27_col11,#T_89e5e_row27_col24,#T_89e5e_row27_col25,#T_89e5e_row28_col11,#T_89e5e_row28_col24,#T_89e5e_row28_col25,#T_89e5e_row29_col11,#T_89e5e_row29_col24,#T_89e5e_row29_col25,#T_89e5e_row30_col11,#T_89e5e_row30_col24,#T_89e5e_row30_col25,#T_89e5e_row31_col11,#T_89e5e_row31_col24,#T_89e5e_row31_col25,#T_89e5e_row32_col11,#T_89e5e_row32_col24,#T_89e5e_row32_col25,#T_89e5e_row33_col11,#T_89e5e_row33_col24,#T_89e5e_row33_col25,#T_89e5e_row34_col11,#T_89e5e_row34_col24,#T_89e5e_row34_col25,#T_89e5e_row35_col11,#T_89e5e_row35_col24,#T_89e5e_row35_col25,#T_89e5e_row36_col11,#T_89e5e_row36_col24,#T_89e5e_row36_col25,#T_89e5e_row37_col11,#T_89e5e_row37_col24,#T_89e5e_row37_col25,#T_89e5e_row38_col11,#T_89e5e_row38_col24,#T_89e5e_row38_col25,#T_89e5e_row39_col11,#T_89e5e_row39_col24,#T_89e5e_row39_col25,#T_89e5e_row40_col11,#T_89e5e_row40_col24,#T_89e5e_row40_col25,#T_89e5e_row41_col11,#T_89e5e_row41_col24,#T_89e5e_row41_col25,#T_89e5e_row42_col11,#T_89e5e_row42_col24,#T_89e5e_row42_col25{\n",
       "            background-color:  #000000;\n",
       "            color:  #f1f1f1;\n",
       "        }#T_89e5e_row0_col12,#T_89e5e_row0_col13,#T_89e5e_row0_col27,#T_89e5e_row1_col31,#T_89e5e_row2_col4,#T_89e5e_row2_col13,#T_89e5e_row2_col40,#T_89e5e_row3_col6,#T_89e5e_row3_col10,#T_89e5e_row3_col16,#T_89e5e_row4_col2,#T_89e5e_row5_col12,#T_89e5e_row5_col30,#T_89e5e_row5_col41,#T_89e5e_row5_col42,#T_89e5e_row6_col15,#T_89e5e_row7_col4,#T_89e5e_row7_col27,#T_89e5e_row7_col41,#T_89e5e_row8_col15,#T_89e5e_row10_col15,#T_89e5e_row12_col15,#T_89e5e_row14_col13,#T_89e5e_row15_col6,#T_89e5e_row15_col10,#T_89e5e_row16_col10,#T_89e5e_row17_col13,#T_89e5e_row18_col10,#T_89e5e_row18_col12,#T_89e5e_row18_col13,#T_89e5e_row21_col31,#T_89e5e_row21_col32,#T_89e5e_row21_col36,#T_89e5e_row27_col1,#T_89e5e_row27_col4,#T_89e5e_row27_col7,#T_89e5e_row27_col32,#T_89e5e_row28_col4,#T_89e5e_row28_col32,#T_89e5e_row28_col35,#T_89e5e_row28_col37,#T_89e5e_row29_col4,#T_89e5e_row29_col12,#T_89e5e_row29_col13,#T_89e5e_row29_col37,#T_89e5e_row29_col41,#T_89e5e_row30_col31,#T_89e5e_row31_col1,#T_89e5e_row31_col12,#T_89e5e_row31_col39,#T_89e5e_row32_col12,#T_89e5e_row32_col29,#T_89e5e_row33_col12,#T_89e5e_row34_col12,#T_89e5e_row34_col13,#T_89e5e_row35_col12,#T_89e5e_row35_col13,#T_89e5e_row36_col12,#T_89e5e_row36_col13,#T_89e5e_row37_col12,#T_89e5e_row37_col13,#T_89e5e_row37_col27,#T_89e5e_row37_col32,#T_89e5e_row38_col13,#T_89e5e_row39_col10,#T_89e5e_row39_col13,#T_89e5e_row39_col15,#T_89e5e_row39_col16,#T_89e5e_row39_col34,#T_89e5e_row40_col7,#T_89e5e_row40_col32,#T_89e5e_row41_col12,#T_89e5e_row41_col13,#T_89e5e_row41_col27,#T_89e5e_row42_col12{\n",
       "            background-color:  #d7e5ef;\n",
       "            color:  #000000;\n",
       "        }#T_89e5e_row0_col21,#T_89e5e_row1_col21,#T_89e5e_row1_col42,#T_89e5e_row2_col0,#T_89e5e_row4_col21,#T_89e5e_row4_col31,#T_89e5e_row5_col21,#T_89e5e_row6_col12,#T_89e5e_row13_col40,#T_89e5e_row16_col28,#T_89e5e_row16_col40,#T_89e5e_row21_col4,#T_89e5e_row21_col5,#T_89e5e_row21_col35,#T_89e5e_row27_col35,#T_89e5e_row28_col39,#T_89e5e_row29_col31,#T_89e5e_row29_col32,#T_89e5e_row30_col0,#T_89e5e_row30_col1,#T_89e5e_row31_col4,#T_89e5e_row33_col31,#T_89e5e_row35_col27,#T_89e5e_row36_col1,#T_89e5e_row37_col30,#T_89e5e_row39_col31,#T_89e5e_row40_col2,#T_89e5e_row41_col30,#T_89e5e_row41_col31{\n",
       "            background-color:  #c9deed;\n",
       "            color:  #000000;\n",
       "        }#T_89e5e_row0_col30,#T_89e5e_row0_col31,#T_89e5e_row1_col36,#T_89e5e_row3_col32,#T_89e5e_row4_col40,#T_89e5e_row4_col42,#T_89e5e_row10_col27,#T_89e5e_row10_col28,#T_89e5e_row12_col6,#T_89e5e_row15_col12,#T_89e5e_row16_col6,#T_89e5e_row21_col1,#T_89e5e_row21_col37,#T_89e5e_row21_col41,#T_89e5e_row27_col5,#T_89e5e_row28_col38,#T_89e5e_row30_col5,#T_89e5e_row31_col33,#T_89e5e_row31_col41,#T_89e5e_row33_col34,#T_89e5e_row34_col31,#T_89e5e_row35_col31,#T_89e5e_row36_col4,#T_89e5e_row36_col21,#T_89e5e_row38_col28,#T_89e5e_row41_col32,#T_89e5e_row42_col5{\n",
       "            background-color:  #cee0ee;\n",
       "            color:  #000000;\n",
       "        }#T_89e5e_row0_col35,#T_89e5e_row27_col40,#T_89e5e_row35_col0,#T_89e5e_row40_col27{\n",
       "            background-color:  #1d88d5;\n",
       "            color:  #000000;\n",
       "        }#T_89e5e_row0_col36,#T_89e5e_row2_col39,#T_89e5e_row3_col1,#T_89e5e_row3_col4,#T_89e5e_row27_col12,#T_89e5e_row28_col12,#T_89e5e_row35_col4,#T_89e5e_row36_col0,#T_89e5e_row38_col2,#T_89e5e_row38_col4,#T_89e5e_row40_col36,#T_89e5e_row42_col37{\n",
       "            background-color:  #abcfe9;\n",
       "            color:  #000000;\n",
       "        }#T_89e5e_row0_col37,#T_89e5e_row35_col41,#T_89e5e_row37_col0,#T_89e5e_row41_col35{\n",
       "            background-color:  #228ad6;\n",
       "            color:  #000000;\n",
       "        }#T_89e5e_row0_col38,#T_89e5e_row21_col27,#T_89e5e_row27_col28,#T_89e5e_row28_col27,#T_89e5e_row35_col36,#T_89e5e_row38_col0,#T_89e5e_row40_col21,#T_89e5e_row40_col39{\n",
       "            background-color:  #75b4e1;\n",
       "            color:  #000000;\n",
       "        }#T_89e5e_row0_col40,#T_89e5e_row3_col30,#T_89e5e_row4_col0,#T_89e5e_row12_col27,#T_89e5e_row12_col28,#T_89e5e_row21_col39,#T_89e5e_row27_col39,#T_89e5e_row35_col21,#T_89e5e_row37_col5,#T_89e5e_row37_col40,#T_89e5e_row38_col5,#T_89e5e_row38_col30,#T_89e5e_row39_col27,#T_89e5e_row39_col30,#T_89e5e_row40_col13,#T_89e5e_row40_col15,#T_89e5e_row40_col16,#T_89e5e_row42_col36{\n",
       "            background-color:  #bad6eb;\n",
       "            color:  #000000;\n",
       "        }#T_89e5e_row0_col41,#T_89e5e_row41_col0{\n",
       "            background-color:  #097ed2;\n",
       "            color:  #f1f1f1;\n",
       "        }#T_89e5e_row1_col0,#T_89e5e_row1_col35,#T_89e5e_row2_col3,#T_89e5e_row6_col27,#T_89e5e_row28_col6,#T_89e5e_row28_col30,#T_89e5e_row30_col28,#T_89e5e_row39_col2{\n",
       "            background-color:  #a2cae8;\n",
       "            color:  #000000;\n",
       "        }#T_89e5e_row1_col5,#T_89e5e_row5_col1,#T_89e5e_row6_col28,#T_89e5e_row28_col42,#T_89e5e_row35_col2,#T_89e5e_row36_col37,#T_89e5e_row36_col41,#T_89e5e_row37_col36,#T_89e5e_row39_col1,#T_89e5e_row40_col6,#T_89e5e_row41_col36,#T_89e5e_row42_col28{\n",
       "            background-color:  #a6cce8;\n",
       "            color:  #000000;\n",
       "        }#T_89e5e_row1_col37,#T_89e5e_row37_col1,#T_89e5e_row42_col40{\n",
       "            background-color:  #499edb;\n",
       "            color:  #000000;\n",
       "        }#T_89e5e_row1_col38,#T_89e5e_row3_col35,#T_89e5e_row35_col3,#T_89e5e_row38_col37,#T_89e5e_row38_col39,#T_89e5e_row39_col38{\n",
       "            background-color:  #3a97d9;\n",
       "            color:  #000000;\n",
       "        }#T_89e5e_row1_col39,#T_89e5e_row2_col35,#T_89e5e_row3_col21,#T_89e5e_row6_col40,#T_89e5e_row27_col13,#T_89e5e_row28_col13,#T_89e5e_row36_col40,#T_89e5e_row37_col42,#T_89e5e_row39_col21,#T_89e5e_row40_col12,#T_89e5e_row40_col37,#T_89e5e_row40_col41,#T_89e5e_row41_col42,#T_89e5e_row42_col41{\n",
       "            background-color:  #b1d1ea;\n",
       "            color:  #000000;\n",
       "        }#T_89e5e_row2_col36,#T_89e5e_row36_col2{\n",
       "            background-color:  #1886d4;\n",
       "            color:  #000000;\n",
       "        }#T_89e5e_row3_col2,#T_89e5e_row27_col6,#T_89e5e_row35_col1,#T_89e5e_row35_col42,#T_89e5e_row41_col1,#T_89e5e_row42_col35{\n",
       "            background-color:  #97c5e6;\n",
       "            color:  #000000;\n",
       "        }#T_89e5e_row3_col28,#T_89e5e_row5_col37,#T_89e5e_row6_col13,#T_89e5e_row13_col28,#T_89e5e_row15_col27,#T_89e5e_row16_col27,#T_89e5e_row21_col3,#T_89e5e_row21_col38,#T_89e5e_row27_col10,#T_89e5e_row28_col15,#T_89e5e_row30_col3,#T_89e5e_row30_col38,#T_89e5e_row30_col39,#T_89e5e_row35_col30,#T_89e5e_row36_col42,#T_89e5e_row41_col2,#T_89e5e_row42_col1{\n",
       "            background-color:  #bfd8ec;\n",
       "            color:  #000000;\n",
       "        }#T_89e5e_row3_col36,#T_89e5e_row4_col39,#T_89e5e_row21_col28,#T_89e5e_row30_col40,#T_89e5e_row36_col3,#T_89e5e_row39_col41,#T_89e5e_row41_col39{\n",
       "            background-color:  #62aadf;\n",
       "            color:  #000000;\n",
       "        }#T_89e5e_row3_col37,#T_89e5e_row21_col40,#T_89e5e_row36_col38,#T_89e5e_row37_col39,#T_89e5e_row39_col0,#T_89e5e_row41_col3{\n",
       "            background-color:  #7fb9e3;\n",
       "            color:  #000000;\n",
       "        }#T_89e5e_row3_col38,#T_89e5e_row38_col1,#T_89e5e_row38_col3{\n",
       "            background-color:  #3694d8;\n",
       "            color:  #000000;\n",
       "        }#T_89e5e_row3_col39,#T_89e5e_row30_col42,#T_89e5e_row39_col3,#T_89e5e_row42_col30{\n",
       "            background-color:  #1383d3;\n",
       "            color:  #000000;\n",
       "        }#T_89e5e_row3_col40,#T_89e5e_row36_col39,#T_89e5e_row38_col41,#T_89e5e_row39_col36,#T_89e5e_row40_col3,#T_89e5e_row41_col38{\n",
       "            background-color:  #71b2e1;\n",
       "            color:  #000000;\n",
       "        }#T_89e5e_row3_col41,#T_89e5e_row4_col41,#T_89e5e_row30_col21,#T_89e5e_row36_col35,#T_89e5e_row38_col36,#T_89e5e_row39_col37,#T_89e5e_row39_col40,#T_89e5e_row41_col4{\n",
       "            background-color:  #7ab6e2;\n",
       "            color:  #000000;\n",
       "        }#T_89e5e_row3_col42,#T_89e5e_row35_col40,#T_89e5e_row39_col42,#T_89e5e_row40_col35,#T_89e5e_row42_col3,#T_89e5e_row42_col39{\n",
       "            background-color:  #8ec0e5;\n",
       "            color:  #000000;\n",
       "        }#T_89e5e_row21_col42,#T_89e5e_row33_col32,#T_89e5e_row38_col40,#T_89e5e_row40_col38{\n",
       "            background-color:  #89bee4;\n",
       "            color:  #000000;\n",
       "        }#T_89e5e_row27_col21{\n",
       "            background-color:  #6bafe0;\n",
       "            color:  #000000;\n",
       "        }#T_89e5e_row27_col30{\n",
       "            background-color:  #53a3dc;\n",
       "            color:  #000000;\n",
       "        }#T_89e5e_row27_col42,#T_89e5e_row42_col27{\n",
       "            background-color:  #66addf;\n",
       "            color:  #000000;\n",
       "        }#T_89e5e_row28_col21,#T_89e5e_row32_col34,#T_89e5e_row34_col32,#T_89e5e_row39_col4,#T_89e5e_row40_col30{\n",
       "            background-color:  #5da8de;\n",
       "            color:  #000000;\n",
       "        }#T_89e5e_row30_col27{\n",
       "            background-color:  #58a6dd;\n",
       "            color:  #000000;\n",
       "        }#T_89e5e_row31_col32,#T_89e5e_row32_col31,#T_89e5e_row35_col37,#T_89e5e_row37_col35{\n",
       "            background-color:  #2c90d7;\n",
       "            color:  #000000;\n",
       "        }#T_89e5e_row32_col33,#T_89e5e_row38_col42,#T_89e5e_row42_col38{\n",
       "            background-color:  #93c2e6;\n",
       "            color:  #000000;\n",
       "        }#T_89e5e_row35_col38,#T_89e5e_row35_col39,#T_89e5e_row37_col38,#T_89e5e_row38_col35,#T_89e5e_row39_col35{\n",
       "            background-color:  #3f99da;\n",
       "            color:  #000000;\n",
       "        }#T_89e5e_row37_col41,#T_89e5e_row41_col37{\n",
       "            background-color:  #278dd6;\n",
       "            color:  #000000;\n",
       "        }#T_89e5e_row40_col42{\n",
       "            background-color:  #459cda;\n",
       "            color:  #000000;\n",
       "        }</style><table id=\"T_89e5e_\" ><thead>    <tr>        <th class=\"blank level0\" ></th>        <th class=\"col_heading level0 col0\" >time_in_hospital</th>        <th class=\"col_heading level0 col1\" >num_lab_procedures</th>        <th class=\"col_heading level0 col2\" >num_procedures</th>        <th class=\"col_heading level0 col3\" >num_medications</th>        <th class=\"col_heading level0 col4\" >number_diagnoses</th>        <th class=\"col_heading level0 col5\" >A1Cresult</th>        <th class=\"col_heading level0 col6\" >metformin</th>        <th class=\"col_heading level0 col7\" >repaglinide</th>        <th class=\"col_heading level0 col8\" >nateglinide</th>        <th class=\"col_heading level0 col9\" >chlorpropamide</th>        <th class=\"col_heading level0 col10\" >glimepiride</th>        <th class=\"col_heading level0 col11\" >acetohexamide</th>        <th class=\"col_heading level0 col12\" >glipizide</th>        <th class=\"col_heading level0 col13\" >glyburide</th>        <th class=\"col_heading level0 col14\" >tolbutamide</th>        <th class=\"col_heading level0 col15\" >pioglitazone</th>        <th class=\"col_heading level0 col16\" >rosiglitazone</th>        <th class=\"col_heading level0 col17\" >acarbose</th>        <th class=\"col_heading level0 col18\" >miglitol</th>        <th class=\"col_heading level0 col19\" >troglitazone</th>        <th class=\"col_heading level0 col20\" >tolazamide</th>        <th class=\"col_heading level0 col21\" >insulin</th>        <th class=\"col_heading level0 col22\" >glyburide-metformin</th>        <th class=\"col_heading level0 col23\" >glipizide-metformin</th>        <th class=\"col_heading level0 col24\" >glimepiride-pioglitazone</th>        <th class=\"col_heading level0 col25\" >metformin-rosiglitazone</th>        <th class=\"col_heading level0 col26\" >metformin-pioglitazone</th>        <th class=\"col_heading level0 col27\" >change</th>        <th class=\"col_heading level0 col28\" >diabetesMed</th>        <th class=\"col_heading level0 col29\" >readmitted</th>        <th class=\"col_heading level0 col30\" >numchange</th>        <th class=\"col_heading level0 col31\" >number_inpatient_log1p</th>        <th class=\"col_heading level0 col32\" >service_utilization_log1p</th>        <th class=\"col_heading level0 col33\" >number_emergency_log1p</th>        <th class=\"col_heading level0 col34\" >number_outpatient_log1p</th>        <th class=\"col_heading level0 col35\" >num_medications|time_in_hospital</th>        <th class=\"col_heading level0 col36\" >num_medications|num_procedures</th>        <th class=\"col_heading level0 col37\" >time_in_hospital|num_lab_procedures</th>        <th class=\"col_heading level0 col38\" >num_medications|num_lab_procedures</th>        <th class=\"col_heading level0 col39\" >num_medications|number_diagnoses</th>        <th class=\"col_heading level0 col40\" >change|num_medications</th>        <th class=\"col_heading level0 col41\" >number_diagnoses|time_in_hospital</th>        <th class=\"col_heading level0 col42\" >num_medications|numchange</th>    </tr></thead><tbody>\n",
       "                <tr>\n",
       "                        <th id=\"T_89e5e_level0_row0\" class=\"row_heading level0 row0\" >time_in_hospital</th>\n",
       "                        <td id=\"T_89e5e_row0_col0\" class=\"data row0 col0\" >1.000000</td>\n",
       "                        <td id=\"T_89e5e_row0_col1\" class=\"data row0 col1\" >0.314683</td>\n",
       "                        <td id=\"T_89e5e_row0_col2\" class=\"data row0 col2\" >0.144927</td>\n",
       "                        <td id=\"T_89e5e_row0_col3\" class=\"data row0 col3\" >0.435379</td>\n",
       "                        <td id=\"T_89e5e_row0_col4\" class=\"data row0 col4\" >0.205223</td>\n",
       "                        <td id=\"T_89e5e_row0_col5\" class=\"data row0 col5\" >0.071567</td>\n",
       "                        <td id=\"T_89e5e_row0_col6\" class=\"data row0 col6\" >-0.023903</td>\n",
       "                        <td id=\"T_89e5e_row0_col7\" class=\"data row0 col7\" >0.052552</td>\n",
       "                        <td id=\"T_89e5e_row0_col8\" class=\"data row0 col8\" >0.000827</td>\n",
       "                        <td id=\"T_89e5e_row0_col9\" class=\"data row0 col9\" >-0.010036</td>\n",
       "                        <td id=\"T_89e5e_row0_col10\" class=\"data row0 col10\" >0.010013</td>\n",
       "                        <td id=\"T_89e5e_row0_col11\" class=\"data row0 col11\" >nan</td>\n",
       "                        <td id=\"T_89e5e_row0_col12\" class=\"data row0 col12\" >0.006571</td>\n",
       "                        <td id=\"T_89e5e_row0_col13\" class=\"data row0 col13\" >0.016386</td>\n",
       "                        <td id=\"T_89e5e_row0_col14\" class=\"data row0 col14\" >0.007470</td>\n",
       "                        <td id=\"T_89e5e_row0_col15\" class=\"data row0 col15\" >-0.016025</td>\n",
       "                        <td id=\"T_89e5e_row0_col16\" class=\"data row0 col16\" >-0.000636</td>\n",
       "                        <td id=\"T_89e5e_row0_col17\" class=\"data row0 col17\" >-0.000537</td>\n",
       "                        <td id=\"T_89e5e_row0_col18\" class=\"data row0 col18\" >0.008995</td>\n",
       "                        <td id=\"T_89e5e_row0_col19\" class=\"data row0 col19\" >0.010616</td>\n",
       "                        <td id=\"T_89e5e_row0_col20\" class=\"data row0 col20\" >0.001423</td>\n",
       "                        <td id=\"T_89e5e_row0_col21\" class=\"data row0 col21\" >0.096312</td>\n",
       "                        <td id=\"T_89e5e_row0_col22\" class=\"data row0 col22\" >-0.006449</td>\n",
       "                        <td id=\"T_89e5e_row0_col23\" class=\"data row0 col23\" >-0.013000</td>\n",
       "                        <td id=\"T_89e5e_row0_col24\" class=\"data row0 col24\" >nan</td>\n",
       "                        <td id=\"T_89e5e_row0_col25\" class=\"data row0 col25\" >nan</td>\n",
       "                        <td id=\"T_89e5e_row0_col26\" class=\"data row0 col26\" >0.005171</td>\n",
       "                        <td id=\"T_89e5e_row0_col27\" class=\"data row0 col27\" >0.093279</td>\n",
       "                        <td id=\"T_89e5e_row0_col28\" class=\"data row0 col28\" >0.053015</td>\n",
       "                        <td id=\"T_89e5e_row0_col29\" class=\"data row0 col29\" >0.062318</td>\n",
       "                        <td id=\"T_89e5e_row0_col30\" class=\"data row0 col30\" >0.135026</td>\n",
       "                        <td id=\"T_89e5e_row0_col31\" class=\"data row0 col31\" >0.099223</td>\n",
       "                        <td id=\"T_89e5e_row0_col32\" class=\"data row0 col32\" >0.056789</td>\n",
       "                        <td id=\"T_89e5e_row0_col33\" class=\"data row0 col33\" >-0.003312</td>\n",
       "                        <td id=\"T_89e5e_row0_col34\" class=\"data row0 col34\" >-0.030538</td>\n",
       "                        <td id=\"T_89e5e_row0_col35\" class=\"data row0 col35\" >0.860498</td>\n",
       "                        <td id=\"T_89e5e_row0_col36\" class=\"data row0 col36\" >0.264061</td>\n",
       "                        <td id=\"T_89e5e_row0_col37\" class=\"data row0 col37\" >0.850297</td>\n",
       "                        <td id=\"T_89e5e_row0_col38\" class=\"data row0 col38\" >0.490892</td>\n",
       "                        <td id=\"T_89e5e_row0_col39\" class=\"data row0 col39\" >0.443844</td>\n",
       "                        <td id=\"T_89e5e_row0_col40\" class=\"data row0 col40\" >0.227793</td>\n",
       "                        <td id=\"T_89e5e_row0_col41\" class=\"data row0 col41\" >0.941112</td>\n",
       "                        <td id=\"T_89e5e_row0_col42\" class=\"data row0 col42\" >0.227270</td>\n",
       "            </tr>\n",
       "            <tr>\n",
       "                        <th id=\"T_89e5e_level0_row1\" class=\"row_heading level0 row1\" >num_lab_procedures</th>\n",
       "                        <td id=\"T_89e5e_row1_col0\" class=\"data row1 col0\" >0.314683</td>\n",
       "                        <td id=\"T_89e5e_row1_col1\" class=\"data row1 col1\" >1.000000</td>\n",
       "                        <td id=\"T_89e5e_row1_col2\" class=\"data row1 col2\" >0.018386</td>\n",
       "                        <td id=\"T_89e5e_row1_col3\" class=\"data row1 col3\" >0.245699</td>\n",
       "                        <td id=\"T_89e5e_row1_col4\" class=\"data row1 col4\" >0.133825</td>\n",
       "                        <td id=\"T_89e5e_row1_col5\" class=\"data row1 col5\" >0.261011</td>\n",
       "                        <td id=\"T_89e5e_row1_col6\" class=\"data row1 col6\" >-0.068867</td>\n",
       "                        <td id=\"T_89e5e_row1_col7\" class=\"data row1 col7\" >0.021466</td>\n",
       "                        <td id=\"T_89e5e_row1_col8\" class=\"data row1 col8\" >-0.018075</td>\n",
       "                        <td id=\"T_89e5e_row1_col9\" class=\"data row1 col9\" >-0.001633</td>\n",
       "                        <td id=\"T_89e5e_row1_col10\" class=\"data row1 col10\" >-0.003748</td>\n",
       "                        <td id=\"T_89e5e_row1_col11\" class=\"data row1 col11\" >nan</td>\n",
       "                        <td id=\"T_89e5e_row1_col12\" class=\"data row1 col12\" >-0.001471</td>\n",
       "                        <td id=\"T_89e5e_row1_col13\" class=\"data row1 col13\" >-0.004123</td>\n",
       "                        <td id=\"T_89e5e_row1_col14\" class=\"data row1 col14\" >-0.003424</td>\n",
       "                        <td id=\"T_89e5e_row1_col15\" class=\"data row1 col15\" >-0.021675</td>\n",
       "                        <td id=\"T_89e5e_row1_col16\" class=\"data row1 col16\" >-0.012540</td>\n",
       "                        <td id=\"T_89e5e_row1_col17\" class=\"data row1 col17\" >-0.003724</td>\n",
       "                        <td id=\"T_89e5e_row1_col18\" class=\"data row1 col18\" >-0.007468</td>\n",
       "                        <td id=\"T_89e5e_row1_col19\" class=\"data row1 col19\" >0.010189</td>\n",
       "                        <td id=\"T_89e5e_row1_col20\" class=\"data row1 col20\" >-0.008009</td>\n",
       "                        <td id=\"T_89e5e_row1_col21\" class=\"data row1 col21\" >0.097280</td>\n",
       "                        <td id=\"T_89e5e_row1_col22\" class=\"data row1 col22\" >-0.021244</td>\n",
       "                        <td id=\"T_89e5e_row1_col23\" class=\"data row1 col23\" >-0.006449</td>\n",
       "                        <td id=\"T_89e5e_row1_col24\" class=\"data row1 col24\" >nan</td>\n",
       "                        <td id=\"T_89e5e_row1_col25\" class=\"data row1 col25\" >nan</td>\n",
       "                        <td id=\"T_89e5e_row1_col26\" class=\"data row1 col26\" >-0.007815</td>\n",
       "                        <td id=\"T_89e5e_row1_col27\" class=\"data row1 col27\" >0.058071</td>\n",
       "                        <td id=\"T_89e5e_row1_col28\" class=\"data row1 col28\" >0.032357</td>\n",
       "                        <td id=\"T_89e5e_row1_col29\" class=\"data row1 col29\" >0.035556</td>\n",
       "                        <td id=\"T_89e5e_row1_col30\" class=\"data row1 col30\" >0.112076</td>\n",
       "                        <td id=\"T_89e5e_row1_col31\" class=\"data row1 col31\" >0.053237</td>\n",
       "                        <td id=\"T_89e5e_row1_col32\" class=\"data row1 col32\" >0.012330</td>\n",
       "                        <td id=\"T_89e5e_row1_col33\" class=\"data row1 col33\" >0.018035</td>\n",
       "                        <td id=\"T_89e5e_row1_col34\" class=\"data row1 col34\" >-0.056012</td>\n",
       "                        <td id=\"T_89e5e_row1_col35\" class=\"data row1 col35\" >0.332221</td>\n",
       "                        <td id=\"T_89e5e_row1_col36\" class=\"data row1 col36\" >0.116868</td>\n",
       "                        <td id=\"T_89e5e_row1_col37\" class=\"data row1 col37\" >0.674276</td>\n",
       "                        <td id=\"T_89e5e_row1_col38\" class=\"data row1 col38\" >0.743822</td>\n",
       "                        <td id=\"T_89e5e_row1_col39\" class=\"data row1 col39\" >0.266010</td>\n",
       "                        <td id=\"T_89e5e_row1_col40\" class=\"data row1 col40\" >0.131186</td>\n",
       "                        <td id=\"T_89e5e_row1_col41\" class=\"data row1 col41\" >0.317901</td>\n",
       "                        <td id=\"T_89e5e_row1_col42\" class=\"data row1 col42\" >0.157853</td>\n",
       "            </tr>\n",
       "            <tr>\n",
       "                        <th id=\"T_89e5e_level0_row2\" class=\"row_heading level0 row2\" >num_procedures</th>\n",
       "                        <td id=\"T_89e5e_row2_col0\" class=\"data row2 col0\" >0.144927</td>\n",
       "                        <td id=\"T_89e5e_row2_col1\" class=\"data row2 col1\" >0.018386</td>\n",
       "                        <td id=\"T_89e5e_row2_col2\" class=\"data row2 col2\" >1.000000</td>\n",
       "                        <td id=\"T_89e5e_row2_col3\" class=\"data row2 col3\" >0.323131</td>\n",
       "                        <td id=\"T_89e5e_row2_col4\" class=\"data row2 col4\" >0.043812</td>\n",
       "                        <td id=\"T_89e5e_row2_col5\" class=\"data row2 col5\" >-0.016235</td>\n",
       "                        <td id=\"T_89e5e_row2_col6\" class=\"data row2 col6\" >-0.063253</td>\n",
       "                        <td id=\"T_89e5e_row2_col7\" class=\"data row2 col7\" >0.006406</td>\n",
       "                        <td id=\"T_89e5e_row2_col8\" class=\"data row2 col8\" >-0.011849</td>\n",
       "                        <td id=\"T_89e5e_row2_col9\" class=\"data row2 col9\" >-0.000849</td>\n",
       "                        <td id=\"T_89e5e_row2_col10\" class=\"data row2 col10\" >-0.000637</td>\n",
       "                        <td id=\"T_89e5e_row2_col11\" class=\"data row2 col11\" >nan</td>\n",
       "                        <td id=\"T_89e5e_row2_col12\" class=\"data row2 col12\" >-0.003817</td>\n",
       "                        <td id=\"T_89e5e_row2_col13\" class=\"data row2 col13\" >-0.000100</td>\n",
       "                        <td id=\"T_89e5e_row2_col14\" class=\"data row2 col14\" >0.003913</td>\n",
       "                        <td id=\"T_89e5e_row2_col15\" class=\"data row2 col15\" >0.019644</td>\n",
       "                        <td id=\"T_89e5e_row2_col16\" class=\"data row2 col16\" >0.001295</td>\n",
       "                        <td id=\"T_89e5e_row2_col17\" class=\"data row2 col17\" >-0.003589</td>\n",
       "                        <td id=\"T_89e5e_row2_col18\" class=\"data row2 col18\" >-0.003580</td>\n",
       "                        <td id=\"T_89e5e_row2_col19\" class=\"data row2 col19\" >-0.010989</td>\n",
       "                        <td id=\"T_89e5e_row2_col20\" class=\"data row2 col20\" >0.007212</td>\n",
       "                        <td id=\"T_89e5e_row2_col21\" class=\"data row2 col21\" >0.008199</td>\n",
       "                        <td id=\"T_89e5e_row2_col22\" class=\"data row2 col22\" >-0.007909</td>\n",
       "                        <td id=\"T_89e5e_row2_col23\" class=\"data row2 col23\" >-0.008972</td>\n",
       "                        <td id=\"T_89e5e_row2_col24\" class=\"data row2 col24\" >nan</td>\n",
       "                        <td id=\"T_89e5e_row2_col25\" class=\"data row2 col25\" >nan</td>\n",
       "                        <td id=\"T_89e5e_row2_col26\" class=\"data row2 col26\" >-0.001601</td>\n",
       "                        <td id=\"T_89e5e_row2_col27\" class=\"data row2 col27\" >-0.014554</td>\n",
       "                        <td id=\"T_89e5e_row2_col28\" class=\"data row2 col28\" >-0.027738</td>\n",
       "                        <td id=\"T_89e5e_row2_col29\" class=\"data row2 col29\" >0.007454</td>\n",
       "                        <td id=\"T_89e5e_row2_col30\" class=\"data row2 col30\" >-0.014343</td>\n",
       "                        <td id=\"T_89e5e_row2_col31\" class=\"data row2 col31\" >-0.059946</td>\n",
       "                        <td id=\"T_89e5e_row2_col32\" class=\"data row2 col32\" >-0.068780</td>\n",
       "                        <td id=\"T_89e5e_row2_col33\" class=\"data row2 col33\" >-0.032385</td>\n",
       "                        <td id=\"T_89e5e_row2_col34\" class=\"data row2 col34\" >-0.030295</td>\n",
       "                        <td id=\"T_89e5e_row2_col35\" class=\"data row2 col35\" >0.258082</td>\n",
       "                        <td id=\"T_89e5e_row2_col36\" class=\"data row2 col36\" >0.883608</td>\n",
       "                        <td id=\"T_89e5e_row2_col37\" class=\"data row2 col37\" >0.138947</td>\n",
       "                        <td id=\"T_89e5e_row2_col38\" class=\"data row2 col38\" >0.235183</td>\n",
       "                        <td id=\"T_89e5e_row2_col39\" class=\"data row2 col39\" >0.278006</td>\n",
       "                        <td id=\"T_89e5e_row2_col40\" class=\"data row2 col40\" >0.105618</td>\n",
       "                        <td id=\"T_89e5e_row2_col41\" class=\"data row2 col41\" >0.152184</td>\n",
       "                        <td id=\"T_89e5e_row2_col42\" class=\"data row2 col42\" >0.070309</td>\n",
       "            </tr>\n",
       "            <tr>\n",
       "                        <th id=\"T_89e5e_level0_row3\" class=\"row_heading level0 row3\" >num_medications</th>\n",
       "                        <td id=\"T_89e5e_row3_col0\" class=\"data row3 col0\" >0.435379</td>\n",
       "                        <td id=\"T_89e5e_row3_col1\" class=\"data row3 col1\" >0.245699</td>\n",
       "                        <td id=\"T_89e5e_row3_col2\" class=\"data row3 col2\" >0.323131</td>\n",
       "                        <td id=\"T_89e5e_row3_col3\" class=\"data row3 col3\" >1.000000</td>\n",
       "                        <td id=\"T_89e5e_row3_col4\" class=\"data row3 col4\" >0.246773</td>\n",
       "                        <td id=\"T_89e5e_row3_col5\" class=\"data row3 col5\" >0.020418</td>\n",
       "                        <td id=\"T_89e5e_row3_col6\" class=\"data row3 col6\" >0.055253</td>\n",
       "                        <td id=\"T_89e5e_row3_col7\" class=\"data row3 col7\" >0.037027</td>\n",
       "                        <td id=\"T_89e5e_row3_col8\" class=\"data row3 col8\" >0.027111</td>\n",
       "                        <td id=\"T_89e5e_row3_col9\" class=\"data row3 col9\" >-0.003889</td>\n",
       "                        <td id=\"T_89e5e_row3_col10\" class=\"data row3 col10\" >0.043110</td>\n",
       "                        <td id=\"T_89e5e_row3_col11\" class=\"data row3 col11\" >nan</td>\n",
       "                        <td id=\"T_89e5e_row3_col12\" class=\"data row3 col12\" >0.043736</td>\n",
       "                        <td id=\"T_89e5e_row3_col13\" class=\"data row3 col13\" >0.032219</td>\n",
       "                        <td id=\"T_89e5e_row3_col14\" class=\"data row3 col14\" >0.008132</td>\n",
       "                        <td id=\"T_89e5e_row3_col15\" class=\"data row3 col15\" >0.066863</td>\n",
       "                        <td id=\"T_89e5e_row3_col16\" class=\"data row3 col16\" >0.053549</td>\n",
       "                        <td id=\"T_89e5e_row3_col17\" class=\"data row3 col17\" >0.018883</td>\n",
       "                        <td id=\"T_89e5e_row3_col18\" class=\"data row3 col18\" >0.005585</td>\n",
       "                        <td id=\"T_89e5e_row3_col19\" class=\"data row3 col19\" >0.007689</td>\n",
       "                        <td id=\"T_89e5e_row3_col20\" class=\"data row3 col20\" >-0.002364</td>\n",
       "                        <td id=\"T_89e5e_row3_col21\" class=\"data row3 col21\" >0.204463</td>\n",
       "                        <td id=\"T_89e5e_row3_col22\" class=\"data row3 col22\" >-0.009295</td>\n",
       "                        <td id=\"T_89e5e_row3_col23\" class=\"data row3 col23\" >-0.001380</td>\n",
       "                        <td id=\"T_89e5e_row3_col24\" class=\"data row3 col24\" >nan</td>\n",
       "                        <td id=\"T_89e5e_row3_col25\" class=\"data row3 col25\" >nan</td>\n",
       "                        <td id=\"T_89e5e_row3_col26\" class=\"data row3 col26\" >0.005186</td>\n",
       "                        <td id=\"T_89e5e_row3_col27\" class=\"data row3 col27\" >0.233640</td>\n",
       "                        <td id=\"T_89e5e_row3_col28\" class=\"data row3 col28\" >0.189417</td>\n",
       "                        <td id=\"T_89e5e_row3_col29\" class=\"data row3 col29\" >0.049185</td>\n",
       "                        <td id=\"T_89e5e_row3_col30\" class=\"data row3 col30\" >0.205593</td>\n",
       "                        <td id=\"T_89e5e_row3_col31\" class=\"data row3 col31\" >0.076854</td>\n",
       "                        <td id=\"T_89e5e_row3_col32\" class=\"data row3 col32\" >0.082222</td>\n",
       "                        <td id=\"T_89e5e_row3_col33\" class=\"data row3 col33\" >0.016405</td>\n",
       "                        <td id=\"T_89e5e_row3_col34\" class=\"data row3 col34\" >0.044805</td>\n",
       "                        <td id=\"T_89e5e_row3_col35\" class=\"data row3 col35\" >0.750273</td>\n",
       "                        <td id=\"T_89e5e_row3_col36\" class=\"data row3 col36\" >0.582999</td>\n",
       "                        <td id=\"T_89e5e_row3_col37\" class=\"data row3 col37\" >0.441709</td>\n",
       "                        <td id=\"T_89e5e_row3_col38\" class=\"data row3 col38\" >0.772855</td>\n",
       "                        <td id=\"T_89e5e_row3_col39\" class=\"data row3 col39\" >0.904072</td>\n",
       "                        <td id=\"T_89e5e_row3_col40\" class=\"data row3 col40\" >0.531842</td>\n",
       "                        <td id=\"T_89e5e_row3_col41\" class=\"data row3 col41\" >0.458848</td>\n",
       "                        <td id=\"T_89e5e_row3_col42\" class=\"data row3 col42\" >0.404290</td>\n",
       "            </tr>\n",
       "            <tr>\n",
       "                        <th id=\"T_89e5e_level0_row4\" class=\"row_heading level0 row4\" >number_diagnoses</th>\n",
       "                        <td id=\"T_89e5e_row4_col0\" class=\"data row4 col0\" >0.205223</td>\n",
       "                        <td id=\"T_89e5e_row4_col1\" class=\"data row4 col1\" >0.133825</td>\n",
       "                        <td id=\"T_89e5e_row4_col2\" class=\"data row4 col2\" >0.043812</td>\n",
       "                        <td id=\"T_89e5e_row4_col3\" class=\"data row4 col3\" >0.246773</td>\n",
       "                        <td id=\"T_89e5e_row4_col4\" class=\"data row4 col4\" >1.000000</td>\n",
       "                        <td id=\"T_89e5e_row4_col5\" class=\"data row4 col5\" >0.009745</td>\n",
       "                        <td id=\"T_89e5e_row4_col6\" class=\"data row4 col6\" >-0.071911</td>\n",
       "                        <td id=\"T_89e5e_row4_col7\" class=\"data row4 col7\" >0.042678</td>\n",
       "                        <td id=\"T_89e5e_row4_col8\" class=\"data row4 col8\" >0.011638</td>\n",
       "                        <td id=\"T_89e5e_row4_col9\" class=\"data row4 col9\" >-0.018702</td>\n",
       "                        <td id=\"T_89e5e_row4_col10\" class=\"data row4 col10\" >0.022229</td>\n",
       "                        <td id=\"T_89e5e_row4_col11\" class=\"data row4 col11\" >nan</td>\n",
       "                        <td id=\"T_89e5e_row4_col12\" class=\"data row4 col12\" >-0.015009</td>\n",
       "                        <td id=\"T_89e5e_row4_col13\" class=\"data row4 col13\" >-0.011977</td>\n",
       "                        <td id=\"T_89e5e_row4_col14\" class=\"data row4 col14\" >0.000839</td>\n",
       "                        <td id=\"T_89e5e_row4_col15\" class=\"data row4 col15\" >0.005192</td>\n",
       "                        <td id=\"T_89e5e_row4_col16\" class=\"data row4 col16\" >-0.007338</td>\n",
       "                        <td id=\"T_89e5e_row4_col17\" class=\"data row4 col17\" >-0.013853</td>\n",
       "                        <td id=\"T_89e5e_row4_col18\" class=\"data row4 col18\" >-0.003890</td>\n",
       "                        <td id=\"T_89e5e_row4_col19\" class=\"data row4 col19\" >0.009453</td>\n",
       "                        <td id=\"T_89e5e_row4_col20\" class=\"data row4 col20\" >-0.000340</td>\n",
       "                        <td id=\"T_89e5e_row4_col21\" class=\"data row4 col21\" >0.104349</td>\n",
       "                        <td id=\"T_89e5e_row4_col22\" class=\"data row4 col22\" >-0.002557</td>\n",
       "                        <td id=\"T_89e5e_row4_col23\" class=\"data row4 col23\" >-0.008567</td>\n",
       "                        <td id=\"T_89e5e_row4_col24\" class=\"data row4 col24\" >nan</td>\n",
       "                        <td id=\"T_89e5e_row4_col25\" class=\"data row4 col25\" >nan</td>\n",
       "                        <td id=\"T_89e5e_row4_col26\" class=\"data row4 col26\" >-0.014694</td>\n",
       "                        <td id=\"T_89e5e_row4_col27\" class=\"data row4 col27\" >0.055193</td>\n",
       "                        <td id=\"T_89e5e_row4_col28\" class=\"data row4 col28\" >0.036101</td>\n",
       "                        <td id=\"T_89e5e_row4_col29\" class=\"data row4 col29\" >0.042967</td>\n",
       "                        <td id=\"T_89e5e_row4_col30\" class=\"data row4 col30\" >0.069796</td>\n",
       "                        <td id=\"T_89e5e_row4_col31\" class=\"data row4 col31\" >0.113401</td>\n",
       "                        <td id=\"T_89e5e_row4_col32\" class=\"data row4 col32\" >0.137964</td>\n",
       "                        <td id=\"T_89e5e_row4_col33\" class=\"data row4 col33\" >0.067679</td>\n",
       "                        <td id=\"T_89e5e_row4_col34\" class=\"data row4 col34\" >0.076108</td>\n",
       "                        <td id=\"T_89e5e_row4_col35\" class=\"data row4 col35\" >0.233872</td>\n",
       "                        <td id=\"T_89e5e_row4_col36\" class=\"data row4 col36\" >0.098243</td>\n",
       "                        <td id=\"T_89e5e_row4_col37\" class=\"data row4 col37\" >0.202591</td>\n",
       "                        <td id=\"T_89e5e_row4_col38\" class=\"data row4 col38\" >0.242674</td>\n",
       "                        <td id=\"T_89e5e_row4_col39\" class=\"data row4 col39\" >0.592329</td>\n",
       "                        <td id=\"T_89e5e_row4_col40\" class=\"data row4 col40\" >0.136632</td>\n",
       "                        <td id=\"T_89e5e_row4_col41\" class=\"data row4 col41\" >0.463854</td>\n",
       "                        <td id=\"T_89e5e_row4_col42\" class=\"data row4 col42\" >0.126708</td>\n",
       "            </tr>\n",
       "            <tr>\n",
       "                        <th id=\"T_89e5e_level0_row5\" class=\"row_heading level0 row5\" >A1Cresult</th>\n",
       "                        <td id=\"T_89e5e_row5_col0\" class=\"data row5 col0\" >0.071567</td>\n",
       "                        <td id=\"T_89e5e_row5_col1\" class=\"data row5 col1\" >0.261011</td>\n",
       "                        <td id=\"T_89e5e_row5_col2\" class=\"data row5 col2\" >-0.016235</td>\n",
       "                        <td id=\"T_89e5e_row5_col3\" class=\"data row5 col3\" >0.020418</td>\n",
       "                        <td id=\"T_89e5e_row5_col4\" class=\"data row5 col4\" >0.009745</td>\n",
       "                        <td id=\"T_89e5e_row5_col5\" class=\"data row5 col5\" >1.000000</td>\n",
       "                        <td id=\"T_89e5e_row5_col6\" class=\"data row5 col6\" >0.031374</td>\n",
       "                        <td id=\"T_89e5e_row5_col7\" class=\"data row5 col7\" >0.029729</td>\n",
       "                        <td id=\"T_89e5e_row5_col8\" class=\"data row5 col8\" >0.000332</td>\n",
       "                        <td id=\"T_89e5e_row5_col9\" class=\"data row5 col9\" >-0.004232</td>\n",
       "                        <td id=\"T_89e5e_row5_col10\" class=\"data row5 col10\" >0.016109</td>\n",
       "                        <td id=\"T_89e5e_row5_col11\" class=\"data row5 col11\" >nan</td>\n",
       "                        <td id=\"T_89e5e_row5_col12\" class=\"data row5 col12\" >0.006941</td>\n",
       "                        <td id=\"T_89e5e_row5_col13\" class=\"data row5 col13\" >-0.000989</td>\n",
       "                        <td id=\"T_89e5e_row5_col14\" class=\"data row5 col14\" >0.003688</td>\n",
       "                        <td id=\"T_89e5e_row5_col15\" class=\"data row5 col15\" >-0.011172</td>\n",
       "                        <td id=\"T_89e5e_row5_col16\" class=\"data row5 col16\" >0.008112</td>\n",
       "                        <td id=\"T_89e5e_row5_col17\" class=\"data row5 col17\" >-0.012720</td>\n",
       "                        <td id=\"T_89e5e_row5_col18\" class=\"data row5 col18\" >0.001710</td>\n",
       "                        <td id=\"T_89e5e_row5_col19\" class=\"data row5 col19\" >-0.006154</td>\n",
       "                        <td id=\"T_89e5e_row5_col20\" class=\"data row5 col20\" >-0.010052</td>\n",
       "                        <td id=\"T_89e5e_row5_col21\" class=\"data row5 col21\" >0.099942</td>\n",
       "                        <td id=\"T_89e5e_row5_col22\" class=\"data row5 col22\" >-0.003994</td>\n",
       "                        <td id=\"T_89e5e_row5_col23\" class=\"data row5 col23\" >0.010241</td>\n",
       "                        <td id=\"T_89e5e_row5_col24\" class=\"data row5 col24\" >nan</td>\n",
       "                        <td id=\"T_89e5e_row5_col25\" class=\"data row5 col25\" >nan</td>\n",
       "                        <td id=\"T_89e5e_row5_col26\" class=\"data row5 col26\" >-0.003553</td>\n",
       "                        <td id=\"T_89e5e_row5_col27\" class=\"data row5 col27\" >0.081858</td>\n",
       "                        <td id=\"T_89e5e_row5_col28\" class=\"data row5 col28\" >0.073190</td>\n",
       "                        <td id=\"T_89e5e_row5_col29\" class=\"data row5 col29\" >-0.009913</td>\n",
       "                        <td id=\"T_89e5e_row5_col30\" class=\"data row5 col30\" >0.088942</td>\n",
       "                        <td id=\"T_89e5e_row5_col31\" class=\"data row5 col31\" >-0.065150</td>\n",
       "                        <td id=\"T_89e5e_row5_col32\" class=\"data row5 col32\" >-0.072040</td>\n",
       "                        <td id=\"T_89e5e_row5_col33\" class=\"data row5 col33\" >-0.010103</td>\n",
       "                        <td id=\"T_89e5e_row5_col34\" class=\"data row5 col34\" >-0.040724</td>\n",
       "                        <td id=\"T_89e5e_row5_col35\" class=\"data row5 col35\" >0.061131</td>\n",
       "                        <td id=\"T_89e5e_row5_col36\" class=\"data row5 col36\" >0.011358</td>\n",
       "                        <td id=\"T_89e5e_row5_col37\" class=\"data row5 col37\" >0.171169</td>\n",
       "                        <td id=\"T_89e5e_row5_col38\" class=\"data row5 col38\" >0.169937</td>\n",
       "                        <td id=\"T_89e5e_row5_col39\" class=\"data row5 col39\" >0.031255</td>\n",
       "                        <td id=\"T_89e5e_row5_col40\" class=\"data row5 col40\" >0.073819</td>\n",
       "                        <td id=\"T_89e5e_row5_col41\" class=\"data row5 col41\" >0.063195</td>\n",
       "                        <td id=\"T_89e5e_row5_col42\" class=\"data row5 col42\" >0.083842</td>\n",
       "            </tr>\n",
       "            <tr>\n",
       "                        <th id=\"T_89e5e_level0_row6\" class=\"row_heading level0 row6\" >metformin</th>\n",
       "                        <td id=\"T_89e5e_row6_col0\" class=\"data row6 col0\" >-0.023903</td>\n",
       "                        <td id=\"T_89e5e_row6_col1\" class=\"data row6 col1\" >-0.068867</td>\n",
       "                        <td id=\"T_89e5e_row6_col2\" class=\"data row6 col2\" >-0.063253</td>\n",
       "                        <td id=\"T_89e5e_row6_col3\" class=\"data row6 col3\" >0.055253</td>\n",
       "                        <td id=\"T_89e5e_row6_col4\" class=\"data row6 col4\" >-0.071911</td>\n",
       "                        <td id=\"T_89e5e_row6_col5\" class=\"data row6 col5\" >0.031374</td>\n",
       "                        <td id=\"T_89e5e_row6_col6\" class=\"data row6 col6\" >1.000000</td>\n",
       "                        <td id=\"T_89e5e_row6_col7\" class=\"data row6 col7\" >-0.009913</td>\n",
       "                        <td id=\"T_89e5e_row6_col8\" class=\"data row6 col8\" >0.022250</td>\n",
       "                        <td id=\"T_89e5e_row6_col9\" class=\"data row6 col9\" >-0.006738</td>\n",
       "                        <td id=\"T_89e5e_row6_col10\" class=\"data row6 col10\" >0.029592</td>\n",
       "                        <td id=\"T_89e5e_row6_col11\" class=\"data row6 col11\" >nan</td>\n",
       "                        <td id=\"T_89e5e_row6_col12\" class=\"data row6 col12\" >0.080359</td>\n",
       "                        <td id=\"T_89e5e_row6_col13\" class=\"data row6 col13\" >0.126647</td>\n",
       "                        <td id=\"T_89e5e_row6_col14\" class=\"data row6 col14\" >-0.007974</td>\n",
       "                        <td id=\"T_89e5e_row6_col15\" class=\"data row6 col15\" >0.046058</td>\n",
       "                        <td id=\"T_89e5e_row6_col16\" class=\"data row6 col16\" >0.079990</td>\n",
       "                        <td id=\"T_89e5e_row6_col17\" class=\"data row6 col17\" >0.018229</td>\n",
       "                        <td id=\"T_89e5e_row6_col18\" class=\"data row6 col18\" >0.008977</td>\n",
       "                        <td id=\"T_89e5e_row6_col19\" class=\"data row6 col19\" >-0.006905</td>\n",
       "                        <td id=\"T_89e5e_row6_col20\" class=\"data row6 col20\" >-0.004205</td>\n",
       "                        <td id=\"T_89e5e_row6_col21\" class=\"data row6 col21\" >-0.045935</td>\n",
       "                        <td id=\"T_89e5e_row6_col22\" class=\"data row6 col22\" >-0.033547</td>\n",
       "                        <td id=\"T_89e5e_row6_col23\" class=\"data row6 col23\" >-0.005638</td>\n",
       "                        <td id=\"T_89e5e_row6_col24\" class=\"data row6 col24\" >nan</td>\n",
       "                        <td id=\"T_89e5e_row6_col25\" class=\"data row6 col25\" >nan</td>\n",
       "                        <td id=\"T_89e5e_row6_col26\" class=\"data row6 col26\" >0.016015</td>\n",
       "                        <td id=\"T_89e5e_row6_col27\" class=\"data row6 col27\" >0.320723</td>\n",
       "                        <td id=\"T_89e5e_row6_col28\" class=\"data row6 col28\" >0.280843</td>\n",
       "                        <td id=\"T_89e5e_row6_col29\" class=\"data row6 col29\" >-0.013914</td>\n",
       "                        <td id=\"T_89e5e_row6_col30\" class=\"data row6 col30\" >-0.005831</td>\n",
       "                        <td id=\"T_89e5e_row6_col31\" class=\"data row6 col31\" >-0.066450</td>\n",
       "                        <td id=\"T_89e5e_row6_col32\" class=\"data row6 col32\" >-0.041301</td>\n",
       "                        <td id=\"T_89e5e_row6_col33\" class=\"data row6 col33\" >-0.024483</td>\n",
       "                        <td id=\"T_89e5e_row6_col34\" class=\"data row6 col34\" >0.018803</td>\n",
       "                        <td id=\"T_89e5e_row6_col35\" class=\"data row6 col35\" >-0.003668</td>\n",
       "                        <td id=\"T_89e5e_row6_col36\" class=\"data row6 col36\" >-0.024428</td>\n",
       "                        <td id=\"T_89e5e_row6_col37\" class=\"data row6 col37\" >-0.053334</td>\n",
       "                        <td id=\"T_89e5e_row6_col38\" class=\"data row6 col38\" >-0.019707</td>\n",
       "                        <td id=\"T_89e5e_row6_col39\" class=\"data row6 col39\" >0.009891</td>\n",
       "                        <td id=\"T_89e5e_row6_col40\" class=\"data row6 col40\" >0.263117</td>\n",
       "                        <td id=\"T_89e5e_row6_col41\" class=\"data row6 col41\" >-0.044958</td>\n",
       "                        <td id=\"T_89e5e_row6_col42\" class=\"data row6 col42\" >-0.002275</td>\n",
       "            </tr>\n",
       "            <tr>\n",
       "                        <th id=\"T_89e5e_level0_row7\" class=\"row_heading level0 row7\" >repaglinide</th>\n",
       "                        <td id=\"T_89e5e_row7_col0\" class=\"data row7 col0\" >0.052552</td>\n",
       "                        <td id=\"T_89e5e_row7_col1\" class=\"data row7 col1\" >0.021466</td>\n",
       "                        <td id=\"T_89e5e_row7_col2\" class=\"data row7 col2\" >0.006406</td>\n",
       "                        <td id=\"T_89e5e_row7_col3\" class=\"data row7 col3\" >0.037027</td>\n",
       "                        <td id=\"T_89e5e_row7_col4\" class=\"data row7 col4\" >0.042678</td>\n",
       "                        <td id=\"T_89e5e_row7_col5\" class=\"data row7 col5\" >0.029729</td>\n",
       "                        <td id=\"T_89e5e_row7_col6\" class=\"data row7 col6\" >-0.009913</td>\n",
       "                        <td id=\"T_89e5e_row7_col7\" class=\"data row7 col7\" >1.000000</td>\n",
       "                        <td id=\"T_89e5e_row7_col8\" class=\"data row7 col8\" >-0.002309</td>\n",
       "                        <td id=\"T_89e5e_row7_col9\" class=\"data row7 col9\" >-0.003907</td>\n",
       "                        <td id=\"T_89e5e_row7_col10\" class=\"data row7 col10\" >0.009400</td>\n",
       "                        <td id=\"T_89e5e_row7_col11\" class=\"data row7 col11\" >nan</td>\n",
       "                        <td id=\"T_89e5e_row7_col12\" class=\"data row7 col12\" >-0.016103</td>\n",
       "                        <td id=\"T_89e5e_row7_col13\" class=\"data row7 col13\" >-0.020582</td>\n",
       "                        <td id=\"T_89e5e_row7_col14\" class=\"data row7 col14\" >-0.001894</td>\n",
       "                        <td id=\"T_89e5e_row7_col15\" class=\"data row7 col15\" >0.010814</td>\n",
       "                        <td id=\"T_89e5e_row7_col16\" class=\"data row7 col16\" >0.016979</td>\n",
       "                        <td id=\"T_89e5e_row7_col17\" class=\"data row7 col17\" >0.025998</td>\n",
       "                        <td id=\"T_89e5e_row7_col18\" class=\"data row7 col18\" >-0.002118</td>\n",
       "                        <td id=\"T_89e5e_row7_col19\" class=\"data row7 col19\" >-0.001640</td>\n",
       "                        <td id=\"T_89e5e_row7_col20\" class=\"data row7 col20\" >-0.002679</td>\n",
       "                        <td id=\"T_89e5e_row7_col21\" class=\"data row7 col21\" >0.023194</td>\n",
       "                        <td id=\"T_89e5e_row7_col22\" class=\"data row7 col22\" >-0.003795</td>\n",
       "                        <td id=\"T_89e5e_row7_col23\" class=\"data row7 col23\" >-0.001339</td>\n",
       "                        <td id=\"T_89e5e_row7_col24\" class=\"data row7 col24\" >nan</td>\n",
       "                        <td id=\"T_89e5e_row7_col25\" class=\"data row7 col25\" >nan</td>\n",
       "                        <td id=\"T_89e5e_row7_col26\" class=\"data row7 col26\" >-0.000947</td>\n",
       "                        <td id=\"T_89e5e_row7_col27\" class=\"data row7 col27\" >0.087741</td>\n",
       "                        <td id=\"T_89e5e_row7_col28\" class=\"data row7 col28\" >0.066717</td>\n",
       "                        <td id=\"T_89e5e_row7_col29\" class=\"data row7 col29\" >0.026356</td>\n",
       "                        <td id=\"T_89e5e_row7_col30\" class=\"data row7 col30\" >0.054626</td>\n",
       "                        <td id=\"T_89e5e_row7_col31\" class=\"data row7 col31\" >0.034377</td>\n",
       "                        <td id=\"T_89e5e_row7_col32\" class=\"data row7 col32\" >0.035133</td>\n",
       "                        <td id=\"T_89e5e_row7_col33\" class=\"data row7 col33\" >0.020527</td>\n",
       "                        <td id=\"T_89e5e_row7_col34\" class=\"data row7 col34\" >0.013160</td>\n",
       "                        <td id=\"T_89e5e_row7_col35\" class=\"data row7 col35\" >0.051675</td>\n",
       "                        <td id=\"T_89e5e_row7_col36\" class=\"data row7 col36\" >0.012564</td>\n",
       "                        <td id=\"T_89e5e_row7_col37\" class=\"data row7 col37\" >0.046113</td>\n",
       "                        <td id=\"T_89e5e_row7_col38\" class=\"data row7 col38\" >0.036871</td>\n",
       "                        <td id=\"T_89e5e_row7_col39\" class=\"data row7 col39\" >0.050135</td>\n",
       "                        <td id=\"T_89e5e_row7_col40\" class=\"data row7 col40\" >0.085871</td>\n",
       "                        <td id=\"T_89e5e_row7_col41\" class=\"data row7 col41\" >0.065742</td>\n",
       "                        <td id=\"T_89e5e_row7_col42\" class=\"data row7 col42\" >0.056842</td>\n",
       "            </tr>\n",
       "            <tr>\n",
       "                        <th id=\"T_89e5e_level0_row8\" class=\"row_heading level0 row8\" >nateglinide</th>\n",
       "                        <td id=\"T_89e5e_row8_col0\" class=\"data row8 col0\" >0.000827</td>\n",
       "                        <td id=\"T_89e5e_row8_col1\" class=\"data row8 col1\" >-0.018075</td>\n",
       "                        <td id=\"T_89e5e_row8_col2\" class=\"data row8 col2\" >-0.011849</td>\n",
       "                        <td id=\"T_89e5e_row8_col3\" class=\"data row8 col3\" >0.027111</td>\n",
       "                        <td id=\"T_89e5e_row8_col4\" class=\"data row8 col4\" >0.011638</td>\n",
       "                        <td id=\"T_89e5e_row8_col5\" class=\"data row8 col5\" >0.000332</td>\n",
       "                        <td id=\"T_89e5e_row8_col6\" class=\"data row8 col6\" >0.022250</td>\n",
       "                        <td id=\"T_89e5e_row8_col7\" class=\"data row8 col7\" >-0.002309</td>\n",
       "                        <td id=\"T_89e5e_row8_col8\" class=\"data row8 col8\" >1.000000</td>\n",
       "                        <td id=\"T_89e5e_row8_col9\" class=\"data row8 col9\" >-0.002588</td>\n",
       "                        <td id=\"T_89e5e_row8_col10\" class=\"data row8 col10\" >0.018669</td>\n",
       "                        <td id=\"T_89e5e_row8_col11\" class=\"data row8 col11\" >nan</td>\n",
       "                        <td id=\"T_89e5e_row8_col12\" class=\"data row8 col12\" >-0.014457</td>\n",
       "                        <td id=\"T_89e5e_row8_col13\" class=\"data row8 col13\" >-0.021330</td>\n",
       "                        <td id=\"T_89e5e_row8_col14\" class=\"data row8 col14\" >-0.001255</td>\n",
       "                        <td id=\"T_89e5e_row8_col15\" class=\"data row8 col15\" >0.040834</td>\n",
       "                        <td id=\"T_89e5e_row8_col16\" class=\"data row8 col16\" >0.020428</td>\n",
       "                        <td id=\"T_89e5e_row8_col17\" class=\"data row8 col17\" >0.011987</td>\n",
       "                        <td id=\"T_89e5e_row8_col18\" class=\"data row8 col18\" >-0.001403</td>\n",
       "                        <td id=\"T_89e5e_row8_col19\" class=\"data row8 col19\" >-0.001087</td>\n",
       "                        <td id=\"T_89e5e_row8_col20\" class=\"data row8 col20\" >-0.001775</td>\n",
       "                        <td id=\"T_89e5e_row8_col21\" class=\"data row8 col21\" >-0.006554</td>\n",
       "                        <td id=\"T_89e5e_row8_col22\" class=\"data row8 col22\" >-0.006753</td>\n",
       "                        <td id=\"T_89e5e_row8_col23\" class=\"data row8 col23\" >-0.000887</td>\n",
       "                        <td id=\"T_89e5e_row8_col24\" class=\"data row8 col24\" >nan</td>\n",
       "                        <td id=\"T_89e5e_row8_col25\" class=\"data row8 col25\" >nan</td>\n",
       "                        <td id=\"T_89e5e_row8_col26\" class=\"data row8 col26\" >-0.000627</td>\n",
       "                        <td id=\"T_89e5e_row8_col27\" class=\"data row8 col27\" >0.058359</td>\n",
       "                        <td id=\"T_89e5e_row8_col28\" class=\"data row8 col28\" >0.044203</td>\n",
       "                        <td id=\"T_89e5e_row8_col29\" class=\"data row8 col29\" >0.000390</td>\n",
       "                        <td id=\"T_89e5e_row8_col30\" class=\"data row8 col30\" >-0.007866</td>\n",
       "                        <td id=\"T_89e5e_row8_col31\" class=\"data row8 col31\" >0.008926</td>\n",
       "                        <td id=\"T_89e5e_row8_col32\" class=\"data row8 col32\" >0.008988</td>\n",
       "                        <td id=\"T_89e5e_row8_col33\" class=\"data row8 col33\" >0.005799</td>\n",
       "                        <td id=\"T_89e5e_row8_col34\" class=\"data row8 col34\" >0.004424</td>\n",
       "                        <td id=\"T_89e5e_row8_col35\" class=\"data row8 col35\" >0.006751</td>\n",
       "                        <td id=\"T_89e5e_row8_col36\" class=\"data row8 col36\" >-0.006553</td>\n",
       "                        <td id=\"T_89e5e_row8_col37\" class=\"data row8 col37\" >-0.011541</td>\n",
       "                        <td id=\"T_89e5e_row8_col38\" class=\"data row8 col38\" >0.003786</td>\n",
       "                        <td id=\"T_89e5e_row8_col39\" class=\"data row8 col39\" >0.026661</td>\n",
       "                        <td id=\"T_89e5e_row8_col40\" class=\"data row8 col40\" >0.057717</td>\n",
       "                        <td id=\"T_89e5e_row8_col41\" class=\"data row8 col41\" >0.004716</td>\n",
       "                        <td id=\"T_89e5e_row8_col42\" class=\"data row8 col42\" >-0.010623</td>\n",
       "            </tr>\n",
       "            <tr>\n",
       "                        <th id=\"T_89e5e_level0_row9\" class=\"row_heading level0 row9\" >chlorpropamide</th>\n",
       "                        <td id=\"T_89e5e_row9_col0\" class=\"data row9 col0\" >-0.010036</td>\n",
       "                        <td id=\"T_89e5e_row9_col1\" class=\"data row9 col1\" >-0.001633</td>\n",
       "                        <td id=\"T_89e5e_row9_col2\" class=\"data row9 col2\" >-0.000849</td>\n",
       "                        <td id=\"T_89e5e_row9_col3\" class=\"data row9 col3\" >-0.003889</td>\n",
       "                        <td id=\"T_89e5e_row9_col4\" class=\"data row9 col4\" >-0.018702</td>\n",
       "                        <td id=\"T_89e5e_row9_col5\" class=\"data row9 col5\" >-0.004232</td>\n",
       "                        <td id=\"T_89e5e_row9_col6\" class=\"data row9 col6\" >-0.006738</td>\n",
       "                        <td id=\"T_89e5e_row9_col7\" class=\"data row9 col7\" >-0.003907</td>\n",
       "                        <td id=\"T_89e5e_row9_col8\" class=\"data row9 col8\" >-0.002588</td>\n",
       "                        <td id=\"T_89e5e_row9_col9\" class=\"data row9 col9\" >1.000000</td>\n",
       "                        <td id=\"T_89e5e_row9_col10\" class=\"data row9 col10\" >-0.007687</td>\n",
       "                        <td id=\"T_89e5e_row9_col11\" class=\"data row9 col11\" >nan</td>\n",
       "                        <td id=\"T_89e5e_row9_col12\" class=\"data row9 col12\" >-0.012342</td>\n",
       "                        <td id=\"T_89e5e_row9_col13\" class=\"data row9 col13\" >-0.004844</td>\n",
       "                        <td id=\"T_89e5e_row9_col14\" class=\"data row9 col14\" >-0.000527</td>\n",
       "                        <td id=\"T_89e5e_row9_col15\" class=\"data row9 col15\" >-0.009252</td>\n",
       "                        <td id=\"T_89e5e_row9_col16\" class=\"data row9 col16\" >-0.000458</td>\n",
       "                        <td id=\"T_89e5e_row9_col17\" class=\"data row9 col17\" >-0.001689</td>\n",
       "                        <td id=\"T_89e5e_row9_col18\" class=\"data row9 col18\" >-0.000589</td>\n",
       "                        <td id=\"T_89e5e_row9_col19\" class=\"data row9 col19\" >-0.000456</td>\n",
       "                        <td id=\"T_89e5e_row9_col20\" class=\"data row9 col20\" >-0.000745</td>\n",
       "                        <td id=\"T_89e5e_row9_col21\" class=\"data row9 col21\" >-0.025902</td>\n",
       "                        <td id=\"T_89e5e_row9_col22\" class=\"data row9 col22\" >-0.002835</td>\n",
       "                        <td id=\"T_89e5e_row9_col23\" class=\"data row9 col23\" >-0.000372</td>\n",
       "                        <td id=\"T_89e5e_row9_col24\" class=\"data row9 col24\" >nan</td>\n",
       "                        <td id=\"T_89e5e_row9_col25\" class=\"data row9 col25\" >nan</td>\n",
       "                        <td id=\"T_89e5e_row9_col26\" class=\"data row9 col26\" >-0.000263</td>\n",
       "                        <td id=\"T_89e5e_row9_col27\" class=\"data row9 col27\" >-0.005996</td>\n",
       "                        <td id=\"T_89e5e_row9_col28\" class=\"data row9 col28\" >0.018554</td>\n",
       "                        <td id=\"T_89e5e_row9_col29\" class=\"data row9 col29\" >-0.003814</td>\n",
       "                        <td id=\"T_89e5e_row9_col30\" class=\"data row9 col30\" >-0.004955</td>\n",
       "                        <td id=\"T_89e5e_row9_col31\" class=\"data row9 col31\" >-0.009964</td>\n",
       "                        <td id=\"T_89e5e_row9_col32\" class=\"data row9 col32\" >-0.013999</td>\n",
       "                        <td id=\"T_89e5e_row9_col33\" class=\"data row9 col33\" >-0.009343</td>\n",
       "                        <td id=\"T_89e5e_row9_col34\" class=\"data row9 col34\" >-0.008005</td>\n",
       "                        <td id=\"T_89e5e_row9_col35\" class=\"data row9 col35\" >-0.008269</td>\n",
       "                        <td id=\"T_89e5e_row9_col36\" class=\"data row9 col36\" >-0.003287</td>\n",
       "                        <td id=\"T_89e5e_row9_col37\" class=\"data row9 col37\" >-0.008662</td>\n",
       "                        <td id=\"T_89e5e_row9_col38\" class=\"data row9 col38\" >-0.006390</td>\n",
       "                        <td id=\"T_89e5e_row9_col39\" class=\"data row9 col39\" >-0.010333</td>\n",
       "                        <td id=\"T_89e5e_row9_col40\" class=\"data row9 col40\" >-0.009072</td>\n",
       "                        <td id=\"T_89e5e_row9_col41\" class=\"data row9 col41\" >-0.012109</td>\n",
       "                        <td id=\"T_89e5e_row9_col42\" class=\"data row9 col42\" >-0.005601</td>\n",
       "            </tr>\n",
       "            <tr>\n",
       "                        <th id=\"T_89e5e_level0_row10\" class=\"row_heading level0 row10\" >glimepiride</th>\n",
       "                        <td id=\"T_89e5e_row10_col0\" class=\"data row10 col0\" >0.010013</td>\n",
       "                        <td id=\"T_89e5e_row10_col1\" class=\"data row10 col1\" >-0.003748</td>\n",
       "                        <td id=\"T_89e5e_row10_col2\" class=\"data row10 col2\" >-0.000637</td>\n",
       "                        <td id=\"T_89e5e_row10_col3\" class=\"data row10 col3\" >0.043110</td>\n",
       "                        <td id=\"T_89e5e_row10_col4\" class=\"data row10 col4\" >0.022229</td>\n",
       "                        <td id=\"T_89e5e_row10_col5\" class=\"data row10 col5\" >0.016109</td>\n",
       "                        <td id=\"T_89e5e_row10_col6\" class=\"data row10 col6\" >0.029592</td>\n",
       "                        <td id=\"T_89e5e_row10_col7\" class=\"data row10 col7\" >0.009400</td>\n",
       "                        <td id=\"T_89e5e_row10_col8\" class=\"data row10 col8\" >0.018669</td>\n",
       "                        <td id=\"T_89e5e_row10_col9\" class=\"data row10 col9\" >-0.007687</td>\n",
       "                        <td id=\"T_89e5e_row10_col10\" class=\"data row10 col10\" >1.000000</td>\n",
       "                        <td id=\"T_89e5e_row10_col11\" class=\"data row10 col11\" >nan</td>\n",
       "                        <td id=\"T_89e5e_row10_col12\" class=\"data row10 col12\" >-0.076774</td>\n",
       "                        <td id=\"T_89e5e_row10_col13\" class=\"data row10 col13\" >-0.068871</td>\n",
       "                        <td id=\"T_89e5e_row10_col14\" class=\"data row10 col14\" >-0.003727</td>\n",
       "                        <td id=\"T_89e5e_row10_col15\" class=\"data row10 col15\" >0.045469</td>\n",
       "                        <td id=\"T_89e5e_row10_col16\" class=\"data row10 col16\" >0.037958</td>\n",
       "                        <td id=\"T_89e5e_row10_col17\" class=\"data row10 col17\" >0.016298</td>\n",
       "                        <td id=\"T_89e5e_row10_col18\" class=\"data row10 col18\" >0.044306</td>\n",
       "                        <td id=\"T_89e5e_row10_col19\" class=\"data row10 col19\" >0.017630</td>\n",
       "                        <td id=\"T_89e5e_row10_col20\" class=\"data row10 col20\" >-0.005272</td>\n",
       "                        <td id=\"T_89e5e_row10_col21\" class=\"data row10 col21\" >0.004354</td>\n",
       "                        <td id=\"T_89e5e_row10_col22\" class=\"data row10 col22\" >-0.013294</td>\n",
       "                        <td id=\"T_89e5e_row10_col23\" class=\"data row10 col23\" >-0.002635</td>\n",
       "                        <td id=\"T_89e5e_row10_col24\" class=\"data row10 col24\" >nan</td>\n",
       "                        <td id=\"T_89e5e_row10_col25\" class=\"data row10 col25\" >nan</td>\n",
       "                        <td id=\"T_89e5e_row10_col26\" class=\"data row10 col26\" >-0.001863</td>\n",
       "                        <td id=\"T_89e5e_row10_col27\" class=\"data row10 col27\" >0.145140</td>\n",
       "                        <td id=\"T_89e5e_row10_col28\" class=\"data row10 col28\" >0.131276</td>\n",
       "                        <td id=\"T_89e5e_row10_col29\" class=\"data row10 col29\" >-0.009562</td>\n",
       "                        <td id=\"T_89e5e_row10_col30\" class=\"data row10 col30\" >0.015176</td>\n",
       "                        <td id=\"T_89e5e_row10_col31\" class=\"data row10 col31\" >-0.013796</td>\n",
       "                        <td id=\"T_89e5e_row10_col32\" class=\"data row10 col32\" >-0.013849</td>\n",
       "                        <td id=\"T_89e5e_row10_col33\" class=\"data row10 col33\" >-0.004504</td>\n",
       "                        <td id=\"T_89e5e_row10_col34\" class=\"data row10 col34\" >-0.004603</td>\n",
       "                        <td id=\"T_89e5e_row10_col35\" class=\"data row10 col35\" >0.024412</td>\n",
       "                        <td id=\"T_89e5e_row10_col36\" class=\"data row10 col36\" >0.008268</td>\n",
       "                        <td id=\"T_89e5e_row10_col37\" class=\"data row10 col37\" >0.007658</td>\n",
       "                        <td id=\"T_89e5e_row10_col38\" class=\"data row10 col38\" >0.025954</td>\n",
       "                        <td id=\"T_89e5e_row10_col39\" class=\"data row10 col39\" >0.043090</td>\n",
       "                        <td id=\"T_89e5e_row10_col40\" class=\"data row10 col40\" >0.131227</td>\n",
       "                        <td id=\"T_89e5e_row10_col41\" class=\"data row10 col41\" >0.015109</td>\n",
       "                        <td id=\"T_89e5e_row10_col42\" class=\"data row10 col42\" >0.024489</td>\n",
       "            </tr>\n",
       "            <tr>\n",
       "                        <th id=\"T_89e5e_level0_row11\" class=\"row_heading level0 row11\" >acetohexamide</th>\n",
       "                        <td id=\"T_89e5e_row11_col0\" class=\"data row11 col0\" >nan</td>\n",
       "                        <td id=\"T_89e5e_row11_col1\" class=\"data row11 col1\" >nan</td>\n",
       "                        <td id=\"T_89e5e_row11_col2\" class=\"data row11 col2\" >nan</td>\n",
       "                        <td id=\"T_89e5e_row11_col3\" class=\"data row11 col3\" >nan</td>\n",
       "                        <td id=\"T_89e5e_row11_col4\" class=\"data row11 col4\" >nan</td>\n",
       "                        <td id=\"T_89e5e_row11_col5\" class=\"data row11 col5\" >nan</td>\n",
       "                        <td id=\"T_89e5e_row11_col6\" class=\"data row11 col6\" >nan</td>\n",
       "                        <td id=\"T_89e5e_row11_col7\" class=\"data row11 col7\" >nan</td>\n",
       "                        <td id=\"T_89e5e_row11_col8\" class=\"data row11 col8\" >nan</td>\n",
       "                        <td id=\"T_89e5e_row11_col9\" class=\"data row11 col9\" >nan</td>\n",
       "                        <td id=\"T_89e5e_row11_col10\" class=\"data row11 col10\" >nan</td>\n",
       "                        <td id=\"T_89e5e_row11_col11\" class=\"data row11 col11\" >nan</td>\n",
       "                        <td id=\"T_89e5e_row11_col12\" class=\"data row11 col12\" >nan</td>\n",
       "                        <td id=\"T_89e5e_row11_col13\" class=\"data row11 col13\" >nan</td>\n",
       "                        <td id=\"T_89e5e_row11_col14\" class=\"data row11 col14\" >nan</td>\n",
       "                        <td id=\"T_89e5e_row11_col15\" class=\"data row11 col15\" >nan</td>\n",
       "                        <td id=\"T_89e5e_row11_col16\" class=\"data row11 col16\" >nan</td>\n",
       "                        <td id=\"T_89e5e_row11_col17\" class=\"data row11 col17\" >nan</td>\n",
       "                        <td id=\"T_89e5e_row11_col18\" class=\"data row11 col18\" >nan</td>\n",
       "                        <td id=\"T_89e5e_row11_col19\" class=\"data row11 col19\" >nan</td>\n",
       "                        <td id=\"T_89e5e_row11_col20\" class=\"data row11 col20\" >nan</td>\n",
       "                        <td id=\"T_89e5e_row11_col21\" class=\"data row11 col21\" >nan</td>\n",
       "                        <td id=\"T_89e5e_row11_col22\" class=\"data row11 col22\" >nan</td>\n",
       "                        <td id=\"T_89e5e_row11_col23\" class=\"data row11 col23\" >nan</td>\n",
       "                        <td id=\"T_89e5e_row11_col24\" class=\"data row11 col24\" >nan</td>\n",
       "                        <td id=\"T_89e5e_row11_col25\" class=\"data row11 col25\" >nan</td>\n",
       "                        <td id=\"T_89e5e_row11_col26\" class=\"data row11 col26\" >nan</td>\n",
       "                        <td id=\"T_89e5e_row11_col27\" class=\"data row11 col27\" >nan</td>\n",
       "                        <td id=\"T_89e5e_row11_col28\" class=\"data row11 col28\" >nan</td>\n",
       "                        <td id=\"T_89e5e_row11_col29\" class=\"data row11 col29\" >nan</td>\n",
       "                        <td id=\"T_89e5e_row11_col30\" class=\"data row11 col30\" >nan</td>\n",
       "                        <td id=\"T_89e5e_row11_col31\" class=\"data row11 col31\" >nan</td>\n",
       "                        <td id=\"T_89e5e_row11_col32\" class=\"data row11 col32\" >nan</td>\n",
       "                        <td id=\"T_89e5e_row11_col33\" class=\"data row11 col33\" >nan</td>\n",
       "                        <td id=\"T_89e5e_row11_col34\" class=\"data row11 col34\" >nan</td>\n",
       "                        <td id=\"T_89e5e_row11_col35\" class=\"data row11 col35\" >nan</td>\n",
       "                        <td id=\"T_89e5e_row11_col36\" class=\"data row11 col36\" >nan</td>\n",
       "                        <td id=\"T_89e5e_row11_col37\" class=\"data row11 col37\" >nan</td>\n",
       "                        <td id=\"T_89e5e_row11_col38\" class=\"data row11 col38\" >nan</td>\n",
       "                        <td id=\"T_89e5e_row11_col39\" class=\"data row11 col39\" >nan</td>\n",
       "                        <td id=\"T_89e5e_row11_col40\" class=\"data row11 col40\" >nan</td>\n",
       "                        <td id=\"T_89e5e_row11_col41\" class=\"data row11 col41\" >nan</td>\n",
       "                        <td id=\"T_89e5e_row11_col42\" class=\"data row11 col42\" >nan</td>\n",
       "            </tr>\n",
       "            <tr>\n",
       "                        <th id=\"T_89e5e_level0_row12\" class=\"row_heading level0 row12\" >glipizide</th>\n",
       "                        <td id=\"T_89e5e_row12_col0\" class=\"data row12 col0\" >0.006571</td>\n",
       "                        <td id=\"T_89e5e_row12_col1\" class=\"data row12 col1\" >-0.001471</td>\n",
       "                        <td id=\"T_89e5e_row12_col2\" class=\"data row12 col2\" >-0.003817</td>\n",
       "                        <td id=\"T_89e5e_row12_col3\" class=\"data row12 col3\" >0.043736</td>\n",
       "                        <td id=\"T_89e5e_row12_col4\" class=\"data row12 col4\" >-0.015009</td>\n",
       "                        <td id=\"T_89e5e_row12_col5\" class=\"data row12 col5\" >0.006941</td>\n",
       "                        <td id=\"T_89e5e_row12_col6\" class=\"data row12 col6\" >0.080359</td>\n",
       "                        <td id=\"T_89e5e_row12_col7\" class=\"data row12 col7\" >-0.016103</td>\n",
       "                        <td id=\"T_89e5e_row12_col8\" class=\"data row12 col8\" >-0.014457</td>\n",
       "                        <td id=\"T_89e5e_row12_col9\" class=\"data row12 col9\" >-0.012342</td>\n",
       "                        <td id=\"T_89e5e_row12_col10\" class=\"data row12 col10\" >-0.076774</td>\n",
       "                        <td id=\"T_89e5e_row12_col11\" class=\"data row12 col11\" >nan</td>\n",
       "                        <td id=\"T_89e5e_row12_col12\" class=\"data row12 col12\" >1.000000</td>\n",
       "                        <td id=\"T_89e5e_row12_col13\" class=\"data row12 col13\" >-0.111352</td>\n",
       "                        <td id=\"T_89e5e_row12_col14\" class=\"data row12 col14\" >-0.005984</td>\n",
       "                        <td id=\"T_89e5e_row12_col15\" class=\"data row12 col15\" >0.045829</td>\n",
       "                        <td id=\"T_89e5e_row12_col16\" class=\"data row12 col16\" >0.038030</td>\n",
       "                        <td id=\"T_89e5e_row12_col17\" class=\"data row12 col17\" >0.034087</td>\n",
       "                        <td id=\"T_89e5e_row12_col18\" class=\"data row12 col18\" >0.004192</td>\n",
       "                        <td id=\"T_89e5e_row12_col19\" class=\"data row12 col19\" >-0.005182</td>\n",
       "                        <td id=\"T_89e5e_row12_col20\" class=\"data row12 col20\" >-0.008464</td>\n",
       "                        <td id=\"T_89e5e_row12_col21\" class=\"data row12 col21\" >-0.027287</td>\n",
       "                        <td id=\"T_89e5e_row12_col22\" class=\"data row12 col22\" >-0.029923</td>\n",
       "                        <td id=\"T_89e5e_row12_col23\" class=\"data row12 col23\" >-0.004231</td>\n",
       "                        <td id=\"T_89e5e_row12_col24\" class=\"data row12 col24\" >nan</td>\n",
       "                        <td id=\"T_89e5e_row12_col25\" class=\"data row12 col25\" >nan</td>\n",
       "                        <td id=\"T_89e5e_row12_col26\" class=\"data row12 col26\" >-0.002992</td>\n",
       "                        <td id=\"T_89e5e_row12_col27\" class=\"data row12 col27\" >0.214133</td>\n",
       "                        <td id=\"T_89e5e_row12_col28\" class=\"data row12 col28\" >0.210764</td>\n",
       "                        <td id=\"T_89e5e_row12_col29\" class=\"data row12 col29\" >0.003495</td>\n",
       "                        <td id=\"T_89e5e_row12_col30\" class=\"data row12 col30\" >-0.001669</td>\n",
       "                        <td id=\"T_89e5e_row12_col31\" class=\"data row12 col31\" >0.006112</td>\n",
       "                        <td id=\"T_89e5e_row12_col32\" class=\"data row12 col32\" >0.013930</td>\n",
       "                        <td id=\"T_89e5e_row12_col33\" class=\"data row12 col33\" >0.007969</td>\n",
       "                        <td id=\"T_89e5e_row12_col34\" class=\"data row12 col34\" >0.013042</td>\n",
       "                        <td id=\"T_89e5e_row12_col35\" class=\"data row12 col35\" >0.015830</td>\n",
       "                        <td id=\"T_89e5e_row12_col36\" class=\"data row12 col36\" >0.008292</td>\n",
       "                        <td id=\"T_89e5e_row12_col37\" class=\"data row12 col37\" >0.003248</td>\n",
       "                        <td id=\"T_89e5e_row12_col38\" class=\"data row12 col38\" >0.023589</td>\n",
       "                        <td id=\"T_89e5e_row12_col39\" class=\"data row12 col39\" >0.027704</td>\n",
       "                        <td id=\"T_89e5e_row12_col40\" class=\"data row12 col40\" >0.179152</td>\n",
       "                        <td id=\"T_89e5e_row12_col41\" class=\"data row12 col41\" >0.000939</td>\n",
       "                        <td id=\"T_89e5e_row12_col42\" class=\"data row12 col42\" >0.003349</td>\n",
       "            </tr>\n",
       "            <tr>\n",
       "                        <th id=\"T_89e5e_level0_row13\" class=\"row_heading level0 row13\" >glyburide</th>\n",
       "                        <td id=\"T_89e5e_row13_col0\" class=\"data row13 col0\" >0.016386</td>\n",
       "                        <td id=\"T_89e5e_row13_col1\" class=\"data row13 col1\" >-0.004123</td>\n",
       "                        <td id=\"T_89e5e_row13_col2\" class=\"data row13 col2\" >-0.000100</td>\n",
       "                        <td id=\"T_89e5e_row13_col3\" class=\"data row13 col3\" >0.032219</td>\n",
       "                        <td id=\"T_89e5e_row13_col4\" class=\"data row13 col4\" >-0.011977</td>\n",
       "                        <td id=\"T_89e5e_row13_col5\" class=\"data row13 col5\" >-0.000989</td>\n",
       "                        <td id=\"T_89e5e_row13_col6\" class=\"data row13 col6\" >0.126647</td>\n",
       "                        <td id=\"T_89e5e_row13_col7\" class=\"data row13 col7\" >-0.020582</td>\n",
       "                        <td id=\"T_89e5e_row13_col8\" class=\"data row13 col8\" >-0.021330</td>\n",
       "                        <td id=\"T_89e5e_row13_col9\" class=\"data row13 col9\" >-0.004844</td>\n",
       "                        <td id=\"T_89e5e_row13_col10\" class=\"data row13 col10\" >-0.068871</td>\n",
       "                        <td id=\"T_89e5e_row13_col11\" class=\"data row13 col11\" >nan</td>\n",
       "                        <td id=\"T_89e5e_row13_col12\" class=\"data row13 col12\" >-0.111352</td>\n",
       "                        <td id=\"T_89e5e_row13_col13\" class=\"data row13 col13\" >1.000000</td>\n",
       "                        <td id=\"T_89e5e_row13_col14\" class=\"data row13 col14\" >0.007677</td>\n",
       "                        <td id=\"T_89e5e_row13_col15\" class=\"data row13 col15\" >0.024528</td>\n",
       "                        <td id=\"T_89e5e_row13_col16\" class=\"data row13 col16\" >0.026094</td>\n",
       "                        <td id=\"T_89e5e_row13_col17\" class=\"data row13 col17\" >0.015382</td>\n",
       "                        <td id=\"T_89e5e_row13_col18\" class=\"data row13 col18\" >0.005652</td>\n",
       "                        <td id=\"T_89e5e_row13_col19\" class=\"data row13 col19\" >-0.004706</td>\n",
       "                        <td id=\"T_89e5e_row13_col20\" class=\"data row13 col20\" >-0.007685</td>\n",
       "                        <td id=\"T_89e5e_row13_col21\" class=\"data row13 col21\" >-0.084017</td>\n",
       "                        <td id=\"T_89e5e_row13_col22\" class=\"data row13 col22\" >-0.016970</td>\n",
       "                        <td id=\"T_89e5e_row13_col23\" class=\"data row13 col23\" >-0.003842</td>\n",
       "                        <td id=\"T_89e5e_row13_col24\" class=\"data row13 col24\" >nan</td>\n",
       "                        <td id=\"T_89e5e_row13_col25\" class=\"data row13 col25\" >nan</td>\n",
       "                        <td id=\"T_89e5e_row13_col26\" class=\"data row13 col26\" >-0.002717</td>\n",
       "                        <td id=\"T_89e5e_row13_col27\" class=\"data row13 col27\" >0.184066</td>\n",
       "                        <td id=\"T_89e5e_row13_col28\" class=\"data row13 col28\" >0.191378</td>\n",
       "                        <td id=\"T_89e5e_row13_col29\" class=\"data row13 col29\" >0.004469</td>\n",
       "                        <td id=\"T_89e5e_row13_col30\" class=\"data row13 col30\" >-0.025344</td>\n",
       "                        <td id=\"T_89e5e_row13_col31\" class=\"data row13 col31\" >-0.016161</td>\n",
       "                        <td id=\"T_89e5e_row13_col32\" class=\"data row13 col32\" >-0.013374</td>\n",
       "                        <td id=\"T_89e5e_row13_col33\" class=\"data row13 col33\" >-0.026913</td>\n",
       "                        <td id=\"T_89e5e_row13_col34\" class=\"data row13 col34\" >0.006012</td>\n",
       "                        <td id=\"T_89e5e_row13_col35\" class=\"data row13 col35\" >0.020412</td>\n",
       "                        <td id=\"T_89e5e_row13_col36\" class=\"data row13 col36\" >0.010479</td>\n",
       "                        <td id=\"T_89e5e_row13_col37\" class=\"data row13 col37\" >0.006756</td>\n",
       "                        <td id=\"T_89e5e_row13_col38\" class=\"data row13 col38\" >0.009424</td>\n",
       "                        <td id=\"T_89e5e_row13_col39\" class=\"data row13 col39\" >0.017882</td>\n",
       "                        <td id=\"T_89e5e_row13_col40\" class=\"data row13 col40\" >0.152941</td>\n",
       "                        <td id=\"T_89e5e_row13_col41\" class=\"data row13 col41\" >0.008159</td>\n",
       "                        <td id=\"T_89e5e_row13_col42\" class=\"data row13 col42\" >-0.022401</td>\n",
       "            </tr>\n",
       "            <tr>\n",
       "                        <th id=\"T_89e5e_level0_row14\" class=\"row_heading level0 row14\" >tolbutamide</th>\n",
       "                        <td id=\"T_89e5e_row14_col0\" class=\"data row14 col0\" >0.007470</td>\n",
       "                        <td id=\"T_89e5e_row14_col1\" class=\"data row14 col1\" >-0.003424</td>\n",
       "                        <td id=\"T_89e5e_row14_col2\" class=\"data row14 col2\" >0.003913</td>\n",
       "                        <td id=\"T_89e5e_row14_col3\" class=\"data row14 col3\" >0.008132</td>\n",
       "                        <td id=\"T_89e5e_row14_col4\" class=\"data row14 col4\" >0.000839</td>\n",
       "                        <td id=\"T_89e5e_row14_col5\" class=\"data row14 col5\" >0.003688</td>\n",
       "                        <td id=\"T_89e5e_row14_col6\" class=\"data row14 col6\" >-0.007974</td>\n",
       "                        <td id=\"T_89e5e_row14_col7\" class=\"data row14 col7\" >-0.001894</td>\n",
       "                        <td id=\"T_89e5e_row14_col8\" class=\"data row14 col8\" >-0.001255</td>\n",
       "                        <td id=\"T_89e5e_row14_col9\" class=\"data row14 col9\" >-0.000527</td>\n",
       "                        <td id=\"T_89e5e_row14_col10\" class=\"data row14 col10\" >-0.003727</td>\n",
       "                        <td id=\"T_89e5e_row14_col11\" class=\"data row14 col11\" >nan</td>\n",
       "                        <td id=\"T_89e5e_row14_col12\" class=\"data row14 col12\" >-0.005984</td>\n",
       "                        <td id=\"T_89e5e_row14_col13\" class=\"data row14 col13\" >0.007677</td>\n",
       "                        <td id=\"T_89e5e_row14_col14\" class=\"data row14 col14\" >1.000000</td>\n",
       "                        <td id=\"T_89e5e_row14_col15\" class=\"data row14 col15\" >-0.004486</td>\n",
       "                        <td id=\"T_89e5e_row14_col16\" class=\"data row14 col16\" >-0.004115</td>\n",
       "                        <td id=\"T_89e5e_row14_col17\" class=\"data row14 col17\" >-0.000819</td>\n",
       "                        <td id=\"T_89e5e_row14_col18\" class=\"data row14 col18\" >-0.000286</td>\n",
       "                        <td id=\"T_89e5e_row14_col19\" class=\"data row14 col19\" >-0.000221</td>\n",
       "                        <td id=\"T_89e5e_row14_col20\" class=\"data row14 col20\" >-0.000361</td>\n",
       "                        <td id=\"T_89e5e_row14_col21\" class=\"data row14 col21\" >-0.008328</td>\n",
       "                        <td id=\"T_89e5e_row14_col22\" class=\"data row14 col22\" >-0.001374</td>\n",
       "                        <td id=\"T_89e5e_row14_col23\" class=\"data row14 col23\" >-0.000181</td>\n",
       "                        <td id=\"T_89e5e_row14_col24\" class=\"data row14 col24\" >nan</td>\n",
       "                        <td id=\"T_89e5e_row14_col25\" class=\"data row14 col25\" >nan</td>\n",
       "                        <td id=\"T_89e5e_row14_col26\" class=\"data row14 col26\" >-0.000128</td>\n",
       "                        <td id=\"T_89e5e_row14_col27\" class=\"data row14 col27\" >0.001824</td>\n",
       "                        <td id=\"T_89e5e_row14_col28\" class=\"data row14 col28\" >0.008996</td>\n",
       "                        <td id=\"T_89e5e_row14_col29\" class=\"data row14 col29\" >0.008706</td>\n",
       "                        <td id=\"T_89e5e_row14_col30\" class=\"data row14 col30\" >0.000346</td>\n",
       "                        <td id=\"T_89e5e_row14_col31\" class=\"data row14 col31\" >-0.002902</td>\n",
       "                        <td id=\"T_89e5e_row14_col32\" class=\"data row14 col32\" >-0.001110</td>\n",
       "                        <td id=\"T_89e5e_row14_col33\" class=\"data row14 col33\" >-0.004530</td>\n",
       "                        <td id=\"T_89e5e_row14_col34\" class=\"data row14 col34\" >0.002728</td>\n",
       "                        <td id=\"T_89e5e_row14_col35\" class=\"data row14 col35\" >0.010598</td>\n",
       "                        <td id=\"T_89e5e_row14_col36\" class=\"data row14 col36\" >0.009561</td>\n",
       "                        <td id=\"T_89e5e_row14_col37\" class=\"data row14 col37\" >0.009170</td>\n",
       "                        <td id=\"T_89e5e_row14_col38\" class=\"data row14 col38\" >0.003504</td>\n",
       "                        <td id=\"T_89e5e_row14_col39\" class=\"data row14 col39\" >0.006851</td>\n",
       "                        <td id=\"T_89e5e_row14_col40\" class=\"data row14 col40\" >0.005469</td>\n",
       "                        <td id=\"T_89e5e_row14_col41\" class=\"data row14 col41\" >0.006326</td>\n",
       "                        <td id=\"T_89e5e_row14_col42\" class=\"data row14 col42\" >-0.000145</td>\n",
       "            </tr>\n",
       "            <tr>\n",
       "                        <th id=\"T_89e5e_level0_row15\" class=\"row_heading level0 row15\" >pioglitazone</th>\n",
       "                        <td id=\"T_89e5e_row15_col0\" class=\"data row15 col0\" >-0.016025</td>\n",
       "                        <td id=\"T_89e5e_row15_col1\" class=\"data row15 col1\" >-0.021675</td>\n",
       "                        <td id=\"T_89e5e_row15_col2\" class=\"data row15 col2\" >0.019644</td>\n",
       "                        <td id=\"T_89e5e_row15_col3\" class=\"data row15 col3\" >0.066863</td>\n",
       "                        <td id=\"T_89e5e_row15_col4\" class=\"data row15 col4\" >0.005192</td>\n",
       "                        <td id=\"T_89e5e_row15_col5\" class=\"data row15 col5\" >-0.011172</td>\n",
       "                        <td id=\"T_89e5e_row15_col6\" class=\"data row15 col6\" >0.046058</td>\n",
       "                        <td id=\"T_89e5e_row15_col7\" class=\"data row15 col7\" >0.010814</td>\n",
       "                        <td id=\"T_89e5e_row15_col8\" class=\"data row15 col8\" >0.040834</td>\n",
       "                        <td id=\"T_89e5e_row15_col9\" class=\"data row15 col9\" >-0.009252</td>\n",
       "                        <td id=\"T_89e5e_row15_col10\" class=\"data row15 col10\" >0.045469</td>\n",
       "                        <td id=\"T_89e5e_row15_col11\" class=\"data row15 col11\" >nan</td>\n",
       "                        <td id=\"T_89e5e_row15_col12\" class=\"data row15 col12\" >0.045829</td>\n",
       "                        <td id=\"T_89e5e_row15_col13\" class=\"data row15 col13\" >0.024528</td>\n",
       "                        <td id=\"T_89e5e_row15_col14\" class=\"data row15 col14\" >-0.004486</td>\n",
       "                        <td id=\"T_89e5e_row15_col15\" class=\"data row15 col15\" >1.000000</td>\n",
       "                        <td id=\"T_89e5e_row15_col16\" class=\"data row15 col16\" >-0.068212</td>\n",
       "                        <td id=\"T_89e5e_row15_col17\" class=\"data row15 col17\" >0.014433</td>\n",
       "                        <td id=\"T_89e5e_row15_col18\" class=\"data row15 col18\" >0.008720</td>\n",
       "                        <td id=\"T_89e5e_row15_col19\" class=\"data row15 col19\" >-0.003885</td>\n",
       "                        <td id=\"T_89e5e_row15_col20\" class=\"data row15 col20\" >-0.006345</td>\n",
       "                        <td id=\"T_89e5e_row15_col21\" class=\"data row15 col21\" >0.000011</td>\n",
       "                        <td id=\"T_89e5e_row15_col22\" class=\"data row15 col22\" >0.033343</td>\n",
       "                        <td id=\"T_89e5e_row15_col23\" class=\"data row15 col23\" >0.018543</td>\n",
       "                        <td id=\"T_89e5e_row15_col24\" class=\"data row15 col24\" >nan</td>\n",
       "                        <td id=\"T_89e5e_row15_col25\" class=\"data row15 col25\" >nan</td>\n",
       "                        <td id=\"T_89e5e_row15_col26\" class=\"data row15 col26\" >0.028466</td>\n",
       "                        <td id=\"T_89e5e_row15_col27\" class=\"data row15 col27\" >0.206380</td>\n",
       "                        <td id=\"T_89e5e_row15_col28\" class=\"data row15 col28\" >0.158001</td>\n",
       "                        <td id=\"T_89e5e_row15_col29\" class=\"data row15 col29\" >-0.000514</td>\n",
       "                        <td id=\"T_89e5e_row15_col30\" class=\"data row15 col30\" >0.018703</td>\n",
       "                        <td id=\"T_89e5e_row15_col31\" class=\"data row15 col31\" >-0.019877</td>\n",
       "                        <td id=\"T_89e5e_row15_col32\" class=\"data row15 col32\" >0.001820</td>\n",
       "                        <td id=\"T_89e5e_row15_col33\" class=\"data row15 col33\" >0.013948</td>\n",
       "                        <td id=\"T_89e5e_row15_col34\" class=\"data row15 col34\" >0.024872</td>\n",
       "                        <td id=\"T_89e5e_row15_col35\" class=\"data row15 col35\" >0.013203</td>\n",
       "                        <td id=\"T_89e5e_row15_col36\" class=\"data row15 col36\" >0.026231</td>\n",
       "                        <td id=\"T_89e5e_row15_col37\" class=\"data row15 col37\" >-0.021433</td>\n",
       "                        <td id=\"T_89e5e_row15_col38\" class=\"data row15 col38\" >0.020162</td>\n",
       "                        <td id=\"T_89e5e_row15_col39\" class=\"data row15 col39\" >0.053477</td>\n",
       "                        <td id=\"T_89e5e_row15_col40\" class=\"data row15 col40\" >0.185025</td>\n",
       "                        <td id=\"T_89e5e_row15_col41\" class=\"data row15 col41\" >-0.009765</td>\n",
       "                        <td id=\"T_89e5e_row15_col42\" class=\"data row15 col42\" >0.025290</td>\n",
       "            </tr>\n",
       "            <tr>\n",
       "                        <th id=\"T_89e5e_level0_row16\" class=\"row_heading level0 row16\" >rosiglitazone</th>\n",
       "                        <td id=\"T_89e5e_row16_col0\" class=\"data row16 col0\" >-0.000636</td>\n",
       "                        <td id=\"T_89e5e_row16_col1\" class=\"data row16 col1\" >-0.012540</td>\n",
       "                        <td id=\"T_89e5e_row16_col2\" class=\"data row16 col2\" >0.001295</td>\n",
       "                        <td id=\"T_89e5e_row16_col3\" class=\"data row16 col3\" >0.053549</td>\n",
       "                        <td id=\"T_89e5e_row16_col4\" class=\"data row16 col4\" >-0.007338</td>\n",
       "                        <td id=\"T_89e5e_row16_col5\" class=\"data row16 col5\" >0.008112</td>\n",
       "                        <td id=\"T_89e5e_row16_col6\" class=\"data row16 col6\" >0.079990</td>\n",
       "                        <td id=\"T_89e5e_row16_col7\" class=\"data row16 col7\" >0.016979</td>\n",
       "                        <td id=\"T_89e5e_row16_col8\" class=\"data row16 col8\" >0.020428</td>\n",
       "                        <td id=\"T_89e5e_row16_col9\" class=\"data row16 col9\" >-0.000458</td>\n",
       "                        <td id=\"T_89e5e_row16_col10\" class=\"data row16 col10\" >0.037958</td>\n",
       "                        <td id=\"T_89e5e_row16_col11\" class=\"data row16 col11\" >nan</td>\n",
       "                        <td id=\"T_89e5e_row16_col12\" class=\"data row16 col12\" >0.038030</td>\n",
       "                        <td id=\"T_89e5e_row16_col13\" class=\"data row16 col13\" >0.026094</td>\n",
       "                        <td id=\"T_89e5e_row16_col14\" class=\"data row16 col14\" >-0.004115</td>\n",
       "                        <td id=\"T_89e5e_row16_col15\" class=\"data row16 col15\" >-0.068212</td>\n",
       "                        <td id=\"T_89e5e_row16_col16\" class=\"data row16 col16\" >1.000000</td>\n",
       "                        <td id=\"T_89e5e_row16_col17\" class=\"data row16 col17\" >0.007506</td>\n",
       "                        <td id=\"T_89e5e_row16_col18\" class=\"data row16 col18\" >-0.004601</td>\n",
       "                        <td id=\"T_89e5e_row16_col19\" class=\"data row16 col19\" >0.015541</td>\n",
       "                        <td id=\"T_89e5e_row16_col20\" class=\"data row16 col20\" >-0.005821</td>\n",
       "                        <td id=\"T_89e5e_row16_col21\" class=\"data row16 col21\" >0.005713</td>\n",
       "                        <td id=\"T_89e5e_row16_col22\" class=\"data row16 col22\" >-0.000467</td>\n",
       "                        <td id=\"T_89e5e_row16_col23\" class=\"data row16 col23\" >-0.002910</td>\n",
       "                        <td id=\"T_89e5e_row16_col24\" class=\"data row16 col24\" >nan</td>\n",
       "                        <td id=\"T_89e5e_row16_col25\" class=\"data row16 col25\" >nan</td>\n",
       "                        <td id=\"T_89e5e_row16_col26\" class=\"data row16 col26\" >-0.002057</td>\n",
       "                        <td id=\"T_89e5e_row16_col27\" class=\"data row16 col27\" >0.190099</td>\n",
       "                        <td id=\"T_89e5e_row16_col28\" class=\"data row16 col28\" >0.144944</td>\n",
       "                        <td id=\"T_89e5e_row16_col29\" class=\"data row16 col29\" >-0.006314</td>\n",
       "                        <td id=\"T_89e5e_row16_col30\" class=\"data row16 col30\" >0.008358</td>\n",
       "                        <td id=\"T_89e5e_row16_col31\" class=\"data row16 col31\" >-0.011599</td>\n",
       "                        <td id=\"T_89e5e_row16_col32\" class=\"data row16 col32\" >-0.007931</td>\n",
       "                        <td id=\"T_89e5e_row16_col33\" class=\"data row16 col33\" >-0.001452</td>\n",
       "                        <td id=\"T_89e5e_row16_col34\" class=\"data row16 col34\" >0.000184</td>\n",
       "                        <td id=\"T_89e5e_row16_col35\" class=\"data row16 col35\" >0.016716</td>\n",
       "                        <td id=\"T_89e5e_row16_col36\" class=\"data row16 col36\" >0.017423</td>\n",
       "                        <td id=\"T_89e5e_row16_col37\" class=\"data row16 col37\" >-0.010451</td>\n",
       "                        <td id=\"T_89e5e_row16_col38\" class=\"data row16 col38\" >0.022573</td>\n",
       "                        <td id=\"T_89e5e_row16_col39\" class=\"data row16 col39\" >0.040434</td>\n",
       "                        <td id=\"T_89e5e_row16_col40\" class=\"data row16 col40\" >0.168218</td>\n",
       "                        <td id=\"T_89e5e_row16_col41\" class=\"data row16 col41\" >-0.002316</td>\n",
       "                        <td id=\"T_89e5e_row16_col42\" class=\"data row16 col42\" >0.015829</td>\n",
       "            </tr>\n",
       "            <tr>\n",
       "                        <th id=\"T_89e5e_level0_row17\" class=\"row_heading level0 row17\" >acarbose</th>\n",
       "                        <td id=\"T_89e5e_row17_col0\" class=\"data row17 col0\" >-0.000537</td>\n",
       "                        <td id=\"T_89e5e_row17_col1\" class=\"data row17 col1\" >-0.003724</td>\n",
       "                        <td id=\"T_89e5e_row17_col2\" class=\"data row17 col2\" >-0.003589</td>\n",
       "                        <td id=\"T_89e5e_row17_col3\" class=\"data row17 col3\" >0.018883</td>\n",
       "                        <td id=\"T_89e5e_row17_col4\" class=\"data row17 col4\" >-0.013853</td>\n",
       "                        <td id=\"T_89e5e_row17_col5\" class=\"data row17 col5\" >-0.012720</td>\n",
       "                        <td id=\"T_89e5e_row17_col6\" class=\"data row17 col6\" >0.018229</td>\n",
       "                        <td id=\"T_89e5e_row17_col7\" class=\"data row17 col7\" >0.025998</td>\n",
       "                        <td id=\"T_89e5e_row17_col8\" class=\"data row17 col8\" >0.011987</td>\n",
       "                        <td id=\"T_89e5e_row17_col9\" class=\"data row17 col9\" >-0.001689</td>\n",
       "                        <td id=\"T_89e5e_row17_col10\" class=\"data row17 col10\" >0.016298</td>\n",
       "                        <td id=\"T_89e5e_row17_col11\" class=\"data row17 col11\" >nan</td>\n",
       "                        <td id=\"T_89e5e_row17_col12\" class=\"data row17 col12\" >0.034087</td>\n",
       "                        <td id=\"T_89e5e_row17_col13\" class=\"data row17 col13\" >0.015382</td>\n",
       "                        <td id=\"T_89e5e_row17_col14\" class=\"data row17 col14\" >-0.000819</td>\n",
       "                        <td id=\"T_89e5e_row17_col15\" class=\"data row17 col15\" >0.014433</td>\n",
       "                        <td id=\"T_89e5e_row17_col16\" class=\"data row17 col16\" >0.007506</td>\n",
       "                        <td id=\"T_89e5e_row17_col17\" class=\"data row17 col17\" >1.000000</td>\n",
       "                        <td id=\"T_89e5e_row17_col18\" class=\"data row17 col18\" >0.069030</td>\n",
       "                        <td id=\"T_89e5e_row17_col19\" class=\"data row17 col19\" >-0.000709</td>\n",
       "                        <td id=\"T_89e5e_row17_col20\" class=\"data row17 col20\" >-0.001158</td>\n",
       "                        <td id=\"T_89e5e_row17_col21\" class=\"data row17 col21\" >-0.009821</td>\n",
       "                        <td id=\"T_89e5e_row17_col22\" class=\"data row17 col22\" >-0.004406</td>\n",
       "                        <td id=\"T_89e5e_row17_col23\" class=\"data row17 col23\" >-0.000579</td>\n",
       "                        <td id=\"T_89e5e_row17_col24\" class=\"data row17 col24\" >nan</td>\n",
       "                        <td id=\"T_89e5e_row17_col25\" class=\"data row17 col25\" >nan</td>\n",
       "                        <td id=\"T_89e5e_row17_col26\" class=\"data row17 col26\" >-0.000409</td>\n",
       "                        <td id=\"T_89e5e_row17_col27\" class=\"data row17 col27\" >0.047346</td>\n",
       "                        <td id=\"T_89e5e_row17_col28\" class=\"data row17 col28\" >0.028836</td>\n",
       "                        <td id=\"T_89e5e_row17_col29\" class=\"data row17 col29\" >0.000929</td>\n",
       "                        <td id=\"T_89e5e_row17_col30\" class=\"data row17 col30\" >0.020836</td>\n",
       "                        <td id=\"T_89e5e_row17_col31\" class=\"data row17 col31\" >-0.001452</td>\n",
       "                        <td id=\"T_89e5e_row17_col32\" class=\"data row17 col32\" >0.005216</td>\n",
       "                        <td id=\"T_89e5e_row17_col33\" class=\"data row17 col33\" >-0.000235</td>\n",
       "                        <td id=\"T_89e5e_row17_col34\" class=\"data row17 col34\" >0.010109</td>\n",
       "                        <td id=\"T_89e5e_row17_col35\" class=\"data row17 col35\" >0.011416</td>\n",
       "                        <td id=\"T_89e5e_row17_col36\" class=\"data row17 col36\" >0.008061</td>\n",
       "                        <td id=\"T_89e5e_row17_col37\" class=\"data row17 col37\" >-0.000353</td>\n",
       "                        <td id=\"T_89e5e_row17_col38\" class=\"data row17 col38\" >0.011442</td>\n",
       "                        <td id=\"T_89e5e_row17_col39\" class=\"data row17 col39\" >0.011390</td>\n",
       "                        <td id=\"T_89e5e_row17_col40\" class=\"data row17 col40\" >0.047073</td>\n",
       "                        <td id=\"T_89e5e_row17_col41\" class=\"data row17 col41\" >-0.001856</td>\n",
       "                        <td id=\"T_89e5e_row17_col42\" class=\"data row17 col42\" >0.025211</td>\n",
       "            </tr>\n",
       "            <tr>\n",
       "                        <th id=\"T_89e5e_level0_row18\" class=\"row_heading level0 row18\" >miglitol</th>\n",
       "                        <td id=\"T_89e5e_row18_col0\" class=\"data row18 col0\" >0.008995</td>\n",
       "                        <td id=\"T_89e5e_row18_col1\" class=\"data row18 col1\" >-0.007468</td>\n",
       "                        <td id=\"T_89e5e_row18_col2\" class=\"data row18 col2\" >-0.003580</td>\n",
       "                        <td id=\"T_89e5e_row18_col3\" class=\"data row18 col3\" >0.005585</td>\n",
       "                        <td id=\"T_89e5e_row18_col4\" class=\"data row18 col4\" >-0.003890</td>\n",
       "                        <td id=\"T_89e5e_row18_col5\" class=\"data row18 col5\" >0.001710</td>\n",
       "                        <td id=\"T_89e5e_row18_col6\" class=\"data row18 col6\" >0.008977</td>\n",
       "                        <td id=\"T_89e5e_row18_col7\" class=\"data row18 col7\" >-0.002118</td>\n",
       "                        <td id=\"T_89e5e_row18_col8\" class=\"data row18 col8\" >-0.001403</td>\n",
       "                        <td id=\"T_89e5e_row18_col9\" class=\"data row18 col9\" >-0.000589</td>\n",
       "                        <td id=\"T_89e5e_row18_col10\" class=\"data row18 col10\" >0.044306</td>\n",
       "                        <td id=\"T_89e5e_row18_col11\" class=\"data row18 col11\" >nan</td>\n",
       "                        <td id=\"T_89e5e_row18_col12\" class=\"data row18 col12\" >0.004192</td>\n",
       "                        <td id=\"T_89e5e_row18_col13\" class=\"data row18 col13\" >0.005652</td>\n",
       "                        <td id=\"T_89e5e_row18_col14\" class=\"data row18 col14\" >-0.000286</td>\n",
       "                        <td id=\"T_89e5e_row18_col15\" class=\"data row18 col15\" >0.008720</td>\n",
       "                        <td id=\"T_89e5e_row18_col16\" class=\"data row18 col16\" >-0.004601</td>\n",
       "                        <td id=\"T_89e5e_row18_col17\" class=\"data row18 col17\" >0.069030</td>\n",
       "                        <td id=\"T_89e5e_row18_col18\" class=\"data row18 col18\" >1.000000</td>\n",
       "                        <td id=\"T_89e5e_row18_col19\" class=\"data row18 col19\" >-0.000247</td>\n",
       "                        <td id=\"T_89e5e_row18_col20\" class=\"data row18 col20\" >-0.000404</td>\n",
       "                        <td id=\"T_89e5e_row18_col21\" class=\"data row18 col21\" >0.003200</td>\n",
       "                        <td id=\"T_89e5e_row18_col22\" class=\"data row18 col22\" >-0.001537</td>\n",
       "                        <td id=\"T_89e5e_row18_col23\" class=\"data row18 col23\" >-0.000202</td>\n",
       "                        <td id=\"T_89e5e_row18_col24\" class=\"data row18 col24\" >nan</td>\n",
       "                        <td id=\"T_89e5e_row18_col25\" class=\"data row18 col25\" >nan</td>\n",
       "                        <td id=\"T_89e5e_row18_col26\" class=\"data row18 col26\" >-0.000143</td>\n",
       "                        <td id=\"T_89e5e_row18_col27\" class=\"data row18 col27\" >0.012830</td>\n",
       "                        <td id=\"T_89e5e_row18_col28\" class=\"data row18 col28\" >0.010059</td>\n",
       "                        <td id=\"T_89e5e_row18_col29\" class=\"data row18 col29\" >0.006648</td>\n",
       "                        <td id=\"T_89e5e_row18_col30\" class=\"data row18 col30\" >0.006656</td>\n",
       "                        <td id=\"T_89e5e_row18_col31\" class=\"data row18 col31\" >0.001156</td>\n",
       "                        <td id=\"T_89e5e_row18_col32\" class=\"data row18 col32\" >0.001157</td>\n",
       "                        <td id=\"T_89e5e_row18_col33\" class=\"data row18 col33\" >0.008556</td>\n",
       "                        <td id=\"T_89e5e_row18_col34\" class=\"data row18 col34\" >-0.006613</td>\n",
       "                        <td id=\"T_89e5e_row18_col35\" class=\"data row18 col35\" >0.010104</td>\n",
       "                        <td id=\"T_89e5e_row18_col36\" class=\"data row18 col36\" >-0.000214</td>\n",
       "                        <td id=\"T_89e5e_row18_col37\" class=\"data row18 col37\" >0.001689</td>\n",
       "                        <td id=\"T_89e5e_row18_col38\" class=\"data row18 col38\" >-0.001342</td>\n",
       "                        <td id=\"T_89e5e_row18_col39\" class=\"data row18 col39\" >0.004995</td>\n",
       "                        <td id=\"T_89e5e_row18_col40\" class=\"data row18 col40\" >0.014128</td>\n",
       "                        <td id=\"T_89e5e_row18_col41\" class=\"data row18 col41\" >0.008288</td>\n",
       "                        <td id=\"T_89e5e_row18_col42\" class=\"data row18 col42\" >0.013601</td>\n",
       "            </tr>\n",
       "            <tr>\n",
       "                        <th id=\"T_89e5e_level0_row19\" class=\"row_heading level0 row19\" >troglitazone</th>\n",
       "                        <td id=\"T_89e5e_row19_col0\" class=\"data row19 col0\" >0.010616</td>\n",
       "                        <td id=\"T_89e5e_row19_col1\" class=\"data row19 col1\" >0.010189</td>\n",
       "                        <td id=\"T_89e5e_row19_col2\" class=\"data row19 col2\" >-0.010989</td>\n",
       "                        <td id=\"T_89e5e_row19_col3\" class=\"data row19 col3\" >0.007689</td>\n",
       "                        <td id=\"T_89e5e_row19_col4\" class=\"data row19 col4\" >0.009453</td>\n",
       "                        <td id=\"T_89e5e_row19_col5\" class=\"data row19 col5\" >-0.006154</td>\n",
       "                        <td id=\"T_89e5e_row19_col6\" class=\"data row19 col6\" >-0.006905</td>\n",
       "                        <td id=\"T_89e5e_row19_col7\" class=\"data row19 col7\" >-0.001640</td>\n",
       "                        <td id=\"T_89e5e_row19_col8\" class=\"data row19 col8\" >-0.001087</td>\n",
       "                        <td id=\"T_89e5e_row19_col9\" class=\"data row19 col9\" >-0.000456</td>\n",
       "                        <td id=\"T_89e5e_row19_col10\" class=\"data row19 col10\" >0.017630</td>\n",
       "                        <td id=\"T_89e5e_row19_col11\" class=\"data row19 col11\" >nan</td>\n",
       "                        <td id=\"T_89e5e_row19_col12\" class=\"data row19 col12\" >-0.005182</td>\n",
       "                        <td id=\"T_89e5e_row19_col13\" class=\"data row19 col13\" >-0.004706</td>\n",
       "                        <td id=\"T_89e5e_row19_col14\" class=\"data row19 col14\" >-0.000221</td>\n",
       "                        <td id=\"T_89e5e_row19_col15\" class=\"data row19 col15\" >-0.003885</td>\n",
       "                        <td id=\"T_89e5e_row19_col16\" class=\"data row19 col16\" >0.015541</td>\n",
       "                        <td id=\"T_89e5e_row19_col17\" class=\"data row19 col17\" >-0.000709</td>\n",
       "                        <td id=\"T_89e5e_row19_col18\" class=\"data row19 col18\" >-0.000247</td>\n",
       "                        <td id=\"T_89e5e_row19_col19\" class=\"data row19 col19\" >1.000000</td>\n",
       "                        <td id=\"T_89e5e_row19_col20\" class=\"data row19 col20\" >-0.000313</td>\n",
       "                        <td id=\"T_89e5e_row19_col21\" class=\"data row19 col21\" >0.004325</td>\n",
       "                        <td id=\"T_89e5e_row19_col22\" class=\"data row19 col22\" >-0.001190</td>\n",
       "                        <td id=\"T_89e5e_row19_col23\" class=\"data row19 col23\" >-0.000156</td>\n",
       "                        <td id=\"T_89e5e_row19_col24\" class=\"data row19 col24\" >nan</td>\n",
       "                        <td id=\"T_89e5e_row19_col25\" class=\"data row19 col25\" >nan</td>\n",
       "                        <td id=\"T_89e5e_row19_col26\" class=\"data row19 col26\" >-0.000111</td>\n",
       "                        <td id=\"T_89e5e_row19_col27\" class=\"data row19 col27\" >0.015510</td>\n",
       "                        <td id=\"T_89e5e_row19_col28\" class=\"data row19 col28\" >0.007791</td>\n",
       "                        <td id=\"T_89e5e_row19_col29\" class=\"data row19 col29\" >-0.004414</td>\n",
       "                        <td id=\"T_89e5e_row19_col30\" class=\"data row19 col30\" >0.002997</td>\n",
       "                        <td id=\"T_89e5e_row19_col31\" class=\"data row19 col31\" >-0.008194</td>\n",
       "                        <td id=\"T_89e5e_row19_col32\" class=\"data row19 col32\" >-0.010249</td>\n",
       "                        <td id=\"T_89e5e_row19_col33\" class=\"data row19 col33\" >-0.003923</td>\n",
       "                        <td id=\"T_89e5e_row19_col34\" class=\"data row19 col34\" >-0.005122</td>\n",
       "                        <td id=\"T_89e5e_row19_col35\" class=\"data row19 col35\" >0.011808</td>\n",
       "                        <td id=\"T_89e5e_row19_col36\" class=\"data row19 col36\" >-0.009174</td>\n",
       "                        <td id=\"T_89e5e_row19_col37\" class=\"data row19 col37\" >0.014396</td>\n",
       "                        <td id=\"T_89e5e_row19_col38\" class=\"data row19 col38\" >0.012092</td>\n",
       "                        <td id=\"T_89e5e_row19_col39\" class=\"data row19 col39\" >0.010763</td>\n",
       "                        <td id=\"T_89e5e_row19_col40\" class=\"data row19 col40\" >0.016491</td>\n",
       "                        <td id=\"T_89e5e_row19_col41\" class=\"data row19 col41\" >0.013418</td>\n",
       "                        <td id=\"T_89e5e_row19_col42\" class=\"data row19 col42\" >0.001637</td>\n",
       "            </tr>\n",
       "            <tr>\n",
       "                        <th id=\"T_89e5e_level0_row20\" class=\"row_heading level0 row20\" >tolazamide</th>\n",
       "                        <td id=\"T_89e5e_row20_col0\" class=\"data row20 col0\" >0.001423</td>\n",
       "                        <td id=\"T_89e5e_row20_col1\" class=\"data row20 col1\" >-0.008009</td>\n",
       "                        <td id=\"T_89e5e_row20_col2\" class=\"data row20 col2\" >0.007212</td>\n",
       "                        <td id=\"T_89e5e_row20_col3\" class=\"data row20 col3\" >-0.002364</td>\n",
       "                        <td id=\"T_89e5e_row20_col4\" class=\"data row20 col4\" >-0.000340</td>\n",
       "                        <td id=\"T_89e5e_row20_col5\" class=\"data row20 col5\" >-0.010052</td>\n",
       "                        <td id=\"T_89e5e_row20_col6\" class=\"data row20 col6\" >-0.004205</td>\n",
       "                        <td id=\"T_89e5e_row20_col7\" class=\"data row20 col7\" >-0.002679</td>\n",
       "                        <td id=\"T_89e5e_row20_col8\" class=\"data row20 col8\" >-0.001775</td>\n",
       "                        <td id=\"T_89e5e_row20_col9\" class=\"data row20 col9\" >-0.000745</td>\n",
       "                        <td id=\"T_89e5e_row20_col10\" class=\"data row20 col10\" >-0.005272</td>\n",
       "                        <td id=\"T_89e5e_row20_col11\" class=\"data row20 col11\" >nan</td>\n",
       "                        <td id=\"T_89e5e_row20_col12\" class=\"data row20 col12\" >-0.008464</td>\n",
       "                        <td id=\"T_89e5e_row20_col13\" class=\"data row20 col13\" >-0.007685</td>\n",
       "                        <td id=\"T_89e5e_row20_col14\" class=\"data row20 col14\" >-0.000361</td>\n",
       "                        <td id=\"T_89e5e_row20_col15\" class=\"data row20 col15\" >-0.006345</td>\n",
       "                        <td id=\"T_89e5e_row20_col16\" class=\"data row20 col16\" >-0.005821</td>\n",
       "                        <td id=\"T_89e5e_row20_col17\" class=\"data row20 col17\" >-0.001158</td>\n",
       "                        <td id=\"T_89e5e_row20_col18\" class=\"data row20 col18\" >-0.000404</td>\n",
       "                        <td id=\"T_89e5e_row20_col19\" class=\"data row20 col19\" >-0.000313</td>\n",
       "                        <td id=\"T_89e5e_row20_col20\" class=\"data row20 col20\" >1.000000</td>\n",
       "                        <td id=\"T_89e5e_row20_col21\" class=\"data row20 col21\" >-0.006126</td>\n",
       "                        <td id=\"T_89e5e_row20_col22\" class=\"data row20 col22\" >-0.001944</td>\n",
       "                        <td id=\"T_89e5e_row20_col23\" class=\"data row20 col23\" >-0.000255</td>\n",
       "                        <td id=\"T_89e5e_row20_col24\" class=\"data row20 col24\" >nan</td>\n",
       "                        <td id=\"T_89e5e_row20_col25\" class=\"data row20 col25\" >nan</td>\n",
       "                        <td id=\"T_89e5e_row20_col26\" class=\"data row20 col26\" >-0.000181</td>\n",
       "                        <td id=\"T_89e5e_row20_col27\" class=\"data row20 col27\" >0.002580</td>\n",
       "                        <td id=\"T_89e5e_row20_col28\" class=\"data row20 col28\" >0.012724</td>\n",
       "                        <td id=\"T_89e5e_row20_col29\" class=\"data row20 col29\" >0.002553</td>\n",
       "                        <td id=\"T_89e5e_row20_col30\" class=\"data row20 col30\" >0.000489</td>\n",
       "                        <td id=\"T_89e5e_row20_col31\" class=\"data row20 col31\" >0.000534</td>\n",
       "                        <td id=\"T_89e5e_row20_col32\" class=\"data row20 col32\" >-0.003144</td>\n",
       "                        <td id=\"T_89e5e_row20_col33\" class=\"data row20 col33\" >-0.006408</td>\n",
       "                        <td id=\"T_89e5e_row20_col34\" class=\"data row20 col34\" >-0.002254</td>\n",
       "                        <td id=\"T_89e5e_row20_col35\" class=\"data row20 col35\" >0.000210</td>\n",
       "                        <td id=\"T_89e5e_row20_col36\" class=\"data row20 col36\" >0.004021</td>\n",
       "                        <td id=\"T_89e5e_row20_col37\" class=\"data row20 col37\" >-0.001720</td>\n",
       "                        <td id=\"T_89e5e_row20_col38\" class=\"data row20 col38\" >-0.005300</td>\n",
       "                        <td id=\"T_89e5e_row20_col39\" class=\"data row20 col39\" >-0.002825</td>\n",
       "                        <td id=\"T_89e5e_row20_col40\" class=\"data row20 col40\" >-0.003782</td>\n",
       "                        <td id=\"T_89e5e_row20_col41\" class=\"data row20 col41\" >0.000562</td>\n",
       "                        <td id=\"T_89e5e_row20_col42\" class=\"data row20 col42\" >-0.001867</td>\n",
       "            </tr>\n",
       "            <tr>\n",
       "                        <th id=\"T_89e5e_level0_row21\" class=\"row_heading level0 row21\" >insulin</th>\n",
       "                        <td id=\"T_89e5e_row21_col0\" class=\"data row21 col0\" >0.096312</td>\n",
       "                        <td id=\"T_89e5e_row21_col1\" class=\"data row21 col1\" >0.097280</td>\n",
       "                        <td id=\"T_89e5e_row21_col2\" class=\"data row21 col2\" >0.008199</td>\n",
       "                        <td id=\"T_89e5e_row21_col3\" class=\"data row21 col3\" >0.204463</td>\n",
       "                        <td id=\"T_89e5e_row21_col4\" class=\"data row21 col4\" >0.104349</td>\n",
       "                        <td id=\"T_89e5e_row21_col5\" class=\"data row21 col5\" >0.099942</td>\n",
       "                        <td id=\"T_89e5e_row21_col6\" class=\"data row21 col6\" >-0.045935</td>\n",
       "                        <td id=\"T_89e5e_row21_col7\" class=\"data row21 col7\" >0.023194</td>\n",
       "                        <td id=\"T_89e5e_row21_col8\" class=\"data row21 col8\" >-0.006554</td>\n",
       "                        <td id=\"T_89e5e_row21_col9\" class=\"data row21 col9\" >-0.025902</td>\n",
       "                        <td id=\"T_89e5e_row21_col10\" class=\"data row21 col10\" >0.004354</td>\n",
       "                        <td id=\"T_89e5e_row21_col11\" class=\"data row21 col11\" >nan</td>\n",
       "                        <td id=\"T_89e5e_row21_col12\" class=\"data row21 col12\" >-0.027287</td>\n",
       "                        <td id=\"T_89e5e_row21_col13\" class=\"data row21 col13\" >-0.084017</td>\n",
       "                        <td id=\"T_89e5e_row21_col14\" class=\"data row21 col14\" >-0.008328</td>\n",
       "                        <td id=\"T_89e5e_row21_col15\" class=\"data row21 col15\" >0.000011</td>\n",
       "                        <td id=\"T_89e5e_row21_col16\" class=\"data row21 col16\" >0.005713</td>\n",
       "                        <td id=\"T_89e5e_row21_col17\" class=\"data row21 col17\" >-0.009821</td>\n",
       "                        <td id=\"T_89e5e_row21_col18\" class=\"data row21 col18\" >0.003200</td>\n",
       "                        <td id=\"T_89e5e_row21_col19\" class=\"data row21 col19\" >0.004325</td>\n",
       "                        <td id=\"T_89e5e_row21_col20\" class=\"data row21 col20\" >-0.006126</td>\n",
       "                        <td id=\"T_89e5e_row21_col21\" class=\"data row21 col21\" >1.000000</td>\n",
       "                        <td id=\"T_89e5e_row21_col22\" class=\"data row21 col22\" >0.000443</td>\n",
       "                        <td id=\"T_89e5e_row21_col23\" class=\"data row21 col23\" >-0.011539</td>\n",
       "                        <td id=\"T_89e5e_row21_col24\" class=\"data row21 col24\" >nan</td>\n",
       "                        <td id=\"T_89e5e_row21_col25\" class=\"data row21 col25\" >nan</td>\n",
       "                        <td id=\"T_89e5e_row21_col26\" class=\"data row21 col26\" >0.007825</td>\n",
       "                        <td id=\"T_89e5e_row21_col27\" class=\"data row21 col27\" >0.503175</td>\n",
       "                        <td id=\"T_89e5e_row21_col28\" class=\"data row21 col28\" >0.574812</td>\n",
       "                        <td id=\"T_89e5e_row21_col29\" class=\"data row21 col29\" >0.020233</td>\n",
       "                        <td id=\"T_89e5e_row21_col30\" class=\"data row21 col30\" >0.442098</td>\n",
       "                        <td id=\"T_89e5e_row21_col31\" class=\"data row21 col31\" >0.056016</td>\n",
       "                        <td id=\"T_89e5e_row21_col32\" class=\"data row21 col32\" >0.049845</td>\n",
       "                        <td id=\"T_89e5e_row21_col33\" class=\"data row21 col33\" >0.046387</td>\n",
       "                        <td id=\"T_89e5e_row21_col34\" class=\"data row21 col34\" >-0.013345</td>\n",
       "                        <td id=\"T_89e5e_row21_col35\" class=\"data row21 col35\" >0.156542</td>\n",
       "                        <td id=\"T_89e5e_row21_col36\" class=\"data row21 col36\" >0.073004</td>\n",
       "                        <td id=\"T_89e5e_row21_col37\" class=\"data row21 col37\" >0.112168</td>\n",
       "                        <td id=\"T_89e5e_row21_col38\" class=\"data row21 col38\" >0.189896</td>\n",
       "                        <td id=\"T_89e5e_row21_col39\" class=\"data row21 col39\" >0.213954</td>\n",
       "                        <td id=\"T_89e5e_row21_col40\" class=\"data row21 col40\" >0.468771</td>\n",
       "                        <td id=\"T_89e5e_row21_col41\" class=\"data row21 col41\" >0.111657</td>\n",
       "                        <td id=\"T_89e5e_row21_col42\" class=\"data row21 col42\" >0.409705</td>\n",
       "            </tr>\n",
       "            <tr>\n",
       "                        <th id=\"T_89e5e_level0_row22\" class=\"row_heading level0 row22\" >glyburide-metformin</th>\n",
       "                        <td id=\"T_89e5e_row22_col0\" class=\"data row22 col0\" >-0.006449</td>\n",
       "                        <td id=\"T_89e5e_row22_col1\" class=\"data row22 col1\" >-0.021244</td>\n",
       "                        <td id=\"T_89e5e_row22_col2\" class=\"data row22 col2\" >-0.007909</td>\n",
       "                        <td id=\"T_89e5e_row22_col3\" class=\"data row22 col3\" >-0.009295</td>\n",
       "                        <td id=\"T_89e5e_row22_col4\" class=\"data row22 col4\" >-0.002557</td>\n",
       "                        <td id=\"T_89e5e_row22_col5\" class=\"data row22 col5\" >-0.003994</td>\n",
       "                        <td id=\"T_89e5e_row22_col6\" class=\"data row22 col6\" >-0.033547</td>\n",
       "                        <td id=\"T_89e5e_row22_col7\" class=\"data row22 col7\" >-0.003795</td>\n",
       "                        <td id=\"T_89e5e_row22_col8\" class=\"data row22 col8\" >-0.006753</td>\n",
       "                        <td id=\"T_89e5e_row22_col9\" class=\"data row22 col9\" >-0.002835</td>\n",
       "                        <td id=\"T_89e5e_row22_col10\" class=\"data row22 col10\" >-0.013294</td>\n",
       "                        <td id=\"T_89e5e_row22_col11\" class=\"data row22 col11\" >nan</td>\n",
       "                        <td id=\"T_89e5e_row22_col12\" class=\"data row22 col12\" >-0.029923</td>\n",
       "                        <td id=\"T_89e5e_row22_col13\" class=\"data row22 col13\" >-0.016970</td>\n",
       "                        <td id=\"T_89e5e_row22_col14\" class=\"data row22 col14\" >-0.001374</td>\n",
       "                        <td id=\"T_89e5e_row22_col15\" class=\"data row22 col15\" >0.033343</td>\n",
       "                        <td id=\"T_89e5e_row22_col16\" class=\"data row22 col16\" >-0.000467</td>\n",
       "                        <td id=\"T_89e5e_row22_col17\" class=\"data row22 col17\" >-0.004406</td>\n",
       "                        <td id=\"T_89e5e_row22_col18\" class=\"data row22 col18\" >-0.001537</td>\n",
       "                        <td id=\"T_89e5e_row22_col19\" class=\"data row22 col19\" >-0.001190</td>\n",
       "                        <td id=\"T_89e5e_row22_col20\" class=\"data row22 col20\" >-0.001944</td>\n",
       "                        <td id=\"T_89e5e_row22_col21\" class=\"data row22 col21\" >0.000443</td>\n",
       "                        <td id=\"T_89e5e_row22_col22\" class=\"data row22 col22\" >1.000000</td>\n",
       "                        <td id=\"T_89e5e_row22_col23\" class=\"data row22 col23\" >-0.000972</td>\n",
       "                        <td id=\"T_89e5e_row22_col24\" class=\"data row22 col24\" >nan</td>\n",
       "                        <td id=\"T_89e5e_row22_col25\" class=\"data row22 col25\" >nan</td>\n",
       "                        <td id=\"T_89e5e_row22_col26\" class=\"data row22 col26\" >-0.000687</td>\n",
       "                        <td id=\"T_89e5e_row22_col27\" class=\"data row22 col27\" >0.039168</td>\n",
       "                        <td id=\"T_89e5e_row22_col28\" class=\"data row22 col28\" >0.048409</td>\n",
       "                        <td id=\"T_89e5e_row22_col29\" class=\"data row22 col29\" >0.003575</td>\n",
       "                        <td id=\"T_89e5e_row22_col30\" class=\"data row22 col30\" >-0.004697</td>\n",
       "                        <td id=\"T_89e5e_row22_col31\" class=\"data row22 col31\" >-0.002520</td>\n",
       "                        <td id=\"T_89e5e_row22_col32\" class=\"data row22 col32\" >-0.003708</td>\n",
       "                        <td id=\"T_89e5e_row22_col33\" class=\"data row22 col33\" >0.006974</td>\n",
       "                        <td id=\"T_89e5e_row22_col34\" class=\"data row22 col34\" >-0.006617</td>\n",
       "                        <td id=\"T_89e5e_row22_col35\" class=\"data row22 col35\" >-0.011134</td>\n",
       "                        <td id=\"T_89e5e_row22_col36\" class=\"data row22 col36\" >-0.009406</td>\n",
       "                        <td id=\"T_89e5e_row22_col37\" class=\"data row22 col37\" >-0.016757</td>\n",
       "                        <td id=\"T_89e5e_row22_col38\" class=\"data row22 col38\" >-0.014815</td>\n",
       "                        <td id=\"T_89e5e_row22_col39\" class=\"data row22 col39\" >-0.007392</td>\n",
       "                        <td id=\"T_89e5e_row22_col40\" class=\"data row22 col40\" >0.030422</td>\n",
       "                        <td id=\"T_89e5e_row22_col41\" class=\"data row22 col41\" >-0.006194</td>\n",
       "                        <td id=\"T_89e5e_row22_col42\" class=\"data row22 col42\" >-0.004630</td>\n",
       "            </tr>\n",
       "            <tr>\n",
       "                        <th id=\"T_89e5e_level0_row23\" class=\"row_heading level0 row23\" >glipizide-metformin</th>\n",
       "                        <td id=\"T_89e5e_row23_col0\" class=\"data row23 col0\" >-0.013000</td>\n",
       "                        <td id=\"T_89e5e_row23_col1\" class=\"data row23 col1\" >-0.006449</td>\n",
       "                        <td id=\"T_89e5e_row23_col2\" class=\"data row23 col2\" >-0.008972</td>\n",
       "                        <td id=\"T_89e5e_row23_col3\" class=\"data row23 col3\" >-0.001380</td>\n",
       "                        <td id=\"T_89e5e_row23_col4\" class=\"data row23 col4\" >-0.008567</td>\n",
       "                        <td id=\"T_89e5e_row23_col5\" class=\"data row23 col5\" >0.010241</td>\n",
       "                        <td id=\"T_89e5e_row23_col6\" class=\"data row23 col6\" >-0.005638</td>\n",
       "                        <td id=\"T_89e5e_row23_col7\" class=\"data row23 col7\" >-0.001339</td>\n",
       "                        <td id=\"T_89e5e_row23_col8\" class=\"data row23 col8\" >-0.000887</td>\n",
       "                        <td id=\"T_89e5e_row23_col9\" class=\"data row23 col9\" >-0.000372</td>\n",
       "                        <td id=\"T_89e5e_row23_col10\" class=\"data row23 col10\" >-0.002635</td>\n",
       "                        <td id=\"T_89e5e_row23_col11\" class=\"data row23 col11\" >nan</td>\n",
       "                        <td id=\"T_89e5e_row23_col12\" class=\"data row23 col12\" >-0.004231</td>\n",
       "                        <td id=\"T_89e5e_row23_col13\" class=\"data row23 col13\" >-0.003842</td>\n",
       "                        <td id=\"T_89e5e_row23_col14\" class=\"data row23 col14\" >-0.000181</td>\n",
       "                        <td id=\"T_89e5e_row23_col15\" class=\"data row23 col15\" >0.018543</td>\n",
       "                        <td id=\"T_89e5e_row23_col16\" class=\"data row23 col16\" >-0.002910</td>\n",
       "                        <td id=\"T_89e5e_row23_col17\" class=\"data row23 col17\" >-0.000579</td>\n",
       "                        <td id=\"T_89e5e_row23_col18\" class=\"data row23 col18\" >-0.000202</td>\n",
       "                        <td id=\"T_89e5e_row23_col19\" class=\"data row23 col19\" >-0.000156</td>\n",
       "                        <td id=\"T_89e5e_row23_col20\" class=\"data row23 col20\" >-0.000255</td>\n",
       "                        <td id=\"T_89e5e_row23_col21\" class=\"data row23 col21\" >-0.011539</td>\n",
       "                        <td id=\"T_89e5e_row23_col22\" class=\"data row23 col22\" >-0.000972</td>\n",
       "                        <td id=\"T_89e5e_row23_col23\" class=\"data row23 col23\" >1.000000</td>\n",
       "                        <td id=\"T_89e5e_row23_col24\" class=\"data row23 col24\" >nan</td>\n",
       "                        <td id=\"T_89e5e_row23_col25\" class=\"data row23 col25\" >nan</td>\n",
       "                        <td id=\"T_89e5e_row23_col26\" class=\"data row23 col26\" >-0.000090</td>\n",
       "                        <td id=\"T_89e5e_row23_col27\" class=\"data row23 col27\" >0.001290</td>\n",
       "                        <td id=\"T_89e5e_row23_col28\" class=\"data row23 col28\" >0.006361</td>\n",
       "                        <td id=\"T_89e5e_row23_col29\" class=\"data row23 col29\" >-0.003604</td>\n",
       "                        <td id=\"T_89e5e_row23_col30\" class=\"data row23 col30\" >-0.006363</td>\n",
       "                        <td id=\"T_89e5e_row23_col31\" class=\"data row23 col31\" >-0.006690</td>\n",
       "                        <td id=\"T_89e5e_row23_col32\" class=\"data row23 col32\" >-0.000785</td>\n",
       "                        <td id=\"T_89e5e_row23_col33\" class=\"data row23 col33\" >-0.003203</td>\n",
       "                        <td id=\"T_89e5e_row23_col34\" class=\"data row23 col34\" >0.008040</td>\n",
       "                        <td id=\"T_89e5e_row23_col35\" class=\"data row23 col35\" >-0.009058</td>\n",
       "                        <td id=\"T_89e5e_row23_col36\" class=\"data row23 col36\" >-0.007491</td>\n",
       "                        <td id=\"T_89e5e_row23_col37\" class=\"data row23 col37\" >-0.010066</td>\n",
       "                        <td id=\"T_89e5e_row23_col38\" class=\"data row23 col38\" >-0.005499</td>\n",
       "                        <td id=\"T_89e5e_row23_col39\" class=\"data row23 col39\" >-0.005370</td>\n",
       "                        <td id=\"T_89e5e_row23_col40\" class=\"data row23 col40\" >-0.000163</td>\n",
       "                        <td id=\"T_89e5e_row23_col41\" class=\"data row23 col41\" >-0.012179</td>\n",
       "                        <td id=\"T_89e5e_row23_col42\" class=\"data row23 col42\" >-0.005751</td>\n",
       "            </tr>\n",
       "            <tr>\n",
       "                        <th id=\"T_89e5e_level0_row24\" class=\"row_heading level0 row24\" >glimepiride-pioglitazone</th>\n",
       "                        <td id=\"T_89e5e_row24_col0\" class=\"data row24 col0\" >nan</td>\n",
       "                        <td id=\"T_89e5e_row24_col1\" class=\"data row24 col1\" >nan</td>\n",
       "                        <td id=\"T_89e5e_row24_col2\" class=\"data row24 col2\" >nan</td>\n",
       "                        <td id=\"T_89e5e_row24_col3\" class=\"data row24 col3\" >nan</td>\n",
       "                        <td id=\"T_89e5e_row24_col4\" class=\"data row24 col4\" >nan</td>\n",
       "                        <td id=\"T_89e5e_row24_col5\" class=\"data row24 col5\" >nan</td>\n",
       "                        <td id=\"T_89e5e_row24_col6\" class=\"data row24 col6\" >nan</td>\n",
       "                        <td id=\"T_89e5e_row24_col7\" class=\"data row24 col7\" >nan</td>\n",
       "                        <td id=\"T_89e5e_row24_col8\" class=\"data row24 col8\" >nan</td>\n",
       "                        <td id=\"T_89e5e_row24_col9\" class=\"data row24 col9\" >nan</td>\n",
       "                        <td id=\"T_89e5e_row24_col10\" class=\"data row24 col10\" >nan</td>\n",
       "                        <td id=\"T_89e5e_row24_col11\" class=\"data row24 col11\" >nan</td>\n",
       "                        <td id=\"T_89e5e_row24_col12\" class=\"data row24 col12\" >nan</td>\n",
       "                        <td id=\"T_89e5e_row24_col13\" class=\"data row24 col13\" >nan</td>\n",
       "                        <td id=\"T_89e5e_row24_col14\" class=\"data row24 col14\" >nan</td>\n",
       "                        <td id=\"T_89e5e_row24_col15\" class=\"data row24 col15\" >nan</td>\n",
       "                        <td id=\"T_89e5e_row24_col16\" class=\"data row24 col16\" >nan</td>\n",
       "                        <td id=\"T_89e5e_row24_col17\" class=\"data row24 col17\" >nan</td>\n",
       "                        <td id=\"T_89e5e_row24_col18\" class=\"data row24 col18\" >nan</td>\n",
       "                        <td id=\"T_89e5e_row24_col19\" class=\"data row24 col19\" >nan</td>\n",
       "                        <td id=\"T_89e5e_row24_col20\" class=\"data row24 col20\" >nan</td>\n",
       "                        <td id=\"T_89e5e_row24_col21\" class=\"data row24 col21\" >nan</td>\n",
       "                        <td id=\"T_89e5e_row24_col22\" class=\"data row24 col22\" >nan</td>\n",
       "                        <td id=\"T_89e5e_row24_col23\" class=\"data row24 col23\" >nan</td>\n",
       "                        <td id=\"T_89e5e_row24_col24\" class=\"data row24 col24\" >nan</td>\n",
       "                        <td id=\"T_89e5e_row24_col25\" class=\"data row24 col25\" >nan</td>\n",
       "                        <td id=\"T_89e5e_row24_col26\" class=\"data row24 col26\" >nan</td>\n",
       "                        <td id=\"T_89e5e_row24_col27\" class=\"data row24 col27\" >nan</td>\n",
       "                        <td id=\"T_89e5e_row24_col28\" class=\"data row24 col28\" >nan</td>\n",
       "                        <td id=\"T_89e5e_row24_col29\" class=\"data row24 col29\" >nan</td>\n",
       "                        <td id=\"T_89e5e_row24_col30\" class=\"data row24 col30\" >nan</td>\n",
       "                        <td id=\"T_89e5e_row24_col31\" class=\"data row24 col31\" >nan</td>\n",
       "                        <td id=\"T_89e5e_row24_col32\" class=\"data row24 col32\" >nan</td>\n",
       "                        <td id=\"T_89e5e_row24_col33\" class=\"data row24 col33\" >nan</td>\n",
       "                        <td id=\"T_89e5e_row24_col34\" class=\"data row24 col34\" >nan</td>\n",
       "                        <td id=\"T_89e5e_row24_col35\" class=\"data row24 col35\" >nan</td>\n",
       "                        <td id=\"T_89e5e_row24_col36\" class=\"data row24 col36\" >nan</td>\n",
       "                        <td id=\"T_89e5e_row24_col37\" class=\"data row24 col37\" >nan</td>\n",
       "                        <td id=\"T_89e5e_row24_col38\" class=\"data row24 col38\" >nan</td>\n",
       "                        <td id=\"T_89e5e_row24_col39\" class=\"data row24 col39\" >nan</td>\n",
       "                        <td id=\"T_89e5e_row24_col40\" class=\"data row24 col40\" >nan</td>\n",
       "                        <td id=\"T_89e5e_row24_col41\" class=\"data row24 col41\" >nan</td>\n",
       "                        <td id=\"T_89e5e_row24_col42\" class=\"data row24 col42\" >nan</td>\n",
       "            </tr>\n",
       "            <tr>\n",
       "                        <th id=\"T_89e5e_level0_row25\" class=\"row_heading level0 row25\" >metformin-rosiglitazone</th>\n",
       "                        <td id=\"T_89e5e_row25_col0\" class=\"data row25 col0\" >nan</td>\n",
       "                        <td id=\"T_89e5e_row25_col1\" class=\"data row25 col1\" >nan</td>\n",
       "                        <td id=\"T_89e5e_row25_col2\" class=\"data row25 col2\" >nan</td>\n",
       "                        <td id=\"T_89e5e_row25_col3\" class=\"data row25 col3\" >nan</td>\n",
       "                        <td id=\"T_89e5e_row25_col4\" class=\"data row25 col4\" >nan</td>\n",
       "                        <td id=\"T_89e5e_row25_col5\" class=\"data row25 col5\" >nan</td>\n",
       "                        <td id=\"T_89e5e_row25_col6\" class=\"data row25 col6\" >nan</td>\n",
       "                        <td id=\"T_89e5e_row25_col7\" class=\"data row25 col7\" >nan</td>\n",
       "                        <td id=\"T_89e5e_row25_col8\" class=\"data row25 col8\" >nan</td>\n",
       "                        <td id=\"T_89e5e_row25_col9\" class=\"data row25 col9\" >nan</td>\n",
       "                        <td id=\"T_89e5e_row25_col10\" class=\"data row25 col10\" >nan</td>\n",
       "                        <td id=\"T_89e5e_row25_col11\" class=\"data row25 col11\" >nan</td>\n",
       "                        <td id=\"T_89e5e_row25_col12\" class=\"data row25 col12\" >nan</td>\n",
       "                        <td id=\"T_89e5e_row25_col13\" class=\"data row25 col13\" >nan</td>\n",
       "                        <td id=\"T_89e5e_row25_col14\" class=\"data row25 col14\" >nan</td>\n",
       "                        <td id=\"T_89e5e_row25_col15\" class=\"data row25 col15\" >nan</td>\n",
       "                        <td id=\"T_89e5e_row25_col16\" class=\"data row25 col16\" >nan</td>\n",
       "                        <td id=\"T_89e5e_row25_col17\" class=\"data row25 col17\" >nan</td>\n",
       "                        <td id=\"T_89e5e_row25_col18\" class=\"data row25 col18\" >nan</td>\n",
       "                        <td id=\"T_89e5e_row25_col19\" class=\"data row25 col19\" >nan</td>\n",
       "                        <td id=\"T_89e5e_row25_col20\" class=\"data row25 col20\" >nan</td>\n",
       "                        <td id=\"T_89e5e_row25_col21\" class=\"data row25 col21\" >nan</td>\n",
       "                        <td id=\"T_89e5e_row25_col22\" class=\"data row25 col22\" >nan</td>\n",
       "                        <td id=\"T_89e5e_row25_col23\" class=\"data row25 col23\" >nan</td>\n",
       "                        <td id=\"T_89e5e_row25_col24\" class=\"data row25 col24\" >nan</td>\n",
       "                        <td id=\"T_89e5e_row25_col25\" class=\"data row25 col25\" >nan</td>\n",
       "                        <td id=\"T_89e5e_row25_col26\" class=\"data row25 col26\" >nan</td>\n",
       "                        <td id=\"T_89e5e_row25_col27\" class=\"data row25 col27\" >nan</td>\n",
       "                        <td id=\"T_89e5e_row25_col28\" class=\"data row25 col28\" >nan</td>\n",
       "                        <td id=\"T_89e5e_row25_col29\" class=\"data row25 col29\" >nan</td>\n",
       "                        <td id=\"T_89e5e_row25_col30\" class=\"data row25 col30\" >nan</td>\n",
       "                        <td id=\"T_89e5e_row25_col31\" class=\"data row25 col31\" >nan</td>\n",
       "                        <td id=\"T_89e5e_row25_col32\" class=\"data row25 col32\" >nan</td>\n",
       "                        <td id=\"T_89e5e_row25_col33\" class=\"data row25 col33\" >nan</td>\n",
       "                        <td id=\"T_89e5e_row25_col34\" class=\"data row25 col34\" >nan</td>\n",
       "                        <td id=\"T_89e5e_row25_col35\" class=\"data row25 col35\" >nan</td>\n",
       "                        <td id=\"T_89e5e_row25_col36\" class=\"data row25 col36\" >nan</td>\n",
       "                        <td id=\"T_89e5e_row25_col37\" class=\"data row25 col37\" >nan</td>\n",
       "                        <td id=\"T_89e5e_row25_col38\" class=\"data row25 col38\" >nan</td>\n",
       "                        <td id=\"T_89e5e_row25_col39\" class=\"data row25 col39\" >nan</td>\n",
       "                        <td id=\"T_89e5e_row25_col40\" class=\"data row25 col40\" >nan</td>\n",
       "                        <td id=\"T_89e5e_row25_col41\" class=\"data row25 col41\" >nan</td>\n",
       "                        <td id=\"T_89e5e_row25_col42\" class=\"data row25 col42\" >nan</td>\n",
       "            </tr>\n",
       "            <tr>\n",
       "                        <th id=\"T_89e5e_level0_row26\" class=\"row_heading level0 row26\" >metformin-pioglitazone</th>\n",
       "                        <td id=\"T_89e5e_row26_col0\" class=\"data row26 col0\" >0.005171</td>\n",
       "                        <td id=\"T_89e5e_row26_col1\" class=\"data row26 col1\" >-0.007815</td>\n",
       "                        <td id=\"T_89e5e_row26_col2\" class=\"data row26 col2\" >-0.001601</td>\n",
       "                        <td id=\"T_89e5e_row26_col3\" class=\"data row26 col3\" >0.005186</td>\n",
       "                        <td id=\"T_89e5e_row26_col4\" class=\"data row26 col4\" >-0.014694</td>\n",
       "                        <td id=\"T_89e5e_row26_col5\" class=\"data row26 col5\" >-0.003553</td>\n",
       "                        <td id=\"T_89e5e_row26_col6\" class=\"data row26 col6\" >0.016015</td>\n",
       "                        <td id=\"T_89e5e_row26_col7\" class=\"data row26 col7\" >-0.000947</td>\n",
       "                        <td id=\"T_89e5e_row26_col8\" class=\"data row26 col8\" >-0.000627</td>\n",
       "                        <td id=\"T_89e5e_row26_col9\" class=\"data row26 col9\" >-0.000263</td>\n",
       "                        <td id=\"T_89e5e_row26_col10\" class=\"data row26 col10\" >-0.001863</td>\n",
       "                        <td id=\"T_89e5e_row26_col11\" class=\"data row26 col11\" >nan</td>\n",
       "                        <td id=\"T_89e5e_row26_col12\" class=\"data row26 col12\" >-0.002992</td>\n",
       "                        <td id=\"T_89e5e_row26_col13\" class=\"data row26 col13\" >-0.002717</td>\n",
       "                        <td id=\"T_89e5e_row26_col14\" class=\"data row26 col14\" >-0.000128</td>\n",
       "                        <td id=\"T_89e5e_row26_col15\" class=\"data row26 col15\" >0.028466</td>\n",
       "                        <td id=\"T_89e5e_row26_col16\" class=\"data row26 col16\" >-0.002057</td>\n",
       "                        <td id=\"T_89e5e_row26_col17\" class=\"data row26 col17\" >-0.000409</td>\n",
       "                        <td id=\"T_89e5e_row26_col18\" class=\"data row26 col18\" >-0.000143</td>\n",
       "                        <td id=\"T_89e5e_row26_col19\" class=\"data row26 col19\" >-0.000111</td>\n",
       "                        <td id=\"T_89e5e_row26_col20\" class=\"data row26 col20\" >-0.000181</td>\n",
       "                        <td id=\"T_89e5e_row26_col21\" class=\"data row26 col21\" >0.007825</td>\n",
       "                        <td id=\"T_89e5e_row26_col22\" class=\"data row26 col22\" >-0.000687</td>\n",
       "                        <td id=\"T_89e5e_row26_col23\" class=\"data row26 col23\" >-0.000090</td>\n",
       "                        <td id=\"T_89e5e_row26_col24\" class=\"data row26 col24\" >nan</td>\n",
       "                        <td id=\"T_89e5e_row26_col25\" class=\"data row26 col25\" >nan</td>\n",
       "                        <td id=\"T_89e5e_row26_col26\" class=\"data row26 col26\" >1.000000</td>\n",
       "                        <td id=\"T_89e5e_row26_col27\" class=\"data row26 col27\" >0.008954</td>\n",
       "                        <td id=\"T_89e5e_row26_col28\" class=\"data row26 col28\" >0.004498</td>\n",
       "                        <td id=\"T_89e5e_row26_col29\" class=\"data row26 col29\" >-0.002548</td>\n",
       "                        <td id=\"T_89e5e_row26_col30\" class=\"data row26 col30\" >0.014190</td>\n",
       "                        <td id=\"T_89e5e_row26_col31\" class=\"data row26 col31\" >-0.004730</td>\n",
       "                        <td id=\"T_89e5e_row26_col32\" class=\"data row26 col32\" >-0.005917</td>\n",
       "                        <td id=\"T_89e5e_row26_col33\" class=\"data row26 col33\" >-0.002265</td>\n",
       "                        <td id=\"T_89e5e_row26_col34\" class=\"data row26 col34\" >-0.002957</td>\n",
       "                        <td id=\"T_89e5e_row26_col35\" class=\"data row26 col35\" >0.005107</td>\n",
       "                        <td id=\"T_89e5e_row26_col36\" class=\"data row26 col36\" >-0.000962</td>\n",
       "                        <td id=\"T_89e5e_row26_col37\" class=\"data row26 col37\" >-0.002458</td>\n",
       "                        <td id=\"T_89e5e_row26_col38\" class=\"data row26 col38\" >-0.003490</td>\n",
       "                        <td id=\"T_89e5e_row26_col39\" class=\"data row26 col39\" >-0.004459</td>\n",
       "                        <td id=\"T_89e5e_row26_col40\" class=\"data row26 col40\" >0.010063</td>\n",
       "                        <td id=\"T_89e5e_row26_col41\" class=\"data row26 col41\" >-0.002683</td>\n",
       "                        <td id=\"T_89e5e_row26_col42\" class=\"data row26 col42\" >0.014727</td>\n",
       "            </tr>\n",
       "            <tr>\n",
       "                        <th id=\"T_89e5e_level0_row27\" class=\"row_heading level0 row27\" >change</th>\n",
       "                        <td id=\"T_89e5e_row27_col0\" class=\"data row27 col0\" >0.093279</td>\n",
       "                        <td id=\"T_89e5e_row27_col1\" class=\"data row27 col1\" >0.058071</td>\n",
       "                        <td id=\"T_89e5e_row27_col2\" class=\"data row27 col2\" >-0.014554</td>\n",
       "                        <td id=\"T_89e5e_row27_col3\" class=\"data row27 col3\" >0.233640</td>\n",
       "                        <td id=\"T_89e5e_row27_col4\" class=\"data row27 col4\" >0.055193</td>\n",
       "                        <td id=\"T_89e5e_row27_col5\" class=\"data row27 col5\" >0.081858</td>\n",
       "                        <td id=\"T_89e5e_row27_col6\" class=\"data row27 col6\" >0.320723</td>\n",
       "                        <td id=\"T_89e5e_row27_col7\" class=\"data row27 col7\" >0.087741</td>\n",
       "                        <td id=\"T_89e5e_row27_col8\" class=\"data row27 col8\" >0.058359</td>\n",
       "                        <td id=\"T_89e5e_row27_col9\" class=\"data row27 col9\" >-0.005996</td>\n",
       "                        <td id=\"T_89e5e_row27_col10\" class=\"data row27 col10\" >0.145140</td>\n",
       "                        <td id=\"T_89e5e_row27_col11\" class=\"data row27 col11\" >nan</td>\n",
       "                        <td id=\"T_89e5e_row27_col12\" class=\"data row27 col12\" >0.214133</td>\n",
       "                        <td id=\"T_89e5e_row27_col13\" class=\"data row27 col13\" >0.184066</td>\n",
       "                        <td id=\"T_89e5e_row27_col14\" class=\"data row27 col14\" >0.001824</td>\n",
       "                        <td id=\"T_89e5e_row27_col15\" class=\"data row27 col15\" >0.206380</td>\n",
       "                        <td id=\"T_89e5e_row27_col16\" class=\"data row27 col16\" >0.190099</td>\n",
       "                        <td id=\"T_89e5e_row27_col17\" class=\"data row27 col17\" >0.047346</td>\n",
       "                        <td id=\"T_89e5e_row27_col18\" class=\"data row27 col18\" >0.012830</td>\n",
       "                        <td id=\"T_89e5e_row27_col19\" class=\"data row27 col19\" >0.015510</td>\n",
       "                        <td id=\"T_89e5e_row27_col20\" class=\"data row27 col20\" >0.002580</td>\n",
       "                        <td id=\"T_89e5e_row27_col21\" class=\"data row27 col21\" >0.503175</td>\n",
       "                        <td id=\"T_89e5e_row27_col22\" class=\"data row27 col22\" >0.039168</td>\n",
       "                        <td id=\"T_89e5e_row27_col23\" class=\"data row27 col23\" >0.001290</td>\n",
       "                        <td id=\"T_89e5e_row27_col24\" class=\"data row27 col24\" >nan</td>\n",
       "                        <td id=\"T_89e5e_row27_col25\" class=\"data row27 col25\" >nan</td>\n",
       "                        <td id=\"T_89e5e_row27_col26\" class=\"data row27 col26\" >0.008954</td>\n",
       "                        <td id=\"T_89e5e_row27_col27\" class=\"data row27 col27\" >1.000000</td>\n",
       "                        <td id=\"T_89e5e_row27_col28\" class=\"data row27 col28\" >0.502317</td>\n",
       "                        <td id=\"T_89e5e_row27_col29\" class=\"data row27 col29\" >0.005760</td>\n",
       "                        <td id=\"T_89e5e_row27_col30\" class=\"data row27 col30\" >0.631010</td>\n",
       "                        <td id=\"T_89e5e_row27_col31\" class=\"data row27 col31\" >0.017760</td>\n",
       "                        <td id=\"T_89e5e_row27_col32\" class=\"data row27 col32\" >0.037199</td>\n",
       "                        <td id=\"T_89e5e_row27_col33\" class=\"data row27 col33\" >0.037490</td>\n",
       "                        <td id=\"T_89e5e_row27_col34\" class=\"data row27 col34\" >0.021201</td>\n",
       "                        <td id=\"T_89e5e_row27_col35\" class=\"data row27 col35\" >0.161230</td>\n",
       "                        <td id=\"T_89e5e_row27_col36\" class=\"data row27 col36\" >0.061798</td>\n",
       "                        <td id=\"T_89e5e_row27_col37\" class=\"data row27 col37\" >0.090434</td>\n",
       "                        <td id=\"T_89e5e_row27_col38\" class=\"data row27 col38\" >0.177115</td>\n",
       "                        <td id=\"T_89e5e_row27_col39\" class=\"data row27 col39\" >0.217285</td>\n",
       "                        <td id=\"T_89e5e_row27_col40\" class=\"data row27 col40\" >0.872714</td>\n",
       "                        <td id=\"T_89e5e_row27_col41\" class=\"data row27 col41\" >0.100412</td>\n",
       "                        <td id=\"T_89e5e_row27_col42\" class=\"data row27 col42\" >0.570266</td>\n",
       "            </tr>\n",
       "            <tr>\n",
       "                        <th id=\"T_89e5e_level0_row28\" class=\"row_heading level0 row28\" >diabetesMed</th>\n",
       "                        <td id=\"T_89e5e_row28_col0\" class=\"data row28 col0\" >0.053015</td>\n",
       "                        <td id=\"T_89e5e_row28_col1\" class=\"data row28 col1\" >0.032357</td>\n",
       "                        <td id=\"T_89e5e_row28_col2\" class=\"data row28 col2\" >-0.027738</td>\n",
       "                        <td id=\"T_89e5e_row28_col3\" class=\"data row28 col3\" >0.189417</td>\n",
       "                        <td id=\"T_89e5e_row28_col4\" class=\"data row28 col4\" >0.036101</td>\n",
       "                        <td id=\"T_89e5e_row28_col5\" class=\"data row28 col5\" >0.073190</td>\n",
       "                        <td id=\"T_89e5e_row28_col6\" class=\"data row28 col6\" >0.280843</td>\n",
       "                        <td id=\"T_89e5e_row28_col7\" class=\"data row28 col7\" >0.066717</td>\n",
       "                        <td id=\"T_89e5e_row28_col8\" class=\"data row28 col8\" >0.044203</td>\n",
       "                        <td id=\"T_89e5e_row28_col9\" class=\"data row28 col9\" >0.018554</td>\n",
       "                        <td id=\"T_89e5e_row28_col10\" class=\"data row28 col10\" >0.131276</td>\n",
       "                        <td id=\"T_89e5e_row28_col11\" class=\"data row28 col11\" >nan</td>\n",
       "                        <td id=\"T_89e5e_row28_col12\" class=\"data row28 col12\" >0.210764</td>\n",
       "                        <td id=\"T_89e5e_row28_col13\" class=\"data row28 col13\" >0.191378</td>\n",
       "                        <td id=\"T_89e5e_row28_col14\" class=\"data row28 col14\" >0.008996</td>\n",
       "                        <td id=\"T_89e5e_row28_col15\" class=\"data row28 col15\" >0.158001</td>\n",
       "                        <td id=\"T_89e5e_row28_col16\" class=\"data row28 col16\" >0.144944</td>\n",
       "                        <td id=\"T_89e5e_row28_col17\" class=\"data row28 col17\" >0.028836</td>\n",
       "                        <td id=\"T_89e5e_row28_col18\" class=\"data row28 col18\" >0.010059</td>\n",
       "                        <td id=\"T_89e5e_row28_col19\" class=\"data row28 col19\" >0.007791</td>\n",
       "                        <td id=\"T_89e5e_row28_col20\" class=\"data row28 col20\" >0.012724</td>\n",
       "                        <td id=\"T_89e5e_row28_col21\" class=\"data row28 col21\" >0.574812</td>\n",
       "                        <td id=\"T_89e5e_row28_col22\" class=\"data row28 col22\" >0.048409</td>\n",
       "                        <td id=\"T_89e5e_row28_col23\" class=\"data row28 col23\" >0.006361</td>\n",
       "                        <td id=\"T_89e5e_row28_col24\" class=\"data row28 col24\" >nan</td>\n",
       "                        <td id=\"T_89e5e_row28_col25\" class=\"data row28 col25\" >nan</td>\n",
       "                        <td id=\"T_89e5e_row28_col26\" class=\"data row28 col26\" >0.004498</td>\n",
       "                        <td id=\"T_89e5e_row28_col27\" class=\"data row28 col27\" >0.502317</td>\n",
       "                        <td id=\"T_89e5e_row28_col28\" class=\"data row28 col28\" >1.000000</td>\n",
       "                        <td id=\"T_89e5e_row28_col29\" class=\"data row28 col29\" >0.016474</td>\n",
       "                        <td id=\"T_89e5e_row28_col30\" class=\"data row28 col30\" >0.316967</td>\n",
       "                        <td id=\"T_89e5e_row28_col31\" class=\"data row28 col31\" >0.032783</td>\n",
       "                        <td id=\"T_89e5e_row28_col32\" class=\"data row28 col32\" >0.052823</td>\n",
       "                        <td id=\"T_89e5e_row28_col33\" class=\"data row28 col33\" >0.042302</td>\n",
       "                        <td id=\"T_89e5e_row28_col34\" class=\"data row28 col34\" >0.026864</td>\n",
       "                        <td id=\"T_89e5e_row28_col35\" class=\"data row28 col35\" >0.107331</td>\n",
       "                        <td id=\"T_89e5e_row28_col36\" class=\"data row28 col36\" >0.037267</td>\n",
       "                        <td id=\"T_89e5e_row28_col37\" class=\"data row28 col37\" >0.053356</td>\n",
       "                        <td id=\"T_89e5e_row28_col38\" class=\"data row28 col38\" >0.134009</td>\n",
       "                        <td id=\"T_89e5e_row28_col39\" class=\"data row28 col39\" >0.166826</td>\n",
       "                        <td id=\"T_89e5e_row28_col40\" class=\"data row28 col40\" >0.438378</td>\n",
       "                        <td id=\"T_89e5e_row28_col41\" class=\"data row28 col41\" >0.053585</td>\n",
       "                        <td id=\"T_89e5e_row28_col42\" class=\"data row28 col42\" >0.286454</td>\n",
       "            </tr>\n",
       "            <tr>\n",
       "                        <th id=\"T_89e5e_level0_row29\" class=\"row_heading level0 row29\" >readmitted</th>\n",
       "                        <td id=\"T_89e5e_row29_col0\" class=\"data row29 col0\" >0.062318</td>\n",
       "                        <td id=\"T_89e5e_row29_col1\" class=\"data row29 col1\" >0.035556</td>\n",
       "                        <td id=\"T_89e5e_row29_col2\" class=\"data row29 col2\" >0.007454</td>\n",
       "                        <td id=\"T_89e5e_row29_col3\" class=\"data row29 col3\" >0.049185</td>\n",
       "                        <td id=\"T_89e5e_row29_col4\" class=\"data row29 col4\" >0.042967</td>\n",
       "                        <td id=\"T_89e5e_row29_col5\" class=\"data row29 col5\" >-0.009913</td>\n",
       "                        <td id=\"T_89e5e_row29_col6\" class=\"data row29 col6\" >-0.013914</td>\n",
       "                        <td id=\"T_89e5e_row29_col7\" class=\"data row29 col7\" >0.026356</td>\n",
       "                        <td id=\"T_89e5e_row29_col8\" class=\"data row29 col8\" >0.000390</td>\n",
       "                        <td id=\"T_89e5e_row29_col9\" class=\"data row29 col9\" >-0.003814</td>\n",
       "                        <td id=\"T_89e5e_row29_col10\" class=\"data row29 col10\" >-0.009562</td>\n",
       "                        <td id=\"T_89e5e_row29_col11\" class=\"data row29 col11\" >nan</td>\n",
       "                        <td id=\"T_89e5e_row29_col12\" class=\"data row29 col12\" >0.003495</td>\n",
       "                        <td id=\"T_89e5e_row29_col13\" class=\"data row29 col13\" >0.004469</td>\n",
       "                        <td id=\"T_89e5e_row29_col14\" class=\"data row29 col14\" >0.008706</td>\n",
       "                        <td id=\"T_89e5e_row29_col15\" class=\"data row29 col15\" >-0.000514</td>\n",
       "                        <td id=\"T_89e5e_row29_col16\" class=\"data row29 col16\" >-0.006314</td>\n",
       "                        <td id=\"T_89e5e_row29_col17\" class=\"data row29 col17\" >0.000929</td>\n",
       "                        <td id=\"T_89e5e_row29_col18\" class=\"data row29 col18\" >0.006648</td>\n",
       "                        <td id=\"T_89e5e_row29_col19\" class=\"data row29 col19\" >-0.004414</td>\n",
       "                        <td id=\"T_89e5e_row29_col20\" class=\"data row29 col20\" >0.002553</td>\n",
       "                        <td id=\"T_89e5e_row29_col21\" class=\"data row29 col21\" >0.020233</td>\n",
       "                        <td id=\"T_89e5e_row29_col22\" class=\"data row29 col22\" >0.003575</td>\n",
       "                        <td id=\"T_89e5e_row29_col23\" class=\"data row29 col23\" >-0.003604</td>\n",
       "                        <td id=\"T_89e5e_row29_col24\" class=\"data row29 col24\" >nan</td>\n",
       "                        <td id=\"T_89e5e_row29_col25\" class=\"data row29 col25\" >nan</td>\n",
       "                        <td id=\"T_89e5e_row29_col26\" class=\"data row29 col26\" >-0.002548</td>\n",
       "                        <td id=\"T_89e5e_row29_col27\" class=\"data row29 col27\" >0.005760</td>\n",
       "                        <td id=\"T_89e5e_row29_col28\" class=\"data row29 col28\" >0.016474</td>\n",
       "                        <td id=\"T_89e5e_row29_col29\" class=\"data row29 col29\" >1.000000</td>\n",
       "                        <td id=\"T_89e5e_row29_col30\" class=\"data row29 col30\" >0.018512</td>\n",
       "                        <td id=\"T_89e5e_row29_col31\" class=\"data row29 col31\" >0.117983</td>\n",
       "                        <td id=\"T_89e5e_row29_col32\" class=\"data row29 col32\" >0.100898</td>\n",
       "                        <td id=\"T_89e5e_row29_col33\" class=\"data row29 col33\" >0.028121</td>\n",
       "                        <td id=\"T_89e5e_row29_col34\" class=\"data row29 col34\" >0.012577</td>\n",
       "                        <td id=\"T_89e5e_row29_col35\" class=\"data row29 col35\" >0.062229</td>\n",
       "                        <td id=\"T_89e5e_row29_col36\" class=\"data row29 col36\" >0.025472</td>\n",
       "                        <td id=\"T_89e5e_row29_col37\" class=\"data row29 col37\" >0.061546</td>\n",
       "                        <td id=\"T_89e5e_row29_col38\" class=\"data row29 col38\" >0.053774</td>\n",
       "                        <td id=\"T_89e5e_row29_col39\" class=\"data row29 col39\" >0.060378</td>\n",
       "                        <td id=\"T_89e5e_row29_col40\" class=\"data row29 col40\" >0.027191</td>\n",
       "                        <td id=\"T_89e5e_row29_col41\" class=\"data row29 col41\" >0.068135</td>\n",
       "                        <td id=\"T_89e5e_row29_col42\" class=\"data row29 col42\" >0.029946</td>\n",
       "            </tr>\n",
       "            <tr>\n",
       "                        <th id=\"T_89e5e_level0_row30\" class=\"row_heading level0 row30\" >numchange</th>\n",
       "                        <td id=\"T_89e5e_row30_col0\" class=\"data row30 col0\" >0.135026</td>\n",
       "                        <td id=\"T_89e5e_row30_col1\" class=\"data row30 col1\" >0.112076</td>\n",
       "                        <td id=\"T_89e5e_row30_col2\" class=\"data row30 col2\" >-0.014343</td>\n",
       "                        <td id=\"T_89e5e_row30_col3\" class=\"data row30 col3\" >0.205593</td>\n",
       "                        <td id=\"T_89e5e_row30_col4\" class=\"data row30 col4\" >0.069796</td>\n",
       "                        <td id=\"T_89e5e_row30_col5\" class=\"data row30 col5\" >0.088942</td>\n",
       "                        <td id=\"T_89e5e_row30_col6\" class=\"data row30 col6\" >-0.005831</td>\n",
       "                        <td id=\"T_89e5e_row30_col7\" class=\"data row30 col7\" >0.054626</td>\n",
       "                        <td id=\"T_89e5e_row30_col8\" class=\"data row30 col8\" >-0.007866</td>\n",
       "                        <td id=\"T_89e5e_row30_col9\" class=\"data row30 col9\" >-0.004955</td>\n",
       "                        <td id=\"T_89e5e_row30_col10\" class=\"data row30 col10\" >0.015176</td>\n",
       "                        <td id=\"T_89e5e_row30_col11\" class=\"data row30 col11\" >nan</td>\n",
       "                        <td id=\"T_89e5e_row30_col12\" class=\"data row30 col12\" >-0.001669</td>\n",
       "                        <td id=\"T_89e5e_row30_col13\" class=\"data row30 col13\" >-0.025344</td>\n",
       "                        <td id=\"T_89e5e_row30_col14\" class=\"data row30 col14\" >0.000346</td>\n",
       "                        <td id=\"T_89e5e_row30_col15\" class=\"data row30 col15\" >0.018703</td>\n",
       "                        <td id=\"T_89e5e_row30_col16\" class=\"data row30 col16\" >0.008358</td>\n",
       "                        <td id=\"T_89e5e_row30_col17\" class=\"data row30 col17\" >0.020836</td>\n",
       "                        <td id=\"T_89e5e_row30_col18\" class=\"data row30 col18\" >0.006656</td>\n",
       "                        <td id=\"T_89e5e_row30_col19\" class=\"data row30 col19\" >0.002997</td>\n",
       "                        <td id=\"T_89e5e_row30_col20\" class=\"data row30 col20\" >0.000489</td>\n",
       "                        <td id=\"T_89e5e_row30_col21\" class=\"data row30 col21\" >0.442098</td>\n",
       "                        <td id=\"T_89e5e_row30_col22\" class=\"data row30 col22\" >-0.004697</td>\n",
       "                        <td id=\"T_89e5e_row30_col23\" class=\"data row30 col23\" >-0.006363</td>\n",
       "                        <td id=\"T_89e5e_row30_col24\" class=\"data row30 col24\" >nan</td>\n",
       "                        <td id=\"T_89e5e_row30_col25\" class=\"data row30 col25\" >nan</td>\n",
       "                        <td id=\"T_89e5e_row30_col26\" class=\"data row30 col26\" >0.014190</td>\n",
       "                        <td id=\"T_89e5e_row30_col27\" class=\"data row30 col27\" >0.631010</td>\n",
       "                        <td id=\"T_89e5e_row30_col28\" class=\"data row30 col28\" >0.316967</td>\n",
       "                        <td id=\"T_89e5e_row30_col29\" class=\"data row30 col29\" >0.018512</td>\n",
       "                        <td id=\"T_89e5e_row30_col30\" class=\"data row30 col30\" >1.000000</td>\n",
       "                        <td id=\"T_89e5e_row30_col31\" class=\"data row30 col31\" >0.060962</td>\n",
       "                        <td id=\"T_89e5e_row30_col32\" class=\"data row30 col32\" >0.074120</td>\n",
       "                        <td id=\"T_89e5e_row30_col33\" class=\"data row30 col33\" >0.065752</td>\n",
       "                        <td id=\"T_89e5e_row30_col34\" class=\"data row30 col34\" >0.023165</td>\n",
       "                        <td id=\"T_89e5e_row30_col35\" class=\"data row30 col35\" >0.189389</td>\n",
       "                        <td id=\"T_89e5e_row30_col36\" class=\"data row30 col36\" >0.057790</td>\n",
       "                        <td id=\"T_89e5e_row30_col37\" class=\"data row30 col37\" >0.147815</td>\n",
       "                        <td id=\"T_89e5e_row30_col38\" class=\"data row30 col38\" >0.203843</td>\n",
       "                        <td id=\"T_89e5e_row30_col39\" class=\"data row30 col39\" >0.206152</td>\n",
       "                        <td id=\"T_89e5e_row30_col40\" class=\"data row30 col40\" >0.592968</td>\n",
       "                        <td id=\"T_89e5e_row30_col41\" class=\"data row30 col41\" >0.144720</td>\n",
       "                        <td id=\"T_89e5e_row30_col42\" class=\"data row30 col42\" >0.903736</td>\n",
       "            </tr>\n",
       "            <tr>\n",
       "                        <th id=\"T_89e5e_level0_row31\" class=\"row_heading level0 row31\" >number_inpatient_log1p</th>\n",
       "                        <td id=\"T_89e5e_row31_col0\" class=\"data row31 col0\" >0.099223</td>\n",
       "                        <td id=\"T_89e5e_row31_col1\" class=\"data row31 col1\" >0.053237</td>\n",
       "                        <td id=\"T_89e5e_row31_col2\" class=\"data row31 col2\" >-0.059946</td>\n",
       "                        <td id=\"T_89e5e_row31_col3\" class=\"data row31 col3\" >0.076854</td>\n",
       "                        <td id=\"T_89e5e_row31_col4\" class=\"data row31 col4\" >0.113401</td>\n",
       "                        <td id=\"T_89e5e_row31_col5\" class=\"data row31 col5\" >-0.065150</td>\n",
       "                        <td id=\"T_89e5e_row31_col6\" class=\"data row31 col6\" >-0.066450</td>\n",
       "                        <td id=\"T_89e5e_row31_col7\" class=\"data row31 col7\" >0.034377</td>\n",
       "                        <td id=\"T_89e5e_row31_col8\" class=\"data row31 col8\" >0.008926</td>\n",
       "                        <td id=\"T_89e5e_row31_col9\" class=\"data row31 col9\" >-0.009964</td>\n",
       "                        <td id=\"T_89e5e_row31_col10\" class=\"data row31 col10\" >-0.013796</td>\n",
       "                        <td id=\"T_89e5e_row31_col11\" class=\"data row31 col11\" >nan</td>\n",
       "                        <td id=\"T_89e5e_row31_col12\" class=\"data row31 col12\" >0.006112</td>\n",
       "                        <td id=\"T_89e5e_row31_col13\" class=\"data row31 col13\" >-0.016161</td>\n",
       "                        <td id=\"T_89e5e_row31_col14\" class=\"data row31 col14\" >-0.002902</td>\n",
       "                        <td id=\"T_89e5e_row31_col15\" class=\"data row31 col15\" >-0.019877</td>\n",
       "                        <td id=\"T_89e5e_row31_col16\" class=\"data row31 col16\" >-0.011599</td>\n",
       "                        <td id=\"T_89e5e_row31_col17\" class=\"data row31 col17\" >-0.001452</td>\n",
       "                        <td id=\"T_89e5e_row31_col18\" class=\"data row31 col18\" >0.001156</td>\n",
       "                        <td id=\"T_89e5e_row31_col19\" class=\"data row31 col19\" >-0.008194</td>\n",
       "                        <td id=\"T_89e5e_row31_col20\" class=\"data row31 col20\" >0.000534</td>\n",
       "                        <td id=\"T_89e5e_row31_col21\" class=\"data row31 col21\" >0.056016</td>\n",
       "                        <td id=\"T_89e5e_row31_col22\" class=\"data row31 col22\" >-0.002520</td>\n",
       "                        <td id=\"T_89e5e_row31_col23\" class=\"data row31 col23\" >-0.006690</td>\n",
       "                        <td id=\"T_89e5e_row31_col24\" class=\"data row31 col24\" >nan</td>\n",
       "                        <td id=\"T_89e5e_row31_col25\" class=\"data row31 col25\" >nan</td>\n",
       "                        <td id=\"T_89e5e_row31_col26\" class=\"data row31 col26\" >-0.004730</td>\n",
       "                        <td id=\"T_89e5e_row31_col27\" class=\"data row31 col27\" >0.017760</td>\n",
       "                        <td id=\"T_89e5e_row31_col28\" class=\"data row31 col28\" >0.032783</td>\n",
       "                        <td id=\"T_89e5e_row31_col29\" class=\"data row31 col29\" >0.117983</td>\n",
       "                        <td id=\"T_89e5e_row31_col30\" class=\"data row31 col30\" >0.060962</td>\n",
       "                        <td id=\"T_89e5e_row31_col31\" class=\"data row31 col31\" >1.000000</td>\n",
       "                        <td id=\"T_89e5e_row31_col32\" class=\"data row31 col32\" >0.801904</td>\n",
       "                        <td id=\"T_89e5e_row31_col33\" class=\"data row31 col33\" >0.118693</td>\n",
       "                        <td id=\"T_89e5e_row31_col34\" class=\"data row31 col34\" >0.087539</td>\n",
       "                        <td id=\"T_89e5e_row31_col35\" class=\"data row31 col35\" >0.089033</td>\n",
       "                        <td id=\"T_89e5e_row31_col36\" class=\"data row31 col36\" >-0.030486</td>\n",
       "                        <td id=\"T_89e5e_row31_col37\" class=\"data row31 col37\" >0.081220</td>\n",
       "                        <td id=\"T_89e5e_row31_col38\" class=\"data row31 col38\" >0.079274</td>\n",
       "                        <td id=\"T_89e5e_row31_col39\" class=\"data row31 col39\" >0.110291</td>\n",
       "                        <td id=\"T_89e5e_row31_col40\" class=\"data row31 col40\" >0.036226</td>\n",
       "                        <td id=\"T_89e5e_row31_col41\" class=\"data row31 col41\" >0.115368</td>\n",
       "                        <td id=\"T_89e5e_row31_col42\" class=\"data row31 col42\" >0.067500</td>\n",
       "            </tr>\n",
       "            <tr>\n",
       "                        <th id=\"T_89e5e_level0_row32\" class=\"row_heading level0 row32\" >service_utilization_log1p</th>\n",
       "                        <td id=\"T_89e5e_row32_col0\" class=\"data row32 col0\" >0.056789</td>\n",
       "                        <td id=\"T_89e5e_row32_col1\" class=\"data row32 col1\" >0.012330</td>\n",
       "                        <td id=\"T_89e5e_row32_col2\" class=\"data row32 col2\" >-0.068780</td>\n",
       "                        <td id=\"T_89e5e_row32_col3\" class=\"data row32 col3\" >0.082222</td>\n",
       "                        <td id=\"T_89e5e_row32_col4\" class=\"data row32 col4\" >0.137964</td>\n",
       "                        <td id=\"T_89e5e_row32_col5\" class=\"data row32 col5\" >-0.072040</td>\n",
       "                        <td id=\"T_89e5e_row32_col6\" class=\"data row32 col6\" >-0.041301</td>\n",
       "                        <td id=\"T_89e5e_row32_col7\" class=\"data row32 col7\" >0.035133</td>\n",
       "                        <td id=\"T_89e5e_row32_col8\" class=\"data row32 col8\" >0.008988</td>\n",
       "                        <td id=\"T_89e5e_row32_col9\" class=\"data row32 col9\" >-0.013999</td>\n",
       "                        <td id=\"T_89e5e_row32_col10\" class=\"data row32 col10\" >-0.013849</td>\n",
       "                        <td id=\"T_89e5e_row32_col11\" class=\"data row32 col11\" >nan</td>\n",
       "                        <td id=\"T_89e5e_row32_col12\" class=\"data row32 col12\" >0.013930</td>\n",
       "                        <td id=\"T_89e5e_row32_col13\" class=\"data row32 col13\" >-0.013374</td>\n",
       "                        <td id=\"T_89e5e_row32_col14\" class=\"data row32 col14\" >-0.001110</td>\n",
       "                        <td id=\"T_89e5e_row32_col15\" class=\"data row32 col15\" >0.001820</td>\n",
       "                        <td id=\"T_89e5e_row32_col16\" class=\"data row32 col16\" >-0.007931</td>\n",
       "                        <td id=\"T_89e5e_row32_col17\" class=\"data row32 col17\" >0.005216</td>\n",
       "                        <td id=\"T_89e5e_row32_col18\" class=\"data row32 col18\" >0.001157</td>\n",
       "                        <td id=\"T_89e5e_row32_col19\" class=\"data row32 col19\" >-0.010249</td>\n",
       "                        <td id=\"T_89e5e_row32_col20\" class=\"data row32 col20\" >-0.003144</td>\n",
       "                        <td id=\"T_89e5e_row32_col21\" class=\"data row32 col21\" >0.049845</td>\n",
       "                        <td id=\"T_89e5e_row32_col22\" class=\"data row32 col22\" >-0.003708</td>\n",
       "                        <td id=\"T_89e5e_row32_col23\" class=\"data row32 col23\" >-0.000785</td>\n",
       "                        <td id=\"T_89e5e_row32_col24\" class=\"data row32 col24\" >nan</td>\n",
       "                        <td id=\"T_89e5e_row32_col25\" class=\"data row32 col25\" >nan</td>\n",
       "                        <td id=\"T_89e5e_row32_col26\" class=\"data row32 col26\" >-0.005917</td>\n",
       "                        <td id=\"T_89e5e_row32_col27\" class=\"data row32 col27\" >0.037199</td>\n",
       "                        <td id=\"T_89e5e_row32_col28\" class=\"data row32 col28\" >0.052823</td>\n",
       "                        <td id=\"T_89e5e_row32_col29\" class=\"data row32 col29\" >0.100898</td>\n",
       "                        <td id=\"T_89e5e_row32_col30\" class=\"data row32 col30\" >0.074120</td>\n",
       "                        <td id=\"T_89e5e_row32_col31\" class=\"data row32 col31\" >0.801904</td>\n",
       "                        <td id=\"T_89e5e_row32_col32\" class=\"data row32 col32\" >1.000000</td>\n",
       "                        <td id=\"T_89e5e_row32_col33\" class=\"data row32 col33\" >0.380521</td>\n",
       "                        <td id=\"T_89e5e_row32_col34\" class=\"data row32 col34\" >0.586666</td>\n",
       "                        <td id=\"T_89e5e_row32_col35\" class=\"data row32 col35\" >0.065312</td>\n",
       "                        <td id=\"T_89e5e_row32_col36\" class=\"data row32 col36\" >-0.041028</td>\n",
       "                        <td id=\"T_89e5e_row32_col37\" class=\"data row32 col37\" >0.037802</td>\n",
       "                        <td id=\"T_89e5e_row32_col38\" class=\"data row32 col38\" >0.058176</td>\n",
       "                        <td id=\"T_89e5e_row32_col39\" class=\"data row32 col39\" >0.123153</td>\n",
       "                        <td id=\"T_89e5e_row32_col40\" class=\"data row32 col40\" >0.051718</td>\n",
       "                        <td id=\"T_89e5e_row32_col41\" class=\"data row32 col41\" >0.087548</td>\n",
       "                        <td id=\"T_89e5e_row32_col42\" class=\"data row32 col42\" >0.077713</td>\n",
       "            </tr>\n",
       "            <tr>\n",
       "                        <th id=\"T_89e5e_level0_row33\" class=\"row_heading level0 row33\" >number_emergency_log1p</th>\n",
       "                        <td id=\"T_89e5e_row33_col0\" class=\"data row33 col0\" >-0.003312</td>\n",
       "                        <td id=\"T_89e5e_row33_col1\" class=\"data row33 col1\" >0.018035</td>\n",
       "                        <td id=\"T_89e5e_row33_col2\" class=\"data row33 col2\" >-0.032385</td>\n",
       "                        <td id=\"T_89e5e_row33_col3\" class=\"data row33 col3\" >0.016405</td>\n",
       "                        <td id=\"T_89e5e_row33_col4\" class=\"data row33 col4\" >0.067679</td>\n",
       "                        <td id=\"T_89e5e_row33_col5\" class=\"data row33 col5\" >-0.010103</td>\n",
       "                        <td id=\"T_89e5e_row33_col6\" class=\"data row33 col6\" >-0.024483</td>\n",
       "                        <td id=\"T_89e5e_row33_col7\" class=\"data row33 col7\" >0.020527</td>\n",
       "                        <td id=\"T_89e5e_row33_col8\" class=\"data row33 col8\" >0.005799</td>\n",
       "                        <td id=\"T_89e5e_row33_col9\" class=\"data row33 col9\" >-0.009343</td>\n",
       "                        <td id=\"T_89e5e_row33_col10\" class=\"data row33 col10\" >-0.004504</td>\n",
       "                        <td id=\"T_89e5e_row33_col11\" class=\"data row33 col11\" >nan</td>\n",
       "                        <td id=\"T_89e5e_row33_col12\" class=\"data row33 col12\" >0.007969</td>\n",
       "                        <td id=\"T_89e5e_row33_col13\" class=\"data row33 col13\" >-0.026913</td>\n",
       "                        <td id=\"T_89e5e_row33_col14\" class=\"data row33 col14\" >-0.004530</td>\n",
       "                        <td id=\"T_89e5e_row33_col15\" class=\"data row33 col15\" >0.013948</td>\n",
       "                        <td id=\"T_89e5e_row33_col16\" class=\"data row33 col16\" >-0.001452</td>\n",
       "                        <td id=\"T_89e5e_row33_col17\" class=\"data row33 col17\" >-0.000235</td>\n",
       "                        <td id=\"T_89e5e_row33_col18\" class=\"data row33 col18\" >0.008556</td>\n",
       "                        <td id=\"T_89e5e_row33_col19\" class=\"data row33 col19\" >-0.003923</td>\n",
       "                        <td id=\"T_89e5e_row33_col20\" class=\"data row33 col20\" >-0.006408</td>\n",
       "                        <td id=\"T_89e5e_row33_col21\" class=\"data row33 col21\" >0.046387</td>\n",
       "                        <td id=\"T_89e5e_row33_col22\" class=\"data row33 col22\" >0.006974</td>\n",
       "                        <td id=\"T_89e5e_row33_col23\" class=\"data row33 col23\" >-0.003203</td>\n",
       "                        <td id=\"T_89e5e_row33_col24\" class=\"data row33 col24\" >nan</td>\n",
       "                        <td id=\"T_89e5e_row33_col25\" class=\"data row33 col25\" >nan</td>\n",
       "                        <td id=\"T_89e5e_row33_col26\" class=\"data row33 col26\" >-0.002265</td>\n",
       "                        <td id=\"T_89e5e_row33_col27\" class=\"data row33 col27\" >0.037490</td>\n",
       "                        <td id=\"T_89e5e_row33_col28\" class=\"data row33 col28\" >0.042302</td>\n",
       "                        <td id=\"T_89e5e_row33_col29\" class=\"data row33 col29\" >0.028121</td>\n",
       "                        <td id=\"T_89e5e_row33_col30\" class=\"data row33 col30\" >0.065752</td>\n",
       "                        <td id=\"T_89e5e_row33_col31\" class=\"data row33 col31\" >0.118693</td>\n",
       "                        <td id=\"T_89e5e_row33_col32\" class=\"data row33 col32\" >0.380521</td>\n",
       "                        <td id=\"T_89e5e_row33_col33\" class=\"data row33 col33\" >1.000000</td>\n",
       "                        <td id=\"T_89e5e_row33_col34\" class=\"data row33 col34\" >0.102320</td>\n",
       "                        <td id=\"T_89e5e_row33_col35\" class=\"data row33 col35\" >0.005437</td>\n",
       "                        <td id=\"T_89e5e_row33_col36\" class=\"data row33 col36\" >-0.023051</td>\n",
       "                        <td id=\"T_89e5e_row33_col37\" class=\"data row33 col37\" >0.004134</td>\n",
       "                        <td id=\"T_89e5e_row33_col38\" class=\"data row33 col38\" >0.023747</td>\n",
       "                        <td id=\"T_89e5e_row33_col39\" class=\"data row33 col39\" >0.042742</td>\n",
       "                        <td id=\"T_89e5e_row33_col40\" class=\"data row33 col40\" >0.030801</td>\n",
       "                        <td id=\"T_89e5e_row33_col41\" class=\"data row33 col41\" >0.018919</td>\n",
       "                        <td id=\"T_89e5e_row33_col42\" class=\"data row33 col42\" >0.054468</td>\n",
       "            </tr>\n",
       "            <tr>\n",
       "                        <th id=\"T_89e5e_level0_row34\" class=\"row_heading level0 row34\" >number_outpatient_log1p</th>\n",
       "                        <td id=\"T_89e5e_row34_col0\" class=\"data row34 col0\" >-0.030538</td>\n",
       "                        <td id=\"T_89e5e_row34_col1\" class=\"data row34 col1\" >-0.056012</td>\n",
       "                        <td id=\"T_89e5e_row34_col2\" class=\"data row34 col2\" >-0.030295</td>\n",
       "                        <td id=\"T_89e5e_row34_col3\" class=\"data row34 col3\" >0.044805</td>\n",
       "                        <td id=\"T_89e5e_row34_col4\" class=\"data row34 col4\" >0.076108</td>\n",
       "                        <td id=\"T_89e5e_row34_col5\" class=\"data row34 col5\" >-0.040724</td>\n",
       "                        <td id=\"T_89e5e_row34_col6\" class=\"data row34 col6\" >0.018803</td>\n",
       "                        <td id=\"T_89e5e_row34_col7\" class=\"data row34 col7\" >0.013160</td>\n",
       "                        <td id=\"T_89e5e_row34_col8\" class=\"data row34 col8\" >0.004424</td>\n",
       "                        <td id=\"T_89e5e_row34_col9\" class=\"data row34 col9\" >-0.008005</td>\n",
       "                        <td id=\"T_89e5e_row34_col10\" class=\"data row34 col10\" >-0.004603</td>\n",
       "                        <td id=\"T_89e5e_row34_col11\" class=\"data row34 col11\" >nan</td>\n",
       "                        <td id=\"T_89e5e_row34_col12\" class=\"data row34 col12\" >0.013042</td>\n",
       "                        <td id=\"T_89e5e_row34_col13\" class=\"data row34 col13\" >0.006012</td>\n",
       "                        <td id=\"T_89e5e_row34_col14\" class=\"data row34 col14\" >0.002728</td>\n",
       "                        <td id=\"T_89e5e_row34_col15\" class=\"data row34 col15\" >0.024872</td>\n",
       "                        <td id=\"T_89e5e_row34_col16\" class=\"data row34 col16\" >0.000184</td>\n",
       "                        <td id=\"T_89e5e_row34_col17\" class=\"data row34 col17\" >0.010109</td>\n",
       "                        <td id=\"T_89e5e_row34_col18\" class=\"data row34 col18\" >-0.006613</td>\n",
       "                        <td id=\"T_89e5e_row34_col19\" class=\"data row34 col19\" >-0.005122</td>\n",
       "                        <td id=\"T_89e5e_row34_col20\" class=\"data row34 col20\" >-0.002254</td>\n",
       "                        <td id=\"T_89e5e_row34_col21\" class=\"data row34 col21\" >-0.013345</td>\n",
       "                        <td id=\"T_89e5e_row34_col22\" class=\"data row34 col22\" >-0.006617</td>\n",
       "                        <td id=\"T_89e5e_row34_col23\" class=\"data row34 col23\" >0.008040</td>\n",
       "                        <td id=\"T_89e5e_row34_col24\" class=\"data row34 col24\" >nan</td>\n",
       "                        <td id=\"T_89e5e_row34_col25\" class=\"data row34 col25\" >nan</td>\n",
       "                        <td id=\"T_89e5e_row34_col26\" class=\"data row34 col26\" >-0.002957</td>\n",
       "                        <td id=\"T_89e5e_row34_col27\" class=\"data row34 col27\" >0.021201</td>\n",
       "                        <td id=\"T_89e5e_row34_col28\" class=\"data row34 col28\" >0.026864</td>\n",
       "                        <td id=\"T_89e5e_row34_col29\" class=\"data row34 col29\" >0.012577</td>\n",
       "                        <td id=\"T_89e5e_row34_col30\" class=\"data row34 col30\" >0.023165</td>\n",
       "                        <td id=\"T_89e5e_row34_col31\" class=\"data row34 col31\" >0.087539</td>\n",
       "                        <td id=\"T_89e5e_row34_col32\" class=\"data row34 col32\" >0.586666</td>\n",
       "                        <td id=\"T_89e5e_row34_col33\" class=\"data row34 col33\" >0.102320</td>\n",
       "                        <td id=\"T_89e5e_row34_col34\" class=\"data row34 col34\" >1.000000</td>\n",
       "                        <td id=\"T_89e5e_row34_col35\" class=\"data row34 col35\" >-0.000731</td>\n",
       "                        <td id=\"T_89e5e_row34_col36\" class=\"data row34 col36\" >-0.022505</td>\n",
       "                        <td id=\"T_89e5e_row34_col37\" class=\"data row34 col37\" >-0.042436</td>\n",
       "                        <td id=\"T_89e5e_row34_col38\" class=\"data row34 col38\" >-0.006463</td>\n",
       "                        <td id=\"T_89e5e_row34_col39\" class=\"data row34 col39\" >0.065511</td>\n",
       "                        <td id=\"T_89e5e_row34_col40\" class=\"data row34 col40\" >0.029154</td>\n",
       "                        <td id=\"T_89e5e_row34_col41\" class=\"data row34 col41\" >-0.002441</td>\n",
       "                        <td id=\"T_89e5e_row34_col42\" class=\"data row34 col42\" >0.027549</td>\n",
       "            </tr>\n",
       "            <tr>\n",
       "                        <th id=\"T_89e5e_level0_row35\" class=\"row_heading level0 row35\" >num_medications|time_in_hospital</th>\n",
       "                        <td id=\"T_89e5e_row35_col0\" class=\"data row35 col0\" >0.860498</td>\n",
       "                        <td id=\"T_89e5e_row35_col1\" class=\"data row35 col1\" >0.332221</td>\n",
       "                        <td id=\"T_89e5e_row35_col2\" class=\"data row35 col2\" >0.258082</td>\n",
       "                        <td id=\"T_89e5e_row35_col3\" class=\"data row35 col3\" >0.750273</td>\n",
       "                        <td id=\"T_89e5e_row35_col4\" class=\"data row35 col4\" >0.233872</td>\n",
       "                        <td id=\"T_89e5e_row35_col5\" class=\"data row35 col5\" >0.061131</td>\n",
       "                        <td id=\"T_89e5e_row35_col6\" class=\"data row35 col6\" >-0.003668</td>\n",
       "                        <td id=\"T_89e5e_row35_col7\" class=\"data row35 col7\" >0.051675</td>\n",
       "                        <td id=\"T_89e5e_row35_col8\" class=\"data row35 col8\" >0.006751</td>\n",
       "                        <td id=\"T_89e5e_row35_col9\" class=\"data row35 col9\" >-0.008269</td>\n",
       "                        <td id=\"T_89e5e_row35_col10\" class=\"data row35 col10\" >0.024412</td>\n",
       "                        <td id=\"T_89e5e_row35_col11\" class=\"data row35 col11\" >nan</td>\n",
       "                        <td id=\"T_89e5e_row35_col12\" class=\"data row35 col12\" >0.015830</td>\n",
       "                        <td id=\"T_89e5e_row35_col13\" class=\"data row35 col13\" >0.020412</td>\n",
       "                        <td id=\"T_89e5e_row35_col14\" class=\"data row35 col14\" >0.010598</td>\n",
       "                        <td id=\"T_89e5e_row35_col15\" class=\"data row35 col15\" >0.013203</td>\n",
       "                        <td id=\"T_89e5e_row35_col16\" class=\"data row35 col16\" >0.016716</td>\n",
       "                        <td id=\"T_89e5e_row35_col17\" class=\"data row35 col17\" >0.011416</td>\n",
       "                        <td id=\"T_89e5e_row35_col18\" class=\"data row35 col18\" >0.010104</td>\n",
       "                        <td id=\"T_89e5e_row35_col19\" class=\"data row35 col19\" >0.011808</td>\n",
       "                        <td id=\"T_89e5e_row35_col20\" class=\"data row35 col20\" >0.000210</td>\n",
       "                        <td id=\"T_89e5e_row35_col21\" class=\"data row35 col21\" >0.156542</td>\n",
       "                        <td id=\"T_89e5e_row35_col22\" class=\"data row35 col22\" >-0.011134</td>\n",
       "                        <td id=\"T_89e5e_row35_col23\" class=\"data row35 col23\" >-0.009058</td>\n",
       "                        <td id=\"T_89e5e_row35_col24\" class=\"data row35 col24\" >nan</td>\n",
       "                        <td id=\"T_89e5e_row35_col25\" class=\"data row35 col25\" >nan</td>\n",
       "                        <td id=\"T_89e5e_row35_col26\" class=\"data row35 col26\" >0.005107</td>\n",
       "                        <td id=\"T_89e5e_row35_col27\" class=\"data row35 col27\" >0.161230</td>\n",
       "                        <td id=\"T_89e5e_row35_col28\" class=\"data row35 col28\" >0.107331</td>\n",
       "                        <td id=\"T_89e5e_row35_col29\" class=\"data row35 col29\" >0.062229</td>\n",
       "                        <td id=\"T_89e5e_row35_col30\" class=\"data row35 col30\" >0.189389</td>\n",
       "                        <td id=\"T_89e5e_row35_col31\" class=\"data row35 col31\" >0.089033</td>\n",
       "                        <td id=\"T_89e5e_row35_col32\" class=\"data row35 col32\" >0.065312</td>\n",
       "                        <td id=\"T_89e5e_row35_col33\" class=\"data row35 col33\" >0.005437</td>\n",
       "                        <td id=\"T_89e5e_row35_col34\" class=\"data row35 col34\" >-0.000731</td>\n",
       "                        <td id=\"T_89e5e_row35_col35\" class=\"data row35 col35\" >1.000000</td>\n",
       "                        <td id=\"T_89e5e_row35_col36\" class=\"data row35 col36\" >0.481707</td>\n",
       "                        <td id=\"T_89e5e_row35_col37\" class=\"data row35 col37\" >0.799675</td>\n",
       "                        <td id=\"T_89e5e_row35_col38\" class=\"data row35 col38\" >0.720222</td>\n",
       "                        <td id=\"T_89e5e_row35_col39\" class=\"data row35 col39\" >0.720069</td>\n",
       "                        <td id=\"T_89e5e_row35_col40\" class=\"data row35 col40\" >0.405584</td>\n",
       "                        <td id=\"T_89e5e_row35_col41\" class=\"data row35 col41\" >0.843411</td>\n",
       "                        <td id=\"T_89e5e_row35_col42\" class=\"data row35 col42\" >0.363398</td>\n",
       "            </tr>\n",
       "            <tr>\n",
       "                        <th id=\"T_89e5e_level0_row36\" class=\"row_heading level0 row36\" >num_medications|num_procedures</th>\n",
       "                        <td id=\"T_89e5e_row36_col0\" class=\"data row36 col0\" >0.264061</td>\n",
       "                        <td id=\"T_89e5e_row36_col1\" class=\"data row36 col1\" >0.116868</td>\n",
       "                        <td id=\"T_89e5e_row36_col2\" class=\"data row36 col2\" >0.883608</td>\n",
       "                        <td id=\"T_89e5e_row36_col3\" class=\"data row36 col3\" >0.582999</td>\n",
       "                        <td id=\"T_89e5e_row36_col4\" class=\"data row36 col4\" >0.098243</td>\n",
       "                        <td id=\"T_89e5e_row36_col5\" class=\"data row36 col5\" >0.011358</td>\n",
       "                        <td id=\"T_89e5e_row36_col6\" class=\"data row36 col6\" >-0.024428</td>\n",
       "                        <td id=\"T_89e5e_row36_col7\" class=\"data row36 col7\" >0.012564</td>\n",
       "                        <td id=\"T_89e5e_row36_col8\" class=\"data row36 col8\" >-0.006553</td>\n",
       "                        <td id=\"T_89e5e_row36_col9\" class=\"data row36 col9\" >-0.003287</td>\n",
       "                        <td id=\"T_89e5e_row36_col10\" class=\"data row36 col10\" >0.008268</td>\n",
       "                        <td id=\"T_89e5e_row36_col11\" class=\"data row36 col11\" >nan</td>\n",
       "                        <td id=\"T_89e5e_row36_col12\" class=\"data row36 col12\" >0.008292</td>\n",
       "                        <td id=\"T_89e5e_row36_col13\" class=\"data row36 col13\" >0.010479</td>\n",
       "                        <td id=\"T_89e5e_row36_col14\" class=\"data row36 col14\" >0.009561</td>\n",
       "                        <td id=\"T_89e5e_row36_col15\" class=\"data row36 col15\" >0.026231</td>\n",
       "                        <td id=\"T_89e5e_row36_col16\" class=\"data row36 col16\" >0.017423</td>\n",
       "                        <td id=\"T_89e5e_row36_col17\" class=\"data row36 col17\" >0.008061</td>\n",
       "                        <td id=\"T_89e5e_row36_col18\" class=\"data row36 col18\" >-0.000214</td>\n",
       "                        <td id=\"T_89e5e_row36_col19\" class=\"data row36 col19\" >-0.009174</td>\n",
       "                        <td id=\"T_89e5e_row36_col20\" class=\"data row36 col20\" >0.004021</td>\n",
       "                        <td id=\"T_89e5e_row36_col21\" class=\"data row36 col21\" >0.073004</td>\n",
       "                        <td id=\"T_89e5e_row36_col22\" class=\"data row36 col22\" >-0.009406</td>\n",
       "                        <td id=\"T_89e5e_row36_col23\" class=\"data row36 col23\" >-0.007491</td>\n",
       "                        <td id=\"T_89e5e_row36_col24\" class=\"data row36 col24\" >nan</td>\n",
       "                        <td id=\"T_89e5e_row36_col25\" class=\"data row36 col25\" >nan</td>\n",
       "                        <td id=\"T_89e5e_row36_col26\" class=\"data row36 col26\" >-0.000962</td>\n",
       "                        <td id=\"T_89e5e_row36_col27\" class=\"data row36 col27\" >0.061798</td>\n",
       "                        <td id=\"T_89e5e_row36_col28\" class=\"data row36 col28\" >0.037267</td>\n",
       "                        <td id=\"T_89e5e_row36_col29\" class=\"data row36 col29\" >0.025472</td>\n",
       "                        <td id=\"T_89e5e_row36_col30\" class=\"data row36 col30\" >0.057790</td>\n",
       "                        <td id=\"T_89e5e_row36_col31\" class=\"data row36 col31\" >-0.030486</td>\n",
       "                        <td id=\"T_89e5e_row36_col32\" class=\"data row36 col32\" >-0.041028</td>\n",
       "                        <td id=\"T_89e5e_row36_col33\" class=\"data row36 col33\" >-0.023051</td>\n",
       "                        <td id=\"T_89e5e_row36_col34\" class=\"data row36 col34\" >-0.022505</td>\n",
       "                        <td id=\"T_89e5e_row36_col35\" class=\"data row36 col35\" >0.481707</td>\n",
       "                        <td id=\"T_89e5e_row36_col36\" class=\"data row36 col36\" >1.000000</td>\n",
       "                        <td id=\"T_89e5e_row36_col37\" class=\"data row36 col37\" >0.275426</td>\n",
       "                        <td id=\"T_89e5e_row36_col38\" class=\"data row36 col38\" >0.466421</td>\n",
       "                        <td id=\"T_89e5e_row36_col39\" class=\"data row36 col39\" >0.515950</td>\n",
       "                        <td id=\"T_89e5e_row36_col40\" class=\"data row36 col40\" >0.262089</td>\n",
       "                        <td id=\"T_89e5e_row36_col41\" class=\"data row36 col41\" >0.273186</td>\n",
       "                        <td id=\"T_89e5e_row36_col42\" class=\"data row36 col42\" >0.196058</td>\n",
       "            </tr>\n",
       "            <tr>\n",
       "                        <th id=\"T_89e5e_level0_row37\" class=\"row_heading level0 row37\" >time_in_hospital|num_lab_procedures</th>\n",
       "                        <td id=\"T_89e5e_row37_col0\" class=\"data row37 col0\" >0.850297</td>\n",
       "                        <td id=\"T_89e5e_row37_col1\" class=\"data row37 col1\" >0.674276</td>\n",
       "                        <td id=\"T_89e5e_row37_col2\" class=\"data row37 col2\" >0.138947</td>\n",
       "                        <td id=\"T_89e5e_row37_col3\" class=\"data row37 col3\" >0.441709</td>\n",
       "                        <td id=\"T_89e5e_row37_col4\" class=\"data row37 col4\" >0.202591</td>\n",
       "                        <td id=\"T_89e5e_row37_col5\" class=\"data row37 col5\" >0.171169</td>\n",
       "                        <td id=\"T_89e5e_row37_col6\" class=\"data row37 col6\" >-0.053334</td>\n",
       "                        <td id=\"T_89e5e_row37_col7\" class=\"data row37 col7\" >0.046113</td>\n",
       "                        <td id=\"T_89e5e_row37_col8\" class=\"data row37 col8\" >-0.011541</td>\n",
       "                        <td id=\"T_89e5e_row37_col9\" class=\"data row37 col9\" >-0.008662</td>\n",
       "                        <td id=\"T_89e5e_row37_col10\" class=\"data row37 col10\" >0.007658</td>\n",
       "                        <td id=\"T_89e5e_row37_col11\" class=\"data row37 col11\" >nan</td>\n",
       "                        <td id=\"T_89e5e_row37_col12\" class=\"data row37 col12\" >0.003248</td>\n",
       "                        <td id=\"T_89e5e_row37_col13\" class=\"data row37 col13\" >0.006756</td>\n",
       "                        <td id=\"T_89e5e_row37_col14\" class=\"data row37 col14\" >0.009170</td>\n",
       "                        <td id=\"T_89e5e_row37_col15\" class=\"data row37 col15\" >-0.021433</td>\n",
       "                        <td id=\"T_89e5e_row37_col16\" class=\"data row37 col16\" >-0.010451</td>\n",
       "                        <td id=\"T_89e5e_row37_col17\" class=\"data row37 col17\" >-0.000353</td>\n",
       "                        <td id=\"T_89e5e_row37_col18\" class=\"data row37 col18\" >0.001689</td>\n",
       "                        <td id=\"T_89e5e_row37_col19\" class=\"data row37 col19\" >0.014396</td>\n",
       "                        <td id=\"T_89e5e_row37_col20\" class=\"data row37 col20\" >-0.001720</td>\n",
       "                        <td id=\"T_89e5e_row37_col21\" class=\"data row37 col21\" >0.112168</td>\n",
       "                        <td id=\"T_89e5e_row37_col22\" class=\"data row37 col22\" >-0.016757</td>\n",
       "                        <td id=\"T_89e5e_row37_col23\" class=\"data row37 col23\" >-0.010066</td>\n",
       "                        <td id=\"T_89e5e_row37_col24\" class=\"data row37 col24\" >nan</td>\n",
       "                        <td id=\"T_89e5e_row37_col25\" class=\"data row37 col25\" >nan</td>\n",
       "                        <td id=\"T_89e5e_row37_col26\" class=\"data row37 col26\" >-0.002458</td>\n",
       "                        <td id=\"T_89e5e_row37_col27\" class=\"data row37 col27\" >0.090434</td>\n",
       "                        <td id=\"T_89e5e_row37_col28\" class=\"data row37 col28\" >0.053356</td>\n",
       "                        <td id=\"T_89e5e_row37_col29\" class=\"data row37 col29\" >0.061546</td>\n",
       "                        <td id=\"T_89e5e_row37_col30\" class=\"data row37 col30\" >0.147815</td>\n",
       "                        <td id=\"T_89e5e_row37_col31\" class=\"data row37 col31\" >0.081220</td>\n",
       "                        <td id=\"T_89e5e_row37_col32\" class=\"data row37 col32\" >0.037802</td>\n",
       "                        <td id=\"T_89e5e_row37_col33\" class=\"data row37 col33\" >0.004134</td>\n",
       "                        <td id=\"T_89e5e_row37_col34\" class=\"data row37 col34\" >-0.042436</td>\n",
       "                        <td id=\"T_89e5e_row37_col35\" class=\"data row37 col35\" >0.799675</td>\n",
       "                        <td id=\"T_89e5e_row37_col36\" class=\"data row37 col36\" >0.275426</td>\n",
       "                        <td id=\"T_89e5e_row37_col37\" class=\"data row37 col37\" >1.000000</td>\n",
       "                        <td id=\"T_89e5e_row37_col38\" class=\"data row37 col38\" >0.734021</td>\n",
       "                        <td id=\"T_89e5e_row37_col39\" class=\"data row37 col39\" >0.456100</td>\n",
       "                        <td id=\"T_89e5e_row37_col40\" class=\"data row37 col40\" >0.231639</td>\n",
       "                        <td id=\"T_89e5e_row37_col41\" class=\"data row37 col41\" >0.818066</td>\n",
       "                        <td id=\"T_89e5e_row37_col42\" class=\"data row37 col42\" >0.246704</td>\n",
       "            </tr>\n",
       "            <tr>\n",
       "                        <th id=\"T_89e5e_level0_row38\" class=\"row_heading level0 row38\" >num_medications|num_lab_procedures</th>\n",
       "                        <td id=\"T_89e5e_row38_col0\" class=\"data row38 col0\" >0.490892</td>\n",
       "                        <td id=\"T_89e5e_row38_col1\" class=\"data row38 col1\" >0.743822</td>\n",
       "                        <td id=\"T_89e5e_row38_col2\" class=\"data row38 col2\" >0.235183</td>\n",
       "                        <td id=\"T_89e5e_row38_col3\" class=\"data row38 col3\" >0.772855</td>\n",
       "                        <td id=\"T_89e5e_row38_col4\" class=\"data row38 col4\" >0.242674</td>\n",
       "                        <td id=\"T_89e5e_row38_col5\" class=\"data row38 col5\" >0.169937</td>\n",
       "                        <td id=\"T_89e5e_row38_col6\" class=\"data row38 col6\" >-0.019707</td>\n",
       "                        <td id=\"T_89e5e_row38_col7\" class=\"data row38 col7\" >0.036871</td>\n",
       "                        <td id=\"T_89e5e_row38_col8\" class=\"data row38 col8\" >0.003786</td>\n",
       "                        <td id=\"T_89e5e_row38_col9\" class=\"data row38 col9\" >-0.006390</td>\n",
       "                        <td id=\"T_89e5e_row38_col10\" class=\"data row38 col10\" >0.025954</td>\n",
       "                        <td id=\"T_89e5e_row38_col11\" class=\"data row38 col11\" >nan</td>\n",
       "                        <td id=\"T_89e5e_row38_col12\" class=\"data row38 col12\" >0.023589</td>\n",
       "                        <td id=\"T_89e5e_row38_col13\" class=\"data row38 col13\" >0.009424</td>\n",
       "                        <td id=\"T_89e5e_row38_col14\" class=\"data row38 col14\" >0.003504</td>\n",
       "                        <td id=\"T_89e5e_row38_col15\" class=\"data row38 col15\" >0.020162</td>\n",
       "                        <td id=\"T_89e5e_row38_col16\" class=\"data row38 col16\" >0.022573</td>\n",
       "                        <td id=\"T_89e5e_row38_col17\" class=\"data row38 col17\" >0.011442</td>\n",
       "                        <td id=\"T_89e5e_row38_col18\" class=\"data row38 col18\" >-0.001342</td>\n",
       "                        <td id=\"T_89e5e_row38_col19\" class=\"data row38 col19\" >0.012092</td>\n",
       "                        <td id=\"T_89e5e_row38_col20\" class=\"data row38 col20\" >-0.005300</td>\n",
       "                        <td id=\"T_89e5e_row38_col21\" class=\"data row38 col21\" >0.189896</td>\n",
       "                        <td id=\"T_89e5e_row38_col22\" class=\"data row38 col22\" >-0.014815</td>\n",
       "                        <td id=\"T_89e5e_row38_col23\" class=\"data row38 col23\" >-0.005499</td>\n",
       "                        <td id=\"T_89e5e_row38_col24\" class=\"data row38 col24\" >nan</td>\n",
       "                        <td id=\"T_89e5e_row38_col25\" class=\"data row38 col25\" >nan</td>\n",
       "                        <td id=\"T_89e5e_row38_col26\" class=\"data row38 col26\" >-0.003490</td>\n",
       "                        <td id=\"T_89e5e_row38_col27\" class=\"data row38 col27\" >0.177115</td>\n",
       "                        <td id=\"T_89e5e_row38_col28\" class=\"data row38 col28\" >0.134009</td>\n",
       "                        <td id=\"T_89e5e_row38_col29\" class=\"data row38 col29\" >0.053774</td>\n",
       "                        <td id=\"T_89e5e_row38_col30\" class=\"data row38 col30\" >0.203843</td>\n",
       "                        <td id=\"T_89e5e_row38_col31\" class=\"data row38 col31\" >0.079274</td>\n",
       "                        <td id=\"T_89e5e_row38_col32\" class=\"data row38 col32\" >0.058176</td>\n",
       "                        <td id=\"T_89e5e_row38_col33\" class=\"data row38 col33\" >0.023747</td>\n",
       "                        <td id=\"T_89e5e_row38_col34\" class=\"data row38 col34\" >-0.006463</td>\n",
       "                        <td id=\"T_89e5e_row38_col35\" class=\"data row38 col35\" >0.720222</td>\n",
       "                        <td id=\"T_89e5e_row38_col36\" class=\"data row38 col36\" >0.466421</td>\n",
       "                        <td id=\"T_89e5e_row38_col37\" class=\"data row38 col37\" >0.734021</td>\n",
       "                        <td id=\"T_89e5e_row38_col38\" class=\"data row38 col38\" >1.000000</td>\n",
       "                        <td id=\"T_89e5e_row38_col39\" class=\"data row38 col39\" >0.738354</td>\n",
       "                        <td id=\"T_89e5e_row38_col40\" class=\"data row38 col40\" >0.417778</td>\n",
       "                        <td id=\"T_89e5e_row38_col41\" class=\"data row38 col41\" >0.512466</td>\n",
       "                        <td id=\"T_89e5e_row38_col42\" class=\"data row38 col42\" >0.370300</td>\n",
       "            </tr>\n",
       "            <tr>\n",
       "                        <th id=\"T_89e5e_level0_row39\" class=\"row_heading level0 row39\" >num_medications|number_diagnoses</th>\n",
       "                        <td id=\"T_89e5e_row39_col0\" class=\"data row39 col0\" >0.443844</td>\n",
       "                        <td id=\"T_89e5e_row39_col1\" class=\"data row39 col1\" >0.266010</td>\n",
       "                        <td id=\"T_89e5e_row39_col2\" class=\"data row39 col2\" >0.278006</td>\n",
       "                        <td id=\"T_89e5e_row39_col3\" class=\"data row39 col3\" >0.904072</td>\n",
       "                        <td id=\"T_89e5e_row39_col4\" class=\"data row39 col4\" >0.592329</td>\n",
       "                        <td id=\"T_89e5e_row39_col5\" class=\"data row39 col5\" >0.031255</td>\n",
       "                        <td id=\"T_89e5e_row39_col6\" class=\"data row39 col6\" >0.009891</td>\n",
       "                        <td id=\"T_89e5e_row39_col7\" class=\"data row39 col7\" >0.050135</td>\n",
       "                        <td id=\"T_89e5e_row39_col8\" class=\"data row39 col8\" >0.026661</td>\n",
       "                        <td id=\"T_89e5e_row39_col9\" class=\"data row39 col9\" >-0.010333</td>\n",
       "                        <td id=\"T_89e5e_row39_col10\" class=\"data row39 col10\" >0.043090</td>\n",
       "                        <td id=\"T_89e5e_row39_col11\" class=\"data row39 col11\" >nan</td>\n",
       "                        <td id=\"T_89e5e_row39_col12\" class=\"data row39 col12\" >0.027704</td>\n",
       "                        <td id=\"T_89e5e_row39_col13\" class=\"data row39 col13\" >0.017882</td>\n",
       "                        <td id=\"T_89e5e_row39_col14\" class=\"data row39 col14\" >0.006851</td>\n",
       "                        <td id=\"T_89e5e_row39_col15\" class=\"data row39 col15\" >0.053477</td>\n",
       "                        <td id=\"T_89e5e_row39_col16\" class=\"data row39 col16\" >0.040434</td>\n",
       "                        <td id=\"T_89e5e_row39_col17\" class=\"data row39 col17\" >0.011390</td>\n",
       "                        <td id=\"T_89e5e_row39_col18\" class=\"data row39 col18\" >0.004995</td>\n",
       "                        <td id=\"T_89e5e_row39_col19\" class=\"data row39 col19\" >0.010763</td>\n",
       "                        <td id=\"T_89e5e_row39_col20\" class=\"data row39 col20\" >-0.002825</td>\n",
       "                        <td id=\"T_89e5e_row39_col21\" class=\"data row39 col21\" >0.213954</td>\n",
       "                        <td id=\"T_89e5e_row39_col22\" class=\"data row39 col22\" >-0.007392</td>\n",
       "                        <td id=\"T_89e5e_row39_col23\" class=\"data row39 col23\" >-0.005370</td>\n",
       "                        <td id=\"T_89e5e_row39_col24\" class=\"data row39 col24\" >nan</td>\n",
       "                        <td id=\"T_89e5e_row39_col25\" class=\"data row39 col25\" >nan</td>\n",
       "                        <td id=\"T_89e5e_row39_col26\" class=\"data row39 col26\" >-0.004459</td>\n",
       "                        <td id=\"T_89e5e_row39_col27\" class=\"data row39 col27\" >0.217285</td>\n",
       "                        <td id=\"T_89e5e_row39_col28\" class=\"data row39 col28\" >0.166826</td>\n",
       "                        <td id=\"T_89e5e_row39_col29\" class=\"data row39 col29\" >0.060378</td>\n",
       "                        <td id=\"T_89e5e_row39_col30\" class=\"data row39 col30\" >0.206152</td>\n",
       "                        <td id=\"T_89e5e_row39_col31\" class=\"data row39 col31\" >0.110291</td>\n",
       "                        <td id=\"T_89e5e_row39_col32\" class=\"data row39 col32\" >0.123153</td>\n",
       "                        <td id=\"T_89e5e_row39_col33\" class=\"data row39 col33\" >0.042742</td>\n",
       "                        <td id=\"T_89e5e_row39_col34\" class=\"data row39 col34\" >0.065511</td>\n",
       "                        <td id=\"T_89e5e_row39_col35\" class=\"data row39 col35\" >0.720069</td>\n",
       "                        <td id=\"T_89e5e_row39_col36\" class=\"data row39 col36\" >0.515950</td>\n",
       "                        <td id=\"T_89e5e_row39_col37\" class=\"data row39 col37\" >0.456100</td>\n",
       "                        <td id=\"T_89e5e_row39_col38\" class=\"data row39 col38\" >0.738354</td>\n",
       "                        <td id=\"T_89e5e_row39_col39\" class=\"data row39 col39\" >1.000000</td>\n",
       "                        <td id=\"T_89e5e_row39_col40\" class=\"data row39 col40\" >0.495411</td>\n",
       "                        <td id=\"T_89e5e_row39_col41\" class=\"data row39 col41\" >0.577834</td>\n",
       "                        <td id=\"T_89e5e_row39_col42\" class=\"data row39 col42\" >0.395926</td>\n",
       "            </tr>\n",
       "            <tr>\n",
       "                        <th id=\"T_89e5e_level0_row40\" class=\"row_heading level0 row40\" >change|num_medications</th>\n",
       "                        <td id=\"T_89e5e_row40_col0\" class=\"data row40 col0\" >0.227793</td>\n",
       "                        <td id=\"T_89e5e_row40_col1\" class=\"data row40 col1\" >0.131186</td>\n",
       "                        <td id=\"T_89e5e_row40_col2\" class=\"data row40 col2\" >0.105618</td>\n",
       "                        <td id=\"T_89e5e_row40_col3\" class=\"data row40 col3\" >0.531842</td>\n",
       "                        <td id=\"T_89e5e_row40_col4\" class=\"data row40 col4\" >0.136632</td>\n",
       "                        <td id=\"T_89e5e_row40_col5\" class=\"data row40 col5\" >0.073819</td>\n",
       "                        <td id=\"T_89e5e_row40_col6\" class=\"data row40 col6\" >0.263117</td>\n",
       "                        <td id=\"T_89e5e_row40_col7\" class=\"data row40 col7\" >0.085871</td>\n",
       "                        <td id=\"T_89e5e_row40_col8\" class=\"data row40 col8\" >0.057717</td>\n",
       "                        <td id=\"T_89e5e_row40_col9\" class=\"data row40 col9\" >-0.009072</td>\n",
       "                        <td id=\"T_89e5e_row40_col10\" class=\"data row40 col10\" >0.131227</td>\n",
       "                        <td id=\"T_89e5e_row40_col11\" class=\"data row40 col11\" >nan</td>\n",
       "                        <td id=\"T_89e5e_row40_col12\" class=\"data row40 col12\" >0.179152</td>\n",
       "                        <td id=\"T_89e5e_row40_col13\" class=\"data row40 col13\" >0.152941</td>\n",
       "                        <td id=\"T_89e5e_row40_col14\" class=\"data row40 col14\" >0.005469</td>\n",
       "                        <td id=\"T_89e5e_row40_col15\" class=\"data row40 col15\" >0.185025</td>\n",
       "                        <td id=\"T_89e5e_row40_col16\" class=\"data row40 col16\" >0.168218</td>\n",
       "                        <td id=\"T_89e5e_row40_col17\" class=\"data row40 col17\" >0.047073</td>\n",
       "                        <td id=\"T_89e5e_row40_col18\" class=\"data row40 col18\" >0.014128</td>\n",
       "                        <td id=\"T_89e5e_row40_col19\" class=\"data row40 col19\" >0.016491</td>\n",
       "                        <td id=\"T_89e5e_row40_col20\" class=\"data row40 col20\" >-0.003782</td>\n",
       "                        <td id=\"T_89e5e_row40_col21\" class=\"data row40 col21\" >0.468771</td>\n",
       "                        <td id=\"T_89e5e_row40_col22\" class=\"data row40 col22\" >0.030422</td>\n",
       "                        <td id=\"T_89e5e_row40_col23\" class=\"data row40 col23\" >-0.000163</td>\n",
       "                        <td id=\"T_89e5e_row40_col24\" class=\"data row40 col24\" >nan</td>\n",
       "                        <td id=\"T_89e5e_row40_col25\" class=\"data row40 col25\" >nan</td>\n",
       "                        <td id=\"T_89e5e_row40_col26\" class=\"data row40 col26\" >0.010063</td>\n",
       "                        <td id=\"T_89e5e_row40_col27\" class=\"data row40 col27\" >0.872714</td>\n",
       "                        <td id=\"T_89e5e_row40_col28\" class=\"data row40 col28\" >0.438378</td>\n",
       "                        <td id=\"T_89e5e_row40_col29\" class=\"data row40 col29\" >0.027191</td>\n",
       "                        <td id=\"T_89e5e_row40_col30\" class=\"data row40 col30\" >0.592968</td>\n",
       "                        <td id=\"T_89e5e_row40_col31\" class=\"data row40 col31\" >0.036226</td>\n",
       "                        <td id=\"T_89e5e_row40_col32\" class=\"data row40 col32\" >0.051718</td>\n",
       "                        <td id=\"T_89e5e_row40_col33\" class=\"data row40 col33\" >0.030801</td>\n",
       "                        <td id=\"T_89e5e_row40_col34\" class=\"data row40 col34\" >0.029154</td>\n",
       "                        <td id=\"T_89e5e_row40_col35\" class=\"data row40 col35\" >0.405584</td>\n",
       "                        <td id=\"T_89e5e_row40_col36\" class=\"data row40 col36\" >0.262089</td>\n",
       "                        <td id=\"T_89e5e_row40_col37\" class=\"data row40 col37\" >0.231639</td>\n",
       "                        <td id=\"T_89e5e_row40_col38\" class=\"data row40 col38\" >0.417778</td>\n",
       "                        <td id=\"T_89e5e_row40_col39\" class=\"data row40 col39\" >0.495411</td>\n",
       "                        <td id=\"T_89e5e_row40_col40\" class=\"data row40 col40\" >1.000000</td>\n",
       "                        <td id=\"T_89e5e_row40_col41\" class=\"data row40 col41\" >0.246468</td>\n",
       "                        <td id=\"T_89e5e_row40_col42\" class=\"data row40 col42\" >0.694700</td>\n",
       "            </tr>\n",
       "            <tr>\n",
       "                        <th id=\"T_89e5e_level0_row41\" class=\"row_heading level0 row41\" >number_diagnoses|time_in_hospital</th>\n",
       "                        <td id=\"T_89e5e_row41_col0\" class=\"data row41 col0\" >0.941112</td>\n",
       "                        <td id=\"T_89e5e_row41_col1\" class=\"data row41 col1\" >0.317901</td>\n",
       "                        <td id=\"T_89e5e_row41_col2\" class=\"data row41 col2\" >0.152184</td>\n",
       "                        <td id=\"T_89e5e_row41_col3\" class=\"data row41 col3\" >0.458848</td>\n",
       "                        <td id=\"T_89e5e_row41_col4\" class=\"data row41 col4\" >0.463854</td>\n",
       "                        <td id=\"T_89e5e_row41_col5\" class=\"data row41 col5\" >0.063195</td>\n",
       "                        <td id=\"T_89e5e_row41_col6\" class=\"data row41 col6\" >-0.044958</td>\n",
       "                        <td id=\"T_89e5e_row41_col7\" class=\"data row41 col7\" >0.065742</td>\n",
       "                        <td id=\"T_89e5e_row41_col8\" class=\"data row41 col8\" >0.004716</td>\n",
       "                        <td id=\"T_89e5e_row41_col9\" class=\"data row41 col9\" >-0.012109</td>\n",
       "                        <td id=\"T_89e5e_row41_col10\" class=\"data row41 col10\" >0.015109</td>\n",
       "                        <td id=\"T_89e5e_row41_col11\" class=\"data row41 col11\" >nan</td>\n",
       "                        <td id=\"T_89e5e_row41_col12\" class=\"data row41 col12\" >0.000939</td>\n",
       "                        <td id=\"T_89e5e_row41_col13\" class=\"data row41 col13\" >0.008159</td>\n",
       "                        <td id=\"T_89e5e_row41_col14\" class=\"data row41 col14\" >0.006326</td>\n",
       "                        <td id=\"T_89e5e_row41_col15\" class=\"data row41 col15\" >-0.009765</td>\n",
       "                        <td id=\"T_89e5e_row41_col16\" class=\"data row41 col16\" >-0.002316</td>\n",
       "                        <td id=\"T_89e5e_row41_col17\" class=\"data row41 col17\" >-0.001856</td>\n",
       "                        <td id=\"T_89e5e_row41_col18\" class=\"data row41 col18\" >0.008288</td>\n",
       "                        <td id=\"T_89e5e_row41_col19\" class=\"data row41 col19\" >0.013418</td>\n",
       "                        <td id=\"T_89e5e_row41_col20\" class=\"data row41 col20\" >0.000562</td>\n",
       "                        <td id=\"T_89e5e_row41_col21\" class=\"data row41 col21\" >0.111657</td>\n",
       "                        <td id=\"T_89e5e_row41_col22\" class=\"data row41 col22\" >-0.006194</td>\n",
       "                        <td id=\"T_89e5e_row41_col23\" class=\"data row41 col23\" >-0.012179</td>\n",
       "                        <td id=\"T_89e5e_row41_col24\" class=\"data row41 col24\" >nan</td>\n",
       "                        <td id=\"T_89e5e_row41_col25\" class=\"data row41 col25\" >nan</td>\n",
       "                        <td id=\"T_89e5e_row41_col26\" class=\"data row41 col26\" >-0.002683</td>\n",
       "                        <td id=\"T_89e5e_row41_col27\" class=\"data row41 col27\" >0.100412</td>\n",
       "                        <td id=\"T_89e5e_row41_col28\" class=\"data row41 col28\" >0.053585</td>\n",
       "                        <td id=\"T_89e5e_row41_col29\" class=\"data row41 col29\" >0.068135</td>\n",
       "                        <td id=\"T_89e5e_row41_col30\" class=\"data row41 col30\" >0.144720</td>\n",
       "                        <td id=\"T_89e5e_row41_col31\" class=\"data row41 col31\" >0.115368</td>\n",
       "                        <td id=\"T_89e5e_row41_col32\" class=\"data row41 col32\" >0.087548</td>\n",
       "                        <td id=\"T_89e5e_row41_col33\" class=\"data row41 col33\" >0.018919</td>\n",
       "                        <td id=\"T_89e5e_row41_col34\" class=\"data row41 col34\" >-0.002441</td>\n",
       "                        <td id=\"T_89e5e_row41_col35\" class=\"data row41 col35\" >0.843411</td>\n",
       "                        <td id=\"T_89e5e_row41_col36\" class=\"data row41 col36\" >0.273186</td>\n",
       "                        <td id=\"T_89e5e_row41_col37\" class=\"data row41 col37\" >0.818066</td>\n",
       "                        <td id=\"T_89e5e_row41_col38\" class=\"data row41 col38\" >0.512466</td>\n",
       "                        <td id=\"T_89e5e_row41_col39\" class=\"data row41 col39\" >0.577834</td>\n",
       "                        <td id=\"T_89e5e_row41_col40\" class=\"data row41 col40\" >0.246468</td>\n",
       "                        <td id=\"T_89e5e_row41_col41\" class=\"data row41 col41\" >1.000000</td>\n",
       "                        <td id=\"T_89e5e_row41_col42\" class=\"data row41 col42\" >0.246689</td>\n",
       "            </tr>\n",
       "            <tr>\n",
       "                        <th id=\"T_89e5e_level0_row42\" class=\"row_heading level0 row42\" >num_medications|numchange</th>\n",
       "                        <td id=\"T_89e5e_row42_col0\" class=\"data row42 col0\" >0.227270</td>\n",
       "                        <td id=\"T_89e5e_row42_col1\" class=\"data row42 col1\" >0.157853</td>\n",
       "                        <td id=\"T_89e5e_row42_col2\" class=\"data row42 col2\" >0.070309</td>\n",
       "                        <td id=\"T_89e5e_row42_col3\" class=\"data row42 col3\" >0.404290</td>\n",
       "                        <td id=\"T_89e5e_row42_col4\" class=\"data row42 col4\" >0.126708</td>\n",
       "                        <td id=\"T_89e5e_row42_col5\" class=\"data row42 col5\" >0.083842</td>\n",
       "                        <td id=\"T_89e5e_row42_col6\" class=\"data row42 col6\" >-0.002275</td>\n",
       "                        <td id=\"T_89e5e_row42_col7\" class=\"data row42 col7\" >0.056842</td>\n",
       "                        <td id=\"T_89e5e_row42_col8\" class=\"data row42 col8\" >-0.010623</td>\n",
       "                        <td id=\"T_89e5e_row42_col9\" class=\"data row42 col9\" >-0.005601</td>\n",
       "                        <td id=\"T_89e5e_row42_col10\" class=\"data row42 col10\" >0.024489</td>\n",
       "                        <td id=\"T_89e5e_row42_col11\" class=\"data row42 col11\" >nan</td>\n",
       "                        <td id=\"T_89e5e_row42_col12\" class=\"data row42 col12\" >0.003349</td>\n",
       "                        <td id=\"T_89e5e_row42_col13\" class=\"data row42 col13\" >-0.022401</td>\n",
       "                        <td id=\"T_89e5e_row42_col14\" class=\"data row42 col14\" >-0.000145</td>\n",
       "                        <td id=\"T_89e5e_row42_col15\" class=\"data row42 col15\" >0.025290</td>\n",
       "                        <td id=\"T_89e5e_row42_col16\" class=\"data row42 col16\" >0.015829</td>\n",
       "                        <td id=\"T_89e5e_row42_col17\" class=\"data row42 col17\" >0.025211</td>\n",
       "                        <td id=\"T_89e5e_row42_col18\" class=\"data row42 col18\" >0.013601</td>\n",
       "                        <td id=\"T_89e5e_row42_col19\" class=\"data row42 col19\" >0.001637</td>\n",
       "                        <td id=\"T_89e5e_row42_col20\" class=\"data row42 col20\" >-0.001867</td>\n",
       "                        <td id=\"T_89e5e_row42_col21\" class=\"data row42 col21\" >0.409705</td>\n",
       "                        <td id=\"T_89e5e_row42_col22\" class=\"data row42 col22\" >-0.004630</td>\n",
       "                        <td id=\"T_89e5e_row42_col23\" class=\"data row42 col23\" >-0.005751</td>\n",
       "                        <td id=\"T_89e5e_row42_col24\" class=\"data row42 col24\" >nan</td>\n",
       "                        <td id=\"T_89e5e_row42_col25\" class=\"data row42 col25\" >nan</td>\n",
       "                        <td id=\"T_89e5e_row42_col26\" class=\"data row42 col26\" >0.014727</td>\n",
       "                        <td id=\"T_89e5e_row42_col27\" class=\"data row42 col27\" >0.570266</td>\n",
       "                        <td id=\"T_89e5e_row42_col28\" class=\"data row42 col28\" >0.286454</td>\n",
       "                        <td id=\"T_89e5e_row42_col29\" class=\"data row42 col29\" >0.029946</td>\n",
       "                        <td id=\"T_89e5e_row42_col30\" class=\"data row42 col30\" >0.903736</td>\n",
       "                        <td id=\"T_89e5e_row42_col31\" class=\"data row42 col31\" >0.067500</td>\n",
       "                        <td id=\"T_89e5e_row42_col32\" class=\"data row42 col32\" >0.077713</td>\n",
       "                        <td id=\"T_89e5e_row42_col33\" class=\"data row42 col33\" >0.054468</td>\n",
       "                        <td id=\"T_89e5e_row42_col34\" class=\"data row42 col34\" >0.027549</td>\n",
       "                        <td id=\"T_89e5e_row42_col35\" class=\"data row42 col35\" >0.363398</td>\n",
       "                        <td id=\"T_89e5e_row42_col36\" class=\"data row42 col36\" >0.196058</td>\n",
       "                        <td id=\"T_89e5e_row42_col37\" class=\"data row42 col37\" >0.246704</td>\n",
       "                        <td id=\"T_89e5e_row42_col38\" class=\"data row42 col38\" >0.370300</td>\n",
       "                        <td id=\"T_89e5e_row42_col39\" class=\"data row42 col39\" >0.395926</td>\n",
       "                        <td id=\"T_89e5e_row42_col40\" class=\"data row42 col40\" >0.694700</td>\n",
       "                        <td id=\"T_89e5e_row42_col41\" class=\"data row42 col41\" >0.246689</td>\n",
       "                        <td id=\"T_89e5e_row42_col42\" class=\"data row42 col42\" >1.000000</td>\n",
       "            </tr>\n",
       "    </tbody></table>"
      ],
      "text/plain": [
       "<pandas.io.formats.style.Styler at 0x17a7fdf9820>"
      ]
     },
     "execution_count": 94,
     "metadata": {},
     "output_type": "execute_result"
    }
   ],
   "source": [
    "from matplotlib.colors import ListedColormap\n",
    "my_cmap = ListedColormap(sns.light_palette((250, 100, 50), input=\"husl\", n_colors=50).as_hex())\n",
    "table = df2.drop(['patient_nbr', 'encounter_id'], axis=1).corr(method='pearson')\n",
    "table.style.background_gradient(cmap=my_cmap, axis = 0)"
   ]
  },
  {
   "cell_type": "code",
   "execution_count": 95,
   "id": "43fbd06f",
   "metadata": {},
   "outputs": [],
   "source": [
    "df2['level1_diag1'] = df2['level1_diag1'].astype('object')\n",
    "df_pd = pd.get_dummies(df2, columns=['gender', 'admission_type_id', 'discharge_disposition_id',\n",
    "                                      'admission_source_id', 'max_glu_serum', 'A1Cresult', 'level1_diag1'], drop_first = True)\n",
    "just_dummies = pd.get_dummies(df_pd['race'])\n",
    "df_pd = pd.concat([df_pd, just_dummies], axis=1)      \n",
    "df_pd.drop(['race'], inplace=True, axis=1)"
   ]
  },
  {
   "cell_type": "code",
   "execution_count": 96,
   "id": "90c6d8c6",
   "metadata": {},
   "outputs": [],
   "source": [
    "non_num_cols = ['race', 'gender', 'admission_type_id', 'discharge_disposition_id', 'admission_source_id', \n",
    "                'max_glu_serum', 'A1Cresult', 'level1_diag1' ]"
   ]
  },
  {
   "cell_type": "code",
   "execution_count": 97,
   "id": "e849b14a",
   "metadata": {},
   "outputs": [
    {
     "data": {
      "text/plain": [
       "['time_in_hospital',\n",
       " 'num_medications|num_procedures',\n",
       " 'num_medications|number_diagnoses',\n",
       " 'glyburide',\n",
       " 'A1Cresult',\n",
       " 'patient_nbr',\n",
       " 'pioglitazone',\n",
       " 'num_medications|num_lab_procedures',\n",
       " 'chlorpropamide',\n",
       " 'number_diagnoses|time_in_hospital',\n",
       " 'acetohexamide',\n",
       " 'nateglinide',\n",
       " 'troglitazone',\n",
       " 'glipizide',\n",
       " 'num_medications|time_in_hospital',\n",
       " 'insulin',\n",
       " 'num_medications|numchange',\n",
       " 'num_procedures',\n",
       " 'numchange',\n",
       " 'metformin-rosiglitazone',\n",
       " 'num_lab_procedures',\n",
       " 'diabetesMed',\n",
       " 'tolazamide',\n",
       " 'number_inpatient_log1p',\n",
       " 'number_emergency_log1p',\n",
       " 'number_outpatient_log1p',\n",
       " 'number_diagnoses',\n",
       " 'time_in_hospital|num_lab_procedures',\n",
       " 'service_utilization_log1p',\n",
       " 'metformin',\n",
       " 'tolbutamide',\n",
       " 'glimepiride-pioglitazone',\n",
       " 'miglitol',\n",
       " 'glimepiride',\n",
       " 'glyburide-metformin',\n",
       " 'num_medications',\n",
       " 'metformin-pioglitazone',\n",
       " 'acarbose',\n",
       " 'glipizide-metformin',\n",
       " 'change|num_medications',\n",
       " 'encounter_id',\n",
       " 'repaglinide',\n",
       " 'rosiglitazone']"
      ]
     },
     "execution_count": 97,
     "metadata": {},
     "output_type": "execute_result"
    }
   ],
   "source": [
    "num_cols = list(set(list(df._get_numeric_data().columns))- {'readmitted', 'change'})\n",
    "num_cols"
   ]
  },
  {
   "cell_type": "code",
   "execution_count": 98,
   "id": "d1818fd9",
   "metadata": {},
   "outputs": [],
   "source": [
    "new_non_num_cols = []\n",
    "for i in non_num_cols:\n",
    "    for j in df_pd.columns:\n",
    "        if i in j:\n",
    "            new_non_num_cols.append(j)"
   ]
  },
  {
   "cell_type": "code",
   "execution_count": 99,
   "id": "1779d1be",
   "metadata": {},
   "outputs": [
    {
     "data": {
      "text/plain": [
       "['gender_1',\n",
       " 'admission_type_id_3',\n",
       " 'admission_type_id_5',\n",
       " 'discharge_disposition_id_2',\n",
       " 'discharge_disposition_id_7',\n",
       " 'discharge_disposition_id_10',\n",
       " 'discharge_disposition_id_18',\n",
       " 'discharge_disposition_id_19',\n",
       " 'discharge_disposition_id_28',\n",
       " 'admission_source_id_4',\n",
       " 'admission_source_id_7',\n",
       " 'admission_source_id_9',\n",
       " 'admission_source_id_11',\n",
       " 'max_glu_serum_0',\n",
       " 'max_glu_serum_1',\n",
       " 'A1Cresult_0',\n",
       " 'A1Cresult_1',\n",
       " 'level1_diag1_1.0',\n",
       " 'level1_diag1_2.0',\n",
       " 'level1_diag1_3.0',\n",
       " 'level1_diag1_4.0',\n",
       " 'level1_diag1_5.0',\n",
       " 'level1_diag1_6.0',\n",
       " 'level1_diag1_7.0',\n",
       " 'level1_diag1_8.0']"
      ]
     },
     "execution_count": 99,
     "metadata": {},
     "output_type": "execute_result"
    }
   ],
   "source": [
    "new_non_num_cols"
   ]
  },
  {
   "cell_type": "code",
   "execution_count": 100,
   "id": "19cffb33",
   "metadata": {},
   "outputs": [
    {
     "data": {
      "text/plain": [
       "['num_medications|time_in_hospital',\n",
       " 'num_medications|num_procedures',\n",
       " 'time_in_hospital|num_lab_procedures',\n",
       " 'num_medications|num_lab_procedures',\n",
       " 'num_medications|number_diagnoses',\n",
       " 'age|number_diagnoses',\n",
       " 'change|num_medications',\n",
       " 'number_diagnoses|time_in_hospital',\n",
       " 'num_medications|numchange']"
      ]
     },
     "execution_count": 100,
     "metadata": {},
     "output_type": "execute_result"
    }
   ],
   "source": [
    "l = []\n",
    "for feature in list(df_pd.columns):\n",
    "    if '|' in feature:\n",
    "        l.append(feature)\n",
    "l"
   ]
  },
  {
   "cell_type": "code",
   "execution_count": 101,
   "id": "71c8619f",
   "metadata": {},
   "outputs": [
    {
     "data": {
      "text/html": [
       "<div>\n",
       "<style scoped>\n",
       "    .dataframe tbody tr th:only-of-type {\n",
       "        vertical-align: middle;\n",
       "    }\n",
       "\n",
       "    .dataframe tbody tr th {\n",
       "        vertical-align: top;\n",
       "    }\n",
       "\n",
       "    .dataframe thead th {\n",
       "        text-align: right;\n",
       "    }\n",
       "</style>\n",
       "<table border=\"1\" class=\"dataframe\">\n",
       "  <thead>\n",
       "    <tr style=\"text-align: right;\">\n",
       "      <th></th>\n",
       "      <th>0</th>\n",
       "      <th>1</th>\n",
       "      <th>3</th>\n",
       "      <th>4</th>\n",
       "      <th>5</th>\n",
       "    </tr>\n",
       "  </thead>\n",
       "  <tbody>\n",
       "    <tr>\n",
       "      <th>encounter_id</th>\n",
       "      <td>245224068</td>\n",
       "      <td>280344456</td>\n",
       "      <td>127615968</td>\n",
       "      <td>74057760</td>\n",
       "      <td>390765206</td>\n",
       "    </tr>\n",
       "    <tr>\n",
       "      <th>patient_nbr</th>\n",
       "      <td>106074990</td>\n",
       "      <td>40608414</td>\n",
       "      <td>94194585</td>\n",
       "      <td>195372</td>\n",
       "      <td>30976182</td>\n",
       "    </tr>\n",
       "    <tr>\n",
       "      <th>age</th>\n",
       "      <td>85</td>\n",
       "      <td>85</td>\n",
       "      <td>75</td>\n",
       "      <td>75</td>\n",
       "      <td>75</td>\n",
       "    </tr>\n",
       "    <tr>\n",
       "      <th>time_in_hospital</th>\n",
       "      <td>-0.464265</td>\n",
       "      <td>-0.464265</td>\n",
       "      <td>1.883253</td>\n",
       "      <td>-0.799625</td>\n",
       "      <td>0.206454</td>\n",
       "    </tr>\n",
       "    <tr>\n",
       "      <th>num_lab_procedures</th>\n",
       "      <td>-0.040741</td>\n",
       "      <td>-1.049029</td>\n",
       "      <td>-2.057316</td>\n",
       "      <td>-0.14157</td>\n",
       "      <td>0.967546</td>\n",
       "    </tr>\n",
       "    <tr>\n",
       "      <th>...</th>\n",
       "      <td>...</td>\n",
       "      <td>...</td>\n",
       "      <td>...</td>\n",
       "      <td>...</td>\n",
       "      <td>...</td>\n",
       "    </tr>\n",
       "    <tr>\n",
       "      <th>AfricanAmerican</th>\n",
       "      <td>0</td>\n",
       "      <td>0</td>\n",
       "      <td>0</td>\n",
       "      <td>1</td>\n",
       "      <td>0</td>\n",
       "    </tr>\n",
       "    <tr>\n",
       "      <th>Asian</th>\n",
       "      <td>0</td>\n",
       "      <td>0</td>\n",
       "      <td>0</td>\n",
       "      <td>0</td>\n",
       "      <td>0</td>\n",
       "    </tr>\n",
       "    <tr>\n",
       "      <th>Caucasian</th>\n",
       "      <td>1</td>\n",
       "      <td>1</td>\n",
       "      <td>1</td>\n",
       "      <td>0</td>\n",
       "      <td>1</td>\n",
       "    </tr>\n",
       "    <tr>\n",
       "      <th>Hispanic</th>\n",
       "      <td>0</td>\n",
       "      <td>0</td>\n",
       "      <td>0</td>\n",
       "      <td>0</td>\n",
       "      <td>0</td>\n",
       "    </tr>\n",
       "    <tr>\n",
       "      <th>Other</th>\n",
       "      <td>0</td>\n",
       "      <td>0</td>\n",
       "      <td>0</td>\n",
       "      <td>0</td>\n",
       "      <td>0</td>\n",
       "    </tr>\n",
       "  </tbody>\n",
       "</table>\n",
       "<p>77 rows × 5 columns</p>\n",
       "</div>"
      ],
      "text/plain": [
       "                            0          1          3         4          5\n",
       "encounter_id        245224068  280344456  127615968  74057760  390765206\n",
       "patient_nbr         106074990   40608414   94194585    195372   30976182\n",
       "age                        85         85         75        75         75\n",
       "time_in_hospital    -0.464265  -0.464265   1.883253 -0.799625   0.206454\n",
       "num_lab_procedures  -0.040741  -1.049029  -2.057316  -0.14157   0.967546\n",
       "...                       ...        ...        ...       ...        ...\n",
       "AfricanAmerican             0          0          0         1          0\n",
       "Asian                       0          0          0         0          0\n",
       "Caucasian                   1          1          1         0          1\n",
       "Hispanic                    0          0          0         0          0\n",
       "Other                       0          0          0         0          0\n",
       "\n",
       "[77 rows x 5 columns]"
      ]
     },
     "execution_count": 101,
     "metadata": {},
     "output_type": "execute_result"
    }
   ],
   "source": [
    "df_pd.head().T"
   ]
  },
  {
   "cell_type": "markdown",
   "id": "36111165",
   "metadata": {},
   "source": [
    "# Modeling"
   ]
  },
  {
   "cell_type": "code",
   "execution_count": 102,
   "id": "3e5586b2",
   "metadata": {},
   "outputs": [],
   "source": [
    "feature_set = ['age', 'time_in_hospital', 'num_procedures', 'num_medications', 'number_outpatient_log1p', \n",
    "                 'number_emergency_log1p', 'number_inpatient_log1p', 'number_diagnoses', 'metformin', \n",
    "                 'repaglinide', 'nateglinide', 'chlorpropamide', 'glimepiride', 'glipizide', 'glyburide',\n",
    "                 'pioglitazone', 'rosiglitazone', 'acarbose', 'tolazamide', 'insulin', 'glyburide-metformin',\n",
    "                 'AfricanAmerican', 'Asian', 'Caucasian', 'Hispanic', 'Other', 'gender_1', \n",
    "                 'admission_type_id_3', 'admission_type_id_5', 'discharge_disposition_id_2', 'discharge_disposition_id_7', \n",
    "                 'discharge_disposition_id_10', 'discharge_disposition_id_18', 'admission_source_id_4',\n",
    "                 'admission_source_id_7', 'admission_source_id_9', 'max_glu_serum_0', 'max_glu_serum_1', 'A1Cresult_0',\n",
    "                 'A1Cresult_1', 'num_medications|time_in_hospital', 'num_medications|num_procedures',\n",
    "                 'time_in_hospital|num_lab_procedures', 'num_medications|num_lab_procedures', 'num_medications|number_diagnoses',\n",
    "                 'age|number_diagnoses', 'change|num_medications', 'number_diagnoses|time_in_hospital',\n",
    "                 'num_medications|numchange',]"
   ]
  },
  {
   "cell_type": "code",
   "execution_count": 103,
   "id": "afc1f30b",
   "metadata": {},
   "outputs": [],
   "source": [
    "X = df_pd[feature_set]\n",
    "y = df_pd['readmitted']"
   ]
  },
  {
   "cell_type": "markdown",
   "id": "44469c03",
   "metadata": {},
   "source": [
    "# Logistic Regression"
   ]
  },
  {
   "cell_type": "code",
   "execution_count": 104,
   "id": "0cbd2b61",
   "metadata": {},
   "outputs": [
    {
     "data": {
      "text/plain": [
       "0    14218\n",
       "1     1446\n",
       "Name: readmitted, dtype: int64"
      ]
     },
     "execution_count": 104,
     "metadata": {},
     "output_type": "execute_result"
    }
   ],
   "source": [
    "df_pd['readmitted'].value_counts()"
   ]
  },
  {
   "cell_type": "code",
   "execution_count": 105,
   "id": "e9f16074",
   "metadata": {},
   "outputs": [
    {
     "data": {
      "text/plain": [
       "LogisticRegression()"
      ]
     },
     "execution_count": 105,
     "metadata": {},
     "output_type": "execute_result"
    }
   ],
   "source": [
    "from sklearn.model_selection import train_test_split\n",
    "from sklearn.linear_model import LogisticRegression\n",
    "from sklearn.model_selection import cross_val_score\n",
    "X_train, X_test, y_train, y_test = train_test_split(X, y, test_size=0.20, random_state=0)\n",
    "logit = LogisticRegression(fit_intercept=True, penalty='l2')\n",
    "logit.fit(X_train, y_train)"
   ]
  },
  {
   "cell_type": "code",
   "execution_count": 106,
   "id": "afd4c6de",
   "metadata": {},
   "outputs": [
    {
     "data": {
      "text/html": [
       "<div>\n",
       "<style scoped>\n",
       "    .dataframe tbody tr th:only-of-type {\n",
       "        vertical-align: middle;\n",
       "    }\n",
       "\n",
       "    .dataframe tbody tr th {\n",
       "        vertical-align: top;\n",
       "    }\n",
       "\n",
       "    .dataframe thead th {\n",
       "        text-align: right;\n",
       "    }\n",
       "</style>\n",
       "<table border=\"1\" class=\"dataframe\">\n",
       "  <thead>\n",
       "    <tr style=\"text-align: right;\">\n",
       "      <th>Predict</th>\n",
       "      <th>0</th>\n",
       "      <th>All</th>\n",
       "    </tr>\n",
       "    <tr>\n",
       "      <th>Actual</th>\n",
       "      <th></th>\n",
       "      <th></th>\n",
       "    </tr>\n",
       "  </thead>\n",
       "  <tbody>\n",
       "    <tr>\n",
       "      <th>0</th>\n",
       "      <td>464</td>\n",
       "      <td>464</td>\n",
       "    </tr>\n",
       "    <tr>\n",
       "      <th>1</th>\n",
       "      <td>57</td>\n",
       "      <td>57</td>\n",
       "    </tr>\n",
       "    <tr>\n",
       "      <th>All</th>\n",
       "      <td>521</td>\n",
       "      <td>521</td>\n",
       "    </tr>\n",
       "  </tbody>\n",
       "</table>\n",
       "</div>"
      ],
      "text/plain": [
       "Predict    0  All\n",
       "Actual           \n",
       "0        464  464\n",
       "1         57   57\n",
       "All      521  521"
      ]
     },
     "execution_count": 106,
     "metadata": {},
     "output_type": "execute_result"
    }
   ],
   "source": [
    "logit_pred = logit.predict(X_test)\n",
    "pd.crosstab(pd.Series(y_test, name = 'Actual'), pd.Series(logit_pred, name = 'Predict'), margins = True)"
   ]
  },
  {
   "cell_type": "markdown",
   "id": "50434d53",
   "metadata": {},
   "source": [
    "#### Using Anova test to check both train and test data represents the overall data\n",
    "\n",
    "\n",
    "* Null hypothesis: Train and test data represents the overall data\n",
    "* Alternate hypothesis: Train and test data doesn't represents the overall data"
   ]
  },
  {
   "cell_type": "code",
   "execution_count": 107,
   "id": "57d4a212",
   "metadata": {},
   "outputs": [
    {
     "data": {
      "text/plain": [
       "F_onewayResult(statistic=0.0014540620883596984, pvalue=0.998546994614946)"
      ]
     },
     "execution_count": 107,
     "metadata": {},
     "output_type": "execute_result"
    }
   ],
   "source": [
    "from scipy.stats import f_oneway\n",
    "\n",
    "f_oneway(y,y_train,y_test)"
   ]
  },
  {
   "cell_type": "markdown",
   "id": "ec2cf148",
   "metadata": {},
   "source": [
    "* Since, P value > 0.05, we accept null hypothesis\n",
    "* Hence, train and test data represents the overall data"
   ]
  },
  {
   "cell_type": "code",
   "execution_count": 108,
   "id": "b5e07c14",
   "metadata": {},
   "outputs": [
    {
     "name": "stdout",
     "output_type": "stream",
     "text": [
      "Accuracy is 0.91\n",
      "Precision is 0.00\n",
      "Recall is 0.00\n"
     ]
    }
   ],
   "source": [
    "from sklearn.metrics import accuracy_score, precision_score, recall_score\n",
    "print(\"Accuracy is {0:.2f}\".format(accuracy_score(y_test, logit_pred)))\n",
    "print(\"Precision is {0:.2f}\".format(precision_score(y_test, logit_pred)))\n",
    "print(\"Recall is {0:.2f}\".format(recall_score(y_test, logit_pred)))"
   ]
  },
  {
   "cell_type": "code",
   "execution_count": 109,
   "id": "b3dd858e",
   "metadata": {},
   "outputs": [],
   "source": [
    "##Since our target variable is having class imbalance problem, So will use SMOTE technique to resolve it"
   ]
  },
  {
   "cell_type": "code",
   "execution_count": 110,
   "id": "4936d840",
   "metadata": {},
   "outputs": [
    {
     "name": "stdout",
     "output_type": "stream",
     "text": [
      "Requirement already satisfied: imblearn in c:\\users\\dh1181tu\\anaconda3\\lib\\site-packages (0.0)\n",
      "Requirement already satisfied: imbalanced-learn in c:\\users\\dh1181tu\\anaconda3\\lib\\site-packages (from imblearn) (0.9.0)\n",
      "Requirement already satisfied: numpy>=1.14.6 in c:\\users\\dh1181tu\\anaconda3\\lib\\site-packages (from imbalanced-learn->imblearn) (1.19.5)\n",
      "Requirement already satisfied: scipy>=1.1.0 in c:\\users\\dh1181tu\\anaconda3\\lib\\site-packages (from imbalanced-learn->imblearn) (1.6.2)\n",
      "Requirement already satisfied: joblib>=0.11 in c:\\users\\dh1181tu\\anaconda3\\lib\\site-packages (from imbalanced-learn->imblearn) (1.0.1)\n",
      "Requirement already satisfied: threadpoolctl>=2.0.0 in c:\\users\\dh1181tu\\anaconda3\\lib\\site-packages (from imbalanced-learn->imblearn) (2.1.0)\n",
      "Requirement already satisfied: scikit-learn>=1.0.1 in c:\\users\\dh1181tu\\anaconda3\\lib\\site-packages (from imbalanced-learn->imblearn) (1.0.2)\n"
     ]
    }
   ],
   "source": [
    "!pip install imblearn"
   ]
  },
  {
   "cell_type": "code",
   "execution_count": 111,
   "id": "06d8f0d6",
   "metadata": {},
   "outputs": [
    {
     "name": "stdout",
     "output_type": "stream",
     "text": [
      "Original dataset shape Counter({0: 11375, 1: 1156})\n",
      "New dataset shape Counter({0: 11375, 1: 11375})\n"
     ]
    }
   ],
   "source": [
    "from imblearn.over_sampling import SMOTE\n",
    "from collections import Counter\n",
    "print('Original dataset shape {}'.format(Counter(y_train)))\n",
    "sm = SMOTE(random_state=20)\n",
    "train_input_new, train_output_new = sm.fit_resample(X_train, y_train)\n",
    "print('New dataset shape {}'.format(Counter(train_output_new)))"
   ]
  },
  {
   "cell_type": "code",
   "execution_count": 112,
   "id": "88dcb1e4",
   "metadata": {},
   "outputs": [
    {
     "data": {
      "text/plain": [
       "LogisticRegression()"
      ]
     },
     "execution_count": 112,
     "metadata": {},
     "output_type": "execute_result"
    }
   ],
   "source": [
    "train_input_new = pd.DataFrame(train_input_new, columns = list(X.columns))\n",
    "from sklearn.model_selection import train_test_split\n",
    "from sklearn.linear_model import LogisticRegression\n",
    "from sklearn.model_selection import cross_val_score\n",
    "X_train, X_test, y_train, y_test = train_test_split(train_input_new, train_output_new, test_size=0.20, random_state=0)\n",
    "logit = LogisticRegression(fit_intercept=True, penalty='l2')\n",
    "logit.fit(X_train, y_train)"
   ]
  },
  {
   "cell_type": "code",
   "execution_count": null,
   "id": "407889ff",
   "metadata": {},
   "outputs": [],
   "source": []
  },
  {
   "cell_type": "code",
   "execution_count": 113,
   "id": "81efd1af",
   "metadata": {},
   "outputs": [
    {
     "data": {
      "text/html": [
       "<div>\n",
       "<style scoped>\n",
       "    .dataframe tbody tr th:only-of-type {\n",
       "        vertical-align: middle;\n",
       "    }\n",
       "\n",
       "    .dataframe tbody tr th {\n",
       "        vertical-align: top;\n",
       "    }\n",
       "\n",
       "    .dataframe thead th {\n",
       "        text-align: right;\n",
       "    }\n",
       "</style>\n",
       "<table border=\"1\" class=\"dataframe\">\n",
       "  <thead>\n",
       "    <tr style=\"text-align: right;\">\n",
       "      <th>Predict</th>\n",
       "      <th>0</th>\n",
       "      <th>1</th>\n",
       "      <th>All</th>\n",
       "    </tr>\n",
       "    <tr>\n",
       "      <th>Actual</th>\n",
       "      <th></th>\n",
       "      <th></th>\n",
       "      <th></th>\n",
       "    </tr>\n",
       "  </thead>\n",
       "  <tbody>\n",
       "    <tr>\n",
       "      <th>0</th>\n",
       "      <td>411</td>\n",
       "      <td>425</td>\n",
       "      <td>836</td>\n",
       "    </tr>\n",
       "    <tr>\n",
       "      <th>1</th>\n",
       "      <td>31</td>\n",
       "      <td>40</td>\n",
       "      <td>71</td>\n",
       "    </tr>\n",
       "    <tr>\n",
       "      <th>All</th>\n",
       "      <td>442</td>\n",
       "      <td>465</td>\n",
       "      <td>907</td>\n",
       "    </tr>\n",
       "  </tbody>\n",
       "</table>\n",
       "</div>"
      ],
      "text/plain": [
       "Predict    0    1  All\n",
       "Actual                \n",
       "0        411  425  836\n",
       "1         31   40   71\n",
       "All      442  465  907"
      ]
     },
     "execution_count": 113,
     "metadata": {},
     "output_type": "execute_result"
    }
   ],
   "source": [
    "logit_pred = logit.predict(X_test)\n",
    "pd.crosstab(pd.Series(y_test, name = 'Actual'), pd.Series(logit_pred, name = 'Predict'), margins = True)"
   ]
  },
  {
   "cell_type": "code",
   "execution_count": 114,
   "id": "0417cd0d",
   "metadata": {},
   "outputs": [
    {
     "name": "stdout",
     "output_type": "stream",
     "text": [
      "Accuracy is 0.64\n",
      "Precision is 0.64\n",
      "Recall is 0.64\n"
     ]
    }
   ],
   "source": [
    "print(\"Accuracy is {0:.2f}\".format(accuracy_score(y_test, logit_pred)))\n",
    "print(\"Precision is {0:.2f}\".format(precision_score(y_test, logit_pred)))\n",
    "print(\"Recall is {0:.2f}\".format(recall_score(y_test, logit_pred)))\n",
    "\n",
    "accuracy_logit = accuracy_score(y_test, logit_pred)\n",
    "precision_logit = precision_score(y_test, logit_pred)\n",
    "recall_logit = recall_score(y_test, logit_pred)"
   ]
  },
  {
   "cell_type": "markdown",
   "id": "95e89994",
   "metadata": {},
   "source": [
    "Fitting a base model"
   ]
  },
  {
   "cell_type": "code",
   "execution_count": 115,
   "id": "1fade254",
   "metadata": {},
   "outputs": [],
   "source": [
    "from sklearn.preprocessing import StandardScaler\n",
    "\n",
    "sc = StandardScaler()\n",
    "x_train_sc = sc.fit_transform(X_train)\n",
    "x_test_sc = sc.transform(X_test)"
   ]
  },
  {
   "cell_type": "code",
   "execution_count": 116,
   "id": "49e60afb",
   "metadata": {},
   "outputs": [],
   "source": [
    "from sklearn.linear_model import LogisticRegression\n",
    "from sklearn.metrics import confusion_matrix, classification_report, accuracy_score, roc_auc_score, roc_curve\n",
    "from sklearn.metrics import precision_score, recall_score, f1_score, cohen_kappa_score"
   ]
  },
  {
   "cell_type": "code",
   "execution_count": 117,
   "id": "5858fb68",
   "metadata": {},
   "outputs": [],
   "source": [
    "base_mod = LogisticRegression()\n",
    "base_mod.fit(x_train_sc,y_train)\n",
    "\n",
    "ytest_pred = base_mod.predict(x_test_sc)"
   ]
  },
  {
   "cell_type": "code",
   "execution_count": 118,
   "id": "7e076152",
   "metadata": {},
   "outputs": [
    {
     "name": "stdout",
     "output_type": "stream",
     "text": [
      "Confusion Matrix:\n"
     ]
    },
    {
     "data": {
      "text/plain": [
       "array([[1968,  308],\n",
       "       [ 402, 1872]], dtype=int64)"
      ]
     },
     "execution_count": 118,
     "metadata": {},
     "output_type": "execute_result"
    }
   ],
   "source": [
    "print('Confusion Matrix:')\n",
    "confusion_matrix(y_test,ytest_pred)"
   ]
  },
  {
   "cell_type": "code",
   "execution_count": 119,
   "id": "e9594a67",
   "metadata": {},
   "outputs": [
    {
     "name": "stdout",
     "output_type": "stream",
     "text": [
      "Classification report:\n",
      "              precision    recall  f1-score   support\n",
      "\n",
      "           0       0.83      0.86      0.85      2276\n",
      "           1       0.86      0.82      0.84      2274\n",
      "\n",
      "    accuracy                           0.84      4550\n",
      "   macro avg       0.84      0.84      0.84      4550\n",
      "weighted avg       0.84      0.84      0.84      4550\n",
      "\n"
     ]
    }
   ],
   "source": [
    "print('Classification report:')\n",
    "print(classification_report(y_test,ytest_pred))"
   ]
  },
  {
   "cell_type": "code",
   "execution_count": 120,
   "id": "3d78370b",
   "metadata": {},
   "outputs": [
    {
     "name": "stdout",
     "output_type": "stream",
     "text": [
      "Overall accuracy: 0.843956043956044\n"
     ]
    }
   ],
   "source": [
    "print('Overall accuracy:',accuracy_score(y_test,ytest_pred))"
   ]
  },
  {
   "cell_type": "code",
   "execution_count": 121,
   "id": "a1ca67b8",
   "metadata": {},
   "outputs": [
    {
     "name": "stdout",
     "output_type": "stream",
     "text": [
      "Precision score: 0.8587155963302753\n",
      "Recall score   : 0.8232189973614775\n",
      "F1 score       : 0.8405927256398743\n"
     ]
    }
   ],
   "source": [
    "print('Precision score:',precision_score(y_test,ytest_pred))\n",
    "print('Recall score   :',recall_score(y_test,ytest_pred))\n",
    "print('F1 score       :',f1_score(y_test,ytest_pred))"
   ]
  },
  {
   "cell_type": "code",
   "execution_count": 122,
   "id": "683c8ba8",
   "metadata": {},
   "outputs": [
    {
     "name": "stdout",
     "output_type": "stream",
     "text": [
      "Cohen’s Kappa Value: 0.6879063593487045\n"
     ]
    }
   ],
   "source": [
    "print('Cohen’s Kappa Value:',cohen_kappa_score(y_test,ytest_pred))"
   ]
  },
  {
   "cell_type": "markdown",
   "id": "3e07b929",
   "metadata": {},
   "source": [
    "### Treating imbalance data"
   ]
  },
  {
   "cell_type": "code",
   "execution_count": 123,
   "id": "7597b7bb",
   "metadata": {},
   "outputs": [
    {
     "name": "stdout",
     "output_type": "stream",
     "text": [
      "ROC AUC Score: 0.8439469327756421\n"
     ]
    },
    {
     "data": {
      "image/png": "[encoded data removed]",
      "text/plain": [
       "<Figure size 432x288 with 1 Axes>"
      ]
     },
     "metadata": {
      "needs_background": "light"
     },
     "output_type": "display_data"
    }
   ],
   "source": [
    "yprob = base_mod.predict_proba(x_test_sc)[:,1]\n",
    "\n",
    "print('ROC AUC Score:',roc_auc_score(y_test,ytest_pred))\n",
    "fpr,tpr,th = roc_curve(y_test,ytest_pred)\n",
    "plt.plot(fpr,tpr)\n",
    "plt.title('ROC Curve')\n",
    "plt.show()"
   ]
  },
  {
   "cell_type": "code",
   "execution_count": 124,
   "id": "ea97603d",
   "metadata": {},
   "outputs": [],
   "source": [
    "from imblearn.over_sampling import SMOTE\n",
    "from imblearn.under_sampling import NearMiss\n",
    "from imblearn.pipeline import make_pipeline"
   ]
  },
  {
   "cell_type": "code",
   "execution_count": 125,
   "id": "c823ad87",
   "metadata": {},
   "outputs": [
    {
     "data": {
      "text/plain": [
       "0    14218\n",
       "1     1446\n",
       "Name: readmitted, dtype: int64"
      ]
     },
     "execution_count": 125,
     "metadata": {},
     "output_type": "execute_result"
    }
   ],
   "source": [
    "y.value_counts()"
   ]
  },
  {
   "cell_type": "code",
   "execution_count": 126,
   "id": "1e8c9a7b",
   "metadata": {},
   "outputs": [
    {
     "data": {
      "text/plain": [
       "15664"
      ]
     },
     "execution_count": 126,
     "metadata": {},
     "output_type": "execute_result"
    }
   ],
   "source": [
    "len(y)"
   ]
  },
  {
   "cell_type": "code",
   "execution_count": 127,
   "id": "228c7cda",
   "metadata": {},
   "outputs": [],
   "source": [
    "count_class_0 = 10381\n",
    "count_class_1 = 8777\n",
    "\n",
    "pipe = make_pipeline(SMOTE(sampling_strategy={1:count_class_1}),NearMiss(sampling_strategy={0:count_class_0}))\n",
    "inp, out = pipe.fit_resample(X,y)"
   ]
  },
  {
   "cell_type": "code",
   "execution_count": 128,
   "id": "c6a263c7",
   "metadata": {},
   "outputs": [
    {
     "data": {
      "image/png": "[encoded data removed]",
      "text/plain": [
       "<Figure size 432x288 with 1 Axes>"
      ]
     },
     "metadata": {
      "needs_background": "light"
     },
     "output_type": "display_data"
    }
   ],
   "source": [
    "sns.countplot(y)\n",
    "plt.show()"
   ]
  },
  {
   "cell_type": "code",
   "execution_count": 129,
   "id": "b4108c31",
   "metadata": {},
   "outputs": [
    {
     "data": {
      "image/png": "[encoded data removed]",
      "text/plain": [
       "<Figure size 432x288 with 1 Axes>"
      ]
     },
     "metadata": {
      "needs_background": "light"
     },
     "output_type": "display_data"
    }
   ],
   "source": [
    "sns.countplot(out)\n",
    "plt.show()"
   ]
  },
  {
   "cell_type": "markdown",
   "id": "02bdee5f",
   "metadata": {},
   "source": [
    "### After treating imbalance data\n"
   ]
  },
  {
   "cell_type": "code",
   "execution_count": 130,
   "id": "211a08e9",
   "metadata": {},
   "outputs": [],
   "source": [
    "xtrain1, xtest1, ytrain1, ytest1 = train_test_split(inp,out,test_size=0.3,random_state=10)"
   ]
  },
  {
   "cell_type": "code",
   "execution_count": 131,
   "id": "533f5e72",
   "metadata": {},
   "outputs": [],
   "source": [
    "sc = StandardScaler()\n",
    "xtrain_sc1 = sc.fit_transform(xtrain1)\n",
    "xtest_sc1 = sc.transform(xtest1)"
   ]
  },
  {
   "cell_type": "code",
   "execution_count": 132,
   "id": "bd509a33",
   "metadata": {},
   "outputs": [],
   "source": [
    "base_mod1 = LogisticRegression()\n",
    "base_mod1.fit(xtrain_sc1,ytrain1)\n",
    "\n",
    "ytest_pred1 = base_mod1.predict(xtest_sc1)"
   ]
  },
  {
   "cell_type": "code",
   "execution_count": 133,
   "id": "d9da795c",
   "metadata": {},
   "outputs": [
    {
     "name": "stdout",
     "output_type": "stream",
     "text": [
      "Confusion Matrix:\n"
     ]
    },
    {
     "data": {
      "text/plain": [
       "array([[2769,  351],\n",
       "       [ 578, 2050]], dtype=int64)"
      ]
     },
     "execution_count": 133,
     "metadata": {},
     "output_type": "execute_result"
    }
   ],
   "source": [
    "print('Confusion Matrix:')\n",
    "confusion_matrix(ytest1,ytest_pred1)"
   ]
  },
  {
   "cell_type": "code",
   "execution_count": 134,
   "id": "f9bec3b4",
   "metadata": {},
   "outputs": [
    {
     "name": "stdout",
     "output_type": "stream",
     "text": [
      "Confusion Matrix:\n"
     ]
    },
    {
     "data": {
      "text/plain": [
       "array([[2769,  351],\n",
       "       [ 578, 2050]], dtype=int64)"
      ]
     },
     "execution_count": 134,
     "metadata": {},
     "output_type": "execute_result"
    }
   ],
   "source": [
    "print('Confusion Matrix:')\n",
    "confusion_matrix(ytest1,ytest_pred1)"
   ]
  },
  {
   "cell_type": "markdown",
   "id": "170f3db5",
   "metadata": {},
   "source": [
    "### Re-fitting the model"
   ]
  },
  {
   "cell_type": "markdown",
   "id": "29aafdea",
   "metadata": {},
   "source": [
    "#### Comparing with other classification models:"
   ]
  },
  {
   "cell_type": "code",
   "execution_count": null,
   "id": "8ef84a41",
   "metadata": {},
   "outputs": [],
   "source": []
  },
  {
   "cell_type": "code",
   "execution_count": 135,
   "id": "82dd59c6",
   "metadata": {},
   "outputs": [],
   "source": [
    "from sklearn.ensemble import RandomForestClassifier\n",
    "from sklearn.neighbors import KNeighborsClassifier\n",
    "from sklearn.naive_bayes import GaussianNB\n",
    "from sklearn.model_selection import cross_val_score, KFold, GridSearchCV\n",
    "from xgboost import XGBClassifier"
   ]
  },
  {
   "cell_type": "code",
   "execution_count": 136,
   "id": "2b8417cb",
   "metadata": {},
   "outputs": [],
   "source": [
    "kf = KFold(n_splits=5,shuffle=True,random_state=0)"
   ]
  },
  {
   "cell_type": "code",
   "execution_count": 137,
   "id": "abac8845",
   "metadata": {},
   "outputs": [],
   "source": [
    "clf1 = LogisticRegression(max_iter=3000)\n",
    "clf2 = RandomForestClassifier(random_state=0)\n",
    "clf3 = KNeighborsClassifier(n_neighbors=5)\n",
    "clf4 = GaussianNB()\n",
    "clf5 = XGBClassifier(random_state=0)"
   ]
  },
  {
   "cell_type": "code",
   "execution_count": 138,
   "id": "b2b5f507",
   "metadata": {},
   "outputs": [
    {
     "name": "stdout",
     "output_type": "stream",
     "text": [
      "Accuracy scores of the models\n",
      "LR: 0.84 0.0\n",
      "RF: 0.92 0.0\n",
      "KNN: 0.85 0.0\n",
      "GNB: 0.63 0.01\n",
      "[18:23:57] WARNING: ..\\src\\learner.cc:1115: Starting in XGBoost 1.3.0, the default evaluation metric used with the objective 'binary:logistic' was changed from 'error' to 'logloss'. Explicitly set eval_metric if you'd like to restore the old behavior.\n",
      "[18:23:59] WARNING: ..\\src\\learner.cc:1115: Starting in XGBoost 1.3.0, the default evaluation metric used with the objective 'binary:logistic' was changed from 'error' to 'logloss'. Explicitly set eval_metric if you'd like to restore the old behavior.\n",
      "[18:24:02] WARNING: ..\\src\\learner.cc:1115: Starting in XGBoost 1.3.0, the default evaluation metric used with the objective 'binary:logistic' was changed from 'error' to 'logloss'. Explicitly set eval_metric if you'd like to restore the old behavior.\n",
      "[18:24:04] WARNING: ..\\src\\learner.cc:1115: Starting in XGBoost 1.3.0, the default evaluation metric used with the objective 'binary:logistic' was changed from 'error' to 'logloss'. Explicitly set eval_metric if you'd like to restore the old behavior.\n",
      "[18:24:07] WARNING: ..\\src\\learner.cc:1115: Starting in XGBoost 1.3.0, the default evaluation metric used with the objective 'binary:logistic' was changed from 'error' to 'logloss'. Explicitly set eval_metric if you'd like to restore the old behavior.\n",
      "XG: 0.92 0.0\n"
     ]
    }
   ],
   "source": [
    "print('Accuracy scores of the models')\n",
    "for i,j in zip([clf1,clf2,clf3,clf4,clf5],['LR','RF','KNN','GNB','XG']):\n",
    "    score = cross_val_score(i,xtrain_sc1,ytrain1,cv=kf,scoring='accuracy')\n",
    "    print(j+':',round(np.mean(score),2),round(np.std(score),2))"
   ]
  },
  {
   "cell_type": "code",
   "execution_count": 139,
   "id": "f6c642a6",
   "metadata": {},
   "outputs": [
    {
     "name": "stdout",
     "output_type": "stream",
     "text": [
      "ROC AUC scores of the models\n",
      "LR: 0.9 0.01\n",
      "RF: 0.96 0.0\n",
      "KNN: 0.91 0.01\n",
      "GNB: 0.83 0.01\n",
      "[18:24:32] WARNING: ..\\src\\learner.cc:1115: Starting in XGBoost 1.3.0, the default evaluation metric used with the objective 'binary:logistic' was changed from 'error' to 'logloss'. Explicitly set eval_metric if you'd like to restore the old behavior.\n",
      "[18:24:35] WARNING: ..\\src\\learner.cc:1115: Starting in XGBoost 1.3.0, the default evaluation metric used with the objective 'binary:logistic' was changed from 'error' to 'logloss'. Explicitly set eval_metric if you'd like to restore the old behavior.\n",
      "[18:24:38] WARNING: ..\\src\\learner.cc:1115: Starting in XGBoost 1.3.0, the default evaluation metric used with the objective 'binary:logistic' was changed from 'error' to 'logloss'. Explicitly set eval_metric if you'd like to restore the old behavior.\n",
      "[18:24:41] WARNING: ..\\src\\learner.cc:1115: Starting in XGBoost 1.3.0, the default evaluation metric used with the objective 'binary:logistic' was changed from 'error' to 'logloss'. Explicitly set eval_metric if you'd like to restore the old behavior.\n",
      "[18:24:43] WARNING: ..\\src\\learner.cc:1115: Starting in XGBoost 1.3.0, the default evaluation metric used with the objective 'binary:logistic' was changed from 'error' to 'logloss'. Explicitly set eval_metric if you'd like to restore the old behavior.\n",
      "XG: 0.95 0.0\n"
     ]
    }
   ],
   "source": [
    "print('ROC AUC scores of the models')\n",
    "for i,j in zip([clf1,clf2,clf3,clf4,clf5],['LR','RF','KNN','GNB','XG']):\n",
    "    score = cross_val_score(i,xtrain_sc1,ytrain1,cv=kf,scoring='roc_auc')\n",
    "    print(j+':',round(np.mean(score),2),round(np.std(score),2))"
   ]
  },
  {
   "cell_type": "code",
   "execution_count": 140,
   "id": "be80dfea",
   "metadata": {},
   "outputs": [],
   "source": [
    "### Final model:\n",
    "\n",
    "# By comparing the accuracy, XGBoost Classifier model is the best model\n",
    "\n",
    "\n",
    "# ROC AUC is also better for XGBoost Classifier model where it results how well the model is able to predict the classes correctly"
   ]
  },
  {
   "cell_type": "code",
   "execution_count": 141,
   "id": "8de57f0e",
   "metadata": {},
   "outputs": [
    {
     "name": "stdout",
     "output_type": "stream",
     "text": [
      "[18:24:46] WARNING: ..\\src\\learner.cc:1115: Starting in XGBoost 1.3.0, the default evaluation metric used with the objective 'binary:logistic' was changed from 'error' to 'logloss'. Explicitly set eval_metric if you'd like to restore the old behavior.\n"
     ]
    }
   ],
   "source": [
    "best_mod = XGBClassifier(random_state=0)\n",
    "best_mod.fit(xtrain_sc1,ytrain1)\n",
    "ypred = best_mod.predict(xtest_sc1)"
   ]
  },
  {
   "cell_type": "code",
   "execution_count": 142,
   "id": "85b6c1dd",
   "metadata": {},
   "outputs": [
    {
     "name": "stdout",
     "output_type": "stream",
     "text": [
      "Confusion Matrix:\n"
     ]
    },
    {
     "data": {
      "text/plain": [
       "array([[3042,   78],\n",
       "       [ 388, 2240]], dtype=int64)"
      ]
     },
     "execution_count": 142,
     "metadata": {},
     "output_type": "execute_result"
    }
   ],
   "source": [
    "print('Confusion Matrix:')\n",
    "confusion_matrix(ytest1,ypred)"
   ]
  },
  {
   "cell_type": "code",
   "execution_count": 143,
   "id": "81123e60",
   "metadata": {},
   "outputs": [
    {
     "name": "stdout",
     "output_type": "stream",
     "text": [
      "Classification report:\n",
      "              precision    recall  f1-score   support\n",
      "\n",
      "           0       0.89      0.97      0.93      3120\n",
      "           1       0.97      0.85      0.91      2628\n",
      "\n",
      "    accuracy                           0.92      5748\n",
      "   macro avg       0.93      0.91      0.92      5748\n",
      "weighted avg       0.92      0.92      0.92      5748\n",
      "\n"
     ]
    }
   ],
   "source": [
    "print('Classification report:')\n",
    "print(classification_report(ytest1,ypred))"
   ]
  },
  {
   "cell_type": "code",
   "execution_count": 144,
   "id": "a9d9f2db",
   "metadata": {},
   "outputs": [
    {
     "name": "stdout",
     "output_type": "stream",
     "text": [
      "Overall accuracy: 0.92\n",
      "Precision score : 0.97\n",
      "Recall score    : 0.85\n",
      "F1 score        : 0.91\n"
     ]
    }
   ],
   "source": [
    "print('Overall accuracy:',round(accuracy_score(ytest1,ypred),2))\n",
    "print('Precision score :',round(precision_score(ytest1,ypred),2))\n",
    "print('Recall score    :',round(recall_score(ytest1,ypred),2))\n",
    "print('F1 score        :',round(f1_score(ytest1,ypred),2))"
   ]
  },
  {
   "cell_type": "code",
   "execution_count": 145,
   "id": "81d8167c",
   "metadata": {},
   "outputs": [
    {
     "name": "stdout",
     "output_type": "stream",
     "text": [
      "ROC AUC Score: 0.9449248477929985\n"
     ]
    },
    {
     "data": {
      "image/png": "[encoded data removed]",
      "text/plain": [
       "<Figure size 432x288 with 1 Axes>"
      ]
     },
     "metadata": {
      "needs_background": "light"
     },
     "output_type": "display_data"
    }
   ],
   "source": [
    "yprob1 = best_mod.predict_proba(xtest_sc1)[:,1]\n",
    "\n",
    "print('ROC AUC Score:',roc_auc_score(ytest1,yprob1))\n",
    "fpr,tpr,th = roc_curve(ytest1,yprob1)\n",
    "plt.plot(fpr,tpr)\n",
    "plt.title('ROC Curve')\n",
    "plt.show()"
   ]
  },
  {
   "cell_type": "code",
   "execution_count": 146,
   "id": "8c2ee25c",
   "metadata": {},
   "outputs": [
    {
     "data": {
      "text/plain": [
       "XGBClassifier(base_score=0.5, booster='gbtree', colsample_bylevel=1,\n",
       "              colsample_bynode=1, colsample_bytree=1, enable_categorical=False,\n",
       "              gamma=0, gpu_id=-1, importance_type=None,\n",
       "              interaction_constraints='', learning_rate=0.300000012,\n",
       "              max_delta_step=0, max_depth=6, min_child_weight=1, missing=nan,\n",
       "              monotone_constraints='()', n_estimators=100, n_jobs=4,\n",
       "              num_parallel_tree=1, predictor='auto', random_state=0,\n",
       "              reg_alpha=0, reg_lambda=1, scale_pos_weight=1, subsample=1,\n",
       "              tree_method='exact', validate_parameters=1, verbosity=None)"
      ]
     },
     "execution_count": 146,
     "metadata": {},
     "output_type": "execute_result"
    }
   ],
   "source": [
    "best_mod"
   ]
  },
  {
   "cell_type": "markdown",
   "id": "a6c03777",
   "metadata": {},
   "source": [
    "### Tuning hyperparameters:"
   ]
  },
  {
   "cell_type": "code",
   "execution_count": 147,
   "id": "fc443b02",
   "metadata": {},
   "outputs": [],
   "source": [
    "param = {'n_estimators':[100, 120, 150],\n",
    "         'learning_rate':[0.1, 0.01, 0.001, 0.15, 0.015],\n",
    "         'gamma':[2, 3, 4, 5, 6],\n",
    "         'max_depth':[2, 3, 4, 5, 6],\n",
    "         'objective': [\"binary:logistic\"],\n",
    "         'eval_metric' :[\"logloss\"]}"
   ]
  },
  {
   "cell_type": "code",
   "execution_count": 148,
   "id": "66ceff16",
   "metadata": {},
   "outputs": [],
   "source": [
    "xgb = XGBClassifier()\n",
    "hyp_tune = GridSearchCV(xgb,param_grid=param,cv=kf,scoring='accuracy')\n",
    "best_param = hyp_tune.fit(xtrain_sc1,ytrain1)"
   ]
  },
  {
   "cell_type": "code",
   "execution_count": 149,
   "id": "31ce51b8",
   "metadata": {},
   "outputs": [
    {
     "data": {
      "text/plain": [
       "{'eval_metric': 'logloss',\n",
       " 'gamma': 2,\n",
       " 'learning_rate': 0.15,\n",
       " 'max_depth': 6,\n",
       " 'n_estimators': 120,\n",
       " 'objective': 'binary:logistic'}"
      ]
     },
     "execution_count": 149,
     "metadata": {},
     "output_type": "execute_result"
    }
   ],
   "source": [
    "best_param.best_params_"
   ]
  },
  {
   "cell_type": "code",
   "execution_count": 150,
   "id": "3f574717",
   "metadata": {},
   "outputs": [
    {
     "data": {
      "text/plain": [
       "{'eval_metric': 'logloss',\n",
       " 'gamma': 2,\n",
       " 'learning_rate': 0.15,\n",
       " 'max_depth': 6,\n",
       " 'n_estimators': 120,\n",
       " 'objective': 'binary:logistic'}"
      ]
     },
     "execution_count": 150,
     "metadata": {},
     "output_type": "execute_result"
    }
   ],
   "source": [
    "final_params = best_param.best_params_\n",
    "final_params"
   ]
  },
  {
   "cell_type": "code",
   "execution_count": 151,
   "id": "07e3203d",
   "metadata": {},
   "outputs": [],
   "source": [
    "final_mod = XGBClassifier(**final_params)\n",
    "final_mod.fit(xtrain_sc1,ytrain1)\n",
    "ypred1 = final_mod.predict(xtest_sc1)"
   ]
  },
  {
   "cell_type": "code",
   "execution_count": 152,
   "id": "e011a181",
   "metadata": {},
   "outputs": [
    {
     "name": "stdout",
     "output_type": "stream",
     "text": [
      "Confusion Matrix:\n"
     ]
    },
    {
     "data": {
      "text/plain": [
       "array([[3059,   61],\n",
       "       [ 411, 2217]], dtype=int64)"
      ]
     },
     "execution_count": 152,
     "metadata": {},
     "output_type": "execute_result"
    }
   ],
   "source": [
    "print('Confusion Matrix:')\n",
    "confusion_matrix(ytest1,ypred1)"
   ]
  },
  {
   "cell_type": "code",
   "execution_count": 153,
   "id": "6494f0cf",
   "metadata": {},
   "outputs": [
    {
     "name": "stdout",
     "output_type": "stream",
     "text": [
      "Classification report:\n",
      "              precision    recall  f1-score   support\n",
      "\n",
      "           0       0.88      0.98      0.93      3120\n",
      "           1       0.97      0.84      0.90      2628\n",
      "\n",
      "    accuracy                           0.92      5748\n",
      "   macro avg       0.93      0.91      0.92      5748\n",
      "weighted avg       0.92      0.92      0.92      5748\n",
      "\n"
     ]
    }
   ],
   "source": [
    "print('Classification report:')\n",
    "print(classification_report(ytest1,ypred1))"
   ]
  },
  {
   "cell_type": "code",
   "execution_count": 154,
   "id": "90d2e1c3",
   "metadata": {},
   "outputs": [
    {
     "name": "stdout",
     "output_type": "stream",
     "text": [
      "Overall accuracy: 0.92\n",
      "Precision score : 0.97\n",
      "Recall score    : 0.84\n",
      "F1 score        : 0.9\n"
     ]
    }
   ],
   "source": [
    "print('Overall accuracy:',round(accuracy_score(ytest1,ypred1),2))\n",
    "print('Precision score :',round(precision_score(ytest1,ypred1),2))\n",
    "print('Recall score    :',round(recall_score(ytest1,ypred1),2))\n",
    "print('F1 score        :',round(f1_score(ytest1,ypred1),2))"
   ]
  },
  {
   "cell_type": "code",
   "execution_count": 155,
   "id": "719cd598",
   "metadata": {},
   "outputs": [
    {
     "name": "stdout",
     "output_type": "stream",
     "text": [
      "ROC AUC Score: 0.9485922071966592\n"
     ]
    },
    {
     "data": {
      "image/png": "[encoded data removed]",
      "text/plain": [
       "<Figure size 432x288 with 1 Axes>"
      ]
     },
     "metadata": {
      "needs_background": "light"
     },
     "output_type": "display_data"
    }
   ],
   "source": [
    "yprob2 = final_mod.predict_proba(xtest_sc1)[:,1]\n",
    "\n",
    "print('ROC AUC Score:',roc_auc_score(ytest1,yprob2))\n",
    "fpr,tpr,th = roc_curve(ytest1,yprob2)\n",
    "plt.plot(fpr,tpr)\n",
    "plt.title('ROC Curve')\n",
    "plt.show()"
   ]
  },
  {
   "cell_type": "code",
   "execution_count": 156,
   "id": "13f29787",
   "metadata": {},
   "outputs": [
    {
     "data": {
      "text/plain": [
       "array([0.01594431, 0.03739401, 0.03421003, 0.01201092, 0.01351589,\n",
       "       0.01346685, 0.16939043, 0.01173355, 0.03036914, 0.0047241 ,\n",
       "       0.00308682, 0.        , 0.01305095, 0.01720877, 0.0183863 ,\n",
       "       0.03713821, 0.02785317, 0.        , 0.        , 0.03254501,\n",
       "       0.0030845 , 0.02508543, 0.02814991, 0.05425677, 0.05800636,\n",
       "       0.03449493, 0.02847622, 0.02772221, 0.0489416 , 0.00468927,\n",
       "       0.00179827, 0.00225473, 0.00438975, 0.04298067, 0.02087116,\n",
       "       0.01013748, 0.00303782, 0.00301068, 0.01061434, 0.01671606,\n",
       "       0.01171514, 0.00789885, 0.00644268, 0.00676693, 0.00530181,\n",
       "       0.00471468, 0.02308388, 0.00508447, 0.00824499], dtype=float32)"
      ]
     },
     "execution_count": 156,
     "metadata": {},
     "output_type": "execute_result"
    }
   ],
   "source": [
    "final_mod.feature_importances_"
   ]
  },
  {
   "cell_type": "markdown",
   "id": "f2d386a1",
   "metadata": {},
   "source": [
    "### Feature selection"
   ]
  },
  {
   "cell_type": "code",
   "execution_count": 158,
   "id": "85fd8bb1",
   "metadata": {},
   "outputs": [
    {
     "data": {
      "text/html": [
       "<div>\n",
       "<style scoped>\n",
       "    .dataframe tbody tr th:only-of-type {\n",
       "        vertical-align: middle;\n",
       "    }\n",
       "\n",
       "    .dataframe tbody tr th {\n",
       "        vertical-align: top;\n",
       "    }\n",
       "\n",
       "    .dataframe thead th {\n",
       "        text-align: right;\n",
       "    }\n",
       "</style>\n",
       "<table border=\"1\" class=\"dataframe\">\n",
       "  <thead>\n",
       "    <tr style=\"text-align: right;\">\n",
       "      <th></th>\n",
       "      <th>Features</th>\n",
       "      <th>Feature_importance</th>\n",
       "    </tr>\n",
       "  </thead>\n",
       "  <tbody>\n",
       "    <tr>\n",
       "      <th>6</th>\n",
       "      <td>number_inpatient_log1p</td>\n",
       "      <td>0.169390</td>\n",
       "    </tr>\n",
       "    <tr>\n",
       "      <th>24</th>\n",
       "      <td>Hispanic</td>\n",
       "      <td>0.058006</td>\n",
       "    </tr>\n",
       "    <tr>\n",
       "      <th>23</th>\n",
       "      <td>Caucasian</td>\n",
       "      <td>0.054257</td>\n",
       "    </tr>\n",
       "    <tr>\n",
       "      <th>28</th>\n",
       "      <td>admission_type_id_5</td>\n",
       "      <td>0.048942</td>\n",
       "    </tr>\n",
       "    <tr>\n",
       "      <th>33</th>\n",
       "      <td>admission_source_id_4</td>\n",
       "      <td>0.042981</td>\n",
       "    </tr>\n",
       "    <tr>\n",
       "      <th>1</th>\n",
       "      <td>time_in_hospital</td>\n",
       "      <td>0.037394</td>\n",
       "    </tr>\n",
       "    <tr>\n",
       "      <th>15</th>\n",
       "      <td>pioglitazone</td>\n",
       "      <td>0.037138</td>\n",
       "    </tr>\n",
       "    <tr>\n",
       "      <th>25</th>\n",
       "      <td>Other</td>\n",
       "      <td>0.034495</td>\n",
       "    </tr>\n",
       "    <tr>\n",
       "      <th>2</th>\n",
       "      <td>num_procedures</td>\n",
       "      <td>0.034210</td>\n",
       "    </tr>\n",
       "    <tr>\n",
       "      <th>19</th>\n",
       "      <td>insulin</td>\n",
       "      <td>0.032545</td>\n",
       "    </tr>\n",
       "    <tr>\n",
       "      <th>8</th>\n",
       "      <td>metformin</td>\n",
       "      <td>0.030369</td>\n",
       "    </tr>\n",
       "    <tr>\n",
       "      <th>26</th>\n",
       "      <td>gender_1</td>\n",
       "      <td>0.028476</td>\n",
       "    </tr>\n",
       "    <tr>\n",
       "      <th>22</th>\n",
       "      <td>Asian</td>\n",
       "      <td>0.028150</td>\n",
       "    </tr>\n",
       "    <tr>\n",
       "      <th>16</th>\n",
       "      <td>rosiglitazone</td>\n",
       "      <td>0.027853</td>\n",
       "    </tr>\n",
       "    <tr>\n",
       "      <th>27</th>\n",
       "      <td>admission_type_id_3</td>\n",
       "      <td>0.027722</td>\n",
       "    </tr>\n",
       "    <tr>\n",
       "      <th>21</th>\n",
       "      <td>AfricanAmerican</td>\n",
       "      <td>0.025085</td>\n",
       "    </tr>\n",
       "    <tr>\n",
       "      <th>46</th>\n",
       "      <td>change|num_medications</td>\n",
       "      <td>0.023084</td>\n",
       "    </tr>\n",
       "    <tr>\n",
       "      <th>34</th>\n",
       "      <td>admission_source_id_7</td>\n",
       "      <td>0.020871</td>\n",
       "    </tr>\n",
       "    <tr>\n",
       "      <th>14</th>\n",
       "      <td>glyburide</td>\n",
       "      <td>0.018386</td>\n",
       "    </tr>\n",
       "    <tr>\n",
       "      <th>13</th>\n",
       "      <td>glipizide</td>\n",
       "      <td>0.017209</td>\n",
       "    </tr>\n",
       "    <tr>\n",
       "      <th>39</th>\n",
       "      <td>A1Cresult_1</td>\n",
       "      <td>0.016716</td>\n",
       "    </tr>\n",
       "    <tr>\n",
       "      <th>0</th>\n",
       "      <td>age</td>\n",
       "      <td>0.015944</td>\n",
       "    </tr>\n",
       "    <tr>\n",
       "      <th>4</th>\n",
       "      <td>number_outpatient_log1p</td>\n",
       "      <td>0.013516</td>\n",
       "    </tr>\n",
       "    <tr>\n",
       "      <th>5</th>\n",
       "      <td>number_emergency_log1p</td>\n",
       "      <td>0.013467</td>\n",
       "    </tr>\n",
       "    <tr>\n",
       "      <th>12</th>\n",
       "      <td>glimepiride</td>\n",
       "      <td>0.013051</td>\n",
       "    </tr>\n",
       "    <tr>\n",
       "      <th>3</th>\n",
       "      <td>num_medications</td>\n",
       "      <td>0.012011</td>\n",
       "    </tr>\n",
       "    <tr>\n",
       "      <th>7</th>\n",
       "      <td>number_diagnoses</td>\n",
       "      <td>0.011734</td>\n",
       "    </tr>\n",
       "    <tr>\n",
       "      <th>40</th>\n",
       "      <td>num_medications|time_in_hospital</td>\n",
       "      <td>0.011715</td>\n",
       "    </tr>\n",
       "    <tr>\n",
       "      <th>38</th>\n",
       "      <td>A1Cresult_0</td>\n",
       "      <td>0.010614</td>\n",
       "    </tr>\n",
       "    <tr>\n",
       "      <th>35</th>\n",
       "      <td>admission_source_id_9</td>\n",
       "      <td>0.010137</td>\n",
       "    </tr>\n",
       "    <tr>\n",
       "      <th>48</th>\n",
       "      <td>num_medications|numchange</td>\n",
       "      <td>0.008245</td>\n",
       "    </tr>\n",
       "    <tr>\n",
       "      <th>41</th>\n",
       "      <td>num_medications|num_procedures</td>\n",
       "      <td>0.007899</td>\n",
       "    </tr>\n",
       "    <tr>\n",
       "      <th>43</th>\n",
       "      <td>num_medications|num_lab_procedures</td>\n",
       "      <td>0.006767</td>\n",
       "    </tr>\n",
       "    <tr>\n",
       "      <th>42</th>\n",
       "      <td>time_in_hospital|num_lab_procedures</td>\n",
       "      <td>0.006443</td>\n",
       "    </tr>\n",
       "    <tr>\n",
       "      <th>44</th>\n",
       "      <td>num_medications|number_diagnoses</td>\n",
       "      <td>0.005302</td>\n",
       "    </tr>\n",
       "    <tr>\n",
       "      <th>47</th>\n",
       "      <td>number_diagnoses|time_in_hospital</td>\n",
       "      <td>0.005084</td>\n",
       "    </tr>\n",
       "    <tr>\n",
       "      <th>9</th>\n",
       "      <td>repaglinide</td>\n",
       "      <td>0.004724</td>\n",
       "    </tr>\n",
       "    <tr>\n",
       "      <th>45</th>\n",
       "      <td>age|number_diagnoses</td>\n",
       "      <td>0.004715</td>\n",
       "    </tr>\n",
       "    <tr>\n",
       "      <th>29</th>\n",
       "      <td>discharge_disposition_id_2</td>\n",
       "      <td>0.004689</td>\n",
       "    </tr>\n",
       "    <tr>\n",
       "      <th>32</th>\n",
       "      <td>discharge_disposition_id_18</td>\n",
       "      <td>0.004390</td>\n",
       "    </tr>\n",
       "    <tr>\n",
       "      <th>10</th>\n",
       "      <td>nateglinide</td>\n",
       "      <td>0.003087</td>\n",
       "    </tr>\n",
       "    <tr>\n",
       "      <th>20</th>\n",
       "      <td>glyburide-metformin</td>\n",
       "      <td>0.003084</td>\n",
       "    </tr>\n",
       "    <tr>\n",
       "      <th>36</th>\n",
       "      <td>max_glu_serum_0</td>\n",
       "      <td>0.003038</td>\n",
       "    </tr>\n",
       "    <tr>\n",
       "      <th>37</th>\n",
       "      <td>max_glu_serum_1</td>\n",
       "      <td>0.003011</td>\n",
       "    </tr>\n",
       "    <tr>\n",
       "      <th>31</th>\n",
       "      <td>discharge_disposition_id_10</td>\n",
       "      <td>0.002255</td>\n",
       "    </tr>\n",
       "    <tr>\n",
       "      <th>30</th>\n",
       "      <td>discharge_disposition_id_7</td>\n",
       "      <td>0.001798</td>\n",
       "    </tr>\n",
       "    <tr>\n",
       "      <th>18</th>\n",
       "      <td>tolazamide</td>\n",
       "      <td>0.000000</td>\n",
       "    </tr>\n",
       "    <tr>\n",
       "      <th>17</th>\n",
       "      <td>acarbose</td>\n",
       "      <td>0.000000</td>\n",
       "    </tr>\n",
       "    <tr>\n",
       "      <th>11</th>\n",
       "      <td>chlorpropamide</td>\n",
       "      <td>0.000000</td>\n",
       "    </tr>\n",
       "  </tbody>\n",
       "</table>\n",
       "</div>"
      ],
      "text/plain": [
       "                               Features  Feature_importance\n",
       "6                number_inpatient_log1p            0.169390\n",
       "24                             Hispanic            0.058006\n",
       "23                            Caucasian            0.054257\n",
       "28                  admission_type_id_5            0.048942\n",
       "33                admission_source_id_4            0.042981\n",
       "1                      time_in_hospital            0.037394\n",
       "15                         pioglitazone            0.037138\n",
       "25                                Other            0.034495\n",
       "2                        num_procedures            0.034210\n",
       "19                              insulin            0.032545\n",
       "8                             metformin            0.030369\n",
       "26                             gender_1            0.028476\n",
       "22                                Asian            0.028150\n",
       "16                        rosiglitazone            0.027853\n",
       "27                  admission_type_id_3            0.027722\n",
       "21                      AfricanAmerican            0.025085\n",
       "46               change|num_medications            0.023084\n",
       "34                admission_source_id_7            0.020871\n",
       "14                            glyburide            0.018386\n",
       "13                            glipizide            0.017209\n",
       "39                          A1Cresult_1            0.016716\n",
       "0                                   age            0.015944\n",
       "4               number_outpatient_log1p            0.013516\n",
       "5                number_emergency_log1p            0.013467\n",
       "12                          glimepiride            0.013051\n",
       "3                       num_medications            0.012011\n",
       "7                      number_diagnoses            0.011734\n",
       "40     num_medications|time_in_hospital            0.011715\n",
       "38                          A1Cresult_0            0.010614\n",
       "35                admission_source_id_9            0.010137\n",
       "48            num_medications|numchange            0.008245\n",
       "41       num_medications|num_procedures            0.007899\n",
       "43   num_medications|num_lab_procedures            0.006767\n",
       "42  time_in_hospital|num_lab_procedures            0.006443\n",
       "44     num_medications|number_diagnoses            0.005302\n",
       "47    number_diagnoses|time_in_hospital            0.005084\n",
       "9                           repaglinide            0.004724\n",
       "45                 age|number_diagnoses            0.004715\n",
       "29           discharge_disposition_id_2            0.004689\n",
       "32          discharge_disposition_id_18            0.004390\n",
       "10                          nateglinide            0.003087\n",
       "20                  glyburide-metformin            0.003084\n",
       "36                      max_glu_serum_0            0.003038\n",
       "37                      max_glu_serum_1            0.003011\n",
       "31          discharge_disposition_id_10            0.002255\n",
       "30           discharge_disposition_id_7            0.001798\n",
       "18                           tolazamide            0.000000\n",
       "17                             acarbose            0.000000\n",
       "11                       chlorpropamide            0.000000"
      ]
     },
     "execution_count": 158,
     "metadata": {},
     "output_type": "execute_result"
    }
   ],
   "source": [
    "xgb_features = pd.DataFrame({'Features':X_train.columns,'Feature_importance':final_mod.feature_importances_})\n",
    "xgb_features.sort_values('Feature_importance',ascending=False)"
   ]
  },
  {
   "cell_type": "code",
   "execution_count": 159,
   "id": "44b6b870",
   "metadata": {},
   "outputs": [
    {
     "data": {
      "text/plain": [
       "['number_inpatient_log1p',\n",
       " 'Caucasian',\n",
       " 'Hispanic',\n",
       " 'admission_type_id_5',\n",
       " 'admission_source_id_4']"
      ]
     },
     "execution_count": 159,
     "metadata": {},
     "output_type": "execute_result"
    }
   ],
   "source": [
    "best_feat = list(xgb_features[xgb_features['Feature_importance']>0.04]['Features'])\n",
    "best_feat"
   ]
  },
  {
   "cell_type": "code",
   "execution_count": 160,
   "id": "d9fc90e8",
   "metadata": {},
   "outputs": [
    {
     "data": {
      "text/html": [
       "<div>\n",
       "<style scoped>\n",
       "    .dataframe tbody tr th:only-of-type {\n",
       "        vertical-align: middle;\n",
       "    }\n",
       "\n",
       "    .dataframe tbody tr th {\n",
       "        vertical-align: top;\n",
       "    }\n",
       "\n",
       "    .dataframe thead th {\n",
       "        text-align: right;\n",
       "    }\n",
       "</style>\n",
       "<table border=\"1\" class=\"dataframe\">\n",
       "  <thead>\n",
       "    <tr style=\"text-align: right;\">\n",
       "      <th></th>\n",
       "      <th>number_inpatient_log1p</th>\n",
       "      <th>Caucasian</th>\n",
       "      <th>Hispanic</th>\n",
       "      <th>admission_type_id_5</th>\n",
       "      <th>admission_source_id_4</th>\n",
       "    </tr>\n",
       "  </thead>\n",
       "  <tbody>\n",
       "    <tr>\n",
       "      <th>0</th>\n",
       "      <td>2.567791</td>\n",
       "      <td>0.656747</td>\n",
       "      <td>-0.110581</td>\n",
       "      <td>-0.269974</td>\n",
       "      <td>-0.186767</td>\n",
       "    </tr>\n",
       "    <tr>\n",
       "      <th>1</th>\n",
       "      <td>0.921298</td>\n",
       "      <td>-1.522657</td>\n",
       "      <td>-0.110581</td>\n",
       "      <td>-0.269974</td>\n",
       "      <td>-0.186767</td>\n",
       "    </tr>\n",
       "    <tr>\n",
       "      <th>2</th>\n",
       "      <td>0.921298</td>\n",
       "      <td>0.656747</td>\n",
       "      <td>-0.110581</td>\n",
       "      <td>-0.269974</td>\n",
       "      <td>5.354264</td>\n",
       "    </tr>\n",
       "    <tr>\n",
       "      <th>3</th>\n",
       "      <td>0.921298</td>\n",
       "      <td>0.656747</td>\n",
       "      <td>-0.110581</td>\n",
       "      <td>-0.269974</td>\n",
       "      <td>-0.186767</td>\n",
       "    </tr>\n",
       "    <tr>\n",
       "      <th>4</th>\n",
       "      <td>-0.725195</td>\n",
       "      <td>-1.522657</td>\n",
       "      <td>-0.110581</td>\n",
       "      <td>-0.269974</td>\n",
       "      <td>-0.186767</td>\n",
       "    </tr>\n",
       "  </tbody>\n",
       "</table>\n",
       "</div>"
      ],
      "text/plain": [
       "   number_inpatient_log1p  Caucasian  Hispanic  admission_type_id_5  \\\n",
       "0                2.567791   0.656747 -0.110581            -0.269974   \n",
       "1                0.921298  -1.522657 -0.110581            -0.269974   \n",
       "2                0.921298   0.656747 -0.110581            -0.269974   \n",
       "3                0.921298   0.656747 -0.110581            -0.269974   \n",
       "4               -0.725195  -1.522657 -0.110581            -0.269974   \n",
       "\n",
       "   admission_source_id_4  \n",
       "0              -0.186767  \n",
       "1              -0.186767  \n",
       "2               5.354264  \n",
       "3              -0.186767  \n",
       "4              -0.186767  "
      ]
     },
     "execution_count": 160,
     "metadata": {},
     "output_type": "execute_result"
    }
   ],
   "source": [
    "xtrain_sc11 = pd.DataFrame(xtrain_sc1,columns=xtrain1.columns)\n",
    "xtrain_sc11[best_feat].head()"
   ]
  },
  {
   "cell_type": "code",
   "execution_count": 161,
   "id": "960181f2",
   "metadata": {},
   "outputs": [
    {
     "data": {
      "text/html": [
       "<div>\n",
       "<style scoped>\n",
       "    .dataframe tbody tr th:only-of-type {\n",
       "        vertical-align: middle;\n",
       "    }\n",
       "\n",
       "    .dataframe tbody tr th {\n",
       "        vertical-align: top;\n",
       "    }\n",
       "\n",
       "    .dataframe thead th {\n",
       "        text-align: right;\n",
       "    }\n",
       "</style>\n",
       "<table border=\"1\" class=\"dataframe\">\n",
       "  <thead>\n",
       "    <tr style=\"text-align: right;\">\n",
       "      <th></th>\n",
       "      <th>number_inpatient_log1p</th>\n",
       "      <th>Caucasian</th>\n",
       "      <th>Hispanic</th>\n",
       "      <th>admission_type_id_5</th>\n",
       "      <th>admission_source_id_4</th>\n",
       "    </tr>\n",
       "  </thead>\n",
       "  <tbody>\n",
       "    <tr>\n",
       "      <th>0</th>\n",
       "      <td>-0.725195</td>\n",
       "      <td>0.656747</td>\n",
       "      <td>-0.110581</td>\n",
       "      <td>-0.269974</td>\n",
       "      <td>-0.186767</td>\n",
       "    </tr>\n",
       "    <tr>\n",
       "      <th>1</th>\n",
       "      <td>-0.725195</td>\n",
       "      <td>0.656747</td>\n",
       "      <td>-0.110581</td>\n",
       "      <td>-0.269974</td>\n",
       "      <td>-0.186767</td>\n",
       "    </tr>\n",
       "    <tr>\n",
       "      <th>2</th>\n",
       "      <td>0.397219</td>\n",
       "      <td>0.656747</td>\n",
       "      <td>-0.110581</td>\n",
       "      <td>-0.269974</td>\n",
       "      <td>-0.186767</td>\n",
       "    </tr>\n",
       "    <tr>\n",
       "      <th>3</th>\n",
       "      <td>-0.725195</td>\n",
       "      <td>0.656747</td>\n",
       "      <td>-0.110581</td>\n",
       "      <td>-0.269974</td>\n",
       "      <td>-0.186767</td>\n",
       "    </tr>\n",
       "    <tr>\n",
       "      <th>4</th>\n",
       "      <td>-0.725195</td>\n",
       "      <td>0.656747</td>\n",
       "      <td>-0.110581</td>\n",
       "      <td>-0.269974</td>\n",
       "      <td>-0.186767</td>\n",
       "    </tr>\n",
       "  </tbody>\n",
       "</table>\n",
       "</div>"
      ],
      "text/plain": [
       "   number_inpatient_log1p  Caucasian  Hispanic  admission_type_id_5  \\\n",
       "0               -0.725195   0.656747 -0.110581            -0.269974   \n",
       "1               -0.725195   0.656747 -0.110581            -0.269974   \n",
       "2                0.397219   0.656747 -0.110581            -0.269974   \n",
       "3               -0.725195   0.656747 -0.110581            -0.269974   \n",
       "4               -0.725195   0.656747 -0.110581            -0.269974   \n",
       "\n",
       "   admission_source_id_4  \n",
       "0              -0.186767  \n",
       "1              -0.186767  \n",
       "2              -0.186767  \n",
       "3              -0.186767  \n",
       "4              -0.186767  "
      ]
     },
     "execution_count": 161,
     "metadata": {},
     "output_type": "execute_result"
    }
   ],
   "source": [
    "xtest_sc11 = pd.DataFrame(xtest_sc1,columns=xtest1.columns)\n",
    "xtest_sc11[best_feat].head()"
   ]
  },
  {
   "cell_type": "code",
   "execution_count": 162,
   "id": "041e65af",
   "metadata": {},
   "outputs": [],
   "source": [
    "final_mod1 = XGBClassifier(**final_params)\n",
    "final_mod1.fit(xtrain_sc11[best_feat],ytrain1)\n",
    "ypred11 = final_mod1.predict(xtest_sc11[best_feat])"
   ]
  },
  {
   "cell_type": "code",
   "execution_count": 163,
   "id": "e7d8f4e9",
   "metadata": {},
   "outputs": [
    {
     "name": "stdout",
     "output_type": "stream",
     "text": [
      "Confusion Matrix:\n"
     ]
    },
    {
     "data": {
      "text/plain": [
       "array([[3120,    0],\n",
       "       [1318, 1310]], dtype=int64)"
      ]
     },
     "execution_count": 163,
     "metadata": {},
     "output_type": "execute_result"
    }
   ],
   "source": [
    "print('Confusion Matrix:')\n",
    "confusion_matrix(ytest1,ypred11)"
   ]
  },
  {
   "cell_type": "code",
   "execution_count": 164,
   "id": "56460628",
   "metadata": {},
   "outputs": [
    {
     "name": "stdout",
     "output_type": "stream",
     "text": [
      "Classification report:\n",
      "              precision    recall  f1-score   support\n",
      "\n",
      "           0       0.70      1.00      0.83      3120\n",
      "           1       1.00      0.50      0.67      2628\n",
      "\n",
      "    accuracy                           0.77      5748\n",
      "   macro avg       0.85      0.75      0.75      5748\n",
      "weighted avg       0.84      0.77      0.75      5748\n",
      "\n"
     ]
    }
   ],
   "source": [
    "print('Classification report:')\n",
    "print(classification_report(ytest1,ypred11))"
   ]
  },
  {
   "cell_type": "code",
   "execution_count": 165,
   "id": "8c969897",
   "metadata": {},
   "outputs": [
    {
     "name": "stdout",
     "output_type": "stream",
     "text": [
      "Overall accuracy: 0.77\n",
      "Precision score : 1.0\n",
      "Recall score    : 0.5\n",
      "F1 score        : 0.67\n"
     ]
    }
   ],
   "source": [
    "print('Overall accuracy:',round(accuracy_score(ytest1,ypred11),2))\n",
    "print('Precision score :',round(precision_score(ytest1,ypred11),2))\n",
    "print('Recall score    :',round(recall_score(ytest1,ypred11),2))\n",
    "print('F1 score        :',round(f1_score(ytest1,ypred11),2))"
   ]
  },
  {
   "cell_type": "code",
   "execution_count": 166,
   "id": "6aa7ff57",
   "metadata": {},
   "outputs": [
    {
     "name": "stdout",
     "output_type": "stream",
     "text": [
      "ROC AUC Score: 0.8015842090114351\n"
     ]
    },
    {
     "data": {
      "image/png": "[encoded data removed]",
      "text/plain": [
       "<Figure size 432x288 with 1 Axes>"
      ]
     },
     "metadata": {
      "needs_background": "light"
     },
     "output_type": "display_data"
    }
   ],
   "source": [
    "yprob11 = final_mod1.predict_proba(xtest_sc11[best_feat])[:,1]\n",
    "\n",
    "print('ROC AUC Score:',roc_auc_score(ytest1,yprob11))\n",
    "fpr,tpr,th = roc_curve(ytest1,yprob11)\n",
    "plt.plot(fpr,tpr)\n",
    "plt.title('ROC Curve')\n",
    "plt.show()"
   ]
  },
  {
   "cell_type": "code",
   "execution_count": null,
   "id": "f57f8c93",
   "metadata": {},
   "outputs": [],
   "source": []
  },
  {
   "cell_type": "code",
   "execution_count": null,
   "id": "77d237fc",
   "metadata": {},
   "outputs": [],
   "source": []
  },
  {
   "cell_type": "markdown",
   "id": "a4155420",
   "metadata": {},
   "source": [
    "# Decision Tree"
   ]
  },
  {
   "cell_type": "code",
   "execution_count": 167,
   "id": "bff9c615",
   "metadata": {},
   "outputs": [],
   "source": [
    "feature_set_no_int = ['age', 'time_in_hospital', 'num_procedures', 'num_medications', 'number_outpatient_log1p', \n",
    "                 'number_emergency_log1p', 'number_inpatient_log1p', 'number_diagnoses', 'metformin', \n",
    "                 'repaglinide', 'nateglinide', 'chlorpropamide', 'glimepiride', 'glipizide', \n",
    "                 'glyburide', 'pioglitazone', 'rosiglitazone', 'acarbose', \n",
    "                 'tolazamide', 'insulin', 'glyburide-metformin',\n",
    "                 'AfricanAmerican', 'Asian', 'Caucasian', \n",
    "                 'Hispanic', 'Other', 'gender_1', \n",
    "                 'admission_type_id_3', 'admission_type_id_5', \n",
    "                 'discharge_disposition_id_2', 'discharge_disposition_id_7', \n",
    "                 'discharge_disposition_id_10', 'discharge_disposition_id_18', \n",
    "                 'admission_source_id_4', 'admission_source_id_7', \n",
    "                 'admission_source_id_9', 'max_glu_serum_0', \n",
    "                 'max_glu_serum_1', 'A1Cresult_0', 'A1Cresult_1', \n",
    "                 'level1_diag1_1.0',\n",
    "                 'level1_diag1_2.0',\n",
    "                 'level1_diag1_3.0',\n",
    "                 'level1_diag1_4.0',\n",
    "                 'level1_diag1_5.0',\n",
    "                 'level1_diag1_6.0',\n",
    "                 'level1_diag1_7.0',\n",
    "                 'level1_diag1_8.0']"
   ]
  },
  {
   "cell_type": "code",
   "execution_count": 168,
   "id": "e6cab42f",
   "metadata": {},
   "outputs": [
    {
     "data": {
      "text/plain": [
       "0    14218\n",
       "1     1446\n",
       "Name: readmitted, dtype: int64"
      ]
     },
     "execution_count": 168,
     "metadata": {},
     "output_type": "execute_result"
    }
   ],
   "source": [
    "X = df_pd[feature_set_no_int]\n",
    "y = df_pd['readmitted']\n",
    "df_pd['readmitted'].value_counts()"
   ]
  },
  {
   "cell_type": "code",
   "execution_count": 169,
   "id": "7dce19ac",
   "metadata": {},
   "outputs": [
    {
     "name": "stdout",
     "output_type": "stream",
     "text": [
      "Original dataset shape Counter({0: 14218, 1: 1446})\n",
      "New dataset shape Counter({0: 14218, 1: 14218})\n"
     ]
    }
   ],
   "source": [
    "print('Original dataset shape {}'.format(Counter(y)))\n",
    "smt = SMOTE(random_state=20)\n",
    "train_input_new, train_output_new = smt.fit_resample(X, y)\n",
    "print('New dataset shape {}'.format(Counter(train_output_new)))\n",
    "train_input_new = pd.DataFrame(train_input_new, columns = list(X.columns))\n",
    "X_train, X_test, y_train, y_test = train_test_split(train_input_new, train_output_new, test_size=0.20, random_state=0)"
   ]
  },
  {
   "cell_type": "code",
   "execution_count": 170,
   "id": "4f93f541",
   "metadata": {},
   "outputs": [
    {
     "data": {
      "text/plain": [
       "DecisionTreeClassifier(criterion='entropy', max_depth=28, min_samples_split=10)"
      ]
     },
     "execution_count": 170,
     "metadata": {},
     "output_type": "execute_result"
    }
   ],
   "source": [
    "from sklearn.tree import DecisionTreeClassifier\n",
    "dtree = DecisionTreeClassifier(max_depth=28, criterion = \"entropy\", min_samples_split=10)\n",
    "dtree.fit(X_train, y_train)"
   ]
  },
  {
   "cell_type": "code",
   "execution_count": 171,
   "id": "b18574a5",
   "metadata": {},
   "outputs": [
    {
     "data": {
      "text/html": [
       "<div>\n",
       "<style scoped>\n",
       "    .dataframe tbody tr th:only-of-type {\n",
       "        vertical-align: middle;\n",
       "    }\n",
       "\n",
       "    .dataframe tbody tr th {\n",
       "        vertical-align: top;\n",
       "    }\n",
       "\n",
       "    .dataframe thead th {\n",
       "        text-align: right;\n",
       "    }\n",
       "</style>\n",
       "<table border=\"1\" class=\"dataframe\">\n",
       "  <thead>\n",
       "    <tr style=\"text-align: right;\">\n",
       "      <th>Predict</th>\n",
       "      <th>0</th>\n",
       "      <th>1</th>\n",
       "      <th>All</th>\n",
       "    </tr>\n",
       "    <tr>\n",
       "      <th>Actual</th>\n",
       "      <th></th>\n",
       "      <th></th>\n",
       "      <th></th>\n",
       "    </tr>\n",
       "  </thead>\n",
       "  <tbody>\n",
       "    <tr>\n",
       "      <th>0</th>\n",
       "      <td>507</td>\n",
       "      <td>470</td>\n",
       "      <td>977</td>\n",
       "    </tr>\n",
       "    <tr>\n",
       "      <th>1</th>\n",
       "      <td>66</td>\n",
       "      <td>57</td>\n",
       "      <td>123</td>\n",
       "    </tr>\n",
       "    <tr>\n",
       "      <th>All</th>\n",
       "      <td>573</td>\n",
       "      <td>527</td>\n",
       "      <td>1100</td>\n",
       "    </tr>\n",
       "  </tbody>\n",
       "</table>\n",
       "</div>"
      ],
      "text/plain": [
       "Predict    0    1   All\n",
       "Actual                 \n",
       "0        507  470   977\n",
       "1         66   57   123\n",
       "All      573  527  1100"
      ]
     },
     "execution_count": 171,
     "metadata": {},
     "output_type": "execute_result"
    }
   ],
   "source": [
    "dtree_pred = dtree.predict(X_test)\n",
    "pd.crosstab(pd.Series(y_test, name = 'Actual'), pd.Series(dtree_pred, name = 'Predict'), margins = True)"
   ]
  },
  {
   "cell_type": "code",
   "execution_count": 172,
   "id": "f0e71cf0",
   "metadata": {},
   "outputs": [
    {
     "name": "stdout",
     "output_type": "stream",
     "text": [
      "Accuracy is 0.89\n",
      "Precision is 0.89\n",
      "Recall is 0.88\n"
     ]
    }
   ],
   "source": [
    "print(\"Accuracy is {0:.2f}\".format(accuracy_score(y_test, dtree_pred)))\n",
    "print(\"Precision is {0:.2f}\".format(precision_score(y_test, dtree_pred)))\n",
    "print(\"Recall is {0:.2f}\".format(recall_score(y_test, dtree_pred)))\n",
    "\n",
    "accuracy_dtree = accuracy_score(y_test, dtree_pred)\n",
    "precision_dtree = precision_score(y_test, dtree_pred)\n",
    "recall_dtree = recall_score(y_test, dtree_pred)"
   ]
  },
  {
   "cell_type": "code",
   "execution_count": 173,
   "id": "1fd57b66",
   "metadata": {},
   "outputs": [
    {
     "name": "stdout",
     "output_type": "stream",
     "text": [
      "                    Feature  Importance\n",
      "26                 gender_1    0.011243\n",
      "4   number_outpatient_log1p    0.011848\n",
      "40         level1_diag1_1.0    0.013062\n",
      "41         level1_diag1_2.0    0.013254\n",
      "0                       age    0.038286\n",
      "2            num_procedures    0.059471\n",
      "3           num_medications    0.065141\n",
      "7          number_diagnoses    0.075571\n",
      "6    number_inpatient_log1p    0.117333\n",
      "1          time_in_hospital    0.455596\n"
     ]
    },
    {
     "data": {
      "image/png": "[encoded data removed]",
      "text/plain": [
       "<Figure size 720x432 with 1 Axes>"
      ]
     },
     "metadata": {
      "needs_background": "light"
     },
     "output_type": "display_data"
    }
   ],
   "source": [
    "# Create list of top most features based on importance\n",
    "feature_names = X_train.columns\n",
    "feature_imports = dtree.feature_importances_\n",
    "most_imp_features = pd.DataFrame([f for f in zip(feature_names,feature_imports)], columns=[\"Feature\", \"Importance\"]).nlargest(10, \"Importance\")\n",
    "most_imp_features.sort_values(by=\"Importance\", inplace=True)\n",
    "print(most_imp_features)\n",
    "plt.figure(figsize=(10,6))\n",
    "plt.barh(range(len(most_imp_features)), most_imp_features.Importance, align='center', alpha=0.8)\n",
    "plt.yticks(range(len(most_imp_features)), most_imp_features.Feature, fontsize=14)\n",
    "plt.xlabel('Importance')\n",
    "plt.title('Most important features - Decision Tree')\n",
    "plt.show()"
   ]
  },
  {
   "cell_type": "code",
   "execution_count": null,
   "id": "a2290738",
   "metadata": {},
   "outputs": [],
   "source": [
    "### in reference with the above chart we can infer that few parameterd like (time_in_hospital,num_medications,\n",
    "#num_procedures,number_inpatient_log1p)  are most important predictor variable that play a vital role while predicting the \n",
    "#the target variable."
   ]
  },
  {
   "cell_type": "code",
   "execution_count": null,
   "id": "faeaf171",
   "metadata": {},
   "outputs": [],
   "source": []
  },
  {
   "cell_type": "code",
   "execution_count": null,
   "id": "1cdc1f34",
   "metadata": {},
   "outputs": [],
   "source": []
  },
  {
   "cell_type": "markdown",
   "id": "343f4252",
   "metadata": {},
   "source": [
    "# Random Forest"
   ]
  },
  {
   "cell_type": "code",
   "execution_count": 174,
   "id": "2e4b24e5",
   "metadata": {},
   "outputs": [
    {
     "name": "stdout",
     "output_type": "stream",
     "text": [
      "Original dataset shape Counter({0: 14218, 1: 1446})\n",
      "New dataset shape Counter({0: 14218, 1: 14218})\n"
     ]
    }
   ],
   "source": [
    "X = df_pd[feature_set_no_int]\n",
    "y = df_pd['readmitted']\n",
    "\n",
    "print('Original dataset shape {}'.format(Counter(y)))\n",
    "smt = SMOTE(random_state=20)\n",
    "train_input_new, train_output_new = smt.fit_resample(X, y)\n",
    "print('New dataset shape {}'.format(Counter(train_output_new)))\n",
    "train_input_new = pd.DataFrame(train_input_new, columns = list(X.columns))\n",
    "X_train, X_test, y_train, y_test = train_test_split(train_input_new, train_output_new, test_size=0.20, random_state=0)"
   ]
  },
  {
   "cell_type": "code",
   "execution_count": 175,
   "id": "8912510c",
   "metadata": {},
   "outputs": [
    {
     "data": {
      "text/plain": [
       "RandomForestClassifier(max_depth=25, min_samples_split=10, n_estimators=10)"
      ]
     },
     "execution_count": 175,
     "metadata": {},
     "output_type": "execute_result"
    }
   ],
   "source": [
    "from sklearn.ensemble import RandomForestClassifier\n",
    "rm = RandomForestClassifier(n_estimators = 10, max_depth=25, criterion = \"gini\", min_samples_split=10)\n",
    "rm.fit(X_train, y_train)"
   ]
  },
  {
   "cell_type": "code",
   "execution_count": 176,
   "id": "099d6005",
   "metadata": {},
   "outputs": [
    {
     "data": {
      "text/plain": [
       "RandomForestClassifier(max_depth=25, min_samples_split=10, n_estimators=10)"
      ]
     },
     "execution_count": 176,
     "metadata": {},
     "output_type": "execute_result"
    }
   ],
   "source": [
    "from sklearn.ensemble import RandomForestClassifier\n",
    "rm = RandomForestClassifier(n_estimators = 10, max_depth=25, criterion = \"gini\", min_samples_split=10)\n",
    "rm.fit(X_train, y_train)"
   ]
  },
  {
   "cell_type": "code",
   "execution_count": 177,
   "id": "d9e4c5fc",
   "metadata": {},
   "outputs": [
    {
     "data": {
      "text/html": [
       "<div>\n",
       "<style scoped>\n",
       "    .dataframe tbody tr th:only-of-type {\n",
       "        vertical-align: middle;\n",
       "    }\n",
       "\n",
       "    .dataframe tbody tr th {\n",
       "        vertical-align: top;\n",
       "    }\n",
       "\n",
       "    .dataframe thead th {\n",
       "        text-align: right;\n",
       "    }\n",
       "</style>\n",
       "<table border=\"1\" class=\"dataframe\">\n",
       "  <thead>\n",
       "    <tr style=\"text-align: right;\">\n",
       "      <th>Predict</th>\n",
       "      <th>0</th>\n",
       "      <th>1</th>\n",
       "      <th>All</th>\n",
       "    </tr>\n",
       "    <tr>\n",
       "      <th>Actual</th>\n",
       "      <th></th>\n",
       "      <th></th>\n",
       "      <th></th>\n",
       "    </tr>\n",
       "  </thead>\n",
       "  <tbody>\n",
       "    <tr>\n",
       "      <th>0</th>\n",
       "      <td>522</td>\n",
       "      <td>455</td>\n",
       "      <td>977</td>\n",
       "    </tr>\n",
       "    <tr>\n",
       "      <th>1</th>\n",
       "      <td>66</td>\n",
       "      <td>57</td>\n",
       "      <td>123</td>\n",
       "    </tr>\n",
       "    <tr>\n",
       "      <th>All</th>\n",
       "      <td>588</td>\n",
       "      <td>512</td>\n",
       "      <td>1100</td>\n",
       "    </tr>\n",
       "  </tbody>\n",
       "</table>\n",
       "</div>"
      ],
      "text/plain": [
       "Predict    0    1   All\n",
       "Actual                 \n",
       "0        522  455   977\n",
       "1         66   57   123\n",
       "All      588  512  1100"
      ]
     },
     "execution_count": 177,
     "metadata": {},
     "output_type": "execute_result"
    }
   ],
   "source": [
    "rm_prd = rm.predict(X_test)\n",
    "pd.crosstab(pd.Series(y_test, name = 'Actual'), pd.Series(rm_prd, name = 'Predict'), margins = True)"
   ]
  },
  {
   "cell_type": "code",
   "execution_count": 178,
   "id": "388c41c7",
   "metadata": {},
   "outputs": [
    {
     "name": "stdout",
     "output_type": "stream",
     "text": [
      "Accuracy is 0.90\n",
      "Precision is 0.92\n",
      "Recall is 0.88\n"
     ]
    }
   ],
   "source": [
    "print(\"Accuracy is {0:.2f}\".format(accuracy_score(y_test, rm_prd)))\n",
    "print(\"Precision is {0:.2f}\".format(precision_score(y_test, rm_prd)))\n",
    "print(\"Recall is {0:.2f}\".format(recall_score(y_test, rm_prd)))\n",
    "\n",
    "accuracy_rm = accuracy_score(y_test, rm_prd)\n",
    "precision_rm = precision_score(y_test, rm_prd)\n",
    "recall_rm = recall_score(y_test, rm_prd)"
   ]
  },
  {
   "cell_type": "code",
   "execution_count": 179,
   "id": "7dbcad4d",
   "metadata": {},
   "outputs": [
    {
     "data": {
      "image/png": "[encoded data removed]",
      "text/plain": [
       "<Figure size 720x432 with 1 Axes>"
      ]
     },
     "metadata": {
      "needs_background": "light"
     },
     "output_type": "display_data"
    }
   ],
   "source": [
    "# Create list of top most features based on importance\n",
    "feature_names = X_train.columns\n",
    "feature_imports = rm.feature_importances_\n",
    "most_imp_features = pd.DataFrame([f for f in zip(feature_names,feature_imports)], columns=[\"Feature\", \"Importance\"]).nlargest(10, \"Importance\")\n",
    "most_imp_features.sort_values(by=\"Importance\", inplace=True)\n",
    "plt.figure(figsize=(10,6))\n",
    "plt.barh(range(len(most_imp_features)), most_imp_features.Importance, align='center', alpha=0.8)\n",
    "plt.yticks(range(len(most_imp_features)), most_imp_features.Feature, fontsize=14)\n",
    "plt.xlabel('Importance')\n",
    "plt.title('Most important features - Random Forest ')\n",
    "plt.show()"
   ]
  },
  {
   "cell_type": "code",
   "execution_count": null,
   "id": "ce07a4c4",
   "metadata": {},
   "outputs": [],
   "source": []
  },
  {
   "cell_type": "code",
   "execution_count": null,
   "id": "bb94bd76",
   "metadata": {},
   "outputs": [],
   "source": [
    "### in reference with the above chart we can infer that few parameterd like (time_in_hospital,num_medications,\n",
    "#num_procedures,number_inpatient_log1p)  are most important predictor variable that play a vital role while predicting the \n",
    "#the target variable."
   ]
  },
  {
   "cell_type": "code",
   "execution_count": null,
   "id": "04ba8db1",
   "metadata": {},
   "outputs": [],
   "source": []
  },
  {
   "cell_type": "markdown",
   "id": "474586db",
   "metadata": {},
   "source": [
    "# Model Comparision"
   ]
  },
  {
   "cell_type": "code",
   "execution_count": 180,
   "id": "02b8ee52",
   "metadata": {},
   "outputs": [
    {
     "data": {
      "image/png": "[encoded data removed]",
      "text/plain": [
       "<Figure size 1008x504 with 1 Axes>"
      ]
     },
     "metadata": {
      "needs_background": "light"
     },
     "output_type": "display_data"
    }
   ],
   "source": [
    "plt.figure(figsize=(14, 7))\n",
    "ax = plt.subplot(111)\n",
    "\n",
    "models = ['Logistic Regression', 'Decision Tree', 'Random Forests']\n",
    "values = [accuracy_logit, accuracy_dtree, accuracy_rm]\n",
    "model = np.arange(len(models))\n",
    "\n",
    "plt.bar(model, values, align='center', width = 0.15, alpha=0.7, color = 'red', label= 'accuracy')\n",
    "plt.xticks(model, models)\n",
    "           \n",
    "\n",
    "           \n",
    "ax = plt.subplot(111)\n",
    "\n",
    "models = ['Logistic Regression', 'Decision Tree', 'Random Forests']\n",
    "values = [precision_logit, precision_dtree, precision_rm]\n",
    "model = np.arange(len(models))\n",
    "\n",
    "plt.bar(model+0.15, values, align='center', width = 0.15, alpha=0.7, color = 'blue', label = 'precision')\n",
    "plt.xticks(model, models)\n",
    "\n",
    "\n",
    "\n",
    "ax = plt.subplot(111)\n",
    "\n",
    "models = ['Logistic Regression', 'Decision Tree', 'Random Forests' ]\n",
    "values = [recall_logit, recall_dtree, recall_rm, ]\n",
    "model = np.arange(len(models))\n",
    "\n",
    "plt.bar(model+0.3, values, align='center', width = 0.15, alpha=0.7, color = 'green', label = 'recall')\n",
    "plt.xticks(model, models)\n",
    "\n",
    "\n",
    "\n",
    "plt.ylabel('Performance Metrics for Different models')\n",
    "plt.title('Model')\n",
    "    \n",
    "# removing the axis on the top and right of the plot window\n",
    "ax.spines['right'].set_visible(False)\n",
    "ax.spines['top'].set_visible(False)\n",
    "ax.legend()\n",
    "\n",
    "plt.show()"
   ]
  },
  {
   "cell_type": "code",
   "execution_count": null,
   "id": "f236e2c6",
   "metadata": {},
   "outputs": [],
   "source": []
  }
 ],
 "metadata": {
  "kernelspec": {
   "display_name": "Python 3",
   "language": "python",
   "name": "python3"
  },
  "language_info": {
   "codemirror_mode": {
    "name": "ipython",
    "version": 3
   },
   "file_extension": ".py",
   "mimetype": "text/x-python",
   "name": "python",
   "nbconvert_exporter": "python",
   "pygments_lexer": "ipython3",
   "version": "3.8.8"
  }
 },
 "nbformat": 4,
 "nbformat_minor": 5
}
